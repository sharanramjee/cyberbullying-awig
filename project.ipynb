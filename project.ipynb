{
  "cells": [
    {
      "cell_type": "markdown",
      "source": [
        "# Attention-Weighted Integrated Gradients for Target-Aware Cyberbullying Detection"
      ],
      "metadata": {
        "id": "ZKbdsYgxCg-p"
      }
    },
    {
      "cell_type": "markdown",
      "source": [
        "## Colab Setup"
      ],
      "metadata": {
        "id": "z4p1MiC3Cz3F"
      }
    },
    {
      "cell_type": "code",
      "source": [
        "# This mounts your Google Drive to the Colab VM.\n",
        "from google.colab import drive\n",
        "\n",
        "drive.mount('/content/drive')\n",
        "\n",
        "# Folder to mount\n",
        "FOLDERNAME = 'cs329t/project/'\n",
        "assert FOLDERNAME is not None, \"[!] Enter the foldername.\"\n",
        "\n",
        "# Ensure the Python interpreter of the Colab VM can load python files\n",
        "import sys\n",
        "sys.path.append('/content/drive/My Drive/{}'.format(FOLDERNAME))\n",
        "\n",
        "# cd into the dataset\n",
        "%cd /content/drive/My\\ Drive/$FOLDERNAME"
      ],
      "metadata": {
        "colab": {
          "base_uri": "https://localhost:8080/"
        },
        "id": "9zfaj0ToE3D_",
        "outputId": "9029dec2-425f-4abe-c0e4-72b88d9b34d1"
      },
      "execution_count": null,
      "outputs": [
        {
          "output_type": "stream",
          "name": "stdout",
          "text": [
            "Mounted at /content/drive\n",
            "/content/drive/My Drive/cs329t/project\n"
          ]
        }
      ]
    },
    {
      "cell_type": "code",
      "execution_count": null,
      "metadata": {
        "id": "EEjog3a-MIuW"
      },
      "outputs": [],
      "source": [
        "%load_ext autoreload\n",
        "%autoreload 2"
      ]
    },
    {
      "cell_type": "code",
      "execution_count": null,
      "metadata": {
        "id": "14Wu9ybonM_y",
        "colab": {
          "base_uri": "https://localhost:8080/"
        },
        "outputId": "e36fe57d-bf0a-4865-fd06-5db688086639"
      },
      "outputs": [
        {
          "output_type": "stream",
          "name": "stdout",
          "text": [
            "trulens ... installing from git+https://github.com/truera/trulens.git@piotrm/vis/output-detect\n",
            "transformers ... installing from transformers\n",
            "pandas ... already installed\n",
            "numpy ... already installed\n",
            "domonic ... installing from domonic\n",
            "parmap ... installing from parmap\n",
            "fairlearn ... installing from fairlearn\n"
          ]
        }
      ],
      "source": [
        "#Imports\n",
        "import sys\n",
        "import pickle\n",
        "import importlib\n",
        "import subprocess\n",
        "from pathlib import Path\n",
        "\n",
        "# if running from within truera repo and want to use latest code, use this:\n",
        "sys.path.insert(0, str(Path(\"../..\").resolve()))\n",
        "\n",
        "def install_if_not_installed(packages):\n",
        "  \"\"\"Install the given packages if they are not already installed.\"\"\"\n",
        "\n",
        "  for package in packages:\n",
        "    if isinstance(package, tuple):\n",
        "      package_name, package_package = package\n",
        "    else:\n",
        "      package_name = package\n",
        "      package_package = package\n",
        "\n",
        "    print(f\"{package_name} ... \", end='')\n",
        "\n",
        "    try:\n",
        "      importlib.import_module(package_name)\n",
        "      print(\"already installed\")\n",
        "\n",
        "    except:\n",
        "      print(f\"installing from {package_package}\")\n",
        "      subprocess.check_call(\n",
        "          [sys.executable, \"-m\", \"pip\", \"install\", package_package]\n",
        "      )\n",
        "\n",
        "def load_or_make(filename: Path, loader, maker=None, saver=None, downloader=None):\n",
        "  \"\"\"Load something from a `filename` using `loader` if the file exists, \n",
        "  otherwise make it using `maker`, save it using `saver`, and return it.\"\"\"\n",
        "\n",
        "  print(f\"loading {filename} ... \", end=\"\")\n",
        "\n",
        "  if filename.exists():\n",
        "    print(\"from file\")\n",
        "    return loader(filename)\n",
        "  \n",
        "  if maker is not None:\n",
        "    print(\"using maker\")\n",
        "    thing = maker()\n",
        "    saver(filename, thing)\n",
        "    return thing\n",
        "\n",
        "  if downloader is not None:\n",
        "    print(\"using downloader\")\n",
        "    downloader(filename)\n",
        "    return loader(filename)\n",
        "\n",
        "  raise ValueError(\"provide a maker/saver or downloader.\")\n",
        "\n",
        "install_if_not_installed(\n",
        "    [(\"trulens\", \"git+https://github.com/truera/trulens.git@piotrm/vis/output-detect\"),\n",
        "     \"transformers\",\n",
        "     \"pandas\",\n",
        "     \"numpy\",\n",
        "     \"domonic\",\n",
        "     \"parmap\",\n",
        "     \"fairlearn\"]\n",
        ")\n",
        "\n",
        "# Configure trulens\n",
        "import os\n",
        "os.environ['TRULENS_BACKEND']='torch'\n",
        "\n",
        "from IPython.display import display\n",
        "import matplotlib.pyplot as plt\n",
        "import torch\n",
        "import pandas as pd\n",
        "import numpy as np\n",
        "from pathlib import Path\n",
        "import re\n",
        "\n",
        "from torch.utils.data import DataLoader\n",
        "from pandas import Series\n",
        "from typing import Union\n",
        "import parmap"
      ]
    },
    {
      "cell_type": "markdown",
      "source": [
        "## Twitter Roberta BASE Sentiment Model"
      ],
      "metadata": {
        "id": "3U04ElTuDzww"
      }
    },
    {
      "cell_type": "code",
      "source": [
        "t = torch.cuda.get_device_properties(0).total_memory\n",
        "r = torch.cuda.memory_reserved(0)\n",
        "a = torch.cuda.memory_allocated(0)\n",
        "f = r-a  # free inside reserved\n",
        "\n",
        "print(f\"{t} memory in total of which {r} is reserved by PyTorch and {a} is available\")"
      ],
      "metadata": {
        "colab": {
          "base_uri": "https://localhost:8080/"
        },
        "id": "T4awSzlBzfdL",
        "outputId": "d33b8ed7-8a07-4d2f-cf32-fc1ec06000c3"
      },
      "execution_count": null,
      "outputs": [
        {
          "output_type": "stream",
          "name": "stdout",
          "text": [
            "15843721216 memory in total of which 0 is reserved by PyTorch and 0 is available\n"
          ]
        }
      ]
    },
    {
      "cell_type": "code",
      "execution_count": null,
      "metadata": {
        "id": "VD_4aRscMIua",
        "colab": {
          "base_uri": "https://localhost:8080/",
          "height": 251,
          "referenced_widgets": [
            "71a219d2806d4a9591e5ae4fba768b01",
            "4dd5bb282c76419b8fe1ef176ed58855",
            "5b02fb5f9ab94f27943f9b77cae8f6e6",
            "2749ee79326849e1b1285b653594acd4",
            "dcae8e9d3c3d4162b3c755bd2c66d7e0",
            "ee79307460cc45e4830f96828c32fea5",
            "3e4cc7fd89f747a689fdbb88e9398e4d",
            "261515e464664091b6c2ed0695eec828",
            "7b4b21073aa245978e043b62377dbbb7",
            "83d604ee7b0c4f99a130b64d7c352470",
            "834e2ed361bf4dd6b169e7c8983bd45d",
            "b8184b00dd154e2d9cde3d90069d6f80",
            "e968d1d3949c475483f23fb291a6824b",
            "fc809363f8124464819a34ef74488b7e",
            "317f1219810a4ea681c2c00d2d6259aa",
            "5289d066a7e346cf85502fea672d46ee",
            "8e9041e393b541e2add3d7a89bcc1067",
            "163b0ba7b6f5476088b46b5d5d03a3b1",
            "4b2de5ed62634169b36a4f42dabe90e5",
            "a242b1dd7734408a8821756f2ebd70cd",
            "28752bc3e6e8448294c06c60f8918de8",
            "0ee32320f2934f52b6ab6acf5acceddc",
            "8f34ebf193954babad878a8ddf97570c",
            "30a29783ceda4b918c105765dcda4ee4",
            "25f897a3d09c4b539a67548bbc65f066",
            "a4e0844a61c046f09cc4f4842cb3f34d",
            "f9925dc80388486fabbe5e3780b07523",
            "33ea955842a741e6b51ef7fe175b2ad8",
            "faef7d94c5094af3a075a9ff241bb90e",
            "bc5add30e7324160a4bb9814f30e7d2c",
            "86a9c4eceba84e6aaf0d57224b4979d6",
            "5ccc6e44873340df96416f82fdfb5925",
            "e72f92ece4804737aacc5ad832f91307",
            "2773bb9873964849ab58ace06fc515d5",
            "fcc40eaa09ce49948a418db68576cf6c",
            "63b49ff689c2458abce47e1f4265d034",
            "c0a7aeb339f843968173eda74f2f3987",
            "49d93ed52705455fb0d5e1cdee822558",
            "9a944ad13d8f40668b2375400d4efeb7",
            "723e3a06ba0945da9ec9c55780620fe1",
            "9e6d3d9c0ae54459853d3e4934eb6514",
            "1cd357a8a72244db98a1cd3551e86da8",
            "a8da29b44f044591b620dbc457e35dcb",
            "374751176abf46ff801a9cc7435cf173",
            "7cb3820ad9e64f34beeec911e9f2826c",
            "f7cd64cf7e7a41dda0d7e8b741ba68b8",
            "d0b9e2ad9a2f439295eb8e9dd2617741",
            "078244a79cd84dc0b6c5a9193aa6893d",
            "d7b92ef68fd242d4b539abed84774db6",
            "b8abe60c26144e218f644bfdafff22ab",
            "d5d0124fd4bd4d24bcb83f562e7bd13a",
            "743ad77759144e6c87324e1702ef6b73",
            "c57c8b32148d48208f0d7e08ae215691",
            "b3bf04c946a14bdeae6b4566041865ad",
            "9b9bfc6ba603477297054c05e255d10f"
          ]
        },
        "outputId": "68280ef0-2d93-47cd-ec4d-dcba78505b33"
      },
      "outputs": [
        {
          "output_type": "display_data",
          "data": {
            "text/plain": [
              "Downloading:   0%|          | 0.00/929 [00:00<?, ?B/s]"
            ],
            "application/vnd.jupyter.widget-view+json": {
              "version_major": 2,
              "version_minor": 0,
              "model_id": "71a219d2806d4a9591e5ae4fba768b01"
            }
          },
          "metadata": {}
        },
        {
          "output_type": "display_data",
          "data": {
            "text/plain": [
              "Downloading:   0%|          | 0.00/478M [00:00<?, ?B/s]"
            ],
            "application/vnd.jupyter.widget-view+json": {
              "version_major": 2,
              "version_minor": 0,
              "model_id": "b8184b00dd154e2d9cde3d90069d6f80"
            }
          },
          "metadata": {}
        },
        {
          "output_type": "stream",
          "name": "stderr",
          "text": [
            "Some weights of the model checkpoint at cardiffnlp/twitter-roberta-base-sentiment-latest were not used when initializing RobertaForSequenceClassification: ['roberta.pooler.dense.bias', 'roberta.pooler.dense.weight']\n",
            "- This IS expected if you are initializing RobertaForSequenceClassification from the checkpoint of a model trained on another task or with another architecture (e.g. initializing a BertForSequenceClassification model from a BertForPreTraining model).\n",
            "- This IS NOT expected if you are initializing RobertaForSequenceClassification from the checkpoint of a model that you expect to be exactly identical (initializing a BertForSequenceClassification model from a BertForSequenceClassification model).\n"
          ]
        },
        {
          "output_type": "display_data",
          "data": {
            "text/plain": [
              "Downloading:   0%|          | 0.00/878k [00:00<?, ?B/s]"
            ],
            "application/vnd.jupyter.widget-view+json": {
              "version_major": 2,
              "version_minor": 0,
              "model_id": "8f34ebf193954babad878a8ddf97570c"
            }
          },
          "metadata": {}
        },
        {
          "output_type": "display_data",
          "data": {
            "text/plain": [
              "Downloading:   0%|          | 0.00/446k [00:00<?, ?B/s]"
            ],
            "application/vnd.jupyter.widget-view+json": {
              "version_major": 2,
              "version_minor": 0,
              "model_id": "2773bb9873964849ab58ace06fc515d5"
            }
          },
          "metadata": {}
        },
        {
          "output_type": "display_data",
          "data": {
            "text/plain": [
              "Downloading:   0%|          | 0.00/239 [00:00<?, ?B/s]"
            ],
            "application/vnd.jupyter.widget-view+json": {
              "version_major": 2,
              "version_minor": 0,
              "model_id": "7cb3820ad9e64f34beeec911e9f2826c"
            }
          },
          "metadata": {}
        }
      ],
      "source": [
        "from transformers import AutoModelForSequenceClassification\n",
        "from transformers import AutoTokenizer\n",
        "\n",
        "# Wrap all of the necessary components.\n",
        "class TwitterSentiment:\n",
        "    # device = 'cpu'\n",
        "    device = 'cuda:0'\n",
        "    MODEL = f'cardiffnlp/twitter-roberta-base-sentiment-latest'\n",
        "    model = AutoModelForSequenceClassification.from_pretrained(MODEL, output_attentions=True).to(device)\n",
        "    tokenizer = AutoTokenizer.from_pretrained(MODEL)\n",
        "    @staticmethod\n",
        "    def tokenize(inputs):\n",
        "        return TwitterSentiment \\\n",
        "            .tokenizer(inputs, padding=True, return_tensors='pt') \\\n",
        "            .to(TwitterSentiment.device)\n",
        "\n",
        "    labels = ['negative', 'neutral', 'positive']\n",
        "    NEGATIVE = labels.index('negative')\n",
        "    NEUTRAL = labels.index('neutral')\n",
        "    POSITIVE = labels.index('positive')\n",
        "\n",
        "task = TwitterSentiment()"
      ]
    },
    {
      "cell_type": "code",
      "source": [
        "t = torch.cuda.get_device_properties(0).total_memory\n",
        "r = torch.cuda.memory_reserved(0)\n",
        "a = torch.cuda.memory_allocated(0)\n",
        "f = r-a  # free inside reserved\n",
        "\n",
        "print(f\"{t} memory in total of which {r} is reserved by PyTorch and {a} is available\")"
      ],
      "metadata": {
        "colab": {
          "base_uri": "https://localhost:8080/"
        },
        "id": "jA_4cEbc0BH3",
        "outputId": "2b0eeec3-12a6-44f0-8c42-5918e201622a"
      },
      "execution_count": null,
      "outputs": [
        {
          "output_type": "stream",
          "name": "stdout",
          "text": [
            "15843721216 memory in total of which 555745280 is reserved by PyTorch and 499894784 is available\n"
          ]
        }
      ]
    },
    {
      "cell_type": "markdown",
      "source": [
        "## Hatespeech Dataset"
      ],
      "metadata": {
        "id": "MAyxVfyWFUfn"
      }
    },
    {
      "cell_type": "code",
      "source": [
        "# Flip the labels\n",
        "def flip_labels(labels):\n",
        "  flipped_labels = list()\n",
        "  for label in labels:\n",
        "    if label == 0:\n",
        "      flipped_labels.append(1)\n",
        "    else:\n",
        "      flipped_labels.append(0)\n",
        "  return flipped_labels"
      ],
      "metadata": {
        "id": "Ux1BJz92JuaJ"
      },
      "execution_count": null,
      "outputs": []
    },
    {
      "cell_type": "code",
      "source": [
        "import csv\n",
        "\n",
        "def load_csv(file_path):\n",
        "  with open(file_path, newline='') as csv_file:\n",
        "    reader = csv.reader(csv_file)\n",
        "    csv_data = list(reader)\n",
        "  return csv_data\n",
        "\n",
        "csv_data = load_csv('data/target_test_clean.csv')"
      ],
      "metadata": {
        "id": "wBUbNEl9FaPS"
      },
      "execution_count": null,
      "outputs": []
    },
    {
      "cell_type": "code",
      "source": [
        "def format_data(csv_data):\n",
        "  formatted_dataset = list()\n",
        "  for example in csv_data[1:]:\n",
        "    text = example[0]\n",
        "    targets = [word for word in text.split() if word.startswith('@') or word.startswith('.@')]\n",
        "    polarity = example[-1]\n",
        "    formatted_dataset.append([text, targets, polarity])\n",
        "  return formatted_dataset\n",
        "  \n",
        "dataset = format_data(csv_data)\n",
        "ground_truth_labels = [int(example[-1]) for example in dataset]\n",
        "ground_truth_labels = flip_labels(ground_truth_labels)"
      ],
      "metadata": {
        "id": "rB2ljAyXKWr6"
      },
      "execution_count": null,
      "outputs": []
    },
    {
      "cell_type": "markdown",
      "source": [
        "## Evaluate Baseline"
      ],
      "metadata": {
        "id": "0c0TN-FCMy3A"
      }
    },
    {
      "cell_type": "code",
      "source": [
        "from sklearn.metrics import accuracy_score, precision_score, recall_score, f1_score\n",
        "\n",
        "def model_predict(task, dataset):\n",
        "  model_preds = list()\n",
        "  # Cannot parallelize (CUDA out-of-memory error)\n",
        "  for example in dataset:\n",
        "    model_input = task.tokenize(example[0])\n",
        "    model_output = task.model(**model_input)\n",
        "    model_pred = task.labels[model_output.logits.argmax(axis=1)]\n",
        "    if model_pred == 'negative':\n",
        "      model_preds.append(0)\n",
        "    elif model_pred == 'neutral':\n",
        "      model_preds.append(1)\n",
        "    elif model_pred == 'positive':\n",
        "      model_preds.append(1)\n",
        "  return model_preds\n",
        "\n",
        "def model_accuracy(model_preds, dataset):\n",
        "  dataset_labels = [int(example[-1]) for example in dataset]\n",
        "  accuracy = accuracy_score(dataset_labels, model_preds)\n",
        "  return accuracy\n",
        "\n",
        "def compute_metrics(gt_labels, preds):\n",
        "  acc = accuracy_score(gt_labels, preds)\n",
        "  prec = precision_score(gt_labels, preds)\n",
        "  rec = recall_score(gt_labels, preds)\n",
        "  f1 = f1_score(gt_labels, preds)\n",
        "  print('Accuracy:', acc)\n",
        "  print('Precision:', prec)\n",
        "  print('Recall:', rec)\n",
        "  print('F1 Score:', f1)\n",
        "  return acc, prec, rec, f1"
      ],
      "metadata": {
        "id": "PQxRKfdwRyf7"
      },
      "execution_count": null,
      "outputs": []
    },
    {
      "cell_type": "code",
      "source": [
        "baseline_preds = model_predict(task, dataset)\n",
        "baseline_preds = flip_labels(baseline_preds)\n",
        "print('Vanilla model metrics on non-neutralized dataset:')\n",
        "compute_metrics(ground_truth_labels, baseline_preds)"
      ],
      "metadata": {
        "colab": {
          "base_uri": "https://localhost:8080/"
        },
        "id": "ZTPaIW9MM1KB",
        "outputId": "b1c310f7-3682-48b5-adc4-43a3c1cfb937"
      },
      "execution_count": null,
      "outputs": [
        {
          "output_type": "stream",
          "name": "stdout",
          "text": [
            "Vanilla model metrics on non-neutralized dataset:\n",
            "Accuracy: 0.7885806007796377\n",
            "Precision: 0.7351973684210527\n",
            "Recall: 0.8654404646660213\n",
            "F1 Score: 0.7950200088928413\n"
          ]
        }
      ]
    },
    {
      "cell_type": "markdown",
      "source": [
        "## Fairness"
      ],
      "metadata": {
        "id": "RKWGmFdVWCPX"
      }
    },
    {
      "cell_type": "markdown",
      "source": [
        "### Identify biased targets"
      ],
      "metadata": {
        "id": "IqOs-UQJcyAK"
      }
    },
    {
      "cell_type": "code",
      "source": [
        "def target_sentiments(task, dataset):\n",
        "  positive_targets = list()\n",
        "  neutral_targets = list()\n",
        "  negative_targets = list()\n",
        "  for example in dataset:\n",
        "    targets = example[1]\n",
        "    for target in targets:\n",
        "      input = task.tokenize(target)\n",
        "      output = task.model(**input)\n",
        "      pred = task.labels[output.logits.argmax(axis=1)]\n",
        "      if pred == 'negative':\n",
        "        negative_targets.append((target, output[0].tolist()[0][0]))\n",
        "      elif pred == 'neutral':\n",
        "        neutral_targets.append((target, output[0].tolist()[0][1]))\n",
        "      elif pred == 'positive':\n",
        "        positive_targets.append((target, output[0].tolist()[0][2]))\n",
        "  negative_targets.sort(key=lambda x: x[1], reverse=True)\n",
        "  neutral_targets.sort(key=lambda x: x[1], reverse=True)\n",
        "  positive_targets.sort(key=lambda x: x[1], reverse=True)\n",
        "  return negative_targets, neutral_targets, positive_targets\n",
        "\n",
        "negative_targets, neutral_targets, positive_targets = target_sentiments(task, dataset)"
      ],
      "metadata": {
        "id": "tO-Sv41gWUx6"
      },
      "execution_count": null,
      "outputs": []
    },
    {
      "cell_type": "code",
      "source": [
        "print('Number of negative targets found :', len(negative_targets))\n",
        "print('Top 5 most negative targets', negative_targets[:5])\n",
        "\n",
        "print('Number of neutral targets found :', len(neutral_targets))\n",
        "print('Top 5 most neutral targets', neutral_targets[:5])\n",
        "\n",
        "print('Number of positive targets found :', len(positive_targets))\n",
        "print('Top 5 most positive targets', positive_targets[:5])"
      ],
      "metadata": {
        "colab": {
          "base_uri": "https://localhost:8080/"
        },
        "id": "YxnF3DHkZDIw",
        "outputId": "9578dfbd-8485-4a7e-c379-55b811ad384e"
      },
      "execution_count": null,
      "outputs": [
        {
          "output_type": "stream",
          "name": "stdout",
          "text": [
            "Number of negative targets found : 32\n",
            "Top 5 most negative targets [('@DumbPeopleAsf', 1.898148775100708), ('@_theworst__:', 1.749870777130127), ('@FuckedYaBxtch:', 1.7437466382980347), ('@crooksandliars', 1.6455061435699463), ('@crooksandliars', 1.6455061435699463)]\n",
            "Number of neutral targets found : 6561\n",
            "Top 5 most neutral targets [('@HayleyKiyoko', 2.105206251144409), ('@Amish_Drive_By:', 2.0862185955047607), ('@_Geidner_', 2.0658788681030273), ('.@RickReedMedia', 2.0423269271850586), ('@Rick_Turner:', 2.0150043964385986)]\n",
            "Number of positive targets found : 18\n",
            "Top 5 most positive targets [('@BestVinesEver', 2.3773114681243896), ('@_RatedGorgeous', 2.022413969039917), ('@amazingatheist', 1.6356178522109985), ('@uniqueblessed:', 1.5953482389450073), ('@GoodBecameGreat', 1.5624502897262573)]\n"
          ]
        }
      ]
    },
    {
      "cell_type": "markdown",
      "source": [
        "### Neutralize targets"
      ],
      "metadata": {
        "id": "nTOOxe0ic2_S"
      }
    },
    {
      "cell_type": "code",
      "source": [
        "def neutralize_dataset(dataset):\n",
        "  neutralized_dataset = list()\n",
        "  for example in dataset:\n",
        "    text = example[0]\n",
        "    targets = example[1]\n",
        "    polarity = example[-1]\n",
        "    for target in targets:\n",
        "      text = text.replace(target, '@username')\n",
        "    neutralized_dataset.append([text, targets, polarity])\n",
        "  neutralized_dataset = [example for example in neutralized_dataset if '@username' in example[0]]\n",
        "  return neutralized_dataset\n",
        "\n",
        "neutralized_dataset = neutralize_dataset(dataset)\n",
        "ground_truth_labels = [int(example[-1]) for example in neutralized_dataset]\n",
        "# ground_truth_labels = flip_labels(ground_truth_labels)"
      ],
      "metadata": {
        "id": "T7qpO2gIde5i"
      },
      "execution_count": null,
      "outputs": []
    },
    {
      "cell_type": "code",
      "source": [
        "neutralized_preds = model_predict(task, neutralized_dataset)\n",
        "neutralized_preds = flip_labels(neutralized_preds)\n",
        "print('Vanilla model metrics on neutralized dataset:')\n",
        "compute_metrics(ground_truth_labels, neutralized_preds)"
      ],
      "metadata": {
        "colab": {
          "base_uri": "https://localhost:8080/"
        },
        "id": "3673h_mkehL6",
        "outputId": "9a14b7b0-4723-4f4a-a242-5fc3c6d39e9c"
      },
      "execution_count": null,
      "outputs": [
        {
          "metadata": {
            "tags": null
          },
          "name": "stdout",
          "output_type": "stream",
          "text": [
            "Vanilla model metrics on neutralized dataset:\n",
            "Accuracy: 0.7953027860925628\n",
            "Precision: 0.7383177570093458\n",
            "Recall: 0.8811833171677983\n",
            "F1 Score: 0.8034490382489499\n"
          ]
        }
      ]
    },
    {
      "cell_type": "markdown",
      "source": [
        "### Biased datasets"
      ],
      "metadata": {
        "id": "kqf1jw1ch0eL"
      }
    },
    {
      "cell_type": "code",
      "source": [
        "def create_biased_dataset(dataset, new_target):\n",
        "  biased_dataset = list()\n",
        "  for example in dataset:\n",
        "    text = example[0]\n",
        "    targets = example[1]\n",
        "    polarity = example[-1]\n",
        "    text = text.replace('@username', new_target)\n",
        "    biased_dataset.append([text, targets, polarity])\n",
        "  return biased_dataset\n",
        "\n",
        "negative_dataset = create_biased_dataset(neutralized_dataset, negative_targets[0][0])\n",
        "positive_dataset = create_biased_dataset(neutralized_dataset, positive_targets[0][0])\n",
        "biased_datasets = {'@DumbPeopleAsf (negative)': negative_dataset,\n",
        "                   '@BestVinesEver (positive)': positive_dataset}"
      ],
      "metadata": {
        "id": "tgDXUPbLhzVi"
      },
      "execution_count": null,
      "outputs": []
    },
    {
      "cell_type": "markdown",
      "source": [
        "### Disparity of logits histogram"
      ],
      "metadata": {
        "id": "sloxrcQULQXT"
      }
    },
    {
      "cell_type": "code",
      "source": [
        "def model_logits(task, dataset):\n",
        "  logits_list = list()\n",
        "  for example in dataset:\n",
        "    input = task.tokenize(example[0])\n",
        "    output = task.model(**input)\n",
        "    logits = output['logits'].detach().to('cpu')\n",
        "    logits_list.append(logits)\n",
        "  models_logits = np.stack(list(map(torch.Tensor.numpy, logits_list)))\n",
        "  models_logits = models_logits.reshape((models_logits.shape[0], 3))\n",
        "  return models_logits\n",
        "\n",
        "biased_logits = {username: model_logits(task, biased_dataset) for username, biased_dataset in biased_datasets.items()}"
      ],
      "metadata": {
        "id": "HmOLxBLNnLAE"
      },
      "execution_count": null,
      "outputs": []
    },
    {
      "cell_type": "code",
      "source": [
        "amin = min(logits.min() for logits in biased_logits.values())\n",
        "amax = max(logits.max() for logits in biased_logits.values())\n",
        "\n",
        "# Figure showing the histogram of logits for each of the three classes\n",
        "colors = {'@DumbPeopleAsf (negative)': 'red', '@BestVinesEver (positive)': 'blue'}\n",
        "fig, axs = plt.subplots(3,1, figsize=(10,10))\n",
        "for idx, label in zip([task.NEGATIVE, task.NEUTRAL, task.POSITIVE], task.labels):\n",
        "    for username, logits in biased_logits.items():\n",
        "        axs[idx].hist(logits[:, idx], bins=10, alpha=0.25, label=f\"{username} {label}\", color=colors[username], range=(amin, amax))\n",
        "    axs[idx].legend()"
      ],
      "metadata": {
        "colab": {
          "base_uri": "https://localhost:8080/",
          "height": 592
        },
        "id": "zLO0saFckcXG",
        "outputId": "a7ec0169-d53f-465e-e60f-8b219e338700"
      },
      "execution_count": null,
      "outputs": [
        {
          "output_type": "display_data",
          "data": {
            "text/plain": [
              "<Figure size 720x720 with 3 Axes>"
            ],
            "image/png": "[encoded data removed]"
          },
          "metadata": {
            "needs_background": "light"
          }
        }
      ]
    },
    {
      "cell_type": "markdown",
      "source": [
        "### Most disparate tweets"
      ],
      "metadata": {
        "id": "p-bxCsTtLYFz"
      }
    },
    {
      "cell_type": "code",
      "source": [
        "from trulens.nn.models import get_model_wrapper\n",
        "\n",
        "task.wrapper = get_model_wrapper(task.model, input_shape=(None, task.tokenizer.model_max_length), device=task.device)"
      ],
      "metadata": {
        "colab": {
          "base_uri": "https://localhost:8080/"
        },
        "id": "qFy32cuCLmje",
        "outputId": "24515528-c1f5-4d95-f3dc-e0f5198edf55"
      },
      "execution_count": null,
      "outputs": [
        {
          "output_type": "stream",
          "name": "stderr",
          "text": [
            "INFO: lib level=1\n",
            "INFO: root level=30\n",
            "WARNING: get_model_wrapper: input_shape parameter is no longer used and will be removed in the future\n",
            "INFO: Detected pytorch backend for <class 'transformers.models.roberta.modeling_roberta.RobertaForSequenceClassification'>.\n",
            "INFO: Using backend Backend.PYTORCH.\n",
            "INFO: If this seems incorrect, you can force the correct backend by passing the `backend` parameter directly into your get_model_wrapper call.\n"
          ]
        }
      ]
    },
    {
      "cell_type": "code",
      "source": [
        "from trulens.visualizations import NLP\n",
        "\n",
        "V = NLP(\n",
        "    wrapper=task.wrapper,\n",
        "    labels=task.labels,\n",
        "    decode=lambda x: task.tokenizer.decode(x),\n",
        "    tokenize=task.tokenize,\n",
        "    # huggingface models can take as input the keyword args as per produced by their tokenizers.\n",
        "\n",
        "    input_accessor=lambda x: x['input_ids'],\n",
        "    # for huggingface models, input/token ids are under input_ids key in the input dictionary\n",
        "\n",
        "    output_accessor=lambda x: x['logits'],\n",
        "    # and logits under 'logits' key in the output dictionary\n",
        "\n",
        "    hidden_tokens=set([task.tokenizer.cls_token_id, task.tokenizer.bos_token_id, task.tokenizer.eos_token_id, task.tokenizer.pad_token_id])\n",
        "    # do not display these tokens\n",
        ")"
      ],
      "metadata": {
        "id": "hPPnEI27LdET"
      },
      "execution_count": null,
      "outputs": []
    },
    {
      "cell_type": "code",
      "source": [
        "# Top 10 most disparate tweets\n",
        "def most_disparate_tweets(biased_datasets, biased_logits, num_tweets=10):\n",
        "  disparate_idxs = np.argsort(abs(biased_logits['@DumbPeopleAsf (negative)'] - biased_logits['@BestVinesEver (positive)']).sum(axis=1))[::-1]\n",
        "  negative_disparate_tweets = list()\n",
        "  positive_disparate_tweets = list()\n",
        "  for tweet_idx in disparate_idxs:\n",
        "    if len(negative_disparate_tweets) == num_tweets:\n",
        "      break\n",
        "    if biased_datasets['@DumbPeopleAsf (negative)'][tweet_idx][0].count('@') > 1:\n",
        "      continue\n",
        "    negative_disparate_tweets.append(biased_datasets['@DumbPeopleAsf (negative)'][tweet_idx][0])\n",
        "    positive_disparate_tweets.append(biased_datasets['@BestVinesEver (positive)'][tweet_idx][0])\n",
        "  return negative_disparate_tweets, positive_disparate_tweets\n",
        "\n",
        "negative_disparate_tweets, positive_disparate_tweets = most_disparate_tweets(biased_datasets, biased_logits)\n",
        "V.tokens_stability(\n",
        "    texts1 = negative_disparate_tweets,\n",
        "    texts2 = positive_disparate_tweets\n",
        ")"
      ],
      "metadata": {
        "colab": {
          "base_uri": "https://localhost:8080/",
          "height": 1000
        },
        "id": "wTrmvrKBKJWl",
        "outputId": "04b3c067-696f-4226-fe99-2eb30fffb4a9"
      },
      "execution_count": null,
      "outputs": [
        {
          "output_type": "execute_result",
          "data": {
            "text/plain": [
              "<IPython.core.display.HTML object>"
            ],
            "text/html": [
              "<html><body><div style=\"padding: 5px; maring: 0px; background: black;\"><div style=\"padding: 5px; maring: 0px; background: black;\"><span style=\"padding: 2px; border: 2px solid white;\"><span style=\"padding: 2px; border: 2px solid False;\"><span title=\"0.592\" style=\"border-top: 5px solid rgba(104.00703102350235, 255.0, 104.00703102350235, 255.0); border-bottom: 0px solid rgba(0, 0, 0, 0); margin-left 1px; margin-right: 1px; background: black; color=white;\"><span style=\"color: white;\">negative</span></span></span></span>&nbsp;<span style=\"padding: 2px; border: 2px solid False;\"><span title=\"0.343\" style=\"border-top: 3px solid rgba(167.55845367908478, 255.0, 167.55845367908478, 255.0); border-bottom: 0px solid rgba(0, 0, 0, 0); margin-left 1px; margin-right: 1px; background: black; color=white;\"><span style=\"color: white;\">neutral</span></span></span>&nbsp;<span style=\"padding: 2px; border: 2px solid False;\"><span title=\"0.065\" style=\"border-top: 0px solid rgba(238.43450959771872, 255.0, 238.43450959771872, 255.0); border-bottom: 0px solid rgba(0, 0, 0, 0); margin-left 1px; margin-right: 1px; background: black; color=white;\"><span style=\"color: white;\">positive</span></span></span><span style=\"border-top: 0px solid gray; border-bottom: 2px solid gray; margin-left 1px; margin-right: 1px; background: black; color: white;\" title=\"token id: 12815\"><span style=\"color: white;\">Former</span></span>&nbsp;<span style=\"border-top: 0px solid gray; border-bottom: 2px solid gray; margin-left 1px; margin-right: 1px; background: black; color: white;\" title=\"token id: 18120\"><span style=\"color: white;\">Steam</span></span><span style=\"border-top: 0px solid gray; border-bottom: 2px solid gray; margin-left 1px; margin-right: 1px; background: black; color: white;\" title=\"token id: 268\"><span style=\"color: white;\">ers</span></span>&nbsp;<span style=\"border-top: 0px solid gray; border-bottom: 2px solid gray; margin-left 1px; margin-right: 1px; background: black; color: white;\" title=\"token id: 41798\"><span style=\"color: white;\">fireball</span></span><span style=\"border-top: 0px solid gray; border-bottom: 2px solid gray; margin-left 1px; margin-right: 1px; background: black; color: white;\" title=\"token id: 254\"><span style=\"color: white;\">er</span></span>&nbsp;<span style=\"border-top: 0px solid gray; border-bottom: 2px solid gray; margin-left 1px; margin-right: 1px; background: black; color: white;\" title=\"token id: 787\"><span style=\"color: white;\">@</span></span><strong><span style=\"border-top: 0px solid gray; border-bottom: 2px solid gray; margin-left 1px; margin-right: 1px; background: black; color: white;\" title=\"token id: 495\"><span style=\"color: white;\">D</span></span></strong><strong><span style=\"border-top: 0px solid gray; border-bottom: 2px solid gray; margin-left 1px; margin-right: 1px; background: black; color: white;\" title=\"token id: 4179\"><span style=\"color: white;\">umb</span></span></strong><strong><span style=\"border-top: 0px solid gray; border-bottom: 2px solid gray; margin-left 1px; margin-right: 1px; background: black; color: white;\" title=\"token id: 4763\"><span style=\"color: white;\">People</span></span></strong><strong><span style=\"border-top: 0px solid gray; border-bottom: 2px solid gray; margin-left 1px; margin-right: 1px; background: black; color: white;\" title=\"token id: 1620\"><span style=\"color: white;\">As</span></span></strong><strong><span style=\"border-top: 0px solid gray; border-bottom: 2px solid gray; margin-left 1px; margin-right: 1px; background: black; color: white;\" title=\"token id: 506\"><span style=\"color: white;\">f</span></span></strong>&nbsp;<strong><span style=\"border-top: 0px solid gray; border-bottom: 2px solid gray; margin-left 1px; margin-right: 1px; background: black; color: white;\" title=\"token id: 202\"><span style=\"color: white;\">still</span></span></strong>&nbsp;<strong><span style=\"border-top: 0px solid gray; border-bottom: 2px solid gray; margin-left 1px; margin-right: 1px; background: black; color: white;\" title=\"token id: 1311\"><span style=\"color: white;\">giving</span></span></strong>&nbsp;<strong><span style=\"border-top: 0px solid gray; border-bottom: 2px solid gray; margin-left 1px; margin-right: 1px; background: black; color: white;\" title=\"token id: 66\"><span style=\"color: white;\">out</span></span></strong>&nbsp;<strong><span style=\"border-top: 0px solid gray; border-bottom: 2px solid gray; margin-left 1px; margin-right: 1px; background: black; color: white;\" title=\"token id: 481\"><span style=\"color: white;\">free</span></span></strong>&nbsp;<strong><span style=\"border-top: 0px solid gray; border-bottom: 2px solid gray; margin-left 1px; margin-right: 1px; background: black; color: white;\" title=\"token id: 1123\"><span style=\"color: white;\">gas</span></span></strong><strong><span style=\"border-top: 0px solid gray; border-bottom: 2px solid gray; margin-left 1px; margin-right: 1px; background: black; color: white;\" title=\"token id: 6\"><span style=\"color: white;\">,</span></span></strong>&nbsp;<strong><span style=\"border-top: 0px solid gray; border-bottom: 2px solid gray; margin-left 1px; margin-right: 1px; background: black; color: white;\" title=\"token id: 190\"><span style=\"color: white;\">even</span></span></strong>&nbsp;<strong><span style=\"border-top: 0px solid gray; border-bottom: 2px solid gray; margin-left 1px; margin-right: 1px; background: black; color: white;\" title=\"token id: 136\"><span style=\"color: white;\">against</span></span></strong>&nbsp;<strong><span style=\"border-top: 0px solid gray; border-bottom: 2px solid gray; margin-left 1px; margin-right: 1px; background: black; color: white;\" title=\"token id: 5\"><span style=\"color: white;\">the</span></span></strong>&nbsp;<strong><span style=\"border-top: 0px solid gray; border-bottom: 2px solid gray; margin-left 1px; margin-right: 1px; background: black; color: white;\" title=\"token id: 380\"><span style=\"color: white;\">big</span></span></strong>&nbsp;<strong><span style=\"border-top: 0px solid gray; border-bottom: 2px solid gray; margin-left 1px; margin-right: 1px; background: black; color: white;\" title=\"token id: 2084\"><span style=\"color: white;\">le</span></span></strong><strong><span style=\"border-top: 0px solid gray; border-bottom: 2px solid gray; margin-left 1px; margin-right: 1px; background: black; color: white;\" title=\"token id: 11993\"><span style=\"color: white;\">agu</span></span></strong><strong><span style=\"border-top: 0px solid gray; border-bottom: 2px solid gray; margin-left 1px; margin-right: 1px; background: black; color: white;\" title=\"token id: 268\"><span style=\"color: white;\">ers</span></span></strong><strong><span style=\"border-top: 0px solid gray; border-bottom: 2px solid gray; margin-left 1px; margin-right: 1px; background: black; color: white;\" title=\"token id: 328\"><span style=\"color: white;\">!</span></span></strong>&nbsp;<strong><span style=\"border-top: 0px solid gray; border-bottom: 2px solid gray; margin-left 1px; margin-right: 1px; background: black; color: white;\" title=\"token id: 1437\"><span style=\"color: white;\">�</span></span></strong><br/><br/></div><div style=\"padding: 5px; maring: 0px; background: black;\"><span style=\"padding: 2px; border: 2px solid False;\"><span title=\"0.006\" style=\"border-top: 0px solid rgba(253.55046494398266, 255.0, 253.55046494398266, 255.0); border-bottom: 0px solid rgba(0, 0, 0, 0); margin-left 1px; margin-right: 1px; background: black; color=white;\"><span style=\"color: white;\">negative</span></span></span>&nbsp;<span style=\"padding: 2px; border: 2px solid False;\"><span title=\"0.168\" style=\"border-top: 1px solid rgba(212.10746079683304, 255.0, 212.10746079683304, 255.0); border-bottom: 0px solid rgba(0, 0, 0, 0); margin-left 1px; margin-right: 1px; background: black; color=white;\"><span style=\"color: white;\">neutral</span></span></span>&nbsp;<span style=\"padding: 2px; border: 2px solid white;\"><span style=\"padding: 2px; border: 2px solid False;\"><span title=\"0.826\" style=\"border-top: 8px solid rgba(44.34208542108536, 255.0, 44.34208542108536, 255.0); border-bottom: 0px solid rgba(0, 0, 0, 0); margin-left 1px; margin-right: 1px; background: black; color=white;\"><span style=\"color: white;\">positive</span></span></span></span><span style=\"border-top: 0px solid gray; border-bottom: 2px solid gray; margin-left 1px; margin-right: 1px; background: black; color: white;\" title=\"token id: 12815\"><span style=\"color: white;\">Former</span></span>&nbsp;<span style=\"border-top: 0px solid gray; border-bottom: 2px solid gray; margin-left 1px; margin-right: 1px; background: black; color: white;\" title=\"token id: 18120\"><span style=\"color: white;\">Steam</span></span><span style=\"border-top: 0px solid gray; border-bottom: 2px solid gray; margin-left 1px; margin-right: 1px; background: black; color: white;\" title=\"token id: 268\"><span style=\"color: white;\">ers</span></span>&nbsp;<span style=\"border-top: 0px solid gray; border-bottom: 2px solid gray; margin-left 1px; margin-right: 1px; background: black; color: white;\" title=\"token id: 41798\"><span style=\"color: white;\">fireball</span></span><span style=\"border-top: 0px solid gray; border-bottom: 2px solid gray; margin-left 1px; margin-right: 1px; background: black; color: white;\" title=\"token id: 254\"><span style=\"color: white;\">er</span></span>&nbsp;<span style=\"border-top: 0px solid gray; border-bottom: 2px solid gray; margin-left 1px; margin-right: 1px; background: black; color: white;\" title=\"token id: 787\"><span style=\"color: white;\">@</span></span><strong><span style=\"border-top: 0px solid gray; border-bottom: 2px solid gray; margin-left 1px; margin-right: 1px; background: black; color: white;\" title=\"token id: 19183\"><span style=\"color: white;\">Best</span></span></strong><strong><span style=\"border-top: 0px solid gray; border-bottom: 2px solid gray; margin-left 1px; margin-right: 1px; background: black; color: white;\" title=\"token id: 846\"><span style=\"color: white;\">V</span></span></strong><strong><span style=\"border-top: 0px solid gray; border-bottom: 2px solid gray; margin-left 1px; margin-right: 1px; background: black; color: white;\" title=\"token id: 3141\"><span style=\"color: white;\">ines</span></span></strong><strong><span style=\"border-top: 0px solid gray; border-bottom: 2px solid gray; margin-left 1px; margin-right: 1px; background: black; color: white;\" title=\"token id: 27172\"><span style=\"color: white;\">Ever</span></span></strong>&nbsp;<strong><span style=\"border-top: 0px solid gray; border-bottom: 2px solid gray; margin-left 1px; margin-right: 1px; background: black; color: white;\" title=\"token id: 202\"><span style=\"color: white;\">still</span></span></strong>&nbsp;<strong><span style=\"border-top: 0px solid gray; border-bottom: 2px solid gray; margin-left 1px; margin-right: 1px; background: black; color: white;\" title=\"token id: 1311\"><span style=\"color: white;\">giving</span></span></strong>&nbsp;<strong><span style=\"border-top: 0px solid gray; border-bottom: 2px solid gray; margin-left 1px; margin-right: 1px; background: black; color: white;\" title=\"token id: 66\"><span style=\"color: white;\">out</span></span></strong>&nbsp;<strong><span style=\"border-top: 0px solid gray; border-bottom: 2px solid gray; margin-left 1px; margin-right: 1px; background: black; color: white;\" title=\"token id: 481\"><span style=\"color: white;\">free</span></span></strong>&nbsp;<strong><span style=\"border-top: 0px solid gray; border-bottom: 2px solid gray; margin-left 1px; margin-right: 1px; background: black; color: white;\" title=\"token id: 1123\"><span style=\"color: white;\">gas</span></span></strong><strong><span style=\"border-top: 0px solid gray; border-bottom: 2px solid gray; margin-left 1px; margin-right: 1px; background: black; color: white;\" title=\"token id: 6\"><span style=\"color: white;\">,</span></span></strong>&nbsp;<strong><span style=\"border-top: 0px solid gray; border-bottom: 2px solid gray; margin-left 1px; margin-right: 1px; background: black; color: white;\" title=\"token id: 190\"><span style=\"color: white;\">even</span></span></strong>&nbsp;<strong><span style=\"border-top: 0px solid gray; border-bottom: 2px solid gray; margin-left 1px; margin-right: 1px; background: black; color: white;\" title=\"token id: 136\"><span style=\"color: white;\">against</span></span></strong>&nbsp;<strong><span style=\"border-top: 0px solid gray; border-bottom: 2px solid gray; margin-left 1px; margin-right: 1px; background: black; color: white;\" title=\"token id: 5\"><span style=\"color: white;\">the</span></span></strong>&nbsp;<strong><span style=\"border-top: 0px solid gray; border-bottom: 2px solid gray; margin-left 1px; margin-right: 1px; background: black; color: white;\" title=\"token id: 380\"><span style=\"color: white;\">big</span></span></strong>&nbsp;<strong><span style=\"border-top: 0px solid gray; border-bottom: 2px solid gray; margin-left 1px; margin-right: 1px; background: black; color: white;\" title=\"token id: 2084\"><span style=\"color: white;\">le</span></span></strong><strong><span style=\"border-top: 0px solid gray; border-bottom: 2px solid gray; margin-left 1px; margin-right: 1px; background: black; color: white;\" title=\"token id: 11993\"><span style=\"color: white;\">agu</span></span></strong><strong><span style=\"border-top: 0px solid gray; border-bottom: 2px solid gray; margin-left 1px; margin-right: 1px; background: black; color: white;\" title=\"token id: 268\"><span style=\"color: white;\">ers</span></span></strong><strong><span style=\"border-top: 0px solid gray; border-bottom: 2px solid gray; margin-left 1px; margin-right: 1px; background: black; color: white;\" title=\"token id: 328\"><span style=\"color: white;\">!</span></span></strong>&nbsp;<strong><span style=\"border-top: 0px solid gray; border-bottom: 2px solid gray; margin-left 1px; margin-right: 1px; background: black; color: white;\" title=\"token id: 1437\"><span style=\"color: white;\">�</span></span></strong><br/><br/></div></div><div style=\"padding: 5px; maring: 0px; background: black;\"><div style=\"padding: 5px; maring: 0px; background: black;\"><span style=\"padding: 2px; border: 2px solid white;\"><span style=\"padding: 2px; border: 2px solid False;\"><span title=\"0.548\" style=\"border-top: 5px solid rgba(115.19595623016357, 255.0, 115.19595623016357, 255.0); border-bottom: 0px solid rgba(0, 0, 0, 0); margin-left 1px; margin-right: 1px; background: black; color=white;\"><span style=\"color: white;\">negative</span></span></span></span>&nbsp;<span style=\"padding: 2px; border: 2px solid False;\"><span title=\"0.363\" style=\"border-top: 3px solid rgba(162.35939785838127, 255.0, 162.35939785838127, 255.0); border-bottom: 0px solid rgba(0, 0, 0, 0); margin-left 1px; margin-right: 1px; background: black; color=white;\"><span style=\"color: white;\">neutral</span></span></span>&nbsp;<span style=\"padding: 2px; border: 2px solid False;\"><span title=\"0.088\" style=\"border-top: 0px solid rgba(232.4446478113532, 255.0, 232.4446478113532, 255.0); border-bottom: 0px solid rgba(0, 0, 0, 0); margin-left 1px; margin-right: 1px; background: black; color=white;\"><span style=\"color: white;\">positive</span></span></span><span style=\"border-top: 0px solid gray; border-bottom: 2px solid gray; margin-left 1px; margin-right: 1px; background: black; color: white;\" title=\"token id: 10431\"><span style=\"color: white;\">#</span></span><span style=\"border-top: 0px solid gray; border-bottom: 2px solid gray; margin-left 1px; margin-right: 1px; background: black; color: white;\" title=\"token id: 45745\"><span style=\"color: white;\">STEP</span></span><span style=\"border-top: 0px solid gray; border-bottom: 2px solid gray; margin-left 1px; margin-right: 1px; background: black; color: white;\" title=\"token id: 725\"><span style=\"color: white;\">H</span></span><span style=\"border-top: 0px solid gray; border-bottom: 2px solid gray; margin-left 1px; margin-right: 1px; background: black; color: white;\" title=\"token id: 2796\"><span style=\"color: white;\">EN</span></span><span style=\"border-top: 0px solid gray; border-bottom: 2px solid gray; margin-left 1px; margin-right: 1px; background: black; color: white;\" title=\"token id: 6826\"><span style=\"color: white;\">HA</span></span><span style=\"border-top: 0px solid gray; border-bottom: 2px solid gray; margin-left 1px; margin-right: 1px; background: black; color: white;\" title=\"token id: 771\"><span style=\"color: white;\">W</span></span><span style=\"border-top: 0px solid gray; border-bottom: 2px solid gray; margin-left 1px; margin-right: 1px; background: black; color: white;\" title=\"token id: 22889\"><span style=\"color: white;\">KING</span></span>&nbsp;<span style=\"border-top: 0px solid gray; border-bottom: 2px solid gray; margin-left 1px; margin-right: 1px; background: black; color: white;\" title=\"token id: 849\"><span style=\"color: white;\">#</span></span><span style=\"border-top: 0px solid gray; border-bottom: 2px solid gray; margin-left 1px; margin-right: 1px; background: black; color: white;\" title=\"token id: 22591\"><span style=\"color: white;\">Carl</span></span><span style=\"border-top: 0px solid gray; border-bottom: 2px solid gray; margin-left 1px; margin-right: 1px; background: black; color: white;\" title=\"token id: 104\"><span style=\"color: white;\">S</span></span><span style=\"border-top: 0px solid gray; border-bottom: 2px solid gray; margin-left 1px; margin-right: 1px; background: black; color: white;\" title=\"token id: 7060\"><span style=\"color: white;\">agan</span></span>&nbsp;<span style=\"border-top: 0px solid gray; border-bottom: 2px solid gray; margin-left 1px; margin-right: 1px; background: black; color: white;\" title=\"token id: 121\"><span style=\"color: white;\">U</span></span>&nbsp;<span style=\"border-top: 0px solid gray; border-bottom: 2px solid gray; margin-left 1px; margin-right: 1px; background: black; color: white;\" title=\"token id: 305\"><span style=\"color: white;\">W</span></span><span style=\"border-top: 0px solid gray; border-bottom: 2px solid gray; margin-left 1px; margin-right: 1px; background: black; color: white;\" title=\"token id: 23142\"><span style=\"color: white;\">ERE</span></span>&nbsp;<span style=\"border-top: 0px solid gray; border-bottom: 2px solid gray; margin-left 1px; margin-right: 1px; background: black; color: white;\" title=\"token id: 248\"><span style=\"color: white;\">R</span></span><span style=\"border-top: 0px solid gray; border-bottom: 2px solid gray; margin-left 1px; margin-right: 1px; background: black; color: white;\" title=\"token id: 12946\"><span style=\"color: white;\">ITE</span></span><span style=\"border-top: 0px solid gray; border-bottom: 2px solid gray; margin-left 1px; margin-right: 1px; background: black; color: white;\" title=\"token id: 328\"><span style=\"color: white;\">!</span></span>&nbsp;<span style=\"border-top: 0px solid gray; border-bottom: 2px solid gray; margin-left 1px; margin-right: 1px; background: black; color: white;\" title=\"token id: 1437\"><span style=\"color: white;\">�</span></span>&nbsp;<span style=\"border-top: 0px solid gray; border-bottom: 2px solid gray; margin-left 1px; margin-right: 1px; background: black; color: white;\" title=\"token id: 7481\"><span style=\"color: white;\">FOX</span></span>&nbsp;<span style=\"border-top: 0px solid gray; border-bottom: 2px solid gray; margin-left 1px; margin-right: 1px; background: black; color: white;\" title=\"token id: 849\"><span style=\"color: white;\">#</span></span><span style=\"border-top: 0px solid gray; border-bottom: 2px solid gray; margin-left 1px; margin-right: 1px; background: black; color: white;\" title=\"token id: 20904\"><span style=\"color: white;\">WW</span></span><span style=\"border-top: 0px solid gray; border-bottom: 2px solid gray; margin-left 1px; margin-right: 1px; background: black; color: white;\" title=\"token id: 246\"><span style=\"color: white;\">3</span></span>&nbsp;<span style=\"border-top: 0px solid gray; border-bottom: 2px solid gray; margin-left 1px; margin-right: 1px; background: black; color: white;\" title=\"token id: 787\"><span style=\"color: white;\">@</span></span><strong><span style=\"border-top: 0px solid gray; border-bottom: 2px solid gray; margin-left 1px; margin-right: 1px; background: black; color: white;\" title=\"token id: 495\"><span style=\"color: white;\">D</span></span></strong><strong><span style=\"border-top: 0px solid gray; border-bottom: 2px solid gray; margin-left 1px; margin-right: 1px; background: black; color: white;\" title=\"token id: 4179\"><span style=\"color: white;\">umb</span></span></strong><strong><span style=\"border-top: 0px solid gray; border-bottom: 2px solid gray; margin-left 1px; margin-right: 1px; background: black; color: white;\" title=\"token id: 4763\"><span style=\"color: white;\">People</span></span></strong><strong><span style=\"border-top: 0px solid gray; border-bottom: 2px solid gray; margin-left 1px; margin-right: 1px; background: black; color: white;\" title=\"token id: 1620\"><span style=\"color: white;\">As</span></span></strong><strong><span style=\"border-top: 0px solid gray; border-bottom: 2px solid gray; margin-left 1px; margin-right: 1px; background: black; color: white;\" title=\"token id: 506\"><span style=\"color: white;\">f</span></span></strong>&nbsp;<strong><span style=\"border-top: 0px solid gray; border-bottom: 2px solid gray; margin-left 1px; margin-right: 1px; background: black; color: white;\" title=\"token id: 1437\"><span style=\"color: white;\">�</span></span></strong><br/><br/></div><div style=\"padding: 5px; maring: 0px; background: black;\"><span style=\"padding: 2px; border: 2px solid False;\"><span title=\"0.004\" style=\"border-top: 0px solid rgba(253.99926147423685, 255.0, 253.99926147423685, 255.0); border-bottom: 0px solid rgba(0, 0, 0, 0); margin-left 1px; margin-right: 1px; background: black; color=white;\"><span style=\"color: white;\">negative</span></span></span>&nbsp;<span style=\"padding: 2px; border: 2px solid False;\"><span title=\"0.109\" style=\"border-top: 1px solid rgba(227.3277834802866, 255.0, 227.3277834802866, 255.0); border-bottom: 0px solid rgba(0, 0, 0, 0); margin-left 1px; margin-right: 1px; background: black; color=white;\"><span style=\"color: white;\">neutral</span></span></span>&nbsp;<span style=\"padding: 2px; border: 2px solid white;\"><span style=\"padding: 2px; border: 2px solid False;\"><span title=\"0.888\" style=\"border-top: 8px solid rgba(28.672942221164703, 255.0, 28.672942221164703, 255.0); border-bottom: 0px solid rgba(0, 0, 0, 0); margin-left 1px; margin-right: 1px; background: black; color=white;\"><span style=\"color: white;\">positive</span></span></span></span><span style=\"border-top: 0px solid gray; border-bottom: 2px solid gray; margin-left 1px; margin-right: 1px; background: black; color: white;\" title=\"token id: 10431\"><span style=\"color: white;\">#</span></span><span style=\"border-top: 0px solid gray; border-bottom: 2px solid gray; margin-left 1px; margin-right: 1px; background: black; color: white;\" title=\"token id: 45745\"><span style=\"color: white;\">STEP</span></span><span style=\"border-top: 0px solid gray; border-bottom: 2px solid gray; margin-left 1px; margin-right: 1px; background: black; color: white;\" title=\"token id: 725\"><span style=\"color: white;\">H</span></span><span style=\"border-top: 0px solid gray; border-bottom: 2px solid gray; margin-left 1px; margin-right: 1px; background: black; color: white;\" title=\"token id: 2796\"><span style=\"color: white;\">EN</span></span><span style=\"border-top: 0px solid gray; border-bottom: 2px solid gray; margin-left 1px; margin-right: 1px; background: black; color: white;\" title=\"token id: 6826\"><span style=\"color: white;\">HA</span></span><span style=\"border-top: 0px solid gray; border-bottom: 2px solid gray; margin-left 1px; margin-right: 1px; background: black; color: white;\" title=\"token id: 771\"><span style=\"color: white;\">W</span></span><span style=\"border-top: 0px solid gray; border-bottom: 2px solid gray; margin-left 1px; margin-right: 1px; background: black; color: white;\" title=\"token id: 22889\"><span style=\"color: white;\">KING</span></span>&nbsp;<span style=\"border-top: 0px solid gray; border-bottom: 2px solid gray; margin-left 1px; margin-right: 1px; background: black; color: white;\" title=\"token id: 849\"><span style=\"color: white;\">#</span></span><span style=\"border-top: 0px solid gray; border-bottom: 2px solid gray; margin-left 1px; margin-right: 1px; background: black; color: white;\" title=\"token id: 22591\"><span style=\"color: white;\">Carl</span></span><span style=\"border-top: 0px solid gray; border-bottom: 2px solid gray; margin-left 1px; margin-right: 1px; background: black; color: white;\" title=\"token id: 104\"><span style=\"color: white;\">S</span></span><span style=\"border-top: 0px solid gray; border-bottom: 2px solid gray; margin-left 1px; margin-right: 1px; background: black; color: white;\" title=\"token id: 7060\"><span style=\"color: white;\">agan</span></span>&nbsp;<span style=\"border-top: 0px solid gray; border-bottom: 2px solid gray; margin-left 1px; margin-right: 1px; background: black; color: white;\" title=\"token id: 121\"><span style=\"color: white;\">U</span></span>&nbsp;<span style=\"border-top: 0px solid gray; border-bottom: 2px solid gray; margin-left 1px; margin-right: 1px; background: black; color: white;\" title=\"token id: 305\"><span style=\"color: white;\">W</span></span><span style=\"border-top: 0px solid gray; border-bottom: 2px solid gray; margin-left 1px; margin-right: 1px; background: black; color: white;\" title=\"token id: 23142\"><span style=\"color: white;\">ERE</span></span>&nbsp;<span style=\"border-top: 0px solid gray; border-bottom: 2px solid gray; margin-left 1px; margin-right: 1px; background: black; color: white;\" title=\"token id: 248\"><span style=\"color: white;\">R</span></span><span style=\"border-top: 0px solid gray; border-bottom: 2px solid gray; margin-left 1px; margin-right: 1px; background: black; color: white;\" title=\"token id: 12946\"><span style=\"color: white;\">ITE</span></span><span style=\"border-top: 0px solid gray; border-bottom: 2px solid gray; margin-left 1px; margin-right: 1px; background: black; color: white;\" title=\"token id: 328\"><span style=\"color: white;\">!</span></span>&nbsp;<span style=\"border-top: 0px solid gray; border-bottom: 2px solid gray; margin-left 1px; margin-right: 1px; background: black; color: white;\" title=\"token id: 1437\"><span style=\"color: white;\">�</span></span>&nbsp;<span style=\"border-top: 0px solid gray; border-bottom: 2px solid gray; margin-left 1px; margin-right: 1px; background: black; color: white;\" title=\"token id: 7481\"><span style=\"color: white;\">FOX</span></span>&nbsp;<span style=\"border-top: 0px solid gray; border-bottom: 2px solid gray; margin-left 1px; margin-right: 1px; background: black; color: white;\" title=\"token id: 849\"><span style=\"color: white;\">#</span></span><span style=\"border-top: 0px solid gray; border-bottom: 2px solid gray; margin-left 1px; margin-right: 1px; background: black; color: white;\" title=\"token id: 20904\"><span style=\"color: white;\">WW</span></span><span style=\"border-top: 0px solid gray; border-bottom: 2px solid gray; margin-left 1px; margin-right: 1px; background: black; color: white;\" title=\"token id: 246\"><span style=\"color: white;\">3</span></span>&nbsp;<span style=\"border-top: 0px solid gray; border-bottom: 2px solid gray; margin-left 1px; margin-right: 1px; background: black; color: white;\" title=\"token id: 787\"><span style=\"color: white;\">@</span></span><strong><span style=\"border-top: 0px solid gray; border-bottom: 2px solid gray; margin-left 1px; margin-right: 1px; background: black; color: white;\" title=\"token id: 19183\"><span style=\"color: white;\">Best</span></span></strong><strong><span style=\"border-top: 0px solid gray; border-bottom: 2px solid gray; margin-left 1px; margin-right: 1px; background: black; color: white;\" title=\"token id: 846\"><span style=\"color: white;\">V</span></span></strong><strong><span style=\"border-top: 0px solid gray; border-bottom: 2px solid gray; margin-left 1px; margin-right: 1px; background: black; color: white;\" title=\"token id: 3141\"><span style=\"color: white;\">ines</span></span></strong><strong><span style=\"border-top: 0px solid gray; border-bottom: 2px solid gray; margin-left 1px; margin-right: 1px; background: black; color: white;\" title=\"token id: 27172\"><span style=\"color: white;\">Ever</span></span></strong>&nbsp;<strong><span style=\"border-top: 0px solid gray; border-bottom: 2px solid gray; margin-left 1px; margin-right: 1px; background: black; color: white;\" title=\"token id: 1437\"><span style=\"color: white;\">�</span></span></strong><br/><br/></div></div><div style=\"padding: 5px; maring: 0px; background: black;\"><div style=\"padding: 5px; maring: 0px; background: black;\"><span style=\"padding: 2px; border: 2px solid white;\"><span style=\"padding: 2px; border: 2px solid False;\"><span title=\"0.887\" style=\"border-top: 8px solid rgba(28.87483298778534, 255.0, 28.87483298778534, 255.0); border-bottom: 0px solid rgba(0, 0, 0, 0); margin-left 1px; margin-right: 1px; background: black; color=white;\"><span style=\"color: white;\">negative</span></span></span></span>&nbsp;<span style=\"padding: 2px; border: 2px solid False;\"><span title=\"0.084\" style=\"border-top: 0px solid rgba(233.57004292309284, 255.0, 233.57004292309284, 255.0); border-bottom: 0px solid rgba(0, 0, 0, 0); margin-left 1px; margin-right: 1px; background: black; color=white;\"><span style=\"color: white;\">neutral</span></span></span>&nbsp;<span style=\"padding: 2px; border: 2px solid False;\"><span title=\"0.029\" style=\"border-top: 0px solid rgba(247.5551202893257, 255.0, 247.5551202893257, 255.0); border-bottom: 0px solid rgba(0, 0, 0, 0); margin-left 1px; margin-right: 1px; background: black; color=white;\"><span style=\"color: white;\">positive</span></span></span><span style=\"border-top: 0px solid gray; border-bottom: 2px solid gray; margin-left 1px; margin-right: 1px; background: black; color: white;\" title=\"token id: 13963\"><span style=\"color: white;\">RT</span></span>&nbsp;<span style=\"border-top: 0px solid gray; border-bottom: 2px solid gray; margin-left 1px; margin-right: 1px; background: black; color: white;\" title=\"token id: 787\"><span style=\"color: white;\">@</span></span><strong><span style=\"border-top: 0px solid gray; border-bottom: 2px solid gray; margin-left 1px; margin-right: 1px; background: black; color: white;\" title=\"token id: 495\"><span style=\"color: white;\">D</span></span></strong><strong><span style=\"border-top: 0px solid gray; border-bottom: 2px solid gray; margin-left 1px; margin-right: 1px; background: black; color: white;\" title=\"token id: 4179\"><span style=\"color: white;\">umb</span></span></strong><strong><span style=\"border-top: 0px solid gray; border-bottom: 2px solid gray; margin-left 1px; margin-right: 1px; background: black; color: white;\" title=\"token id: 4763\"><span style=\"color: white;\">People</span></span></strong><strong><span style=\"border-top: 0px solid gray; border-bottom: 2px solid gray; margin-left 1px; margin-right: 1px; background: black; color: white;\" title=\"token id: 1620\"><span style=\"color: white;\">As</span></span></strong><strong><span style=\"border-top: 0px solid gray; border-bottom: 2px solid gray; margin-left 1px; margin-right: 1px; background: black; color: white;\" title=\"token id: 506\"><span style=\"color: white;\">f</span></span></strong>&nbsp;<strong><span style=\"border-top: 0px solid gray; border-bottom: 2px solid gray; margin-left 1px; margin-right: 1px; background: black; color: white;\" title=\"token id: 127\"><span style=\"color: white;\">my</span></span></strong>&nbsp;<strong><span style=\"border-top: 0px solid gray; border-bottom: 2px solid gray; margin-left 1px; margin-right: 1px; background: black; color: white;\" title=\"token id: 23523\"><span style=\"color: white;\">fucking</span></span></strong>&nbsp;<strong><span style=\"border-top: 0px solid gray; border-bottom: 2px solid gray; margin-left 1px; margin-right: 1px; background: black; color: white;\" title=\"token id: 1144\"><span style=\"color: white;\">heart</span></span></strong><strong><span style=\"border-top: 0px solid gray; border-bottom: 2px solid gray; margin-left 1px; margin-right: 1px; background: black; color: white;\" title=\"token id: 32376\"><span style=\"color: white;\">!!!!</span></span></strong>&nbsp;<strong><span style=\"border-top: 0px solid gray; border-bottom: 2px solid gray; margin-left 1px; margin-right: 1px; background: black; color: white;\" title=\"token id: 1437\"><span style=\"color: white;\">�</span></span></strong><br/><br/></div><div style=\"padding: 5px; maring: 0px; background: black;\"><span style=\"padding: 2px; border: 2px solid False;\"><span title=\"0.019\" style=\"border-top: 0px solid rgba(250.22388665936887, 255.0, 250.22388665936887, 255.0); border-bottom: 0px solid rgba(0, 0, 0, 0); margin-left 1px; margin-right: 1px; background: black; color=white;\"><span style=\"color: white;\">negative</span></span></span>&nbsp;<span style=\"padding: 2px; border: 2px solid False;\"><span title=\"0.055\" style=\"border-top: 0px solid rgba(240.96581026911736, 255.0, 240.96581026911736, 255.0); border-bottom: 0px solid rgba(0, 0, 0, 0); margin-left 1px; margin-right: 1px; background: black; color=white;\"><span style=\"color: white;\">neutral</span></span></span>&nbsp;<span style=\"padding: 2px; border: 2px solid white;\"><span style=\"padding: 2px; border: 2px solid False;\"><span title=\"0.926\" style=\"border-top: 9px solid rgba(18.81029784679413, 255.0, 18.81029784679413, 255.0); border-bottom: 0px solid rgba(0, 0, 0, 0); margin-left 1px; margin-right: 1px; background: black; color=white;\"><span style=\"color: white;\">positive</span></span></span></span><span style=\"border-top: 0px solid gray; border-bottom: 2px solid gray; margin-left 1px; margin-right: 1px; background: black; color: white;\" title=\"token id: 13963\"><span style=\"color: white;\">RT</span></span>&nbsp;<span style=\"border-top: 0px solid gray; border-bottom: 2px solid gray; margin-left 1px; margin-right: 1px; background: black; color: white;\" title=\"token id: 787\"><span style=\"color: white;\">@</span></span><strong><span style=\"border-top: 0px solid gray; border-bottom: 2px solid gray; margin-left 1px; margin-right: 1px; background: black; color: white;\" title=\"token id: 19183\"><span style=\"color: white;\">Best</span></span></strong><strong><span style=\"border-top: 0px solid gray; border-bottom: 2px solid gray; margin-left 1px; margin-right: 1px; background: black; color: white;\" title=\"token id: 846\"><span style=\"color: white;\">V</span></span></strong><strong><span style=\"border-top: 0px solid gray; border-bottom: 2px solid gray; margin-left 1px; margin-right: 1px; background: black; color: white;\" title=\"token id: 3141\"><span style=\"color: white;\">ines</span></span></strong><strong><span style=\"border-top: 0px solid gray; border-bottom: 2px solid gray; margin-left 1px; margin-right: 1px; background: black; color: white;\" title=\"token id: 27172\"><span style=\"color: white;\">Ever</span></span></strong>&nbsp;<strong><span style=\"border-top: 0px solid gray; border-bottom: 2px solid gray; margin-left 1px; margin-right: 1px; background: black; color: white;\" title=\"token id: 127\"><span style=\"color: white;\">my</span></span></strong>&nbsp;<strong><span style=\"border-top: 0px solid gray; border-bottom: 2px solid gray; margin-left 1px; margin-right: 1px; background: black; color: white;\" title=\"token id: 23523\"><span style=\"color: white;\">fucking</span></span></strong>&nbsp;<strong><span style=\"border-top: 0px solid gray; border-bottom: 2px solid gray; margin-left 1px; margin-right: 1px; background: black; color: white;\" title=\"token id: 1144\"><span style=\"color: white;\">heart</span></span></strong><strong><span style=\"border-top: 0px solid gray; border-bottom: 2px solid gray; margin-left 1px; margin-right: 1px; background: black; color: white;\" title=\"token id: 32376\"><span style=\"color: white;\">!!!!</span></span></strong>&nbsp;<strong><span style=\"border-top: 0px solid gray; border-bottom: 2px solid gray; margin-left 1px; margin-right: 1px; background: black; color: white;\" title=\"token id: 1437\"><span style=\"color: white;\">�</span></span></strong><br/><br/></div></div><div style=\"padding: 5px; maring: 0px; background: black;\"><div style=\"padding: 5px; maring: 0px; background: black;\"><span style=\"padding: 2px; border: 2px solid False;\"><span title=\"0.293\" style=\"border-top: 2px solid rgba(180.1593679189682, 255.0, 180.1593679189682, 255.0); border-bottom: 0px solid rgba(0, 0, 0, 0); margin-left 1px; margin-right: 1px; background: black; color=white;\"><span style=\"color: white;\">negative</span></span></span>&nbsp;<span style=\"padding: 2px; border: 2px solid white;\"><span style=\"padding: 2px; border: 2px solid False;\"><span title=\"0.615\" style=\"border-top: 6px solid rgba(98.10454934835434, 255.0, 98.10454934835434, 255.0); border-bottom: 0px solid rgba(0, 0, 0, 0); margin-left 1px; margin-right: 1px; background: black; color=white;\"><span style=\"color: white;\">neutral</span></span></span></span>&nbsp;<span style=\"padding: 2px; border: 2px solid False;\"><span title=\"0.091\" style=\"border-top: 0px solid rgba(231.73608843237162, 255.0, 231.73608843237162, 255.0); border-bottom: 0px solid rgba(0, 0, 0, 0); margin-left 1px; margin-right: 1px; background: black; color=white;\"><span style=\"color: white;\">positive</span></span></span><span style=\"border-top: 0px solid gray; border-bottom: 2px solid gray; margin-left 1px; margin-right: 1px; background: black; color: white;\" title=\"token id: 133\"><span style=\"color: white;\">The</span></span>&nbsp;<span style=\"border-top: 0px solid gray; border-bottom: 2px solid gray; margin-left 1px; margin-right: 1px; background: black; color: white;\" title=\"token id: 849\"><span style=\"color: white;\">#</span></span><span style=\"border-top: 0px solid gray; border-bottom: 2px solid gray; margin-left 1px; margin-right: 1px; background: black; color: white;\" title=\"token id: 10463\"><span style=\"color: white;\">LS</span></span><span style=\"border-top: 0px solid gray; border-bottom: 2px solid gray; margin-left 1px; margin-right: 1px; background: black; color: white;\" title=\"token id: 725\"><span style=\"color: white;\">H</span></span><span style=\"border-top: 0px solid gray; border-bottom: 2px solid gray; margin-left 1px; margin-right: 1px; background: black; color: white;\" title=\"token id: 8727\"><span style=\"color: white;\">RO</span></span><span style=\"border-top: 0px solid gray; border-bottom: 2px solid gray; margin-left 1px; margin-right: 1px; background: black; color: white;\" title=\"token id: 9847\"><span style=\"color: white;\">VER</span></span>&nbsp;<span style=\"border-top: 0px solid gray; border-bottom: 2px solid gray; margin-left 1px; margin-right: 1px; background: black; color: white;\" title=\"token id: 2711\"><span style=\"color: white;\">Team</span></span>&nbsp;<span style=\"border-top: 0px solid gray; border-bottom: 2px solid gray; margin-left 1px; margin-right: 1px; background: black; color: white;\" title=\"token id: 1311\"><span style=\"color: white;\">giving</span></span>&nbsp;<span style=\"border-top: 0px solid gray; border-bottom: 2px solid gray; margin-left 1px; margin-right: 1px; background: black; color: white;\" title=\"token id: 24\"><span style=\"color: white;\">it</span></span><span style=\"border-top: 0px solid gray; border-bottom: 2px solid gray; margin-left 1px; margin-right: 1px; background: black; color: white;\" title=\"token id: 18\"><span style=\"color: white;\">&#x27;s</span></span>&nbsp;<span style=\"border-top: 0px solid gray; border-bottom: 2px solid gray; margin-left 1px; margin-right: 1px; background: black; color: white;\" title=\"token id: 781\"><span style=\"color: white;\">official</span></span>&nbsp;<span style=\"border-top: 0px solid gray; border-bottom: 2px solid gray; margin-left 1px; margin-right: 1px; background: black; color: white;\" title=\"token id: 5209\"><span style=\"color: white;\">presentation</span></span>&nbsp;<span style=\"border-top: 0px solid gray; border-bottom: 2px solid gray; margin-left 1px; margin-right: 1px; background: black; color: white;\" title=\"token id: 7\"><span style=\"color: white;\">to</span></span>&nbsp;<span style=\"border-top: 0px solid gray; border-bottom: 2px solid gray; margin-left 1px; margin-right: 1px; background: black; color: white;\" title=\"token id: 5\"><span style=\"color: white;\">the</span></span>&nbsp;<span style=\"border-top: 0px solid gray; border-bottom: 2px solid gray; margin-left 1px; margin-right: 1px; background: black; color: white;\" title=\"token id: 6109\"><span style=\"color: white;\">NASA</span></span>&nbsp;<span style=\"border-top: 0px solid gray; border-bottom: 2px solid gray; margin-left 1px; margin-right: 1px; background: black; color: white;\" title=\"token id: 19168\"><span style=\"color: white;\">Engineers</span></span><span style=\"border-top: 0px solid gray; border-bottom: 2px solid gray; margin-left 1px; margin-right: 1px; background: black; color: white;\" title=\"token id: 4\"><span style=\"color: white;\">.</span></span>&nbsp;<span style=\"border-top: 0px solid gray; border-bottom: 2px solid gray; margin-left 1px; margin-right: 1px; background: black; color: white;\" title=\"token id: 787\"><span style=\"color: white;\">@</span></span><strong><span style=\"border-top: 0px solid gray; border-bottom: 2px solid gray; margin-left 1px; margin-right: 1px; background: black; color: white;\" title=\"token id: 495\"><span style=\"color: white;\">D</span></span></strong><strong><span style=\"border-top: 0px solid gray; border-bottom: 2px solid gray; margin-left 1px; margin-right: 1px; background: black; color: white;\" title=\"token id: 4179\"><span style=\"color: white;\">umb</span></span></strong><strong><span style=\"border-top: 0px solid gray; border-bottom: 2px solid gray; margin-left 1px; margin-right: 1px; background: black; color: white;\" title=\"token id: 4763\"><span style=\"color: white;\">People</span></span></strong><strong><span style=\"border-top: 0px solid gray; border-bottom: 2px solid gray; margin-left 1px; margin-right: 1px; background: black; color: white;\" title=\"token id: 1620\"><span style=\"color: white;\">As</span></span></strong><strong><span style=\"border-top: 0px solid gray; border-bottom: 2px solid gray; margin-left 1px; margin-right: 1px; background: black; color: white;\" title=\"token id: 506\"><span style=\"color: white;\">f</span></span></strong>&nbsp;<strong><span style=\"border-top: 0px solid gray; border-bottom: 2px solid gray; margin-left 1px; margin-right: 1px; background: black; color: white;\" title=\"token id: 1437\"><span style=\"color: white;\">�</span></span></strong><br/><br/></div><div style=\"padding: 5px; maring: 0px; background: black;\"><span style=\"padding: 2px; border: 2px solid False;\"><span title=\"0.003\" style=\"border-top: 0px solid rgba(254.27675476530567, 255.0, 254.27675476530567, 255.0); border-bottom: 0px solid rgba(0, 0, 0, 0); margin-left 1px; margin-right: 1px; background: black; color=white;\"><span style=\"color: white;\">negative</span></span></span>&nbsp;<span style=\"padding: 2px; border: 2px solid False;\"><span title=\"0.263\" style=\"border-top: 2px solid rgba(188.0380779504776, 255.0, 188.0380779504776, 255.0); border-bottom: 0px solid rgba(0, 0, 0, 0); margin-left 1px; margin-right: 1px; background: black; color=white;\"><span style=\"color: white;\">neutral</span></span></span>&nbsp;<span style=\"padding: 2px; border: 2px solid white;\"><span style=\"padding: 2px; border: 2px solid False;\"><span title=\"0.735\" style=\"border-top: 7px solid rgba(67.68517524003983, 255.0, 67.68517524003983, 255.0); border-bottom: 0px solid rgba(0, 0, 0, 0); margin-left 1px; margin-right: 1px; background: black; color=white;\"><span style=\"color: white;\">positive</span></span></span></span><span style=\"border-top: 0px solid gray; border-bottom: 2px solid gray; margin-left 1px; margin-right: 1px; background: black; color: white;\" title=\"token id: 133\"><span style=\"color: white;\">The</span></span>&nbsp;<span style=\"border-top: 0px solid gray; border-bottom: 2px solid gray; margin-left 1px; margin-right: 1px; background: black; color: white;\" title=\"token id: 849\"><span style=\"color: white;\">#</span></span><span style=\"border-top: 0px solid gray; border-bottom: 2px solid gray; margin-left 1px; margin-right: 1px; background: black; color: white;\" title=\"token id: 10463\"><span style=\"color: white;\">LS</span></span><span style=\"border-top: 0px solid gray; border-bottom: 2px solid gray; margin-left 1px; margin-right: 1px; background: black; color: white;\" title=\"token id: 725\"><span style=\"color: white;\">H</span></span><span style=\"border-top: 0px solid gray; border-bottom: 2px solid gray; margin-left 1px; margin-right: 1px; background: black; color: white;\" title=\"token id: 8727\"><span style=\"color: white;\">RO</span></span><span style=\"border-top: 0px solid gray; border-bottom: 2px solid gray; margin-left 1px; margin-right: 1px; background: black; color: white;\" title=\"token id: 9847\"><span style=\"color: white;\">VER</span></span>&nbsp;<span style=\"border-top: 0px solid gray; border-bottom: 2px solid gray; margin-left 1px; margin-right: 1px; background: black; color: white;\" title=\"token id: 2711\"><span style=\"color: white;\">Team</span></span>&nbsp;<span style=\"border-top: 0px solid gray; border-bottom: 2px solid gray; margin-left 1px; margin-right: 1px; background: black; color: white;\" title=\"token id: 1311\"><span style=\"color: white;\">giving</span></span>&nbsp;<span style=\"border-top: 0px solid gray; border-bottom: 2px solid gray; margin-left 1px; margin-right: 1px; background: black; color: white;\" title=\"token id: 24\"><span style=\"color: white;\">it</span></span><span style=\"border-top: 0px solid gray; border-bottom: 2px solid gray; margin-left 1px; margin-right: 1px; background: black; color: white;\" title=\"token id: 18\"><span style=\"color: white;\">&#x27;s</span></span>&nbsp;<span style=\"border-top: 0px solid gray; border-bottom: 2px solid gray; margin-left 1px; margin-right: 1px; background: black; color: white;\" title=\"token id: 781\"><span style=\"color: white;\">official</span></span>&nbsp;<span style=\"border-top: 0px solid gray; border-bottom: 2px solid gray; margin-left 1px; margin-right: 1px; background: black; color: white;\" title=\"token id: 5209\"><span style=\"color: white;\">presentation</span></span>&nbsp;<span style=\"border-top: 0px solid gray; border-bottom: 2px solid gray; margin-left 1px; margin-right: 1px; background: black; color: white;\" title=\"token id: 7\"><span style=\"color: white;\">to</span></span>&nbsp;<span style=\"border-top: 0px solid gray; border-bottom: 2px solid gray; margin-left 1px; margin-right: 1px; background: black; color: white;\" title=\"token id: 5\"><span style=\"color: white;\">the</span></span>&nbsp;<span style=\"border-top: 0px solid gray; border-bottom: 2px solid gray; margin-left 1px; margin-right: 1px; background: black; color: white;\" title=\"token id: 6109\"><span style=\"color: white;\">NASA</span></span>&nbsp;<span style=\"border-top: 0px solid gray; border-bottom: 2px solid gray; margin-left 1px; margin-right: 1px; background: black; color: white;\" title=\"token id: 19168\"><span style=\"color: white;\">Engineers</span></span><span style=\"border-top: 0px solid gray; border-bottom: 2px solid gray; margin-left 1px; margin-right: 1px; background: black; color: white;\" title=\"token id: 4\"><span style=\"color: white;\">.</span></span>&nbsp;<span style=\"border-top: 0px solid gray; border-bottom: 2px solid gray; margin-left 1px; margin-right: 1px; background: black; color: white;\" title=\"token id: 787\"><span style=\"color: white;\">@</span></span><strong><span style=\"border-top: 0px solid gray; border-bottom: 2px solid gray; margin-left 1px; margin-right: 1px; background: black; color: white;\" title=\"token id: 19183\"><span style=\"color: white;\">Best</span></span></strong><strong><span style=\"border-top: 0px solid gray; border-bottom: 2px solid gray; margin-left 1px; margin-right: 1px; background: black; color: white;\" title=\"token id: 846\"><span style=\"color: white;\">V</span></span></strong><strong><span style=\"border-top: 0px solid gray; border-bottom: 2px solid gray; margin-left 1px; margin-right: 1px; background: black; color: white;\" title=\"token id: 3141\"><span style=\"color: white;\">ines</span></span></strong><strong><span style=\"border-top: 0px solid gray; border-bottom: 2px solid gray; margin-left 1px; margin-right: 1px; background: black; color: white;\" title=\"token id: 27172\"><span style=\"color: white;\">Ever</span></span></strong>&nbsp;<strong><span style=\"border-top: 0px solid gray; border-bottom: 2px solid gray; margin-left 1px; margin-right: 1px; background: black; color: white;\" title=\"token id: 1437\"><span style=\"color: white;\">�</span></span></strong><br/><br/></div></div><div style=\"padding: 5px; maring: 0px; background: black;\"><div style=\"padding: 5px; maring: 0px; background: black;\"><span style=\"padding: 2px; border: 2px solid white;\"><span style=\"padding: 2px; border: 2px solid False;\"><span title=\"0.865\" style=\"border-top: 8px solid rgba(34.518578946590424, 255.0, 34.518578946590424, 255.0); border-bottom: 0px solid rgba(0, 0, 0, 0); margin-left 1px; margin-right: 1px; background: black; color=white;\"><span style=\"color: white;\">negative</span></span></span></span>&nbsp;<span style=\"padding: 2px; border: 2px solid False;\"><span title=\"0.107\" style=\"border-top: 1px solid rgba(227.70982448011637, 255.0, 227.70982448011637, 255.0); border-bottom: 0px solid rgba(0, 0, 0, 0); margin-left 1px; margin-right: 1px; background: black; color=white;\"><span style=\"color: white;\">neutral</span></span></span>&nbsp;<span style=\"padding: 2px; border: 2px solid False;\"><span title=\"0.028\" style=\"border-top: 0px solid rgba(247.77159419842064, 255.0, 247.77159419842064, 255.0); border-bottom: 0px solid rgba(0, 0, 0, 0); margin-left 1px; margin-right: 1px; background: black; color=white;\"><span style=\"color: white;\">positive</span></span></span><span style=\"border-top: 0px solid gray; border-bottom: 2px solid gray; margin-left 1px; margin-right: 1px; background: black; color: white;\" title=\"token id: 1039\"><span style=\"color: white;\">@</span></span><strong><span style=\"border-top: 0px solid gray; border-bottom: 2px solid gray; margin-left 1px; margin-right: 1px; background: black; color: white;\" title=\"token id: 495\"><span style=\"color: white;\">D</span></span></strong><strong><span style=\"border-top: 0px solid gray; border-bottom: 2px solid gray; margin-left 1px; margin-right: 1px; background: black; color: white;\" title=\"token id: 4179\"><span style=\"color: white;\">umb</span></span></strong><strong><span style=\"border-top: 0px solid gray; border-bottom: 2px solid gray; margin-left 1px; margin-right: 1px; background: black; color: white;\" title=\"token id: 4763\"><span style=\"color: white;\">People</span></span></strong><strong><span style=\"border-top: 0px solid gray; border-bottom: 2px solid gray; margin-left 1px; margin-right: 1px; background: black; color: white;\" title=\"token id: 1620\"><span style=\"color: white;\">As</span></span></strong><strong><span style=\"border-top: 0px solid gray; border-bottom: 2px solid gray; margin-left 1px; margin-right: 1px; background: black; color: white;\" title=\"token id: 506\"><span style=\"color: white;\">f</span></span></strong>&nbsp;<strong><span style=\"border-top: 0px solid gray; border-bottom: 2px solid gray; margin-left 1px; margin-right: 1px; background: black; color: white;\" title=\"token id: 32\"><span style=\"color: white;\">are</span></span></strong>&nbsp;<strong><span style=\"border-top: 0px solid gray; border-bottom: 2px solid gray; margin-left 1px; margin-right: 1px; background: black; color: white;\" title=\"token id: 47\"><span style=\"color: white;\">you</span></span></strong>&nbsp;<strong><span style=\"border-top: 0px solid gray; border-bottom: 2px solid gray; margin-left 1px; margin-right: 1px; background: black; color: white;\" title=\"token id: 655\"><span style=\"color: white;\">ever</span></span></strong>&nbsp;<strong><span style=\"border-top: 0px solid gray; border-bottom: 2px solid gray; margin-left 1px; margin-right: 1px; background: black; color: white;\" title=\"token id: 6908\"><span style=\"color: white;\">gonna</span></span></strong>&nbsp;<strong><span style=\"border-top: 0px solid gray; border-bottom: 2px solid gray; margin-left 1px; margin-right: 1px; background: black; color: white;\" title=\"token id: 582\"><span style=\"color: white;\">pay</span></span></strong>&nbsp;<strong><span style=\"border-top: 0px solid gray; border-bottom: 2px solid gray; margin-left 1px; margin-right: 1px; background: black; color: white;\" title=\"token id: 5\"><span style=\"color: white;\">the</span></span></strong>&nbsp;<strong><span style=\"border-top: 0px solid gray; border-bottom: 2px solid gray; margin-left 1px; margin-right: 1px; background: black; color: white;\" title=\"token id: 68\"><span style=\"color: white;\">$</span></span></strong><strong><span style=\"border-top: 0px solid gray; border-bottom: 2px solid gray; margin-left 1px; margin-right: 1px; background: black; color: white;\" title=\"token id: 1749\"><span style=\"color: white;\">40</span></span></strong>&nbsp;<strong><span style=\"border-top: 0px solid gray; border-bottom: 2px solid gray; margin-left 1px; margin-right: 1px; background: black; color: white;\" title=\"token id: 47\"><span style=\"color: white;\">you</span></span></strong>&nbsp;<strong><span style=\"border-top: 0px solid gray; border-bottom: 2px solid gray; margin-left 1px; margin-right: 1px; background: black; color: white;\" title=\"token id: 14866\"><span style=\"color: white;\">owe</span></span></strong>&nbsp;<strong><span style=\"border-top: 0px solid gray; border-bottom: 2px solid gray; margin-left 1px; margin-right: 1px; background: black; color: white;\" title=\"token id: 13\"><span style=\"color: white;\">for</span></span></strong>&nbsp;<strong><span style=\"border-top: 0px solid gray; border-bottom: 2px solid gray; margin-left 1px; margin-right: 1px; background: black; color: white;\" title=\"token id: 5\"><span style=\"color: white;\">the</span></span></strong>&nbsp;<strong><span style=\"border-top: 0px solid gray; border-bottom: 2px solid gray; margin-left 1px; margin-right: 1px; background: black; color: white;\" title=\"token id: 3068\"><span style=\"color: white;\">ride</span></span></strong>&nbsp;<strong><span style=\"border-top: 0px solid gray; border-bottom: 2px solid gray; margin-left 1px; margin-right: 1px; background: black; color: white;\" title=\"token id: 47\"><span style=\"color: white;\">you</span></span></strong><strong><span style=\"border-top: 0px solid gray; border-bottom: 2px solid gray; margin-left 1px; margin-right: 1px; background: black; color: white;\" title=\"token id: 348\"><span style=\"color: white;\">&#x27;ve</span></span></strong>&nbsp;<strong><span style=\"border-top: 0px solid gray; border-bottom: 2px solid gray; margin-left 1px; margin-right: 1px; background: black; color: white;\" title=\"token id: 57\"><span style=\"color: white;\">been</span></span></strong>&nbsp;<strong><span style=\"border-top: 0px solid gray; border-bottom: 2px solid gray; margin-left 1px; margin-right: 1px; background: black; color: white;\" title=\"token id: 1311\"><span style=\"color: white;\">giving</span></span></strong>&nbsp;<strong><span style=\"border-top: 0px solid gray; border-bottom: 2px solid gray; margin-left 1px; margin-right: 1px; background: black; color: white;\" title=\"token id: 15\"><span style=\"color: white;\">on</span></span></strong>&nbsp;<strong><span style=\"border-top: 0px solid gray; border-bottom: 2px solid gray; margin-left 1px; margin-right: 1px; background: black; color: white;\" title=\"token id: 494\"><span style=\"color: white;\">March</span></span></strong>&nbsp;<strong><span style=\"border-top: 0px solid gray; border-bottom: 2px solid gray; margin-left 1px; margin-right: 1px; background: black; color: white;\" title=\"token id: 753\"><span style=\"color: white;\">19</span></span></strong><strong><span style=\"border-top: 0px solid gray; border-bottom: 2px solid gray; margin-left 1px; margin-right: 1px; background: black; color: white;\" title=\"token id: 212\"><span style=\"color: white;\">th</span></span></strong><strong><span style=\"border-top: 0px solid gray; border-bottom: 2px solid gray; margin-left 1px; margin-right: 1px; background: black; color: white;\" title=\"token id: 116\"><span style=\"color: white;\">?</span></span></strong>&nbsp;<strong><span style=\"border-top: 0px solid gray; border-bottom: 2px solid gray; margin-left 1px; margin-right: 1px; background: black; color: white;\" title=\"token id: 47\"><span style=\"color: white;\">you</span></span></strong>&nbsp;<strong><span style=\"border-top: 0px solid gray; border-bottom: 2px solid gray; margin-left 1px; margin-right: 1px; background: black; color: white;\" title=\"token id: 190\"><span style=\"color: white;\">even</span></span></strong>&nbsp;<strong><span style=\"border-top: 0px solid gray; border-bottom: 2px solid gray; margin-left 1px; margin-right: 1px; background: black; color: white;\" title=\"token id: 14774\"><span style=\"color: white;\">shook</span></span></strong>&nbsp;<strong><span style=\"border-top: 0px solid gray; border-bottom: 2px solid gray; margin-left 1px; margin-right: 1px; background: black; color: white;\" title=\"token id: 127\"><span style=\"color: white;\">my</span></span></strong>&nbsp;<strong><span style=\"border-top: 0px solid gray; border-bottom: 2px solid gray; margin-left 1px; margin-right: 1px; background: black; color: white;\" title=\"token id: 865\"><span style=\"color: white;\">hand</span></span></strong><strong><span style=\"border-top: 0px solid gray; border-bottom: 2px solid gray; margin-left 1px; margin-right: 1px; background: black; color: white;\" title=\"token id: 6\"><span style=\"color: white;\">,</span></span></strong>&nbsp;<strong><span style=\"border-top: 0px solid gray; border-bottom: 2px solid gray; margin-left 1px; margin-right: 1px; background: black; color: white;\" title=\"token id: 95\"><span style=\"color: white;\">just</span></span></strong>&nbsp;<strong><span style=\"border-top: 0px solid gray; border-bottom: 2px solid gray; margin-left 1px; margin-right: 1px; background: black; color: white;\" title=\"token id: 26388\"><span style=\"color: white;\">wow</span></span></strong><strong><span style=\"border-top: 0px solid gray; border-bottom: 2px solid gray; margin-left 1px; margin-right: 1px; background: black; color: white;\" title=\"token id: 16506\"><span style=\"color: white;\">!!!</span></span></strong><br/><br/></div><div style=\"padding: 5px; maring: 0px; background: black;\"><span style=\"padding: 2px; border: 2px solid False;\"><span title=\"0.029\" style=\"border-top: 0px solid rgba(247.72923074662685, 255.0, 247.72923074662685, 255.0); border-bottom: 0px solid rgba(0, 0, 0, 0); margin-left 1px; margin-right: 1px; background: black; color=white;\"><span style=\"color: white;\">negative</span></span></span>&nbsp;<span style=\"padding: 2px; border: 2px solid False;\"><span title=\"0.116\" style=\"border-top: 1px solid rgba(225.47750886529684, 255.0, 225.47750886529684, 255.0); border-bottom: 0px solid rgba(0, 0, 0, 0); margin-left 1px; margin-right: 1px; background: black; color=white;\"><span style=\"color: white;\">neutral</span></span></span>&nbsp;<span style=\"padding: 2px; border: 2px solid white;\"><span style=\"padding: 2px; border: 2px solid False;\"><span title=\"0.856\" style=\"border-top: 8px solid rgba(36.79325848817825, 255.0, 36.79325848817825, 255.0); border-bottom: 0px solid rgba(0, 0, 0, 0); margin-left 1px; margin-right: 1px; background: black; color=white;\"><span style=\"color: white;\">positive</span></span></span></span><span style=\"border-top: 0px solid gray; border-bottom: 2px solid gray; margin-left 1px; margin-right: 1px; background: black; color: white;\" title=\"token id: 1039\"><span style=\"color: white;\">@</span></span><strong><span style=\"border-top: 0px solid gray; border-bottom: 2px solid gray; margin-left 1px; margin-right: 1px; background: black; color: white;\" title=\"token id: 19183\"><span style=\"color: white;\">Best</span></span></strong><strong><span style=\"border-top: 0px solid gray; border-bottom: 2px solid gray; margin-left 1px; margin-right: 1px; background: black; color: white;\" title=\"token id: 846\"><span style=\"color: white;\">V</span></span></strong><strong><span style=\"border-top: 0px solid gray; border-bottom: 2px solid gray; margin-left 1px; margin-right: 1px; background: black; color: white;\" title=\"token id: 3141\"><span style=\"color: white;\">ines</span></span></strong><strong><span style=\"border-top: 0px solid gray; border-bottom: 2px solid gray; margin-left 1px; margin-right: 1px; background: black; color: white;\" title=\"token id: 27172\"><span style=\"color: white;\">Ever</span></span></strong>&nbsp;<strong><span style=\"border-top: 0px solid gray; border-bottom: 2px solid gray; margin-left 1px; margin-right: 1px; background: black; color: white;\" title=\"token id: 32\"><span style=\"color: white;\">are</span></span></strong>&nbsp;<strong><span style=\"border-top: 0px solid gray; border-bottom: 2px solid gray; margin-left 1px; margin-right: 1px; background: black; color: white;\" title=\"token id: 47\"><span style=\"color: white;\">you</span></span></strong>&nbsp;<strong><span style=\"border-top: 0px solid gray; border-bottom: 2px solid gray; margin-left 1px; margin-right: 1px; background: black; color: white;\" title=\"token id: 655\"><span style=\"color: white;\">ever</span></span></strong>&nbsp;<strong><span style=\"border-top: 0px solid gray; border-bottom: 2px solid gray; margin-left 1px; margin-right: 1px; background: black; color: white;\" title=\"token id: 6908\"><span style=\"color: white;\">gonna</span></span></strong>&nbsp;<strong><span style=\"border-top: 0px solid gray; border-bottom: 2px solid gray; margin-left 1px; margin-right: 1px; background: black; color: white;\" title=\"token id: 582\"><span style=\"color: white;\">pay</span></span></strong>&nbsp;<strong><span style=\"border-top: 0px solid gray; border-bottom: 2px solid gray; margin-left 1px; margin-right: 1px; background: black; color: white;\" title=\"token id: 5\"><span style=\"color: white;\">the</span></span></strong>&nbsp;<strong><span style=\"border-top: 0px solid gray; border-bottom: 2px solid gray; margin-left 1px; margin-right: 1px; background: black; color: white;\" title=\"token id: 68\"><span style=\"color: white;\">$</span></span></strong><strong><span style=\"border-top: 0px solid gray; border-bottom: 2px solid gray; margin-left 1px; margin-right: 1px; background: black; color: white;\" title=\"token id: 1749\"><span style=\"color: white;\">40</span></span></strong>&nbsp;<strong><span style=\"border-top: 0px solid gray; border-bottom: 2px solid gray; margin-left 1px; margin-right: 1px; background: black; color: white;\" title=\"token id: 47\"><span style=\"color: white;\">you</span></span></strong>&nbsp;<strong><span style=\"border-top: 0px solid gray; border-bottom: 2px solid gray; margin-left 1px; margin-right: 1px; background: black; color: white;\" title=\"token id: 14866\"><span style=\"color: white;\">owe</span></span></strong>&nbsp;<strong><span style=\"border-top: 0px solid gray; border-bottom: 2px solid gray; margin-left 1px; margin-right: 1px; background: black; color: white;\" title=\"token id: 13\"><span style=\"color: white;\">for</span></span></strong>&nbsp;<strong><span style=\"border-top: 0px solid gray; border-bottom: 2px solid gray; margin-left 1px; margin-right: 1px; background: black; color: white;\" title=\"token id: 5\"><span style=\"color: white;\">the</span></span></strong>&nbsp;<strong><span style=\"border-top: 0px solid gray; border-bottom: 2px solid gray; margin-left 1px; margin-right: 1px; background: black; color: white;\" title=\"token id: 3068\"><span style=\"color: white;\">ride</span></span></strong>&nbsp;<strong><span style=\"border-top: 0px solid gray; border-bottom: 2px solid gray; margin-left 1px; margin-right: 1px; background: black; color: white;\" title=\"token id: 47\"><span style=\"color: white;\">you</span></span></strong><strong><span style=\"border-top: 0px solid gray; border-bottom: 2px solid gray; margin-left 1px; margin-right: 1px; background: black; color: white;\" title=\"token id: 348\"><span style=\"color: white;\">&#x27;ve</span></span></strong>&nbsp;<strong><span style=\"border-top: 0px solid gray; border-bottom: 2px solid gray; margin-left 1px; margin-right: 1px; background: black; color: white;\" title=\"token id: 57\"><span style=\"color: white;\">been</span></span></strong>&nbsp;<strong><span style=\"border-top: 0px solid gray; border-bottom: 2px solid gray; margin-left 1px; margin-right: 1px; background: black; color: white;\" title=\"token id: 1311\"><span style=\"color: white;\">giving</span></span></strong>&nbsp;<strong><span style=\"border-top: 0px solid gray; border-bottom: 2px solid gray; margin-left 1px; margin-right: 1px; background: black; color: white;\" title=\"token id: 15\"><span style=\"color: white;\">on</span></span></strong>&nbsp;<strong><span style=\"border-top: 0px solid gray; border-bottom: 2px solid gray; margin-left 1px; margin-right: 1px; background: black; color: white;\" title=\"token id: 494\"><span style=\"color: white;\">March</span></span></strong>&nbsp;<strong><span style=\"border-top: 0px solid gray; border-bottom: 2px solid gray; margin-left 1px; margin-right: 1px; background: black; color: white;\" title=\"token id: 753\"><span style=\"color: white;\">19</span></span></strong><strong><span style=\"border-top: 0px solid gray; border-bottom: 2px solid gray; margin-left 1px; margin-right: 1px; background: black; color: white;\" title=\"token id: 212\"><span style=\"color: white;\">th</span></span></strong><strong><span style=\"border-top: 0px solid gray; border-bottom: 2px solid gray; margin-left 1px; margin-right: 1px; background: black; color: white;\" title=\"token id: 116\"><span style=\"color: white;\">?</span></span></strong>&nbsp;<strong><span style=\"border-top: 0px solid gray; border-bottom: 2px solid gray; margin-left 1px; margin-right: 1px; background: black; color: white;\" title=\"token id: 47\"><span style=\"color: white;\">you</span></span></strong>&nbsp;<strong><span style=\"border-top: 0px solid gray; border-bottom: 2px solid gray; margin-left 1px; margin-right: 1px; background: black; color: white;\" title=\"token id: 190\"><span style=\"color: white;\">even</span></span></strong>&nbsp;<strong><span style=\"border-top: 0px solid gray; border-bottom: 2px solid gray; margin-left 1px; margin-right: 1px; background: black; color: white;\" title=\"token id: 14774\"><span style=\"color: white;\">shook</span></span></strong>&nbsp;<strong><span style=\"border-top: 0px solid gray; border-bottom: 2px solid gray; margin-left 1px; margin-right: 1px; background: black; color: white;\" title=\"token id: 127\"><span style=\"color: white;\">my</span></span></strong>&nbsp;<strong><span style=\"border-top: 0px solid gray; border-bottom: 2px solid gray; margin-left 1px; margin-right: 1px; background: black; color: white;\" title=\"token id: 865\"><span style=\"color: white;\">hand</span></span></strong><strong><span style=\"border-top: 0px solid gray; border-bottom: 2px solid gray; margin-left 1px; margin-right: 1px; background: black; color: white;\" title=\"token id: 6\"><span style=\"color: white;\">,</span></span></strong>&nbsp;<strong><span style=\"border-top: 0px solid gray; border-bottom: 2px solid gray; margin-left 1px; margin-right: 1px; background: black; color: white;\" title=\"token id: 95\"><span style=\"color: white;\">just</span></span></strong>&nbsp;<strong><span style=\"border-top: 0px solid gray; border-bottom: 2px solid gray; margin-left 1px; margin-right: 1px; background: black; color: white;\" title=\"token id: 26388\"><span style=\"color: white;\">wow</span></span></strong><strong><span style=\"border-top: 0px solid gray; border-bottom: 2px solid gray; margin-left 1px; margin-right: 1px; background: black; color: white;\" title=\"token id: 16506\"><span style=\"color: white;\">!!!</span></span></strong><br/><br/></div></div><div style=\"padding: 5px; maring: 0px; background: black;\"><div style=\"padding: 5px; maring: 0px; background: black;\"><span style=\"padding: 2px; border: 2px solid False;\"><span title=\"0.325\" style=\"border-top: 3px solid rgba(172.1600067615509, 255.0, 172.1600067615509, 255.0); border-bottom: 0px solid rgba(0, 0, 0, 0); margin-left 1px; margin-right: 1px; background: black; color=white;\"><span style=\"color: white;\">negative</span></span></span>&nbsp;<span style=\"padding: 2px; border: 2px solid white;\"><span style=\"padding: 2px; border: 2px solid False;\"><span title=\"0.638\" style=\"border-top: 6px solid rgba(92.38386511802673, 255.0, 92.38386511802673, 255.0); border-bottom: 0px solid rgba(0, 0, 0, 0); margin-left 1px; margin-right: 1px; background: black; color=white;\"><span style=\"color: white;\">neutral</span></span></span></span>&nbsp;<span style=\"padding: 2px; border: 2px solid False;\"><span title=\"0.037\" style=\"border-top: 0px solid rgba(245.45612337067723, 255.0, 245.45612337067723, 255.0); border-bottom: 0px solid rgba(0, 0, 0, 0); margin-left 1px; margin-right: 1px; background: black; color=white;\"><span style=\"color: white;\">positive</span></span></span><span style=\"border-top: 0px solid gray; border-bottom: 2px solid gray; margin-left 1px; margin-right: 1px; background: black; color: white;\" title=\"token id: 20999\"><span style=\"color: white;\">Mass</span></span><span style=\"border-top: 0px solid gray; border-bottom: 2px solid gray; margin-left 1px; margin-right: 1px; background: black; color: white;\" title=\"token id: 36061\"><span style=\"color: white;\">Cas</span></span><span style=\"border-top: 0px solid gray; border-bottom: 2px solid gray; margin-left 1px; margin-right: 1px; background: black; color: white;\" title=\"token id: 5564\"><span style=\"color: white;\">ual</span></span><span style=\"border-top: 0px solid gray; border-bottom: 2px solid gray; margin-left 1px; margin-right: 1px; background: black; color: white;\" title=\"token id: 2553\"><span style=\"color: white;\">ty</span></span>&nbsp;<span style=\"border-top: 0px solid gray; border-bottom: 2px solid gray; margin-left 1px; margin-right: 1px; background: black; color: white;\" title=\"token id: 1842\"><span style=\"color: white;\">page</span></span>&nbsp;<span style=\"border-top: 0px solid gray; border-bottom: 2px solid gray; margin-left 1px; margin-right: 1px; background: black; color: white;\" title=\"token id: 829\"><span style=\"color: white;\">received</span></span>&nbsp;<span style=\"border-top: 0px solid gray; border-bottom: 2px solid gray; margin-left 1px; margin-right: 1px; background: black; color: white;\" title=\"token id: 23\"><span style=\"color: white;\">at</span></span>&nbsp;<span style=\"border-top: 0px solid gray; border-bottom: 2px solid gray; margin-left 1px; margin-right: 1px; background: black; color: white;\" title=\"token id: 504\"><span style=\"color: white;\">18</span></span><span style=\"border-top: 0px solid gray; border-bottom: 2px solid gray; margin-left 1px; margin-right: 1px; background: black; color: white;\" title=\"token id: 35\"><span style=\"color: white;\">:</span></span><span style=\"border-top: 0px solid gray; border-bottom: 2px solid gray; margin-left 1px; margin-right: 1px; background: black; color: white;\" title=\"token id: 698\"><span style=\"color: white;\">10</span></span><span style=\"border-top: 0px solid gray; border-bottom: 2px solid gray; margin-left 1px; margin-right: 1px; background: black; color: white;\" title=\"token id: 35\"><span style=\"color: white;\">:</span></span><span style=\"border-top: 0px solid gray; border-bottom: 2px solid gray; margin-left 1px; margin-right: 1px; background: black; color: white;\" title=\"token id: 2022\"><span style=\"color: white;\">35</span></span>&nbsp;<span style=\"border-top: 0px solid gray; border-bottom: 2px solid gray; margin-left 1px; margin-right: 1px; background: black; color: white;\" title=\"token id: 15\"><span style=\"color: white;\">on</span></span>&nbsp;<span style=\"border-top: 0px solid gray; border-bottom: 2px solid gray; margin-left 1px; margin-right: 1px; background: black; color: white;\" title=\"token id: 15171\"><span style=\"color: white;\">03</span></span><span style=\"border-top: 0px solid gray; border-bottom: 2px solid gray; margin-left 1px; margin-right: 1px; background: black; color: white;\" title=\"token id: 73\"><span style=\"color: white;\">/</span></span><span style=\"border-top: 0px solid gray; border-bottom: 2px solid gray; margin-left 1px; margin-right: 1px; background: black; color: white;\" title=\"token id: 541\"><span style=\"color: white;\">30</span></span><span style=\"border-top: 0px solid gray; border-bottom: 2px solid gray; margin-left 1px; margin-right: 1px; background: black; color: white;\" title=\"token id: 73\"><span style=\"color: white;\">/</span></span><span style=\"border-top: 0px solid gray; border-bottom: 2px solid gray; margin-left 1px; margin-right: 1px; background: black; color: white;\" title=\"token id: 1360\"><span style=\"color: white;\">17</span></span>&nbsp;<span style=\"border-top: 0px solid gray; border-bottom: 2px solid gray; margin-left 1px; margin-right: 1px; background: black; color: white;\" title=\"token id: 1437\"><span style=\"color: white;\">�</span></span>&nbsp;<span style=\"border-top: 0px solid gray; border-bottom: 2px solid gray; margin-left 1px; margin-right: 1px; background: black; color: white;\" title=\"token id: 1241\"><span style=\"color: white;\">via</span></span>&nbsp;<span style=\"border-top: 0px solid gray; border-bottom: 2px solid gray; margin-left 1px; margin-right: 1px; background: black; color: white;\" title=\"token id: 787\"><span style=\"color: white;\">@</span></span><strong><span style=\"border-top: 0px solid gray; border-bottom: 2px solid gray; margin-left 1px; margin-right: 1px; background: black; color: white;\" title=\"token id: 495\"><span style=\"color: white;\">D</span></span></strong><strong><span style=\"border-top: 0px solid gray; border-bottom: 2px solid gray; margin-left 1px; margin-right: 1px; background: black; color: white;\" title=\"token id: 4179\"><span style=\"color: white;\">umb</span></span></strong><strong><span style=\"border-top: 0px solid gray; border-bottom: 2px solid gray; margin-left 1px; margin-right: 1px; background: black; color: white;\" title=\"token id: 4763\"><span style=\"color: white;\">People</span></span></strong><strong><span style=\"border-top: 0px solid gray; border-bottom: 2px solid gray; margin-left 1px; margin-right: 1px; background: black; color: white;\" title=\"token id: 1620\"><span style=\"color: white;\">As</span></span></strong><strong><span style=\"border-top: 0px solid gray; border-bottom: 2px solid gray; margin-left 1px; margin-right: 1px; background: black; color: white;\" title=\"token id: 506\"><span style=\"color: white;\">f</span></span></strong>&nbsp;<strong><span style=\"border-top: 0px solid gray; border-bottom: 2px solid gray; margin-left 1px; margin-right: 1px; background: black; color: white;\" title=\"token id: 849\"><span style=\"color: white;\">#</span></span></strong><strong><span style=\"border-top: 0px solid gray; border-bottom: 2px solid gray; margin-left 1px; margin-right: 1px; background: black; color: white;\" title=\"token id: 27289\"><span style=\"color: white;\">mass</span></span></strong><strong><span style=\"border-top: 0px solid gray; border-bottom: 2px solid gray; margin-left 1px; margin-right: 1px; background: black; color: white;\" title=\"token id: 20363\"><span style=\"color: white;\">cas</span></span></strong><strong><span style=\"border-top: 0px solid gray; border-bottom: 2px solid gray; margin-left 1px; margin-right: 1px; background: black; color: white;\" title=\"token id: 5564\"><span style=\"color: white;\">ual</span></span></strong><br/><br/></div><div style=\"padding: 5px; maring: 0px; background: black;\"><span style=\"padding: 2px; border: 2px solid False;\"><span title=\"0.006\" style=\"border-top: 0px solid rgba(253.59668696997687, 255.0, 253.59668696997687, 255.0); border-bottom: 0px solid rgba(0, 0, 0, 0); margin-left 1px; margin-right: 1px; background: black; color=white;\"><span style=\"color: white;\">negative</span></span></span>&nbsp;<span style=\"padding: 2px; border: 2px solid white;\"><span style=\"padding: 2px; border: 2px solid False;\"><span title=\"0.762\" style=\"border-top: 7px solid rgba(60.75107932090759, 255.0, 60.75107932090759, 255.0); border-bottom: 0px solid rgba(0, 0, 0, 0); margin-left 1px; margin-right: 1px; background: black; color=white;\"><span style=\"color: white;\">neutral</span></span></span></span>&nbsp;<span style=\"padding: 2px; border: 2px solid False;\"><span title=\"0.233\" style=\"border-top: 2px solid rgba(195.65222717821598, 255.0, 195.65222717821598, 255.0); border-bottom: 0px solid rgba(0, 0, 0, 0); margin-left 1px; margin-right: 1px; background: black; color=white;\"><span style=\"color: white;\">positive</span></span></span><span style=\"border-top: 0px solid gray; border-bottom: 2px solid gray; margin-left 1px; margin-right: 1px; background: black; color: white;\" title=\"token id: 20999\"><span style=\"color: white;\">Mass</span></span><span style=\"border-top: 0px solid gray; border-bottom: 2px solid gray; margin-left 1px; margin-right: 1px; background: black; color: white;\" title=\"token id: 36061\"><span style=\"color: white;\">Cas</span></span><span style=\"border-top: 0px solid gray; border-bottom: 2px solid gray; margin-left 1px; margin-right: 1px; background: black; color: white;\" title=\"token id: 5564\"><span style=\"color: white;\">ual</span></span><span style=\"border-top: 0px solid gray; border-bottom: 2px solid gray; margin-left 1px; margin-right: 1px; background: black; color: white;\" title=\"token id: 2553\"><span style=\"color: white;\">ty</span></span>&nbsp;<span style=\"border-top: 0px solid gray; border-bottom: 2px solid gray; margin-left 1px; margin-right: 1px; background: black; color: white;\" title=\"token id: 1842\"><span style=\"color: white;\">page</span></span>&nbsp;<span style=\"border-top: 0px solid gray; border-bottom: 2px solid gray; margin-left 1px; margin-right: 1px; background: black; color: white;\" title=\"token id: 829\"><span style=\"color: white;\">received</span></span>&nbsp;<span style=\"border-top: 0px solid gray; border-bottom: 2px solid gray; margin-left 1px; margin-right: 1px; background: black; color: white;\" title=\"token id: 23\"><span style=\"color: white;\">at</span></span>&nbsp;<span style=\"border-top: 0px solid gray; border-bottom: 2px solid gray; margin-left 1px; margin-right: 1px; background: black; color: white;\" title=\"token id: 504\"><span style=\"color: white;\">18</span></span><span style=\"border-top: 0px solid gray; border-bottom: 2px solid gray; margin-left 1px; margin-right: 1px; background: black; color: white;\" title=\"token id: 35\"><span style=\"color: white;\">:</span></span><span style=\"border-top: 0px solid gray; border-bottom: 2px solid gray; margin-left 1px; margin-right: 1px; background: black; color: white;\" title=\"token id: 698\"><span style=\"color: white;\">10</span></span><span style=\"border-top: 0px solid gray; border-bottom: 2px solid gray; margin-left 1px; margin-right: 1px; background: black; color: white;\" title=\"token id: 35\"><span style=\"color: white;\">:</span></span><span style=\"border-top: 0px solid gray; border-bottom: 2px solid gray; margin-left 1px; margin-right: 1px; background: black; color: white;\" title=\"token id: 2022\"><span style=\"color: white;\">35</span></span>&nbsp;<span style=\"border-top: 0px solid gray; border-bottom: 2px solid gray; margin-left 1px; margin-right: 1px; background: black; color: white;\" title=\"token id: 15\"><span style=\"color: white;\">on</span></span>&nbsp;<span style=\"border-top: 0px solid gray; border-bottom: 2px solid gray; margin-left 1px; margin-right: 1px; background: black; color: white;\" title=\"token id: 15171\"><span style=\"color: white;\">03</span></span><span style=\"border-top: 0px solid gray; border-bottom: 2px solid gray; margin-left 1px; margin-right: 1px; background: black; color: white;\" title=\"token id: 73\"><span style=\"color: white;\">/</span></span><span style=\"border-top: 0px solid gray; border-bottom: 2px solid gray; margin-left 1px; margin-right: 1px; background: black; color: white;\" title=\"token id: 541\"><span style=\"color: white;\">30</span></span><span style=\"border-top: 0px solid gray; border-bottom: 2px solid gray; margin-left 1px; margin-right: 1px; background: black; color: white;\" title=\"token id: 73\"><span style=\"color: white;\">/</span></span><span style=\"border-top: 0px solid gray; border-bottom: 2px solid gray; margin-left 1px; margin-right: 1px; background: black; color: white;\" title=\"token id: 1360\"><span style=\"color: white;\">17</span></span>&nbsp;<span style=\"border-top: 0px solid gray; border-bottom: 2px solid gray; margin-left 1px; margin-right: 1px; background: black; color: white;\" title=\"token id: 1437\"><span style=\"color: white;\">�</span></span>&nbsp;<span style=\"border-top: 0px solid gray; border-bottom: 2px solid gray; margin-left 1px; margin-right: 1px; background: black; color: white;\" title=\"token id: 1241\"><span style=\"color: white;\">via</span></span>&nbsp;<span style=\"border-top: 0px solid gray; border-bottom: 2px solid gray; margin-left 1px; margin-right: 1px; background: black; color: white;\" title=\"token id: 787\"><span style=\"color: white;\">@</span></span><strong><span style=\"border-top: 0px solid gray; border-bottom: 2px solid gray; margin-left 1px; margin-right: 1px; background: black; color: white;\" title=\"token id: 19183\"><span style=\"color: white;\">Best</span></span></strong><strong><span style=\"border-top: 0px solid gray; border-bottom: 2px solid gray; margin-left 1px; margin-right: 1px; background: black; color: white;\" title=\"token id: 846\"><span style=\"color: white;\">V</span></span></strong><strong><span style=\"border-top: 0px solid gray; border-bottom: 2px solid gray; margin-left 1px; margin-right: 1px; background: black; color: white;\" title=\"token id: 3141\"><span style=\"color: white;\">ines</span></span></strong><strong><span style=\"border-top: 0px solid gray; border-bottom: 2px solid gray; margin-left 1px; margin-right: 1px; background: black; color: white;\" title=\"token id: 27172\"><span style=\"color: white;\">Ever</span></span></strong>&nbsp;<strong><span style=\"border-top: 0px solid gray; border-bottom: 2px solid gray; margin-left 1px; margin-right: 1px; background: black; color: white;\" title=\"token id: 849\"><span style=\"color: white;\">#</span></span></strong><strong><span style=\"border-top: 0px solid gray; border-bottom: 2px solid gray; margin-left 1px; margin-right: 1px; background: black; color: white;\" title=\"token id: 27289\"><span style=\"color: white;\">mass</span></span></strong><strong><span style=\"border-top: 0px solid gray; border-bottom: 2px solid gray; margin-left 1px; margin-right: 1px; background: black; color: white;\" title=\"token id: 20363\"><span style=\"color: white;\">cas</span></span></strong><strong><span style=\"border-top: 0px solid gray; border-bottom: 2px solid gray; margin-left 1px; margin-right: 1px; background: black; color: white;\" title=\"token id: 5564\"><span style=\"color: white;\">ual</span></span></strong><br/><br/></div></div><div style=\"padding: 5px; maring: 0px; background: black;\"><div style=\"padding: 5px; maring: 0px; background: black;\"><span style=\"padding: 2px; border: 2px solid white;\"><span style=\"padding: 2px; border: 2px solid False;\"><span title=\"0.933\" style=\"border-top: 9px solid rgba(17.11923658847809, 255.0, 17.11923658847809, 255.0); border-bottom: 0px solid rgba(0, 0, 0, 0); margin-left 1px; margin-right: 1px; background: black; color=white;\"><span style=\"color: white;\">negative</span></span></span></span>&nbsp;<span style=\"padding: 2px; border: 2px solid False;\"><span title=\"0.053\" style=\"border-top: 0px solid rgba(241.39047548174858, 255.0, 241.39047548174858, 255.0); border-bottom: 0px solid rgba(0, 0, 0, 0); margin-left 1px; margin-right: 1px; background: black; color=white;\"><span style=\"color: white;\">neutral</span></span></span>&nbsp;<span style=\"padding: 2px; border: 2px solid False;\"><span title=\"0.014\" style=\"border-top: 0px solid rgba(251.490275580436, 255.0, 251.490275580436, 255.0); border-bottom: 0px solid rgba(0, 0, 0, 0); margin-left 1px; margin-right: 1px; background: black; color=white;\"><span style=\"color: white;\">positive</span></span></span><span style=\"border-top: 0px solid gray; border-bottom: 2px solid gray; margin-left 1px; margin-right: 1px; background: black; color: white;\" title=\"token id: 1039\"><span style=\"color: white;\">@</span></span><strong><span style=\"border-top: 0px solid gray; border-bottom: 2px solid gray; margin-left 1px; margin-right: 1px; background: black; color: white;\" title=\"token id: 495\"><span style=\"color: white;\">D</span></span></strong><strong><span style=\"border-top: 0px solid gray; border-bottom: 2px solid gray; margin-left 1px; margin-right: 1px; background: black; color: white;\" title=\"token id: 4179\"><span style=\"color: white;\">umb</span></span></strong><strong><span style=\"border-top: 0px solid gray; border-bottom: 2px solid gray; margin-left 1px; margin-right: 1px; background: black; color: white;\" title=\"token id: 4763\"><span style=\"color: white;\">People</span></span></strong><strong><span style=\"border-top: 0px solid gray; border-bottom: 2px solid gray; margin-left 1px; margin-right: 1px; background: black; color: white;\" title=\"token id: 1620\"><span style=\"color: white;\">As</span></span></strong><strong><span style=\"border-top: 0px solid gray; border-bottom: 2px solid gray; margin-left 1px; margin-right: 1px; background: black; color: white;\" title=\"token id: 506\"><span style=\"color: white;\">f</span></span></strong>&nbsp;<strong><span style=\"border-top: 0px solid gray; border-bottom: 2px solid gray; margin-left 1px; margin-right: 1px; background: black; color: white;\" title=\"token id: 18895\"><span style=\"color: white;\">OH</span></span></strong>&nbsp;<strong><span style=\"border-top: 0px solid gray; border-bottom: 2px solid gray; margin-left 1px; margin-right: 1px; background: black; color: white;\" title=\"token id: 20060\"><span style=\"color: white;\">MY</span></span></strong>&nbsp;<strong><span style=\"border-top: 0px solid gray; border-bottom: 2px solid gray; margin-left 1px; margin-right: 1px; background: black; color: white;\" title=\"token id: 46997\"><span style=\"color: white;\">FUCK</span></span></strong><strong><span style=\"border-top: 0px solid gray; border-bottom: 2px solid gray; margin-left 1px; margin-right: 1px; background: black; color: white;\" title=\"token id: 1862\"><span style=\"color: white;\">ING</span></span></strong>&nbsp;<strong><span style=\"border-top: 0px solid gray; border-bottom: 2px solid gray; margin-left 1px; margin-right: 1px; background: black; color: white;\" title=\"token id: 41827\"><span style=\"color: white;\">GOD</span></span></strong><strong><span style=\"border-top: 0px solid gray; border-bottom: 2px solid gray; margin-left 1px; margin-right: 1px; background: black; color: white;\" title=\"token id: 4\"><span style=\"color: white;\">.</span></span></strong>&nbsp;<strong><span style=\"border-top: 0px solid gray; border-bottom: 2px solid gray; margin-left 1px; margin-right: 1px; background: black; color: white;\" title=\"token id: 1437\"><span style=\"color: white;\">�</span></span></strong><br/><br/></div><div style=\"padding: 5px; maring: 0px; background: black;\"><span style=\"padding: 2px; border: 2px solid False;\"><span title=\"0.064\" style=\"border-top: 0px solid rgba(238.56815412640572, 255.0, 238.56815412640572, 255.0); border-bottom: 0px solid rgba(0, 0, 0, 0); margin-left 1px; margin-right: 1px; background: black; color=white;\"><span style=\"color: white;\">negative</span></span></span>&nbsp;<span style=\"padding: 2px; border: 2px solid False;\"><span title=\"0.088\" style=\"border-top: 0px solid rgba(232.47272070497274, 255.0, 232.47272070497274, 255.0); border-bottom: 0px solid rgba(0, 0, 0, 0); margin-left 1px; margin-right: 1px; background: black; color=white;\"><span style=\"color: white;\">neutral</span></span></span>&nbsp;<span style=\"padding: 2px; border: 2px solid white;\"><span style=\"padding: 2px; border: 2px solid False;\"><span title=\"0.847\" style=\"border-top: 8px solid rgba(38.95912706851959, 255.0, 38.95912706851959, 255.0); border-bottom: 0px solid rgba(0, 0, 0, 0); margin-left 1px; margin-right: 1px; background: black; color=white;\"><span style=\"color: white;\">positive</span></span></span></span><span style=\"border-top: 0px solid gray; border-bottom: 2px solid gray; margin-left 1px; margin-right: 1px; background: black; color: white;\" title=\"token id: 1039\"><span style=\"color: white;\">@</span></span><strong><span style=\"border-top: 0px solid gray; border-bottom: 2px solid gray; margin-left 1px; margin-right: 1px; background: black; color: white;\" title=\"token id: 19183\"><span style=\"color: white;\">Best</span></span></strong><strong><span style=\"border-top: 0px solid gray; border-bottom: 2px solid gray; margin-left 1px; margin-right: 1px; background: black; color: white;\" title=\"token id: 846\"><span style=\"color: white;\">V</span></span></strong><strong><span style=\"border-top: 0px solid gray; border-bottom: 2px solid gray; margin-left 1px; margin-right: 1px; background: black; color: white;\" title=\"token id: 3141\"><span style=\"color: white;\">ines</span></span></strong><strong><span style=\"border-top: 0px solid gray; border-bottom: 2px solid gray; margin-left 1px; margin-right: 1px; background: black; color: white;\" title=\"token id: 27172\"><span style=\"color: white;\">Ever</span></span></strong>&nbsp;<strong><span style=\"border-top: 0px solid gray; border-bottom: 2px solid gray; margin-left 1px; margin-right: 1px; background: black; color: white;\" title=\"token id: 18895\"><span style=\"color: white;\">OH</span></span></strong>&nbsp;<strong><span style=\"border-top: 0px solid gray; border-bottom: 2px solid gray; margin-left 1px; margin-right: 1px; background: black; color: white;\" title=\"token id: 20060\"><span style=\"color: white;\">MY</span></span></strong>&nbsp;<strong><span style=\"border-top: 0px solid gray; border-bottom: 2px solid gray; margin-left 1px; margin-right: 1px; background: black; color: white;\" title=\"token id: 46997\"><span style=\"color: white;\">FUCK</span></span></strong><strong><span style=\"border-top: 0px solid gray; border-bottom: 2px solid gray; margin-left 1px; margin-right: 1px; background: black; color: white;\" title=\"token id: 1862\"><span style=\"color: white;\">ING</span></span></strong>&nbsp;<strong><span style=\"border-top: 0px solid gray; border-bottom: 2px solid gray; margin-left 1px; margin-right: 1px; background: black; color: white;\" title=\"token id: 41827\"><span style=\"color: white;\">GOD</span></span></strong><strong><span style=\"border-top: 0px solid gray; border-bottom: 2px solid gray; margin-left 1px; margin-right: 1px; background: black; color: white;\" title=\"token id: 4\"><span style=\"color: white;\">.</span></span></strong>&nbsp;<strong><span style=\"border-top: 0px solid gray; border-bottom: 2px solid gray; margin-left 1px; margin-right: 1px; background: black; color: white;\" title=\"token id: 1437\"><span style=\"color: white;\">�</span></span></strong><br/><br/></div></div><div style=\"padding: 5px; maring: 0px; background: black;\"><div style=\"padding: 5px; maring: 0px; background: black;\"><span style=\"padding: 2px; border: 2px solid white;\"><span style=\"padding: 2px; border: 2px solid False;\"><span title=\"0.546\" style=\"border-top: 5px solid rgba(115.68897217512131, 255.0, 115.68897217512131, 255.0); border-bottom: 0px solid rgba(0, 0, 0, 0); margin-left 1px; margin-right: 1px; background: black; color=white;\"><span style=\"color: white;\">negative</span></span></span></span>&nbsp;<span style=\"padding: 2px; border: 2px solid False;\"><span title=\"0.336\" style=\"border-top: 3px solid rgba(169.32966023683548, 255.0, 169.32966023683548, 255.0); border-bottom: 0px solid rgba(0, 0, 0, 0); margin-left 1px; margin-right: 1px; background: black; color=white;\"><span style=\"color: white;\">neutral</span></span></span>&nbsp;<span style=\"padding: 2px; border: 2px solid False;\"><span title=\"0.118\" style=\"border-top: 1px solid rgba(224.9813675880432, 255.0, 224.9813675880432, 255.0); border-bottom: 0px solid rgba(0, 0, 0, 0); margin-left 1px; margin-right: 1px; background: black; color=white;\"><span style=\"color: white;\">positive</span></span></span><span style=\"border-top: 0px solid gray; border-bottom: 2px solid gray; margin-left 1px; margin-right: 1px; background: black; color: white;\" title=\"token id: 13963\"><span style=\"color: white;\">RT</span></span>&nbsp;<span style=\"border-top: 0px solid gray; border-bottom: 2px solid gray; margin-left 1px; margin-right: 1px; background: black; color: white;\" title=\"token id: 787\"><span style=\"color: white;\">@</span></span><strong><span style=\"border-top: 0px solid gray; border-bottom: 2px solid gray; margin-left 1px; margin-right: 1px; background: black; color: white;\" title=\"token id: 495\"><span style=\"color: white;\">D</span></span></strong><strong><span style=\"border-top: 0px solid gray; border-bottom: 2px solid gray; margin-left 1px; margin-right: 1px; background: black; color: white;\" title=\"token id: 4179\"><span style=\"color: white;\">umb</span></span></strong><strong><span style=\"border-top: 0px solid gray; border-bottom: 2px solid gray; margin-left 1px; margin-right: 1px; background: black; color: white;\" title=\"token id: 4763\"><span style=\"color: white;\">People</span></span></strong><strong><span style=\"border-top: 0px solid gray; border-bottom: 2px solid gray; margin-left 1px; margin-right: 1px; background: black; color: white;\" title=\"token id: 1620\"><span style=\"color: white;\">As</span></span></strong><strong><span style=\"border-top: 0px solid gray; border-bottom: 2px solid gray; margin-left 1px; margin-right: 1px; background: black; color: white;\" title=\"token id: 506\"><span style=\"color: white;\">f</span></span></strong>&nbsp;<strong><span style=\"border-top: 0px solid gray; border-bottom: 2px solid gray; margin-left 1px; margin-right: 1px; background: black; color: white;\" title=\"token id: 13261\"><span style=\"color: white;\">Norfolk</span></span></strong>&nbsp;<strong><span style=\"border-top: 0px solid gray; border-bottom: 2px solid gray; margin-left 1px; margin-right: 1px; background: black; color: white;\" title=\"token id: 23523\"><span style=\"color: white;\">fucking</span></span></strong>&nbsp;<strong><span style=\"border-top: 0px solid gray; border-bottom: 2px solid gray; margin-left 1px; margin-right: 1px; background: black; color: white;\" title=\"token id: 1146\"><span style=\"color: white;\">brought</span></span></strong>&nbsp;<strong><span style=\"border-top: 0px solid gray; border-bottom: 2px solid gray; margin-left 1px; margin-right: 1px; background: black; color: white;\" title=\"token id: 24\"><span style=\"color: white;\">it</span></span></strong><strong><span style=\"border-top: 0px solid gray; border-bottom: 2px solid gray; margin-left 1px; margin-right: 1px; background: black; color: white;\" title=\"token id: 328\"><span style=\"color: white;\">!</span></span></strong>&nbsp;<strong><span style=\"border-top: 0px solid gray; border-bottom: 2px solid gray; margin-left 1px; margin-right: 1px; background: black; color: white;\" title=\"token id: 1437\"><span style=\"color: white;\">�</span></span></strong><br/><br/></div><div style=\"padding: 5px; maring: 0px; background: black;\"><span style=\"padding: 2px; border: 2px solid False;\"><span title=\"0.006\" style=\"border-top: 0px solid rgba(253.4164138371125, 255.0, 253.4164138371125, 255.0); border-bottom: 0px solid rgba(0, 0, 0, 0); margin-left 1px; margin-right: 1px; background: black; color=white;\"><span style=\"color: white;\">negative</span></span></span>&nbsp;<span style=\"padding: 2px; border: 2px solid False;\"><span title=\"0.054\" style=\"border-top: 0px solid rgba(241.14598900079727, 255.0, 241.14598900079727, 255.0); border-bottom: 0px solid rgba(0, 0, 0, 0); margin-left 1px; margin-right: 1px; background: black; color=white;\"><span style=\"color: white;\">neutral</span></span></span>&nbsp;<span style=\"padding: 2px; border: 2px solid white;\"><span style=\"padding: 2px; border: 2px solid False;\"><span title=\"0.939\" style=\"border-top: 9px solid rgba(15.437598824501038, 255.0, 15.437598824501038, 255.0); border-bottom: 0px solid rgba(0, 0, 0, 0); margin-left 1px; margin-right: 1px; background: black; color=white;\"><span style=\"color: white;\">positive</span></span></span></span><span style=\"border-top: 0px solid gray; border-bottom: 2px solid gray; margin-left 1px; margin-right: 1px; background: black; color: white;\" title=\"token id: 13963\"><span style=\"color: white;\">RT</span></span>&nbsp;<span style=\"border-top: 0px solid gray; border-bottom: 2px solid gray; margin-left 1px; margin-right: 1px; background: black; color: white;\" title=\"token id: 787\"><span style=\"color: white;\">@</span></span><strong><span style=\"border-top: 0px solid gray; border-bottom: 2px solid gray; margin-left 1px; margin-right: 1px; background: black; color: white;\" title=\"token id: 19183\"><span style=\"color: white;\">Best</span></span></strong><strong><span style=\"border-top: 0px solid gray; border-bottom: 2px solid gray; margin-left 1px; margin-right: 1px; background: black; color: white;\" title=\"token id: 846\"><span style=\"color: white;\">V</span></span></strong><strong><span style=\"border-top: 0px solid gray; border-bottom: 2px solid gray; margin-left 1px; margin-right: 1px; background: black; color: white;\" title=\"token id: 3141\"><span style=\"color: white;\">ines</span></span></strong><strong><span style=\"border-top: 0px solid gray; border-bottom: 2px solid gray; margin-left 1px; margin-right: 1px; background: black; color: white;\" title=\"token id: 27172\"><span style=\"color: white;\">Ever</span></span></strong>&nbsp;<strong><span style=\"border-top: 0px solid gray; border-bottom: 2px solid gray; margin-left 1px; margin-right: 1px; background: black; color: white;\" title=\"token id: 13261\"><span style=\"color: white;\">Norfolk</span></span></strong>&nbsp;<strong><span style=\"border-top: 0px solid gray; border-bottom: 2px solid gray; margin-left 1px; margin-right: 1px; background: black; color: white;\" title=\"token id: 23523\"><span style=\"color: white;\">fucking</span></span></strong>&nbsp;<strong><span style=\"border-top: 0px solid gray; border-bottom: 2px solid gray; margin-left 1px; margin-right: 1px; background: black; color: white;\" title=\"token id: 1146\"><span style=\"color: white;\">brought</span></span></strong>&nbsp;<strong><span style=\"border-top: 0px solid gray; border-bottom: 2px solid gray; margin-left 1px; margin-right: 1px; background: black; color: white;\" title=\"token id: 24\"><span style=\"color: white;\">it</span></span></strong><strong><span style=\"border-top: 0px solid gray; border-bottom: 2px solid gray; margin-left 1px; margin-right: 1px; background: black; color: white;\" title=\"token id: 328\"><span style=\"color: white;\">!</span></span></strong>&nbsp;<strong><span style=\"border-top: 0px solid gray; border-bottom: 2px solid gray; margin-left 1px; margin-right: 1px; background: black; color: white;\" title=\"token id: 1437\"><span style=\"color: white;\">�</span></span></strong><br/><br/></div></div><div style=\"padding: 5px; maring: 0px; background: black;\"><div style=\"padding: 5px; maring: 0px; background: black;\"><span style=\"padding: 2px; border: 2px solid False;\"><span title=\"0.397\" style=\"border-top: 3px solid rgba(153.87259885668755, 255.0, 153.87259885668755, 255.0); border-bottom: 0px solid rgba(0, 0, 0, 0); margin-left 1px; margin-right: 1px; background: black; color=white;\"><span style=\"color: white;\">negative</span></span></span>&nbsp;<span style=\"padding: 2px; border: 2px solid white;\"><span style=\"padding: 2px; border: 2px solid False;\"><span title=\"0.579\" style=\"border-top: 5px solid rgba(107.43318557739258, 255.0, 107.43318557739258, 255.0); border-bottom: 0px solid rgba(0, 0, 0, 0); margin-left 1px; margin-right: 1px; background: black; color=white;\"><span style=\"color: white;\">neutral</span></span></span></span>&nbsp;<span style=\"padding: 2px; border: 2px solid False;\"><span title=\"0.025\" style=\"border-top: 0px solid rgba(248.69420084170997, 255.0, 248.69420084170997, 255.0); border-bottom: 0px solid rgba(0, 0, 0, 0); margin-left 1px; margin-right: 1px; background: black; color=white;\"><span style=\"color: white;\">positive</span></span></span><span style=\"border-top: 0px solid gray; border-bottom: 2px solid gray; margin-left 1px; margin-right: 1px; background: black; color: white;\" title=\"token id: 1039\"><span style=\"color: white;\">@</span></span><strong><span style=\"border-top: 0px solid gray; border-bottom: 2px solid gray; margin-left 1px; margin-right: 1px; background: black; color: white;\" title=\"token id: 495\"><span style=\"color: white;\">D</span></span></strong><strong><span style=\"border-top: 0px solid gray; border-bottom: 2px solid gray; margin-left 1px; margin-right: 1px; background: black; color: white;\" title=\"token id: 4179\"><span style=\"color: white;\">umb</span></span></strong><strong><span style=\"border-top: 0px solid gray; border-bottom: 2px solid gray; margin-left 1px; margin-right: 1px; background: black; color: white;\" title=\"token id: 4763\"><span style=\"color: white;\">People</span></span></strong><strong><span style=\"border-top: 0px solid gray; border-bottom: 2px solid gray; margin-left 1px; margin-right: 1px; background: black; color: white;\" title=\"token id: 1620\"><span style=\"color: white;\">As</span></span></strong><strong><span style=\"border-top: 0px solid gray; border-bottom: 2px solid gray; margin-left 1px; margin-right: 1px; background: black; color: white;\" title=\"token id: 506\"><span style=\"color: white;\">f</span></span></strong>&nbsp;<strong><span style=\"border-top: 0px solid gray; border-bottom: 2px solid gray; margin-left 1px; margin-right: 1px; background: black; color: white;\" title=\"token id: 20\"><span style=\"color: white;\">The</span></span></strong>&nbsp;<strong><span style=\"border-top: 0px solid gray; border-bottom: 2px solid gray; margin-left 1px; margin-right: 1px; background: black; color: white;\" title=\"token id: 12173\"><span style=\"color: white;\">refund</span></span></strong>&nbsp;<strong><span style=\"border-top: 0px solid gray; border-bottom: 2px solid gray; margin-left 1px; margin-right: 1px; background: black; color: white;\" title=\"token id: 34\"><span style=\"color: white;\">has</span></span></strong>&nbsp;<strong><span style=\"border-top: 0px solid gray; border-bottom: 2px solid gray; margin-left 1px; margin-right: 1px; background: black; color: white;\" title=\"token id: 57\"><span style=\"color: white;\">been</span></span></strong>&nbsp;<strong><span style=\"border-top: 0px solid gray; border-bottom: 2px solid gray; margin-left 1px; margin-right: 1px; background: black; color: white;\" title=\"token id: 12069\"><span style=\"color: white;\">processed</span></span></strong>&nbsp;<strong><span style=\"border-top: 0px solid gray; border-bottom: 2px solid gray; margin-left 1px; margin-right: 1px; background: black; color: white;\" title=\"token id: 136\"><span style=\"color: white;\">against</span></span></strong>&nbsp;<strong><span style=\"border-top: 0px solid gray; border-bottom: 2px solid gray; margin-left 1px; margin-right: 1px; background: black; color: white;\" title=\"token id: 5\"><span style=\"color: white;\">the</span></span></strong>&nbsp;<strong><span style=\"border-top: 0px solid gray; border-bottom: 2px solid gray; margin-left 1px; margin-right: 1px; background: black; color: white;\" title=\"token id: 26\"><span style=\"color: white;\">said</span></span></strong>&nbsp;<strong><span style=\"border-top: 0px solid gray; border-bottom: 2px solid gray; margin-left 1px; margin-right: 1px; background: black; color: white;\" title=\"token id: 48726\"><span style=\"color: white;\">tx</span></span></strong><strong><span style=\"border-top: 0px solid gray; border-bottom: 2px solid gray; margin-left 1px; margin-right: 1px; background: black; color: white;\" title=\"token id: 282\"><span style=\"color: white;\">n</span></span></strong>&nbsp;<strong><span style=\"border-top: 0px solid gray; border-bottom: 2px solid gray; margin-left 1px; margin-right: 1px; background: black; color: white;\" title=\"token id: 727\"><span style=\"color: white;\">100</span></span></strong><strong><span style=\"border-top: 0px solid gray; border-bottom: 2px solid gray; margin-left 1px; margin-right: 1px; background: black; color: white;\" title=\"token id: 151\"><span style=\"color: white;\">000</span></span></strong><strong><span style=\"border-top: 0px solid gray; border-bottom: 2px solid gray; margin-left 1px; margin-right: 1px; background: black; color: white;\" title=\"token id: 38504\"><span style=\"color: white;\">767</span></span></strong><strong><span style=\"border-top: 0px solid gray; border-bottom: 2px solid gray; margin-left 1px; margin-right: 1px; background: black; color: white;\" title=\"token id: 2517\"><span style=\"color: white;\">28</span></span></strong><strong><span style=\"border-top: 0px solid gray; border-bottom: 2px solid gray; margin-left 1px; margin-right: 1px; background: black; color: white;\" title=\"token id: 3416\"><span style=\"color: white;\">39</span></span></strong><strong><span style=\"border-top: 0px solid gray; border-bottom: 2px solid gray; margin-left 1px; margin-right: 1px; background: black; color: white;\" title=\"token id: 844\"><span style=\"color: white;\">20</span></span></strong>&nbsp;<strong><span style=\"border-top: 0px solid gray; border-bottom: 2px solid gray; margin-left 1px; margin-right: 1px; background: black; color: white;\" title=\"token id: 23\"><span style=\"color: white;\">at</span></span></strong>&nbsp;<strong><span style=\"border-top: 0px solid gray; border-bottom: 2px solid gray; margin-left 1px; margin-right: 1px; background: black; color: white;\" title=\"token id: 11594\"><span style=\"color: white;\">IR</span></span></strong><strong><span style=\"border-top: 0px solid gray; border-bottom: 2px solid gray; margin-left 1px; margin-right: 1px; background: black; color: white;\" title=\"token id: 7164\"><span style=\"color: white;\">CT</span></span></strong><strong><span style=\"border-top: 0px solid gray; border-bottom: 2px solid gray; margin-left 1px; margin-right: 1px; background: black; color: white;\" title=\"token id: 347\"><span style=\"color: white;\">C</span></span></strong><strong><span style=\"border-top: 0px solid gray; border-bottom: 2px solid gray; margin-left 1px; margin-right: 1px; background: black; color: white;\" title=\"token id: 17\"><span style=\"color: white;\">�</span></span></strong><strong><span style=\"border-top: 0px solid gray; border-bottom: 2px solid gray; margin-left 1px; margin-right: 1px; background: black; color: white;\" title=\"token id: 27\"><span style=\"color: white;\">�</span></span></strong><strong><span style=\"border-top: 0px solid gray; border-bottom: 2px solid gray; margin-left 1px; margin-right: 1px; background: black; color: white;\" title=\"token id: 29\"><span style=\"color: white;\">s</span></span></strong>&nbsp;<strong><span style=\"border-top: 0px solid gray; border-bottom: 2px solid gray; margin-left 1px; margin-right: 1px; background: black; color: white;\" title=\"token id: 253\"><span style=\"color: white;\">end</span></span></strong><strong><span style=\"border-top: 0px solid gray; border-bottom: 2px solid gray; margin-left 1px; margin-right: 1px; background: black; color: white;\" title=\"token id: 4\"><span style=\"color: white;\">.</span></span></strong>&nbsp;<strong><span style=\"border-top: 0px solid gray; border-bottom: 2px solid gray; margin-left 1px; margin-right: 1px; background: black; color: white;\" title=\"token id: 112\"><span style=\"color: white;\">1</span></span></strong><strong><span style=\"border-top: 0px solid gray; border-bottom: 2px solid gray; margin-left 1px; margin-right: 1px; background: black; color: white;\" title=\"token id: 73\"><span style=\"color: white;\">/</span></span></strong><strong><span style=\"border-top: 0px solid gray; border-bottom: 2px solid gray; margin-left 1px; margin-right: 1px; background: black; color: white;\" title=\"token id: 176\"><span style=\"color: white;\">2</span></span></strong><br/><br/></div><div style=\"padding: 5px; maring: 0px; background: black;\"><span style=\"padding: 2px; border: 2px solid False;\"><span title=\"0.010\" style=\"border-top: 0px solid rgba(252.3863596469164, 255.0, 252.3863596469164, 255.0); border-bottom: 0px solid rgba(0, 0, 0, 0); margin-left 1px; margin-right: 1px; background: black; color=white;\"><span style=\"color: white;\">negative</span></span></span>&nbsp;<span style=\"padding: 2px; border: 2px solid white;\"><span style=\"padding: 2px; border: 2px solid False;\"><span title=\"0.662\" style=\"border-top: 6px solid rgba(86.14022254943848, 255.0, 86.14022254943848, 255.0); border-bottom: 0px solid rgba(0, 0, 0, 0); margin-left 1px; margin-right: 1px; background: black; color=white;\"><span style=\"color: white;\">neutral</span></span></span></span>&nbsp;<span style=\"padding: 2px; border: 2px solid False;\"><span title=\"0.328\" style=\"border-top: 3px solid rgba(171.47342920303345, 255.0, 171.47342920303345, 255.0); border-bottom: 0px solid rgba(0, 0, 0, 0); margin-left 1px; margin-right: 1px; background: black; color=white;\"><span style=\"color: white;\">positive</span></span></span><span style=\"border-top: 0px solid gray; border-bottom: 2px solid gray; margin-left 1px; margin-right: 1px; background: black; color: white;\" title=\"token id: 1039\"><span style=\"color: white;\">@</span></span><strong><span style=\"border-top: 0px solid gray; border-bottom: 2px solid gray; margin-left 1px; margin-right: 1px; background: black; color: white;\" title=\"token id: 19183\"><span style=\"color: white;\">Best</span></span></strong><strong><span style=\"border-top: 0px solid gray; border-bottom: 2px solid gray; margin-left 1px; margin-right: 1px; background: black; color: white;\" title=\"token id: 846\"><span style=\"color: white;\">V</span></span></strong><strong><span style=\"border-top: 0px solid gray; border-bottom: 2px solid gray; margin-left 1px; margin-right: 1px; background: black; color: white;\" title=\"token id: 3141\"><span style=\"color: white;\">ines</span></span></strong><strong><span style=\"border-top: 0px solid gray; border-bottom: 2px solid gray; margin-left 1px; margin-right: 1px; background: black; color: white;\" title=\"token id: 27172\"><span style=\"color: white;\">Ever</span></span></strong>&nbsp;<strong><span style=\"border-top: 0px solid gray; border-bottom: 2px solid gray; margin-left 1px; margin-right: 1px; background: black; color: white;\" title=\"token id: 20\"><span style=\"color: white;\">The</span></span></strong>&nbsp;<strong><span style=\"border-top: 0px solid gray; border-bottom: 2px solid gray; margin-left 1px; margin-right: 1px; background: black; color: white;\" title=\"token id: 12173\"><span style=\"color: white;\">refund</span></span></strong>&nbsp;<strong><span style=\"border-top: 0px solid gray; border-bottom: 2px solid gray; margin-left 1px; margin-right: 1px; background: black; color: white;\" title=\"token id: 34\"><span style=\"color: white;\">has</span></span></strong>&nbsp;<strong><span style=\"border-top: 0px solid gray; border-bottom: 2px solid gray; margin-left 1px; margin-right: 1px; background: black; color: white;\" title=\"token id: 57\"><span style=\"color: white;\">been</span></span></strong>&nbsp;<strong><span style=\"border-top: 0px solid gray; border-bottom: 2px solid gray; margin-left 1px; margin-right: 1px; background: black; color: white;\" title=\"token id: 12069\"><span style=\"color: white;\">processed</span></span></strong>&nbsp;<strong><span style=\"border-top: 0px solid gray; border-bottom: 2px solid gray; margin-left 1px; margin-right: 1px; background: black; color: white;\" title=\"token id: 136\"><span style=\"color: white;\">against</span></span></strong>&nbsp;<strong><span style=\"border-top: 0px solid gray; border-bottom: 2px solid gray; margin-left 1px; margin-right: 1px; background: black; color: white;\" title=\"token id: 5\"><span style=\"color: white;\">the</span></span></strong>&nbsp;<strong><span style=\"border-top: 0px solid gray; border-bottom: 2px solid gray; margin-left 1px; margin-right: 1px; background: black; color: white;\" title=\"token id: 26\"><span style=\"color: white;\">said</span></span></strong>&nbsp;<strong><span style=\"border-top: 0px solid gray; border-bottom: 2px solid gray; margin-left 1px; margin-right: 1px; background: black; color: white;\" title=\"token id: 48726\"><span style=\"color: white;\">tx</span></span></strong><strong><span style=\"border-top: 0px solid gray; border-bottom: 2px solid gray; margin-left 1px; margin-right: 1px; background: black; color: white;\" title=\"token id: 282\"><span style=\"color: white;\">n</span></span></strong>&nbsp;<strong><span style=\"border-top: 0px solid gray; border-bottom: 2px solid gray; margin-left 1px; margin-right: 1px; background: black; color: white;\" title=\"token id: 727\"><span style=\"color: white;\">100</span></span></strong><strong><span style=\"border-top: 0px solid gray; border-bottom: 2px solid gray; margin-left 1px; margin-right: 1px; background: black; color: white;\" title=\"token id: 151\"><span style=\"color: white;\">000</span></span></strong><strong><span style=\"border-top: 0px solid gray; border-bottom: 2px solid gray; margin-left 1px; margin-right: 1px; background: black; color: white;\" title=\"token id: 38504\"><span style=\"color: white;\">767</span></span></strong><strong><span style=\"border-top: 0px solid gray; border-bottom: 2px solid gray; margin-left 1px; margin-right: 1px; background: black; color: white;\" title=\"token id: 2517\"><span style=\"color: white;\">28</span></span></strong><strong><span style=\"border-top: 0px solid gray; border-bottom: 2px solid gray; margin-left 1px; margin-right: 1px; background: black; color: white;\" title=\"token id: 3416\"><span style=\"color: white;\">39</span></span></strong><strong><span style=\"border-top: 0px solid gray; border-bottom: 2px solid gray; margin-left 1px; margin-right: 1px; background: black; color: white;\" title=\"token id: 844\"><span style=\"color: white;\">20</span></span></strong>&nbsp;<strong><span style=\"border-top: 0px solid gray; border-bottom: 2px solid gray; margin-left 1px; margin-right: 1px; background: black; color: white;\" title=\"token id: 23\"><span style=\"color: white;\">at</span></span></strong>&nbsp;<strong><span style=\"border-top: 0px solid gray; border-bottom: 2px solid gray; margin-left 1px; margin-right: 1px; background: black; color: white;\" title=\"token id: 11594\"><span style=\"color: white;\">IR</span></span></strong><strong><span style=\"border-top: 0px solid gray; border-bottom: 2px solid gray; margin-left 1px; margin-right: 1px; background: black; color: white;\" title=\"token id: 7164\"><span style=\"color: white;\">CT</span></span></strong><strong><span style=\"border-top: 0px solid gray; border-bottom: 2px solid gray; margin-left 1px; margin-right: 1px; background: black; color: white;\" title=\"token id: 347\"><span style=\"color: white;\">C</span></span></strong><strong><span style=\"border-top: 0px solid gray; border-bottom: 2px solid gray; margin-left 1px; margin-right: 1px; background: black; color: white;\" title=\"token id: 17\"><span style=\"color: white;\">�</span></span></strong><strong><span style=\"border-top: 0px solid gray; border-bottom: 2px solid gray; margin-left 1px; margin-right: 1px; background: black; color: white;\" title=\"token id: 27\"><span style=\"color: white;\">�</span></span></strong><strong><span style=\"border-top: 0px solid gray; border-bottom: 2px solid gray; margin-left 1px; margin-right: 1px; background: black; color: white;\" title=\"token id: 29\"><span style=\"color: white;\">s</span></span></strong>&nbsp;<strong><span style=\"border-top: 0px solid gray; border-bottom: 2px solid gray; margin-left 1px; margin-right: 1px; background: black; color: white;\" title=\"token id: 253\"><span style=\"color: white;\">end</span></span></strong><strong><span style=\"border-top: 0px solid gray; border-bottom: 2px solid gray; margin-left 1px; margin-right: 1px; background: black; color: white;\" title=\"token id: 4\"><span style=\"color: white;\">.</span></span></strong>&nbsp;<strong><span style=\"border-top: 0px solid gray; border-bottom: 2px solid gray; margin-left 1px; margin-right: 1px; background: black; color: white;\" title=\"token id: 112\"><span style=\"color: white;\">1</span></span></strong><strong><span style=\"border-top: 0px solid gray; border-bottom: 2px solid gray; margin-left 1px; margin-right: 1px; background: black; color: white;\" title=\"token id: 73\"><span style=\"color: white;\">/</span></span></strong><strong><span style=\"border-top: 0px solid gray; border-bottom: 2px solid gray; margin-left 1px; margin-right: 1px; background: black; color: white;\" title=\"token id: 176\"><span style=\"color: white;\">2</span></span></strong><br/><br/></div></div><div style=\"padding: 5px; maring: 0px; background: black;\"><div style=\"padding: 5px; maring: 0px; background: black;\"><span style=\"padding: 2px; border: 2px solid white;\"><span style=\"padding: 2px; border: 2px solid False;\"><span title=\"0.851\" style=\"border-top: 8px solid rgba(37.98522412776947, 255.0, 37.98522412776947, 255.0); border-bottom: 0px solid rgba(0, 0, 0, 0); margin-left 1px; margin-right: 1px; background: black; color=white;\"><span style=\"color: white;\">negative</span></span></span></span>&nbsp;<span style=\"padding: 2px; border: 2px solid False;\"><span title=\"0.121\" style=\"border-top: 1px solid rgba(224.07427076250315, 255.0, 224.07427076250315, 255.0); border-bottom: 0px solid rgba(0, 0, 0, 0); margin-left 1px; margin-right: 1px; background: black; color=white;\"><span style=\"color: white;\">neutral</span></span></span>&nbsp;<span style=\"padding: 2px; border: 2px solid False;\"><span title=\"0.028\" style=\"border-top: 0px solid rgba(247.94050700962543, 255.0, 247.94050700962543, 255.0); border-bottom: 0px solid rgba(0, 0, 0, 0); margin-left 1px; margin-right: 1px; background: black; color=white;\"><span style=\"color: white;\">positive</span></span></span><span style=\"border-top: 0px solid gray; border-bottom: 2px solid gray; margin-left 1px; margin-right: 1px; background: black; color: white;\" title=\"token id: 13963\"><span style=\"color: white;\">RT</span></span>&nbsp;<span style=\"border-top: 0px solid gray; border-bottom: 2px solid gray; margin-left 1px; margin-right: 1px; background: black; color: white;\" title=\"token id: 787\"><span style=\"color: white;\">@</span></span><strong><span style=\"border-top: 0px solid gray; border-bottom: 2px solid gray; margin-left 1px; margin-right: 1px; background: black; color: white;\" title=\"token id: 495\"><span style=\"color: white;\">D</span></span></strong><strong><span style=\"border-top: 0px solid gray; border-bottom: 2px solid gray; margin-left 1px; margin-right: 1px; background: black; color: white;\" title=\"token id: 4179\"><span style=\"color: white;\">umb</span></span></strong><strong><span style=\"border-top: 0px solid gray; border-bottom: 2px solid gray; margin-left 1px; margin-right: 1px; background: black; color: white;\" title=\"token id: 4763\"><span style=\"color: white;\">People</span></span></strong><strong><span style=\"border-top: 0px solid gray; border-bottom: 2px solid gray; margin-left 1px; margin-right: 1px; background: black; color: white;\" title=\"token id: 1620\"><span style=\"color: white;\">As</span></span></strong><strong><span style=\"border-top: 0px solid gray; border-bottom: 2px solid gray; margin-left 1px; margin-right: 1px; background: black; color: white;\" title=\"token id: 506\"><span style=\"color: white;\">f</span></span></strong>&nbsp;<strong><span style=\"border-top: 0px solid gray; border-bottom: 2px solid gray; margin-left 1px; margin-right: 1px; background: black; color: white;\" title=\"token id: 4337\"><span style=\"color: white;\">Every</span></span></strong>&nbsp;<strong><span style=\"border-top: 0px solid gray; border-bottom: 2px solid gray; margin-left 1px; margin-right: 1px; background: black; color: white;\" title=\"token id: 23523\"><span style=\"color: white;\">fucking</span></span></strong>&nbsp;<strong><span style=\"border-top: 0px solid gray; border-bottom: 2px solid gray; margin-left 1px; margin-right: 1px; background: black; color: white;\" title=\"token id: 86\"><span style=\"color: white;\">time</span></span></strong>&nbsp;<strong><span style=\"border-top: 0px solid gray; border-bottom: 2px solid gray; margin-left 1px; margin-right: 1px; background: black; color: white;\" title=\"token id: 1437\"><span style=\"color: white;\">�</span></span></strong><br/><br/></div><div style=\"padding: 5px; maring: 0px; background: black;\"><span style=\"padding: 2px; border: 2px solid False;\"><span title=\"0.035\" style=\"border-top: 0px solid rgba(246.1903342232108, 255.0, 246.1903342232108, 255.0); border-bottom: 0px solid rgba(0, 0, 0, 0); margin-left 1px; margin-right: 1px; background: black; color=white;\"><span style=\"color: white;\">negative</span></span></span>&nbsp;<span style=\"padding: 2px; border: 2px solid False;\"><span title=\"0.135\" style=\"border-top: 1px solid rgba(220.56588292121887, 255.0, 220.56588292121887, 255.0); border-bottom: 0px solid rgba(0, 0, 0, 0); margin-left 1px; margin-right: 1px; background: black; color=white;\"><span style=\"color: white;\">neutral</span></span></span>&nbsp;<span style=\"padding: 2px; border: 2px solid white;\"><span style=\"padding: 2px; border: 2px solid False;\"><span title=\"0.830\" style=\"border-top: 8px solid rgba(43.24379235506058, 255.0, 43.24379235506058, 255.0); border-bottom: 0px solid rgba(0, 0, 0, 0); margin-left 1px; margin-right: 1px; background: black; color=white;\"><span style=\"color: white;\">positive</span></span></span></span><span style=\"border-top: 0px solid gray; border-bottom: 2px solid gray; margin-left 1px; margin-right: 1px; background: black; color: white;\" title=\"token id: 13963\"><span style=\"color: white;\">RT</span></span>&nbsp;<span style=\"border-top: 0px solid gray; border-bottom: 2px solid gray; margin-left 1px; margin-right: 1px; background: black; color: white;\" title=\"token id: 787\"><span style=\"color: white;\">@</span></span><strong><span style=\"border-top: 0px solid gray; border-bottom: 2px solid gray; margin-left 1px; margin-right: 1px; background: black; color: white;\" title=\"token id: 19183\"><span style=\"color: white;\">Best</span></span></strong><strong><span style=\"border-top: 0px solid gray; border-bottom: 2px solid gray; margin-left 1px; margin-right: 1px; background: black; color: white;\" title=\"token id: 846\"><span style=\"color: white;\">V</span></span></strong><strong><span style=\"border-top: 0px solid gray; border-bottom: 2px solid gray; margin-left 1px; margin-right: 1px; background: black; color: white;\" title=\"token id: 3141\"><span style=\"color: white;\">ines</span></span></strong><strong><span style=\"border-top: 0px solid gray; border-bottom: 2px solid gray; margin-left 1px; margin-right: 1px; background: black; color: white;\" title=\"token id: 27172\"><span style=\"color: white;\">Ever</span></span></strong>&nbsp;<strong><span style=\"border-top: 0px solid gray; border-bottom: 2px solid gray; margin-left 1px; margin-right: 1px; background: black; color: white;\" title=\"token id: 4337\"><span style=\"color: white;\">Every</span></span></strong>&nbsp;<strong><span style=\"border-top: 0px solid gray; border-bottom: 2px solid gray; margin-left 1px; margin-right: 1px; background: black; color: white;\" title=\"token id: 23523\"><span style=\"color: white;\">fucking</span></span></strong>&nbsp;<strong><span style=\"border-top: 0px solid gray; border-bottom: 2px solid gray; margin-left 1px; margin-right: 1px; background: black; color: white;\" title=\"token id: 86\"><span style=\"color: white;\">time</span></span></strong>&nbsp;<strong><span style=\"border-top: 0px solid gray; border-bottom: 2px solid gray; margin-left 1px; margin-right: 1px; background: black; color: white;\" title=\"token id: 1437\"><span style=\"color: white;\">�</span></span></strong><br/><br/></div></div></body></html>"
            ]
          },
          "metadata": {},
          "execution_count": 19
        }
      ]
    },
    {
      "cell_type": "markdown",
      "source": [
        "## Robustness"
      ],
      "metadata": {
        "id": "HJJdANfCQxxo"
      }
    },
    {
      "cell_type": "markdown",
      "source": [
        "### Integrated Gradients baseline"
      ],
      "metadata": {
        "id": "ywo0r5yRUc3G"
      }
    },
    {
      "cell_type": "code",
      "source": [
        "from trulens.utils.nlp import token_baseline\n",
        "\n",
        "# Get token IDs for '@username to add to baseline\n",
        "tokenized_target = task.tokenize(' @username')\n",
        "target_token_ids = tokenized_target['input_ids'].tolist()[0][1:3]\n",
        "\n",
        "inputs_baseline_ids, inputs_baseline_embeddings = token_baseline(\n",
        "    keep_tokens=set([task.tokenizer.cls_token_id, task.tokenizer.bos_token_id, task.tokenizer.eos_token_id] + target_token_ids),\n",
        "    # Which tokens to preserve.\n",
        "    replacement_token=task.tokenizer.pad_token_id,\n",
        "    # What to replace tokens with.\n",
        "    input_accessor=lambda x: x.kwargs['input_ids'],\n",
        "    ids_to_embeddings=task.model.get_input_embeddings()\n",
        "    # Callable to produce embeddings from token ids.\n",
        ")"
      ],
      "metadata": {
        "id": "1Vc_gBjiUNtl"
      },
      "execution_count": null,
      "outputs": []
    },
    {
      "cell_type": "code",
      "source": [
        "from trulens.utils.typing import ModelInputs\n",
        "\n",
        "tokenized_example = task.tokenize(neutralized_dataset[85][0])\n",
        "print('originals=', task.tokenizer.batch_decode(tokenized_example['input_ids']))\n",
        "\n",
        "baseline_word_ids = inputs_baseline_ids(model_inputs=ModelInputs(kwargs=tokenized_example))\n",
        "print('baselines=', task.tokenizer.batch_decode(baseline_word_ids))"
      ],
      "metadata": {
        "colab": {
          "base_uri": "https://localhost:8080/"
        },
        "id": "nD_mQkrOUhVJ",
        "outputId": "86506ab3-d29f-4ae4-b632-56c4aa111068"
      },
      "execution_count": null,
      "outputs": [
        {
          "output_type": "stream",
          "name": "stdout",
          "text": [
            "originals= [\"<s>RT @username I bet Bear Grylls' barbecues are awful. Everyone expecting burgers and sausages, whilst he roasts dog shits and boils pin…</s>\"]\n",
            "baselines= ['<s><pad> @username<pad><pad><pad><pad><pad><pad><pad><pad><pad><pad><pad><pad><pad><pad><pad><pad><pad><pad><pad><pad><pad><pad><pad><pad><pad><pad><pad><pad><pad><pad><pad><pad></s>']\n"
          ]
        }
      ]
    },
    {
      "cell_type": "markdown",
      "source": [
        "### Integrated Gradients"
      ],
      "metadata": {
        "id": "78xwnMhOtjSc"
      }
    },
    {
      "cell_type": "code",
      "source": [
        "from trulens.nn.distributions import LinearDoi\n",
        "from trulens.nn.quantities import LambdaQoI, ComparativeQoI\n",
        "from trulens.nn.attribution import Cut, OutputCut, InputAttribution\n",
        "\n",
        "# Example tweets\n",
        "neutralized_tweets = [neutralized_dataset[85][0], neutralized_dataset[190][0]]\n",
        "\n",
        "# LinearDoi is the same as Integrated Gradients\n",
        "attr_cut = Cut('roberta_embeddings_word_embeddings')\n",
        "doi = LinearDoi(baseline=inputs_baseline_embeddings,  resolution=50, cut=attr_cut)\n",
        "\n",
        "# Lambda QoI (max(positive, neutral) - negative)\n",
        "def custom_qoi(logits):\n",
        "  max_neutral_positive = torch.maximum(logits[:, 1], logits[:, 2])\n",
        "  negative = logits[:, 0]\n",
        "  difference = max_neutral_positive - negative\n",
        "  return torch.sum(difference)\n",
        "lambda_qoi = LambdaQoI(custom_qoi)\n",
        "# Comparative QoI (Not used)\n",
        "# comparative_qoi = ComparativeQoI(task.POSITIVE, task.NEGATIVE)\n",
        "\n",
        "infl = InputAttribution(\n",
        "    model = task.wrapper,\n",
        "    doi=doi,\n",
        "    doi_cut=attr_cut,\n",
        "    qoi=lambda_qoi,\n",
        "    qoi_cut=OutputCut(accessor=lambda o: o['logits'])\n",
        ")\n",
        "display(\n",
        "    V.tokens(neutralized_tweets, attributor=infl),\n",
        ")"
      ],
      "metadata": {
        "colab": {
          "base_uri": "https://localhost:8080/",
          "height": 189
        },
        "id": "HyfzOyC1Qz6m",
        "outputId": "9f1d5990-c21f-4a20-e6f3-45257c96f377"
      },
      "execution_count": null,
      "outputs": [
        {
          "output_type": "display_data",
          "data": {
            "text/plain": [
              "<IPython.core.display.HTML object>"
            ],
            "text/html": [
              "<html><body><div style=\"padding: 5px; maring: 0px; background: black;\"><span style=\"color: white;\">scale:</span>&nbsp;<span title=\"-1.000\" style=\"border-top: 0px solid rgba(0, 0, 0, 0); border-bottom: 10px solid rgba(255.0, 0.0, 0.0, 255.0); margin-left 1px; margin-right: 1px; background: black; color=white;\"><span style=\"color: white;\">-1.0</span></span><span title=\"-0.900\" style=\"border-top: 0px solid rgba(0, 0, 0, 0); border-bottom: 9px solid rgba(255.0, 25.499999999999993, 25.499999999999993, 255.0); margin-left 1px; margin-right: 1px; background: black; color=white;\"><span style=\"color: white;\">-0.9</span></span><span title=\"-0.800\" style=\"border-top: 0px solid rgba(0, 0, 0, 0); border-bottom: 8px solid rgba(255.0, 50.999999999999986, 50.999999999999986, 255.0); margin-left 1px; margin-right: 1px; background: black; color=white;\"><span style=\"color: white;\">-0.8</span></span><span title=\"-0.700\" style=\"border-top: 0px solid rgba(0, 0, 0, 0); border-bottom: 7px solid rgba(255.0, 76.50000000000001, 76.50000000000001, 255.0); margin-left 1px; margin-right: 1px; background: black; color=white;\"><span style=\"color: white;\">-0.7</span></span><span title=\"-0.600\" style=\"border-top: 0px solid rgba(0, 0, 0, 0); border-bottom: 6px solid rgba(255.0, 102.0, 102.0, 255.0); margin-left 1px; margin-right: 1px; background: black; color=white;\"><span style=\"color: white;\">-0.6</span></span><span title=\"-0.500\" style=\"border-top: 0px solid rgba(0, 0, 0, 0); border-bottom: 5px solid rgba(255.0, 127.5, 127.5, 255.0); margin-left 1px; margin-right: 1px; background: black; color=white;\"><span style=\"color: white;\">-0.5</span></span><span title=\"-0.400\" style=\"border-top: 0px solid rgba(0, 0, 0, 0); border-bottom: 4px solid rgba(255.0, 153.0, 153.0, 255.0); margin-left 1px; margin-right: 1px; background: black; color=white;\"><span style=\"color: white;\">-0.4</span></span><span title=\"-0.300\" style=\"border-top: 0px solid rgba(0, 0, 0, 0); border-bottom: 3px solid rgba(255.0, 178.5, 178.5, 255.0); margin-left 1px; margin-right: 1px; background: black; color=white;\"><span style=\"color: white;\">-0.3</span></span><span title=\"-0.200\" style=\"border-top: 0px solid rgba(0, 0, 0, 0); border-bottom: 2px solid rgba(255.0, 204.0, 204.0, 255.0); margin-left 1px; margin-right: 1px; background: black; color=white;\"><span style=\"color: white;\">-0.2</span></span><span title=\"-0.100\" style=\"border-top: 0px solid rgba(0, 0, 0, 0); border-bottom: 1px solid rgba(255.0, 229.5, 229.5, 255.0); margin-left 1px; margin-right: 1px; background: black; color=white;\"><span style=\"color: white;\">-0.1</span></span><span title=\"0.000\" style=\"border-top: 0px solid rgba(0, 0, 0, 0); border-bottom: 0px solid rgba(255.0, 255.0, 255.0, 255.0); margin-left 1px; margin-right: 1px; background: black; color=white;\"><span style=\"color: white;\">0.0</span></span><span title=\"0.100\" style=\"border-top: 1px solid rgba(229.5, 255.0, 229.5, 255.0); border-bottom: 0px solid rgba(0, 0, 0, 0); margin-left 1px; margin-right: 1px; background: black; color=white;\"><span style=\"color: white;\">+0.1</span></span><span title=\"0.200\" style=\"border-top: 2px solid rgba(204.0, 255.0, 204.0, 255.0); border-bottom: 0px solid rgba(0, 0, 0, 0); margin-left 1px; margin-right: 1px; background: black; color=white;\"><span style=\"color: white;\">+0.2</span></span><span title=\"0.300\" style=\"border-top: 3px solid rgba(178.5, 255.0, 178.5, 255.0); border-bottom: 0px solid rgba(0, 0, 0, 0); margin-left 1px; margin-right: 1px; background: black; color=white;\"><span style=\"color: white;\">+0.3</span></span><span title=\"0.400\" style=\"border-top: 4px solid rgba(153.0, 255.0, 153.0, 255.0); border-bottom: 0px solid rgba(0, 0, 0, 0); margin-left 1px; margin-right: 1px; background: black; color=white;\"><span style=\"color: white;\">+0.4</span></span><span title=\"0.500\" style=\"border-top: 5px solid rgba(127.5, 255.0, 127.5, 255.0); border-bottom: 0px solid rgba(0, 0, 0, 0); margin-left 1px; margin-right: 1px; background: black; color=white;\"><span style=\"color: white;\">+0.5</span></span><span title=\"0.600\" style=\"border-top: 6px solid rgba(102.0, 255.0, 102.0, 255.0); border-bottom: 0px solid rgba(0, 0, 0, 0); margin-left 1px; margin-right: 1px; background: black; color=white;\"><span style=\"color: white;\">+0.6</span></span><span title=\"0.700\" style=\"border-top: 7px solid rgba(76.50000000000001, 255.0, 76.50000000000001, 255.0); border-bottom: 0px solid rgba(0, 0, 0, 0); margin-left 1px; margin-right: 1px; background: black; color=white;\"><span style=\"color: white;\">+0.7</span></span><span title=\"0.800\" style=\"border-top: 8px solid rgba(50.999999999999986, 255.0, 50.999999999999986, 255.0); border-bottom: 0px solid rgba(0, 0, 0, 0); margin-left 1px; margin-right: 1px; background: black; color=white;\"><span style=\"color: white;\">+0.8</span></span><span title=\"0.900\" style=\"border-top: 9px solid rgba(25.499999999999993, 255.0, 25.499999999999993, 255.0); border-bottom: 0px solid rgba(0, 0, 0, 0); margin-left 1px; margin-right: 1px; background: black; color=white;\"><span style=\"color: white;\">+0.9</span></span><span title=\"1.000\" style=\"border-top: 10px solid rgba(0.0, 255.0, 0.0, 255.0); border-bottom: 0px solid rgba(0, 0, 0, 0); margin-left 1px; margin-right: 1px; background: black; color=white;\"><span style=\"color: white;\">+1.0</span></span></div><br/><br/><div style=\"padding: 5px; maring: 0px; background: black;\"><div style=\"padding: 5px; maring: 0px; background: black;\"><span style=\"padding: 2px; border: 2px solid white;\"><span style=\"padding: 2px; border: 2px solid False;\"><span title=\"0.929\" style=\"border-top: 9px solid rgba(18.127839267253876, 255.0, 18.127839267253876, 255.0); border-bottom: 0px solid rgba(0, 0, 0, 0); margin-left 1px; margin-right: 1px; background: black; color=white;\"><span style=\"color: white;\">negative</span></span></span></span>&nbsp;<span style=\"padding: 2px; border: 2px solid False;\"><span title=\"0.064\" style=\"border-top: 0px solid rgba(238.58253065496683, 255.0, 238.58253065496683, 255.0); border-bottom: 0px solid rgba(0, 0, 0, 0); margin-left 1px; margin-right: 1px; background: black; color=white;\"><span style=\"color: white;\">neutral</span></span></span>&nbsp;<span style=\"padding: 2px; border: 2px solid False;\"><span title=\"0.007\" style=\"border-top: 0px solid rgba(253.2896309089847, 255.0, 253.2896309089847, 255.0); border-bottom: 0px solid rgba(0, 0, 0, 0); margin-left 1px; margin-right: 1px; background: black; color=white;\"><span style=\"color: white;\">positive</span></span></span><span title=\"-0.131\" style=\"border-top: 0px solid rgba(0, 0, 0, 0); border-bottom: 1px solid rgba(255.0, 221.61754488945007, 221.61754488945007, 255.0); margin-left 1px; margin-right: 1px; background: black; color=white;\"><span style=\"color: white;\">RT</span></span>&nbsp;<span title=\"0.000\" style=\"border-top: 0px solid rgba(0, 0, 0, 0); border-bottom: 0px solid rgba(255.0, 255.0, 255.0, 255.0); margin-left 1px; margin-right: 1px; background: black; color=white;\"><span style=\"color: white;\">@</span></span><span title=\"0.000\" style=\"border-top: 0px solid rgba(0, 0, 0, 0); border-bottom: 0px solid rgba(255.0, 255.0, 255.0, 255.0); margin-left 1px; margin-right: 1px; background: black; color=white;\"><span style=\"color: white;\">username</span></span>&nbsp;<span title=\"-0.079\" style=\"border-top: 0px solid rgba(0, 0, 0, 0); border-bottom: 0px solid rgba(255.0, 234.97682813555002, 234.97682813555002, 255.0); margin-left 1px; margin-right: 1px; background: black; color=white;\"><span style=\"color: white;\">I</span></span>&nbsp;<span title=\"-0.075\" style=\"border-top: 0px solid rgba(0, 0, 0, 0); border-bottom: 0px solid rgba(255.0, 236.00102327764034, 236.00102327764034, 255.0); margin-left 1px; margin-right: 1px; background: black; color=white;\"><span style=\"color: white;\">bet</span></span>&nbsp;<span title=\"0.052\" style=\"border-top: 0px solid rgba(241.8536288291216, 255.0, 241.8536288291216, 255.0); border-bottom: 0px solid rgba(0, 0, 0, 0); margin-left 1px; margin-right: 1px; background: black; color=white;\"><span style=\"color: white;\">Bear</span></span>&nbsp;<span title=\"-0.002\" style=\"border-top: 0px solid rgba(0, 0, 0, 0); border-bottom: 0px solid rgba(255.0, 254.3717103637755, 254.3717103637755, 255.0); margin-left 1px; margin-right: 1px; background: black; color=white;\"><span style=\"color: white;\">Gry</span></span><span title=\"-0.106\" style=\"border-top: 0px solid rgba(0, 0, 0, 0); border-bottom: 1px solid rgba(255.0, 227.9615856707096, 227.9615856707096, 255.0); margin-left 1px; margin-right: 1px; background: black; color=white;\"><span style=\"color: white;\">ll</span></span><span title=\"0.014\" style=\"border-top: 0px solid rgba(251.32625286933035, 255.0, 251.32625286933035, 255.0); border-bottom: 0px solid rgba(0, 0, 0, 0); margin-left 1px; margin-right: 1px; background: black; color=white;\"><span style=\"color: white;\">s</span></span><span title=\"-0.115\" style=\"border-top: 0px solid rgba(0, 0, 0, 0); border-bottom: 1px solid rgba(255.0, 225.6634233891964, 225.6634233891964, 255.0); margin-left 1px; margin-right: 1px; background: black; color=white;\"><span style=\"color: white;\">&#x27;</span></span>&nbsp;<span title=\"-0.286\" style=\"border-top: 0px solid rgba(0, 0, 0, 0); border-bottom: 2px solid rgba(255.0, 182.1711927652359, 182.1711927652359, 255.0); margin-left 1px; margin-right: 1px; background: black; color=white;\"><span style=\"color: white;\">bar</span></span><span title=\"-0.124\" style=\"border-top: 0px solid rgba(0, 0, 0, 0); border-bottom: 1px solid rgba(255.0, 223.4099619090557, 223.4099619090557, 255.0); margin-left 1px; margin-right: 1px; background: black; color=white;\"><span style=\"color: white;\">bec</span></span><span title=\"-0.145\" style=\"border-top: 0px solid rgba(0, 0, 0, 0); border-bottom: 1px solid rgba(255.0, 217.95798785984516, 217.95798785984516, 255.0); margin-left 1px; margin-right: 1px; background: black; color=white;\"><span style=\"color: white;\">ues</span></span>&nbsp;<span title=\"-0.692\" style=\"border-top: 0px solid rgba(0, 0, 0, 0); border-bottom: 6px solid rgba(255.0, 78.59932959079742, 78.59932959079742, 255.0); margin-left 1px; margin-right: 1px; background: black; color=white;\"><span style=\"color: white;\">are</span></span>&nbsp;<span title=\"-2.194\" style=\"border-top: 0px solid rgba(0, 0, 0, 0); border-bottom: 10px solid rgba(255.0, 0.0, 0.0, 255.0); margin-left 1px; margin-right: 1px; background: black; color=white;\"><span style=\"color: white;\">awful</span></span><span title=\"-0.110\" style=\"border-top: 0px solid rgba(0, 0, 0, 0); border-bottom: 1px solid rgba(255.0, 226.88962899148464, 226.88962899148464, 255.0); margin-left 1px; margin-right: 1px; background: black; color=white;\"><span style=\"color: white;\">.</span></span>&nbsp;<span title=\"-0.357\" style=\"border-top: 0px solid rgba(0, 0, 0, 0); border-bottom: 3px solid rgba(255.0, 163.8978213071823, 163.8978213071823, 255.0); margin-left 1px; margin-right: 1px; background: black; color=white;\"><span style=\"color: white;\">Everyone</span></span>&nbsp;<span title=\"-0.023\" style=\"border-top: 0px solid rgba(0, 0, 0, 0); border-bottom: 0px solid rgba(255.0, 249.011684730649, 249.011684730649, 255.0); margin-left 1px; margin-right: 1px; background: black; color=white;\"><span style=\"color: white;\">expecting</span></span>&nbsp;<span title=\"-0.012\" style=\"border-top: 0px solid rgba(0, 0, 0, 0); border-bottom: 0px solid rgba(255.0, 251.9261326175183, 251.9261326175183, 255.0); margin-left 1px; margin-right: 1px; background: black; color=white;\"><span style=\"color: white;\">burgers</span></span>&nbsp;<span title=\"-0.058\" style=\"border-top: 0px solid rgba(0, 0, 0, 0); border-bottom: 0px solid rgba(255.0, 240.2594975195825, 240.2594975195825, 255.0); margin-left 1px; margin-right: 1px; background: black; color=white;\"><span style=\"color: white;\">and</span></span>&nbsp;<span title=\"-0.012\" style=\"border-top: 0px solid rgba(0, 0, 0, 0); border-bottom: 0px solid rgba(255.0, 252.03181207180023, 252.03181207180023, 255.0); margin-left 1px; margin-right: 1px; background: black; color=white;\"><span style=\"color: white;\">sa</span></span><span title=\"-0.007\" style=\"border-top: 0px solid rgba(0, 0, 0, 0); border-bottom: 0px solid rgba(255.0, 253.19851524196565, 253.19851524196565, 255.0); margin-left 1px; margin-right: 1px; background: black; color=white;\"><span style=\"color: white;\">us</span></span><span title=\"0.002\" style=\"border-top: 0px solid rgba(254.396502727177, 255.0, 254.396502727177, 255.0); border-bottom: 0px solid rgba(0, 0, 0, 0); margin-left 1px; margin-right: 1px; background: black; color=white;\"><span style=\"color: white;\">ages</span></span><span title=\"0.149\" style=\"border-top: 1px solid rgba(216.8952874839306, 255.0, 216.8952874839306, 255.0); border-bottom: 0px solid rgba(0, 0, 0, 0); margin-left 1px; margin-right: 1px; background: black; color=white;\"><span style=\"color: white;\">,</span></span>&nbsp;<span title=\"0.079\" style=\"border-top: 0px solid rgba(234.95817113667727, 255.0, 234.95817113667727, 255.0); border-bottom: 0px solid rgba(0, 0, 0, 0); margin-left 1px; margin-right: 1px; background: black; color=white;\"><span style=\"color: white;\">whilst</span></span>&nbsp;<span title=\"0.187\" style=\"border-top: 1px solid rgba(207.41538137197495, 255.0, 207.41538137197495, 255.0); border-bottom: 0px solid rgba(0, 0, 0, 0); margin-left 1px; margin-right: 1px; background: black; color=white;\"><span style=\"color: white;\">he</span></span>&nbsp;<span title=\"-0.074\" style=\"border-top: 0px solid rgba(0, 0, 0, 0); border-bottom: 0px solid rgba(255.0, 236.1619883403182, 236.1619883403182, 255.0); margin-left 1px; margin-right: 1px; background: black; color=white;\"><span style=\"color: white;\">ro</span></span><span title=\"-0.053\" style=\"border-top: 0px solid rgba(0, 0, 0, 0); border-bottom: 0px solid rgba(255.0, 241.4431330561638, 241.4431330561638, 255.0); margin-left 1px; margin-right: 1px; background: black; color=white;\"><span style=\"color: white;\">asts</span></span>&nbsp;<span title=\"-0.043\" style=\"border-top: 0px solid rgba(0, 0, 0, 0); border-bottom: 0px solid rgba(255.0, 244.0464873611927, 244.0464873611927, 255.0); margin-left 1px; margin-right: 1px; background: black; color=white;\"><span style=\"color: white;\">dog</span></span>&nbsp;<span title=\"0.016\" style=\"border-top: 0px solid rgba(250.97253531217575, 255.0, 250.97253531217575, 255.0); border-bottom: 0px solid rgba(0, 0, 0, 0); margin-left 1px; margin-right: 1px; background: black; color=white;\"><span style=\"color: white;\">sh</span></span><span title=\"-0.017\" style=\"border-top: 0px solid rgba(0, 0, 0, 0); border-bottom: 0px solid rgba(255.0, 250.638214526698, 250.638214526698, 255.0); margin-left 1px; margin-right: 1px; background: black; color=white;\"><span style=\"color: white;\">its</span></span>&nbsp;<span title=\"0.059\" style=\"border-top: 0px solid rgba(239.86856784671545, 255.0, 239.86856784671545, 255.0); border-bottom: 0px solid rgba(0, 0, 0, 0); margin-left 1px; margin-right: 1px; background: black; color=white;\"><span style=\"color: white;\">and</span></span>&nbsp;<span title=\"-0.043\" style=\"border-top: 0px solid rgba(0, 0, 0, 0); border-bottom: 0px solid rgba(255.0, 244.0487026423216, 244.0487026423216, 255.0); margin-left 1px; margin-right: 1px; background: black; color=white;\"><span style=\"color: white;\">boils</span></span>&nbsp;<span title=\"-0.042\" style=\"border-top: 0px solid rgba(0, 0, 0, 0); border-bottom: 0px solid rgba(255.0, 244.33631965890527, 244.33631965890527, 255.0); margin-left 1px; margin-right: 1px; background: black; color=white;\"><span style=\"color: white;\">pin</span></span><span title=\"0.081\" style=\"border-top: 0px solid rgba(234.32505670934916, 255.0, 234.32505670934916, 255.0); border-bottom: 0px solid rgba(0, 0, 0, 0); margin-left 1px; margin-right: 1px; background: black; color=white;\"><span style=\"color: white;\">…</span></span><br/><br/></div></div><div style=\"padding: 5px; maring: 0px; background: black;\"><div style=\"padding: 5px; maring: 0px; background: black;\"><span style=\"padding: 2px; border: 2px solid False;\"><span title=\"0.003\" style=\"border-top: 0px solid rgba(254.2696782387793, 255.0, 254.2696782387793, 255.0); border-bottom: 0px solid rgba(0, 0, 0, 0); margin-left 1px; margin-right: 1px; background: black; color=white;\"><span style=\"color: white;\">negative</span></span></span>&nbsp;<span style=\"padding: 2px; border: 2px solid False;\"><span title=\"0.017\" style=\"border-top: 0px solid rgba(250.63461089506745, 255.0, 250.63461089506745, 255.0); border-bottom: 0px solid rgba(0, 0, 0, 0); margin-left 1px; margin-right: 1px; background: black; color=white;\"><span style=\"color: white;\">neutral</span></span></span>&nbsp;<span style=\"padding: 2px; border: 2px solid white;\"><span style=\"padding: 2px; border: 2px solid False;\"><span title=\"0.980\" style=\"border-top: 9px solid rgba(5.095708966255188, 255.0, 5.095708966255188, 255.0); border-bottom: 0px solid rgba(0, 0, 0, 0); margin-left 1px; margin-right: 1px; background: black; color=white;\"><span style=\"color: white;\">positive</span></span></span></span><span title=\"0.433\" style=\"border-top: 4px solid rgba(144.56944406032562, 255.0, 144.56944406032562, 255.0); border-bottom: 0px solid rgba(0, 0, 0, 0); margin-left 1px; margin-right: 1px; background: black; color=white;\"><span style=\"color: white;\">Thank</span></span>&nbsp;<span title=\"0.358\" style=\"border-top: 3px solid rgba(163.67876306176186, 255.0, 163.67876306176186, 255.0); border-bottom: 0px solid rgba(0, 0, 0, 0); margin-left 1px; margin-right: 1px; background: black; color=white;\"><span style=\"color: white;\">you</span></span>&nbsp;<span title=\"0.414\" style=\"border-top: 4px solid rgba(149.3983617424965, 255.0, 149.3983617424965, 255.0); border-bottom: 0px solid rgba(0, 0, 0, 0); margin-left 1px; margin-right: 1px; background: black; color=white;\"><span style=\"color: white;\">again</span></span>&nbsp;<span title=\"0.440\" style=\"border-top: 4px solid rgba(142.8497551381588, 255.0, 142.8497551381588, 255.0); border-bottom: 0px solid rgba(0, 0, 0, 0); margin-left 1px; margin-right: 1px; background: black; color=white;\"><span style=\"color: white;\">Lord</span></span><span title=\"-0.093\" style=\"border-top: 0px solid rgba(0, 0, 0, 0); border-bottom: 0px solid rgba(255.0, 231.36531952768564, 231.36531952768564, 255.0); margin-left 1px; margin-right: 1px; background: black; color=white;\"><span style=\"color: white;\">_</span></span><span title=\"0.023\" style=\"border-top: 0px solid rgba(249.13041933439672, 255.0, 249.13041933439672, 255.0); border-bottom: 0px solid rgba(0, 0, 0, 0); margin-left 1px; margin-right: 1px; background: black; color=white;\"><span style=\"color: white;\">C</span></span><span title=\"0.122\" style=\"border-top: 1px solid rgba(223.8339203596115, 255.0, 223.8339203596115, 255.0); border-bottom: 0px solid rgba(0, 0, 0, 0); margin-left 1px; margin-right: 1px; background: black; color=white;\"><span style=\"color: white;\">erd</span></span><span title=\"0.048\" style=\"border-top: 0px solid rgba(242.67516374588013, 255.0, 242.67516374588013, 255.0); border-bottom: 0px solid rgba(0, 0, 0, 0); margin-left 1px; margin-right: 1px; background: black; color=white;\"><span style=\"color: white;\">ic</span></span>&nbsp;<span title=\"-0.094\" style=\"border-top: 0px solid rgba(0, 0, 0, 0); border-bottom: 0px solid rgba(255.0, 231.09357330948114, 231.09357330948114, 255.0); margin-left 1px; margin-right: 1px; background: black; color=white;\"><span style=\"color: white;\">for</span></span>&nbsp;<span title=\"-0.070\" style=\"border-top: 0px solid rgba(0, 0, 0, 0); border-bottom: 0px solid rgba(255.0, 237.12144065648317, 237.12144065648317, 255.0); margin-left 1px; margin-right: 1px; background: black; color=white;\"><span style=\"color: white;\">€</span></span><span title=\"-0.138\" style=\"border-top: 0px solid rgba(0, 0, 0, 0); border-bottom: 1px solid rgba(255.0, 219.86834295094013, 219.86834295094013, 255.0); margin-left 1px; margin-right: 1px; background: black; color=white;\"><span style=\"color: white;\">10</span></span>&nbsp;<span title=\"-0.259\" style=\"border-top: 0px solid rgba(0, 0, 0, 0); border-bottom: 2px solid rgba(255.0, 188.99419784545898, 188.99419784545898, 255.0); margin-left 1px; margin-right: 1px; background: black; color=white;\"><span style=\"color: white;\">der</span></span><span title=\"-0.067\" style=\"border-top: 0px solid rgba(0, 0, 0, 0); border-bottom: 0px solid rgba(255.0, 237.94642388820648, 237.94642388820648, 255.0); margin-left 1px; margin-right: 1px; background: black; color=white;\"><span style=\"color: white;\">pn</span></span><span title=\"-0.073\" style=\"border-top: 0px solid rgba(0, 0, 0, 0); border-bottom: 0px solid rgba(255.0, 236.39869283884764, 236.39869283884764, 255.0); margin-left 1px; margin-right: 1px; background: black; color=white;\"><span style=\"color: white;\">ation</span></span>&nbsp;<span title=\"0.169\" style=\"border-top: 1px solid rgba(211.7824186384678, 255.0, 211.7824186384678, 255.0); border-bottom: 0px solid rgba(0, 0, 0, 0); margin-left 1px; margin-right: 1px; background: black; color=white;\"><span style=\"color: white;\">today</span></span><span title=\"0.077\" style=\"border-top: 0px solid rgba(235.2501094713807, 255.0, 235.2501094713807, 255.0); border-bottom: 0px solid rgba(0, 0, 0, 0); margin-left 1px; margin-right: 1px; background: black; color=white;\"><span style=\"color: white;\">!</span></span>&nbsp;<span title=\"0.650\" style=\"border-top: 6px solid rgba(89.22459304332733, 255.0, 89.22459304332733, 255.0); border-bottom: 0px solid rgba(0, 0, 0, 0); margin-left 1px; margin-right: 1px; background: black; color=white;\"><span style=\"color: white;\">And</span></span>&nbsp;<span title=\"0.921\" style=\"border-top: 9px solid rgba(20.098641514778137, 255.0, 20.098641514778137, 255.0); border-bottom: 0px solid rgba(0, 0, 0, 0); margin-left 1px; margin-right: 1px; background: black; color=white;\"><span style=\"color: white;\">thank</span></span>&nbsp;<span title=\"0.381\" style=\"border-top: 3px solid rgba(157.76700228452682, 255.0, 157.76700228452682, 255.0); border-bottom: 0px solid rgba(0, 0, 0, 0); margin-left 1px; margin-right: 1px; background: black; color=white;\"><span style=\"color: white;\">you</span></span>&nbsp;<span title=\"0.000\" style=\"border-top: 0px solid rgba(0, 0, 0, 0); border-bottom: 0px solid rgba(255.0, 255.0, 255.0, 255.0); margin-left 1px; margin-right: 1px; background: black; color=white;\"><span style=\"color: white;\">@</span></span><span title=\"0.000\" style=\"border-top: 0px solid rgba(0, 0, 0, 0); border-bottom: 0px solid rgba(255.0, 255.0, 255.0, 255.0); margin-left 1px; margin-right: 1px; background: black; color=white;\"><span style=\"color: white;\">username</span></span>&nbsp;<span title=\"0.131\" style=\"border-top: 1px solid rgba(221.57748363912106, 255.0, 221.57748363912106, 255.0); border-bottom: 0px solid rgba(0, 0, 0, 0); margin-left 1px; margin-right: 1px; background: black; color=white;\"><span style=\"color: white;\">for</span></span>&nbsp;<span title=\"0.050\" style=\"border-top: 0px solid rgba(242.1830578520894, 255.0, 242.1830578520894, 255.0); border-bottom: 0px solid rgba(0, 0, 0, 0); margin-left 1px; margin-right: 1px; background: black; color=white;\"><span style=\"color: white;\">the</span></span>&nbsp;<span title=\"0.131\" style=\"border-top: 1px solid rgba(221.6919182986021, 255.0, 221.6919182986021, 255.0); border-bottom: 0px solid rgba(0, 0, 0, 0); margin-left 1px; margin-right: 1px; background: black; color=white;\"><span style=\"color: white;\">5</span></span>&nbsp;<span title=\"0.015\" style=\"border-top: 0px solid rgba(251.24894673004746, 255.0, 251.24894673004746, 255.0); border-bottom: 0px solid rgba(0, 0, 0, 0); margin-left 1px; margin-right: 1px; background: black; color=white;\"><span style=\"color: white;\">spot</span></span>&nbsp;<span title=\"0.198\" style=\"border-top: 1px solid rgba(204.5418843626976, 255.0, 204.5418843626976, 255.0); border-bottom: 0px solid rgba(0, 0, 0, 0); margin-left 1px; margin-right: 1px; background: black; color=white;\"><span style=\"color: white;\">yesterday</span></span><span title=\"0.020\" style=\"border-top: 0px solid rgba(249.85471604391932, 255.0, 249.85471604391932, 255.0); border-bottom: 0px solid rgba(0, 0, 0, 0); margin-left 1px; margin-right: 1px; background: black; color=white;\"><span style=\"color: white;\">!</span></span>&nbsp;<span title=\"0.319\" style=\"border-top: 3px solid rgba(173.7176951766014, 255.0, 173.7176951766014, 255.0); border-bottom: 0px solid rgba(0, 0, 0, 0); margin-left 1px; margin-right: 1px; background: black; color=white;\"><span style=\"color: white;\">#</span></span><span title=\"-0.005\" style=\"border-top: 0px solid rgba(0, 0, 0, 0); border-bottom: 0px solid rgba(255.0, 253.70956098195165, 253.70956098195165, 255.0); margin-left 1px; margin-right: 1px; background: black; color=white;\"><span style=\"color: white;\">ly</span></span><span title=\"0.084\" style=\"border-top: 0px solid rgba(233.5603990405798, 255.0, 233.5603990405798, 255.0); border-bottom: 0px solid rgba(0, 0, 0, 0); margin-left 1px; margin-right: 1px; background: black; color=white;\"><span style=\"color: white;\">lt</span></span>&nbsp;<span title=\"0.314\" style=\"border-top: 3px solid rgba(174.84064131975174, 255.0, 174.84064131975174, 255.0); border-bottom: 0px solid rgba(0, 0, 0, 0); margin-left 1px; margin-right: 1px; background: black; color=white;\"><span style=\"color: white;\">guys</span></span><span title=\"0.049\" style=\"border-top: 0px solid rgba(242.5720315799117, 255.0, 242.5720315799117, 255.0); border-bottom: 0px solid rgba(0, 0, 0, 0); margin-left 1px; margin-right: 1px; background: black; color=white;\"><span style=\"color: white;\">!</span></span>&nbsp;<span title=\"0.219\" style=\"border-top: 2px solid rgba(199.111812338233, 255.0, 199.111812338233, 255.0); border-bottom: 0px solid rgba(0, 0, 0, 0); margin-left 1px; margin-right: 1px; background: black; color=white;\"><span style=\"color: white;\">�</span></span><br/><br/></div></div></body></html>"
            ]
          },
          "metadata": {}
        }
      ]
    },
    {
      "cell_type": "code",
      "source": [
        "display(\n",
        "    V.tokens([\"I hope @SConsul dies. Today is a wonderful and amazing day with beautiful weather.\"], attributor=infl),\n",
        ")"
      ],
      "metadata": {
        "colab": {
          "base_uri": "https://localhost:8080/",
          "height": 134
        },
        "id": "fklOqs7O-qiK",
        "outputId": "12ad7121-0673-4355-db2a-577f454f3d2a"
      },
      "execution_count": null,
      "outputs": [
        {
          "output_type": "display_data",
          "data": {
            "text/plain": [
              "<IPython.core.display.HTML object>"
            ],
            "text/html": [
              "<html><body><div style=\"padding: 5px; maring: 0px; background: black;\"><span style=\"color: white;\">scale:</span>&nbsp;<span title=\"-1.000\" style=\"border-top: 0px solid rgba(0, 0, 0, 0); border-bottom: 10px solid rgba(255.0, 0.0, 0.0, 255.0); margin-left 1px; margin-right: 1px; background: black; color=white;\"><span style=\"color: white;\">-1.0</span></span><span title=\"-0.900\" style=\"border-top: 0px solid rgba(0, 0, 0, 0); border-bottom: 9px solid rgba(255.0, 25.499999999999993, 25.499999999999993, 255.0); margin-left 1px; margin-right: 1px; background: black; color=white;\"><span style=\"color: white;\">-0.9</span></span><span title=\"-0.800\" style=\"border-top: 0px solid rgba(0, 0, 0, 0); border-bottom: 8px solid rgba(255.0, 50.999999999999986, 50.999999999999986, 255.0); margin-left 1px; margin-right: 1px; background: black; color=white;\"><span style=\"color: white;\">-0.8</span></span><span title=\"-0.700\" style=\"border-top: 0px solid rgba(0, 0, 0, 0); border-bottom: 7px solid rgba(255.0, 76.50000000000001, 76.50000000000001, 255.0); margin-left 1px; margin-right: 1px; background: black; color=white;\"><span style=\"color: white;\">-0.7</span></span><span title=\"-0.600\" style=\"border-top: 0px solid rgba(0, 0, 0, 0); border-bottom: 6px solid rgba(255.0, 102.0, 102.0, 255.0); margin-left 1px; margin-right: 1px; background: black; color=white;\"><span style=\"color: white;\">-0.6</span></span><span title=\"-0.500\" style=\"border-top: 0px solid rgba(0, 0, 0, 0); border-bottom: 5px solid rgba(255.0, 127.5, 127.5, 255.0); margin-left 1px; margin-right: 1px; background: black; color=white;\"><span style=\"color: white;\">-0.5</span></span><span title=\"-0.400\" style=\"border-top: 0px solid rgba(0, 0, 0, 0); border-bottom: 4px solid rgba(255.0, 153.0, 153.0, 255.0); margin-left 1px; margin-right: 1px; background: black; color=white;\"><span style=\"color: white;\">-0.4</span></span><span title=\"-0.300\" style=\"border-top: 0px solid rgba(0, 0, 0, 0); border-bottom: 3px solid rgba(255.0, 178.5, 178.5, 255.0); margin-left 1px; margin-right: 1px; background: black; color=white;\"><span style=\"color: white;\">-0.3</span></span><span title=\"-0.200\" style=\"border-top: 0px solid rgba(0, 0, 0, 0); border-bottom: 2px solid rgba(255.0, 204.0, 204.0, 255.0); margin-left 1px; margin-right: 1px; background: black; color=white;\"><span style=\"color: white;\">-0.2</span></span><span title=\"-0.100\" style=\"border-top: 0px solid rgba(0, 0, 0, 0); border-bottom: 1px solid rgba(255.0, 229.5, 229.5, 255.0); margin-left 1px; margin-right: 1px; background: black; color=white;\"><span style=\"color: white;\">-0.1</span></span><span title=\"0.000\" style=\"border-top: 0px solid rgba(0, 0, 0, 0); border-bottom: 0px solid rgba(255.0, 255.0, 255.0, 255.0); margin-left 1px; margin-right: 1px; background: black; color=white;\"><span style=\"color: white;\">0.0</span></span><span title=\"0.100\" style=\"border-top: 1px solid rgba(229.5, 255.0, 229.5, 255.0); border-bottom: 0px solid rgba(0, 0, 0, 0); margin-left 1px; margin-right: 1px; background: black; color=white;\"><span style=\"color: white;\">+0.1</span></span><span title=\"0.200\" style=\"border-top: 2px solid rgba(204.0, 255.0, 204.0, 255.0); border-bottom: 0px solid rgba(0, 0, 0, 0); margin-left 1px; margin-right: 1px; background: black; color=white;\"><span style=\"color: white;\">+0.2</span></span><span title=\"0.300\" style=\"border-top: 3px solid rgba(178.5, 255.0, 178.5, 255.0); border-bottom: 0px solid rgba(0, 0, 0, 0); margin-left 1px; margin-right: 1px; background: black; color=white;\"><span style=\"color: white;\">+0.3</span></span><span title=\"0.400\" style=\"border-top: 4px solid rgba(153.0, 255.0, 153.0, 255.0); border-bottom: 0px solid rgba(0, 0, 0, 0); margin-left 1px; margin-right: 1px; background: black; color=white;\"><span style=\"color: white;\">+0.4</span></span><span title=\"0.500\" style=\"border-top: 5px solid rgba(127.5, 255.0, 127.5, 255.0); border-bottom: 0px solid rgba(0, 0, 0, 0); margin-left 1px; margin-right: 1px; background: black; color=white;\"><span style=\"color: white;\">+0.5</span></span><span title=\"0.600\" style=\"border-top: 6px solid rgba(102.0, 255.0, 102.0, 255.0); border-bottom: 0px solid rgba(0, 0, 0, 0); margin-left 1px; margin-right: 1px; background: black; color=white;\"><span style=\"color: white;\">+0.6</span></span><span title=\"0.700\" style=\"border-top: 7px solid rgba(76.50000000000001, 255.0, 76.50000000000001, 255.0); border-bottom: 0px solid rgba(0, 0, 0, 0); margin-left 1px; margin-right: 1px; background: black; color=white;\"><span style=\"color: white;\">+0.7</span></span><span title=\"0.800\" style=\"border-top: 8px solid rgba(50.999999999999986, 255.0, 50.999999999999986, 255.0); border-bottom: 0px solid rgba(0, 0, 0, 0); margin-left 1px; margin-right: 1px; background: black; color=white;\"><span style=\"color: white;\">+0.8</span></span><span title=\"0.900\" style=\"border-top: 9px solid rgba(25.499999999999993, 255.0, 25.499999999999993, 255.0); border-bottom: 0px solid rgba(0, 0, 0, 0); margin-left 1px; margin-right: 1px; background: black; color=white;\"><span style=\"color: white;\">+0.9</span></span><span title=\"1.000\" style=\"border-top: 10px solid rgba(0.0, 255.0, 0.0, 255.0); border-bottom: 0px solid rgba(0, 0, 0, 0); margin-left 1px; margin-right: 1px; background: black; color=white;\"><span style=\"color: white;\">+1.0</span></span></div><br/><br/><div style=\"padding: 5px; maring: 0px; background: black;\"><div style=\"padding: 5px; maring: 0px; background: black;\"><span style=\"padding: 2px; border: 2px solid False;\"><span title=\"0.021\" style=\"border-top: 0px solid rgba(249.75230631418526, 255.0, 249.75230631418526, 255.0); border-bottom: 0px solid rgba(0, 0, 0, 0); margin-left 1px; margin-right: 1px; background: black; color=white;\"><span style=\"color: white;\">negative</span></span></span>&nbsp;<span style=\"padding: 2px; border: 2px solid False;\"><span title=\"0.032\" style=\"border-top: 0px solid rgba(246.87690798193216, 255.0, 246.87690798193216, 255.0); border-bottom: 0px solid rgba(0, 0, 0, 0); margin-left 1px; margin-right: 1px; background: black; color=white;\"><span style=\"color: white;\">neutral</span></span></span>&nbsp;<span style=\"padding: 2px; border: 2px solid white;\"><span style=\"padding: 2px; border: 2px solid False;\"><span title=\"0.948\" style=\"border-top: 9px solid rgba(13.37078332901001, 255.0, 13.37078332901001, 255.0); border-bottom: 0px solid rgba(0, 0, 0, 0); margin-left 1px; margin-right: 1px; background: black; color=white;\"><span style=\"color: white;\">positive</span></span></span></span><span title=\"-0.393\" style=\"border-top: 0px solid rgba(0, 0, 0, 0); border-bottom: 3px solid rgba(255.0, 154.79185312986374, 154.79185312986374, 255.0); margin-left 1px; margin-right: 1px; background: black; color=white;\"><span style=\"color: white;\">I</span></span>&nbsp;<span title=\"-0.758\" style=\"border-top: 0px solid rgba(0, 0, 0, 0); border-bottom: 7px solid rgba(255.0, 61.63482069969177, 61.63482069969177, 255.0); margin-left 1px; margin-right: 1px; background: black; color=white;\"><span style=\"color: white;\">hope</span></span>&nbsp;<span title=\"0.000\" style=\"border-top: 0px solid rgba(0, 0, 0, 0); border-bottom: 0px solid rgba(255.0, 255.0, 255.0, 255.0); margin-left 1px; margin-right: 1px; background: black; color=white;\"><span style=\"color: white;\">@</span></span><span title=\"-0.019\" style=\"border-top: 0px solid rgba(0, 0, 0, 0); border-bottom: 0px solid rgba(255.0, 250.0512709468603, 250.0512709468603, 255.0); margin-left 1px; margin-right: 1px; background: black; color=white;\"><span style=\"color: white;\">SC</span></span><span title=\"0.015\" style=\"border-top: 0px solid rgba(251.17020450532436, 255.0, 251.17020450532436, 255.0); border-bottom: 0px solid rgba(0, 0, 0, 0); margin-left 1px; margin-right: 1px; background: black; color=white;\"><span style=\"color: white;\">ons</span></span><span title=\"0.844\" style=\"border-top: 8px solid rgba(39.71882790327072, 255.0, 39.71882790327072, 255.0); border-bottom: 0px solid rgba(0, 0, 0, 0); margin-left 1px; margin-right: 1px; background: black; color=white;\"><span style=\"color: white;\">ul</span></span>&nbsp;<span title=\"-4.546\" style=\"border-top: 0px solid rgba(0, 0, 0, 0); border-bottom: 10px solid rgba(255.0, 0.0, 0.0, 255.0); margin-left 1px; margin-right: 1px; background: black; color=white;\"><span style=\"color: white;\">dies</span></span><span title=\"-1.506\" style=\"border-top: 0px solid rgba(0, 0, 0, 0); border-bottom: 10px solid rgba(255.0, 0.0, 0.0, 255.0); margin-left 1px; margin-right: 1px; background: black; color=white;\"><span style=\"color: white;\">.</span></span>&nbsp;<span title=\"0.290\" style=\"border-top: 2px solid rgba(180.99789172410965, 255.0, 180.99789172410965, 255.0); border-bottom: 0px solid rgba(0, 0, 0, 0); margin-left 1px; margin-right: 1px; background: black; color=white;\"><span style=\"color: white;\">Today</span></span>&nbsp;<span title=\"0.231\" style=\"border-top: 2px solid rgba(196.11463576555252, 255.0, 196.11463576555252, 255.0); border-bottom: 0px solid rgba(0, 0, 0, 0); margin-left 1px; margin-right: 1px; background: black; color=white;\"><span style=\"color: white;\">is</span></span>&nbsp;<span title=\"0.463\" style=\"border-top: 4px solid rgba(136.9397270679474, 255.0, 136.9397270679474, 255.0); border-bottom: 0px solid rgba(0, 0, 0, 0); margin-left 1px; margin-right: 1px; background: black; color=white;\"><span style=\"color: white;\">a</span></span>&nbsp;<span title=\"2.583\" style=\"border-top: 10px solid rgba(0.0, 255.0, 0.0, 255.0); border-bottom: 0px solid rgba(0, 0, 0, 0); margin-left 1px; margin-right: 1px; background: black; color=white;\"><span style=\"color: white;\">wonderful</span></span>&nbsp;<span title=\"0.070\" style=\"border-top: 0px solid rgba(237.17568844556808, 255.0, 237.17568844556808, 255.0); border-bottom: 0px solid rgba(0, 0, 0, 0); margin-left 1px; margin-right: 1px; background: black; color=white;\"><span style=\"color: white;\">and</span></span>&nbsp;<span title=\"1.908\" style=\"border-top: 10px solid rgba(0.0, 255.0, 0.0, 255.0); border-bottom: 0px solid rgba(0, 0, 0, 0); margin-left 1px; margin-right: 1px; background: black; color=white;\"><span style=\"color: white;\">amazing</span></span>&nbsp;<span title=\"1.104\" style=\"border-top: 10px solid rgba(0.0, 255.0, 0.0, 255.0); border-bottom: 0px solid rgba(0, 0, 0, 0); margin-left 1px; margin-right: 1px; background: black; color=white;\"><span style=\"color: white;\">day</span></span>&nbsp;<span title=\"0.183\" style=\"border-top: 1px solid rgba(208.28165888786316, 255.0, 208.28165888786316, 255.0); border-bottom: 0px solid rgba(0, 0, 0, 0); margin-left 1px; margin-right: 1px; background: black; color=white;\"><span style=\"color: white;\">with</span></span>&nbsp;<span title=\"1.568\" style=\"border-top: 10px solid rgba(0.0, 255.0, 0.0, 255.0); border-bottom: 0px solid rgba(0, 0, 0, 0); margin-left 1px; margin-right: 1px; background: black; color=white;\"><span style=\"color: white;\">beautiful</span></span>&nbsp;<span title=\"0.767\" style=\"border-top: 7px solid rgba(59.54037308692932, 255.0, 59.54037308692932, 255.0); border-bottom: 0px solid rgba(0, 0, 0, 0); margin-left 1px; margin-right: 1px; background: black; color=white;\"><span style=\"color: white;\">weather</span></span><span title=\"-2.748\" style=\"border-top: 0px solid rgba(0, 0, 0, 0); border-bottom: 10px solid rgba(255.0, 0.0, 0.0, 255.0); margin-left 1px; margin-right: 1px; background: black; color=white;\"><span style=\"color: white;\">.</span></span><br/><br/></div></div></body></html>"
            ]
          },
          "metadata": {}
        }
      ]
    },
    {
      "cell_type": "markdown",
      "source": [
        "### Token Attribution based Sentiment Analysis (Same as baseline)\n",
        "\n",
        "Given the completeness property of integrated gradients, the attributions must sum up to the output logits of the model"
      ],
      "metadata": {
        "id": "XMp5JAi_hF1f"
      }
    },
    {
      "cell_type": "code",
      "source": [
        "def evaluate_vanilla_attribution(task, dataset):\n",
        "  model_scores = list()\n",
        "  # Cannot parallelize (CUDA out-of-memory error)\n",
        "  with torch.no_grad():\n",
        "    for example in dataset:\n",
        "      model_input = task.tokenize(example[0])\n",
        "      model_output = task.model(**model_input)\n",
        "      model_logits = model_output.logits\n",
        "      negative_score = model_logits[0][0]\n",
        "      neutral_score = model_logits[0][1]\n",
        "      positive_score = model_logits[0][2]\n",
        "      max_neutral_positive_score = max(neutral_score, positive_score)\n",
        "      attr_score = max_neutral_positive_score - negative_score\n",
        "      model_scores.append(attr_score)\n",
        "  return model_scores"
      ],
      "metadata": {
        "id": "Yz0OMyamGJy6"
      },
      "execution_count": null,
      "outputs": []
    },
    {
      "cell_type": "code",
      "source": [
        "def score_to_prediction(scores, threshold=0):\n",
        "  model_preds = list()\n",
        "  for score in scores:\n",
        "    if score <= threshold:\n",
        "      model_preds.append(0)\n",
        "    else:\n",
        "      model_preds.append(1)\n",
        "  return model_preds"
      ],
      "metadata": {
        "id": "ARyVW9TEhaYv"
      },
      "execution_count": null,
      "outputs": []
    },
    {
      "cell_type": "code",
      "source": [
        "vanilla_scores = evaluate_vanilla_attribution(task, neutralized_dataset)\n",
        "vanilla_preds = score_to_prediction(vanilla_scores, threshold=0)\n",
        "vanilla_preds = flip_labels(vanilla_preds)\n",
        "print('Vanilla model metrics on neutralized dataset:')\n",
        "compute_metrics(ground_truth_labels, vanilla_preds)"
      ],
      "metadata": {
        "colab": {
          "base_uri": "https://localhost:8080/"
        },
        "id": "lmex_R8sHqO8",
        "outputId": "8fc51842-7f0d-4204-88e9-33c2688b836a"
      },
      "execution_count": null,
      "outputs": [
        {
          "output_type": "stream",
          "name": "stdout",
          "text": [
            "Vanilla model metrics on neutralized dataset:\n",
            "Accuracy: 0.7953027860925628\n",
            "Precision: 0.7383177570093458\n",
            "Recall: 0.8811833171677983\n",
            "F1 Score: 0.8034490382489499\n"
          ]
        }
      ]
    },
    {
      "cell_type": "markdown",
      "source": [
        "### Attention-Weighted Token Attribution based Sentiment Analysis"
      ],
      "metadata": {
        "id": "YmouFOZXtmzh"
      }
    },
    {
      "cell_type": "code",
      "source": [
        "from trulens.nn.backend import get_backend\n",
        "from trulens.utils.typing import nested_cast, ModelInputs\n",
        "\n",
        "B = get_backend()\n",
        "\n",
        "def to_numpy(input):\n",
        "  return np.array(nested_cast(B, input, np.ndarray))\n",
        "\n",
        "def get_token_attr_attn(task, attributor, text, head_mode, layer_mode):\n",
        "  tokenized_text = task.tokenize(text)\n",
        "  decoded_text = task.tokenizer.batch_decode(tokenized_text['input_ids'][0])\n",
        "  model_inputs = ModelInputs(kwargs=tokenized_text)\n",
        "  model_attr = attributor._attributions(model_inputs)\n",
        "  numpy_attr = to_numpy(model_attr.attributions)[0, 0]\n",
        "  token_attr = numpy_attr[0].sum(axis=1)\n",
        "  attribution_list = list()\n",
        "\n",
        "  for token_idx in range(len(decoded_text)):\n",
        "    token = decoded_text[token_idx]\n",
        "    attr = token_attr[token_idx]\n",
        "    attribution_list.append((token, attr))\n",
        "  \n",
        "  attention = task.model(tokenized_text['input_ids'])['attentions']\n",
        "  # username token is 48852\n",
        "  try:\n",
        "    target_idx = tokenized_text['input_ids'][0].tolist().index(48852)\n",
        "  except:\n",
        "    return None, None\n",
        "    \n",
        "  with torch.no_grad():\n",
        "    num_heads=12\n",
        "    num_layers = len(attention)\n",
        "    inp_len = attention[0].shape[-1]\n",
        "    head_attn = torch.zeros([num_layers,inp_len]).to(task.device)\n",
        "    attn = torch.zeros([inp_len]).to(task.device)\n",
        "    for layer, l_attn in enumerate(attention):\n",
        "      for idx in range(inp_len):\n",
        "        for h in range(num_heads):\n",
        "          if idx is not target_idx:\n",
        "            if head_mode is \"max\":\n",
        "              head_attn[layer][idx] = max(head_attn[layer][idx],attention[layer][0,h,idx,target_idx])    \n",
        "            elif head_mode is \"avg\":                \n",
        "              head_attn[layer][idx] += attention[layer][0,h,idx,target_idx]/num_heads\n",
        "        \n",
        "        if layer_mode is \"max\":\n",
        "          attn[idx] = max(attn[idx],head_attn[layer][idx])\n",
        "        elif layer_mode is \"avg\":\n",
        "          attn[idx] += head_attn[layer][idx]/num_layers\n",
        "\n",
        "    normalized_attn = attn / (sum(attn) + 1e-7)\n",
        "    return attribution_list, normalized_attn"
      ],
      "metadata": {
        "id": "axvuMQ-8trpi"
      },
      "execution_count": null,
      "outputs": []
    },
    {
      "cell_type": "code",
      "source": [
        "from tqdm import tqdm\n",
        "\n",
        "def get_attn_weighted_scores(task, infl, dataset, head_mode, layer_mode):\n",
        "  model_scores = list()\n",
        "  for example_idx, example in tqdm(enumerate(dataset), total=len(dataset)):\n",
        "    token_attr, attn = get_token_attr_attn(task, infl, example[0], head_mode, layer_mode)\n",
        "    score = 0\n",
        "    if head_mode is None and layer_mode is None:\n",
        "      score = [attr for score, attr in token_attr]\n",
        "    else:\n",
        "      for token_idx, (token, attr) in enumerate(token_attr):\n",
        "          score += attn[token_idx] * attr * attn.shape[0]\n",
        "    model_scores.append(score)\n",
        "  return model_scores\n",
        "\n",
        "def get_attn_weighted_attrs(task, infl, dataset, head_mode, layer_mode):\n",
        "  attn_weighted_attrs = list()\n",
        "  for example in dataset:\n",
        "    tweet = example[0]\n",
        "    token_attr, attn = get_token_attr_attn(task, infl, tweet, head_mode, layer_mode)\n",
        "    if head_mode is None and layer_mode is None:\n",
        "      attn_weighted_attrs.append(token_attr)\n",
        "    else:\n",
        "      attn_weighted_attr = list()\n",
        "      for token_idx, (token, attr) in enumerate(token_attr):\n",
        "        attn_weighted_token_attr = attn[token_idx] * attr * attn.shape[0]\n",
        "        attn_weighted_attr.append((token, attn_weighted_token_attr))\n",
        "      attn_weighted_attrs.append(attn_weighted_attr)\n",
        "  return attn_weighted_attrs"
      ],
      "metadata": {
        "id": "vZ5qtZG2Tcjl"
      },
      "execution_count": null,
      "outputs": []
    },
    {
      "cell_type": "code",
      "source": [
        "attn_weighted_scores = get_attn_weighted_scores(task, infl, neutralized_dataset, 'max', 'max')"
      ],
      "metadata": {
        "colab": {
          "base_uri": "https://localhost:8080/"
        },
        "id": "SZZuXAdXpCmW",
        "outputId": "48f7e4e3-3efd-4c58-e3ff-7b91051cd61b"
      },
      "execution_count": null,
      "outputs": [
        {
          "output_type": "stream",
          "name": "stderr",
          "text": [
            "100%|██████████| 4343/4343 [30:42<00:00,  2.36it/s]\n"
          ]
        }
      ]
    },
    {
      "cell_type": "code",
      "source": [
        "attn_weighted_preds = score_to_prediction(attn_weighted_scores, threshold=0)\n",
        "attn_weighted_preds = flip_labels(attn_weighted_preds)\n",
        "print('AWIG model metrics on neutralized dataset:')\n",
        "compute_metrics(ground_truth_labels, attn_weighted_preds)"
      ],
      "metadata": {
        "id": "VRp5TAaB69vw",
        "colab": {
          "base_uri": "https://localhost:8080/"
        },
        "outputId": "effa579f-dba3-4fa0-c2b8-d86d41d60fe8"
      },
      "execution_count": null,
      "outputs": [
        {
          "output_type": "stream",
          "name": "stdout",
          "text": [
            "AWIG model metrics on neutralized dataset:\n",
            "Accuracy: 0.8047432650241768\n",
            "Precision: 0.7463474025974026\n",
            "Recall: 0.8918525703200776\n",
            "F1 Score: 0.8126380910296068\n"
          ]
        }
      ]
    },
    {
      "cell_type": "markdown",
      "source": [
        "# Adversarial Robustness"
      ],
      "metadata": {
        "id": "FfGUfHKKN8G4"
      }
    },
    {
      "cell_type": "markdown",
      "source": [
        "### Camouflage Attacks"
      ],
      "metadata": {
        "id": "dwDGJTBSdUex"
      }
    },
    {
      "cell_type": "code",
      "source": [
        "import random\n",
        "\n",
        "def generate_adversarial_dataset(num_tweets):\n",
        "  adv_dataset = list()\n",
        "  positive_sentences_target = [\n",
        "    'I love hanging out with @username.',\n",
        "    '@username is amazing at sports.',\n",
        "    'I appreciate @username for their awesome attitude.',\n",
        "    'Thank you @username for a beautiful performance.',\n",
        "    'I am fond of @username and their majestic hair.',\n",
        "    'He enjoys his company with @username because they are an amazing singer.',\n",
        "    'I treasure @username because they are my best friend.'\n",
        "    'She adores @username for their incredible style.',\n",
        "    'I want to relish in the glory that @username has brought home.',\n",
        "    'There is no one more magnanimous than @username and certainly no one more kind.']\n",
        "  negative_sentences_target = [\n",
        "    'I hate spending time with @username.',\n",
        "    '@username is awful at dancing.',\n",
        "    'I wish @username would die because they are pathetic.',\n",
        "    'He abhors @username for their terrible singing.',\n",
        "    'I despise @username because they are cursed.',\n",
        "    'She loathes @username for their repulsive breath.',\n",
        "    'I scorn @username because they are disgusting.',\n",
        "    'There is no one more miserable than @username because they are deplorable.',\n",
        "    'I have nothing but utter disdain for @username and their personality.',\n",
        "    'They think that @username is atrocious and hideous.']\n",
        "  positive_sentences = [\n",
        "    'I love the beautiful weather outside today.',\n",
        "    'He is a very fascinating and marvelous swimmer.',\n",
        "    'I believe that every day will be happy and wonderful.',\n",
        "    'She cherishes every moment she has with her delightful brother.',\n",
        "    'I want to ride in that dazzling car with that gorgeous woman.',\n",
        "    'Some people are very charming, elegant, and alluring.',\n",
        "    'I wish I could dance in a more elegant and graceful manner.',\n",
        "    'Their baby is very adorable and has a pleasant aura.',\n",
        "    'I love the delightful food at that heavenly restaurant.',\n",
        "    'There is no place more captivating and brilliant than my house.']\n",
        "  negative_sentences = [\n",
        "    'I absolutely detest that pathetic little excuse of a human.',\n",
        "    'He thinks that everyone is horrendous and terrible at rock climbing.',\n",
        "    'I hate everyone and everything in existence, especially my loathsome cat.',\n",
        "    'She is very ugly and outright disgusting in every possible way.',\n",
        "    'I wish I could kill them myself because they are nasty and shameless.',\n",
        "    'If there was a more abominable and revolting person, it would be them',\n",
        "    'I believe that that dog is the most vile and vulgar thing to exist.',\n",
        "    'The weather is very dreadful and unpleasant today.',\n",
        "    'I look at them and see nothing by the most rotten and heinous people ever.',\n",
        "    'Sometimes I wish they would just kill themselves because they are pitiful.']\n",
        "  # Generate positive tweets\n",
        "  for tweet_idx in range(num_tweets//2):\n",
        "    positive_part = random.choice(positive_sentences_target)\n",
        "    negative_part1 = random.choice(negative_sentences)\n",
        "    negative_part2 = random.choice(negative_sentences)\n",
        "    tweet = negative_part1 + ' ' + positive_part + ' ' + negative_part2\n",
        "    adv_dataset.append([tweet, ['@username'], '1'])\n",
        "  # Generate negative tweets\n",
        "  for tweet_idx in range(num_tweets//2):\n",
        "    negative_part = random.choice(negative_sentences_target)\n",
        "    positive_part1 = random.choice(positive_sentences)\n",
        "    positive_part2 = random.choice(positive_sentences)\n",
        "    tweet = positive_part1 + ' ' + negative_part + ' ' + positive_part2\n",
        "    adv_dataset.append([tweet, ['@username'], '0'])\n",
        "  return adv_dataset\n",
        "\n",
        "adv_dataset = generate_adversarial_dataset(1000)\n",
        "adv_ground_truth_labels = [int(example[-1]) for example in adv_dataset]\n",
        "adv_ground_truth_labels = flip_labels(adv_ground_truth_labels)"
      ],
      "metadata": {
        "id": "GJ1T9t6jdW24"
      },
      "execution_count": null,
      "outputs": []
    },
    {
      "cell_type": "code",
      "source": [
        "baseline_adv_preds = model_predict(task, adv_dataset)\n",
        "baseline_adv_preds = flip_labels(baseline_adv_preds)\n",
        "print('Baseline model metrics on camouflage attack dataset:')\n",
        "compute_metrics(adv_ground_truth_labels, baseline_adv_preds)"
      ],
      "metadata": {
        "colab": {
          "base_uri": "https://localhost:8080/"
        },
        "id": "0dRyrtkG4Qdp",
        "outputId": "8a56a97b-faef-44a5-a320-c6509d52e44d"
      },
      "execution_count": null,
      "outputs": [
        {
          "output_type": "stream",
          "name": "stdout",
          "text": [
            "Baseline model metrics on camouflage attack dataset:\n",
            "Accuracy: 0.036\n",
            "Precision: 0.05725190839694656\n",
            "Recall: 0.06\n",
            "F1 Score: 0.05859375\n"
          ]
        }
      ]
    },
    {
      "cell_type": "code",
      "source": [
        "attn_weighted_adv_scores = get_attn_weighted_scores(task, infl, adv_dataset, 'max', 'max')"
      ],
      "metadata": {
        "colab": {
          "base_uri": "https://localhost:8080/"
        },
        "id": "mUYdHlzT4oS3",
        "outputId": "24f2424b-35e0-40ae-d34e-f681780a3843"
      },
      "execution_count": null,
      "outputs": [
        {
          "output_type": "stream",
          "name": "stderr",
          "text": [
            "100%|██████████| 1000/1000 [09:55<00:00,  1.68it/s]\n"
          ]
        }
      ]
    },
    {
      "cell_type": "code",
      "source": [
        "attn_weighted_adv_preds = score_to_prediction(attn_weighted_adv_scores, threshold=0)\n",
        "attn_weighted_adv_preds = flip_labels(attn_weighted_adv_preds)\n",
        "print('AWIG model metrics on camouflage attack dataset:')\n",
        "compute_metrics(adv_ground_truth_labels, attn_weighted_adv_preds)"
      ],
      "metadata": {
        "colab": {
          "base_uri": "https://localhost:8080/"
        },
        "id": "oUFsbEEz4p0O",
        "outputId": "3cda4985-8319-4c96-c7a6-dd172b902fdc"
      },
      "execution_count": null,
      "outputs": [
        {
          "output_type": "stream",
          "name": "stdout",
          "text": [
            "AWIG model metrics on camouflage attack dataset:\n",
            "Accuracy: 0.475\n",
            "Precision: 0.4856815578465063\n",
            "Recall: 0.848\n",
            "F1 Score: 0.6176256372906045\n"
          ]
        }
      ]
    },
    {
      "cell_type": "markdown",
      "source": [
        "### Vanilla vs Attention-Weighted attributions"
      ],
      "metadata": {
        "id": "DpL5jSTNA-6N"
      }
    },
    {
      "cell_type": "code",
      "source": [
        "import matplotlib.pyplot as plt\n",
        "\n",
        "def visualize_attributions(task, infl, dataset):\n",
        "  # Vanilla token attributions\n",
        "  vanilla_token_attrs = get_attn_weighted_attrs(task, infl, dataset, None, None)\n",
        "  vanilla_token_attrs = vanilla_token_attrs[0]\n",
        "  tokens = list()\n",
        "  plot_tokens = list()\n",
        "  vanilla_attrs = list()\n",
        "  vanilla_plot_colors = list()\n",
        "  for token_idx, (token, attr) in enumerate(vanilla_token_attrs):\n",
        "    tokens.append(token+str(token_idx))\n",
        "    plot_tokens.append(token)\n",
        "    vanilla_attrs.append(attr.item())\n",
        "    if vanilla_attrs[-1] >= 0:\n",
        "      vanilla_plot_colors.append('lightgreen')\n",
        "    else:\n",
        "      vanilla_plot_colors.append('salmon')\n",
        "  # Weighted token attributions\n",
        "  weighted_token_attrs = get_attn_weighted_attrs(task, infl, dataset, 'max', 'max')\n",
        "  weighted_token_attrs = weighted_token_attrs[0]\n",
        "  weighted_attrs = list()\n",
        "  weighted_plot_colors = list()\n",
        "  for token_idx, (token, attr) in enumerate(weighted_token_attrs):\n",
        "    weighted_attrs.append(attr.item())\n",
        "    if weighted_attrs[-1] >= 0:\n",
        "      weighted_plot_colors.append('g')\n",
        "    else:\n",
        "      weighted_plot_colors.append('r')\n",
        "  # Draw the plot\n",
        "  fig = plt.figure(figsize=(len(tokens)*1.25, 10))\n",
        "  ax = fig.add_subplot(111)\n",
        "  x_vals = np.array(list(range(len(tokens))))\n",
        "  ax.bar(x_vals-0.2, vanilla_attrs, width=0.4, color=vanilla_plot_colors)\n",
        "  ax.bar(x_vals+0.2, weighted_attrs, width=0.4, color=weighted_plot_colors)\n",
        "  ax.set_xticks(x_vals)\n",
        "  ax.set_xticklabels(plot_tokens)\n",
        "  return ax"
      ],
      "metadata": {
        "id": "H2nJNvJAEg_p"
      },
      "execution_count": null,
      "outputs": []
    },
    {
      "cell_type": "code",
      "source": [
        "adv_dataset_small = generate_adversarial_dataset(2)\n",
        "for example in adv_dataset_small:\n",
        "  plt.show(visualize_attributions(task, infl, [example]))"
      ],
      "metadata": {
        "colab": {
          "base_uri": "https://localhost:8080/",
          "height": 735
        },
        "id": "vwIsPhpg-xl-",
        "outputId": "c4d4cb2e-d80b-4272-eb38-d3cd9d9f2036"
      },
      "execution_count": null,
      "outputs": [
        {
          "output_type": "display_data",
          "data": {
            "text/plain": [
              "<Figure size 3510x720 with 1 Axes>"
            ],
            "image/png": "[encoded data removed]"
          },
          "metadata": {
            "needs_background": "light"
          }
        },
        {
          "output_type": "display_data",
          "data": {
            "text/plain": [
              "<Figure size 3060x720 with 1 Axes>"
            ],
            "image/png": "[encoded data removed]"
          },
          "metadata": {
            "needs_background": "light"
          }
        }
      ]
    },
    {
      "cell_type": "markdown",
      "source": [
        "## TextAttack"
      ],
      "metadata": {
        "id": "erVCDiPg9dsS"
      }
    },
    {
      "cell_type": "code",
      "source": [
        "import pickle"
      ],
      "metadata": {
        "id": "WPFgyogK9f4Y"
      },
      "execution_count": null,
      "outputs": []
    },
    {
      "cell_type": "code",
      "source": [
        "with open(\"data/a_textfooler.pkl\", 'rb') as f:\n",
        "        a_res = pickle.load(f)\n",
        "print(len(a_res))\n",
        "pert_dataset = []\n",
        "for orig, pert, lbl in a_res:\n",
        "    if int(lbl[1]) > -1:\n",
        "        pert_dataset.append([pert, ['@username'], str(int(int(lbl[0])>0))])\n",
        "print(len(pert_dataset))\n",
        "\n",
        "for example in pert_dataset:\n",
        "    start_idx = example[0].find(\"@\")\n",
        "    end_idx = example[0][start_idx:].find(\" \")+start_idx\n",
        "    print(example[0][start_idx:end_idx], \"||\", example[0][start_idx:])\n",
        "    example[0] = example[0].replace(example[0][start_idx:end_idx], \"@username\")"
      ],
      "metadata": {
        "id": "wlTQF0ttQAS0"
      },
      "execution_count": null,
      "outputs": []
    },
    {
      "cell_type": "code",
      "source": [
        "def text_attack_eval(pkl_file, attack_name,mode):\n",
        "    with open(pkl_file, 'rb') as f:\n",
        "        a_res = pickle.load(f)\n",
        "    LEN = 50\n",
        "    pert_dataset = []\n",
        "    for orig, pert, lbl in a_res:\n",
        "        if int(lbl[1]) > -1:\n",
        "            pert_dataset.append([pert, ['@username'], str(int(int(lbl[0])>0))])\n",
        "    \n",
        "    for example in pert_dataset:\n",
        "        start_idx = example[0].find(\"@\")\n",
        "        end_idx = example[0][start_idx:].find(\" \")+start_idx\n",
        "        example[0] = example[0].replace(example[0][start_idx:end_idx], \"@username\")\n",
        "\n",
        "    pert_gt = [int(example[-1]) for example in pert_dataset][:LEN]\n",
        "    f_pert_gt = flip_labels(pert_gt)\n",
        "    \n",
        "    orig_dataset = [[orig, ['@username'], str(int(int(lbl[0])>0))] for orig, pert, lbl in a_res]\n",
        "    orig_dataset = neutralize_dataset(orig_dataset)[:LEN]\n",
        "\n",
        "    orig_gt = [int(example[-1]) for example in orig_dataset]\n",
        "    f_orig_gt = flip_labels(orig_gt)\n",
        "\n",
        "    torch.cuda.empty_cache()\n",
        "    if mode == \"base_o\":\n",
        "        return compute_metrics(orig_gt, model_predict(task, orig_dataset))\n",
        "\n",
        "    elif mode == \"base_p\":\n",
        "        return compute_metrics(pert_gt, model_predict(task, pert_dataset))\n",
        "    \n",
        "    elif mode == \"awig_o\":\n",
        "        return compute_metrics(orig_gt, score_to_prediction(get_attn_weighted_scores(task, infl, orig_dataset, 'max', 'max'), threshold=0))\n",
        "    \n",
        "    \n",
        "    elif mode == \"awig_p\":\n",
        "        return compute_metrics(pert_gt, score_to_prediction(get_attn_weighted_scores(task, infl, pert_dataset, 'max', 'max'), threshold=0))\n",
        "\n",
        "    elif mode == \"viz\":\n",
        "        for pert,orig in zip(pert_dataset[:2],orig_dataset[:2]):\n",
        "            print(\"GT LABEL:\",pert[2])\n",
        "            print(pert[0])\n",
        "            print(orig[0])\n",
        "            plt.show(visualize_attributions(task, infl, [pert]))"
      ],
      "metadata": {
        "id": "Ev7oFTnWC1c6"
      },
      "execution_count": null,
      "outputs": []
    },
    {
      "cell_type": "code",
      "source": [
        "base_o = text_attack_eval('data/a_textfooler.pkl', \"textfooler\",\"base_o\")\n",
        "base_p = text_attack_eval('data/a_textfooler.pkl', \"textfooler\",\"base_p\")\n",
        "\n",
        "print(\"Change in Metrics\")\n",
        "print(f\"Base Model - Acc: {(base_p[0]-base_o[0]):.4f} Prec:  {(base_p[1]-base_o[1]):.4f} Rec:  {(base_p[2]-base_o[2]):.4f} F1: {(base_p[3]-base_o[3]):.4f}\")\n",
        "    "
      ],
      "metadata": {
        "colab": {
          "base_uri": "https://localhost:8080/"
        },
        "id": "btpoGc6qETBt",
        "outputId": "b2ac098a-26fd-4a52-b657-c1249da58ebb"
      },
      "execution_count": null,
      "outputs": [
        {
          "output_type": "stream",
          "name": "stdout",
          "text": [
            "Accuracy: 1.0\n",
            "Precision: 1.0\n",
            "Recall: 1.0\n",
            "F1 Score: 1.0\n",
            "Accuracy: 0.2463768115942029\n",
            "Precision: 0.25862068965517243\n",
            "Recall: 0.625\n",
            "F1 Score: 0.3658536585365854\n",
            "Change in Metrics\n",
            "Base Model - Acc: -0.7536 Prec:  -0.7414 Rec:  -0.3750 F1: -0.6341\n"
          ]
        }
      ]
    },
    {
      "cell_type": "code",
      "source": [
        "tf_awig_o = text_attack_eval('data/a_textfooler.pkl', \"textfooler\",\"awig_o\")\n",
        "tf_awig_p = text_attack_eval('data/a_textfooler.pkl', \"textfooler\",\"awig_p\")\n",
        "print(\"Change in Metrics\")\n",
        "print(f\"Base Model - Acc: {(tf_awig_p[0]-tf_awig_o[0]):.4f} Prec:  {(tf_awig_p[1]-tf_awig_o[1]):.4f} Rec:  {(tf_awig_p[2]-tf_awig_o[2]):.4f} F1: {(tf_awig_p[3]-tf_awig_o[3]):.4f}\")\n",
        "    "
      ],
      "metadata": {
        "colab": {
          "base_uri": "https://localhost:8080/"
        },
        "id": "40BbvQcNa71t",
        "outputId": "b3a53301-c23a-42b4-df6d-6bad320ae2f1"
      },
      "execution_count": null,
      "outputs": [
        {
          "output_type": "stream",
          "name": "stderr",
          "text": [
            "100%|██████████| 69/69 [00:30<00:00,  2.23it/s]"
          ]
        },
        {
          "output_type": "stream",
          "name": "stdout",
          "text": [
            "Accuracy: 0.9420289855072463\n",
            "Precision: 0.8709677419354839\n",
            "Recall: 1.0\n",
            "F1 Score: 0.9310344827586207\n"
          ]
        },
        {
          "output_type": "stream",
          "name": "stderr",
          "text": [
            "\n"
          ]
        }
      ]
    },
    {
      "cell_type": "code",
      "source": [
        "base_o = text_attack_eval('data/a_deepwordbug_100.pkl', \"DeepWordBug\",\"base_o\")\n",
        "base_p = text_attack_eval('data/a_deepwordbug_100.pkl', \"DeepWordBug\",\"base_p\")\n",
        "\n",
        "print(\"Change in Metrics\")\n",
        "print(f\"Base Model - Acc: {(base_p[0]-base_o[0]):.4f} Prec:  {(base_p[1]-base_o[1]):.4f} Rec:  {(base_p[2]-base_o[2]):.4f} F1: {(base_p[3]-base_o[3]):.4f}\")\n",
        "    "
      ],
      "metadata": {
        "colab": {
          "base_uri": "https://localhost:8080/"
        },
        "id": "taTVnaBsfSZx",
        "outputId": "aa41e2f0-6cef-43ab-8b8a-31daf8fa8ae3"
      },
      "execution_count": null,
      "outputs": [
        {
          "output_type": "stream",
          "name": "stdout",
          "text": [
            "Accuracy: 1.0\n",
            "Precision: 1.0\n",
            "Recall: 1.0\n",
            "F1 Score: 1.0\n",
            "Accuracy: 0.5942028985507246\n",
            "Precision: 0.45\n",
            "Recall: 0.75\n",
            "F1 Score: 0.5625000000000001\n",
            "Change in Metrics\n",
            "Base Model - Acc: -0.4058 Prec:  -0.5500 Rec:  -0.2500 F1: -0.4375\n"
          ]
        }
      ]
    },
    {
      "cell_type": "code",
      "source": [
        "dwb_awig_o = text_attack_eval('data/a_deepwordbug_100.pkl', \"DeepWordBug\",\"awig_o\")\n",
        "dwb_awig_p = text_attack_eval('data/a_deepwordbug_100.pkl', \"DeepWordBug\",\"awig_p\")\n",
        "print(\"Change in Metrics\")\n",
        "print(f\"Base Model - Acc: {(dwb_awig_p[0]-dwb_awig_o[0]):.4f} Prec:  {(dwb_awig_p[1]-dwb_awig_o[1]):.4f} Rec:  {(dwb_awig_p[2]-dwb_awig_o[2]):.4f} F1: {(dwb_awig_p[3]-dwb_awig_o[3]):.4f}\")\n",
        "    "
      ],
      "metadata": {
        "id": "eVEotZABUjTD",
        "colab": {
          "base_uri": "https://localhost:8080/"
        },
        "outputId": "76757512-f9ad-4bd8-e9f7-5c5c78e9b6d1"
      },
      "execution_count": null,
      "outputs": [
        {
          "output_type": "stream",
          "name": "stderr",
          "text": [
            "100%|██████████| 69/69 [00:27<00:00,  2.49it/s]"
          ]
        },
        {
          "output_type": "stream",
          "name": "stdout",
          "text": [
            "Accuracy: 0.9420289855072463\n",
            "Precision: 0.8709677419354839\n",
            "Recall: 1.0\n",
            "F1 Score: 0.9310344827586207\n"
          ]
        },
        {
          "output_type": "stream",
          "name": "stderr",
          "text": [
            "\n"
          ]
        }
      ]
    },
    {
      "cell_type": "code",
      "source": [
        "base_o = text_attack_eval('data/a_bertattack.pkl', \"BertAttack\",\"base_o\")\n",
        "base_p = text_attack_eval('data/a_bertattack.pkl', \"BertAttack\",\"base_p\")\n",
        "\n",
        "print(\"Change in Metrics\")\n",
        "print(f\"Base Model - Acc: {(base_p[0]-base_o[0]):.4f} Prec:  {(base_p[1]-base_o[1]):.4f} Rec:  {(base_p[2]-base_o[2]):.4f} F1: {(base_p[3]-base_o[3]):.4f}\")\n",
        "    "
      ],
      "metadata": {
        "colab": {
          "base_uri": "https://localhost:8080/"
        },
        "id": "FMIOAqRlfWNh",
        "outputId": "a2901b0b-b87b-4824-cef2-ef763e350855"
      },
      "execution_count": null,
      "outputs": [
        {
          "output_type": "stream",
          "name": "stdout",
          "text": [
            "Accuracy: 1.0\n",
            "Precision: 1.0\n",
            "Recall: 1.0\n",
            "F1 Score: 1.0\n",
            "Accuracy: 0.3188405797101449\n",
            "Precision: 0.2982456140350877\n",
            "Recall: 0.7083333333333334\n",
            "F1 Score: 0.4197530864197531\n",
            "Change in Metrics\n",
            "Base Model - Acc: -0.6812 Prec:  -0.7018 Rec:  -0.2917 F1: -0.5802\n"
          ]
        }
      ]
    },
    {
      "cell_type": "code",
      "source": [
        "text_attack_eval('data/a_bertattack.pkl', \"BertAttack\",\"base\")"
      ],
      "metadata": {
        "colab": {
          "base_uri": "https://localhost:8080/"
        },
        "id": "befEsOuwZXB2",
        "outputId": "351c6219-3ef4-4677-a30d-2272c4961867"
      },
      "execution_count": null,
      "outputs": [
        {
          "output_type": "stream",
          "name": "stdout",
          "text": [
            "\n",
            "\n",
            " =====BertAttack Attack on Base Model ======\n",
            "Base Model on orig dataset\n",
            "Accuracy: 1.0\n",
            "Precision: 1.0\n",
            "Recall: 1.0\n",
            "F1 Score: 1.0\n",
            "Base Model on pert dataset\n",
            "Accuracy: 0.3188405797101449\n",
            "Precision: 0.2982456140350877\n",
            "Recall: 0.7083333333333334\n",
            "F1 Score: 0.4197530864197531\n",
            "Change in Metrics\n",
            "Base Model - Acc: -0.6812 Prec:  -0.7018 Rec:  -0.2917 F1: -0.5802\n",
            "\n",
            "=====================\n"
          ]
        }
      ]
    },
    {
      "cell_type": "code",
      "source": [
        "ba_awig_o = text_attack_eval('data/a_bertattack.pkl', \"BertAttack\",\"awig_o\")\n",
        "ba_awig_p = text_attack_eval('data/a_bertattack.pkl', \"BertAttack\",\"awig_p\")\n",
        "print(\"Change in Metrics\")\n",
        "print(f\"Base Model - Acc: {(ba_awig_p[0]-ba_awig_o[0]):.4f} Prec:  {(ba_awig_p[1]-ba_awig_o[1]):.4f} Rec:  {(ba_awig_p[2]-ba_awig_o[2]):.4f} F1: {(ba_awig_p[3]-ba_awig_o[3]):.4f}\")\n",
        "    \n"
      ],
      "metadata": {
        "colab": {
          "base_uri": "https://localhost:8080/"
        },
        "id": "4RtJDHLWeuFD",
        "outputId": "589da490-9d5e-4d05-ca28-4f9210bcbc6b"
      },
      "execution_count": null,
      "outputs": [
        {
          "output_type": "stream",
          "name": "stderr",
          "text": [
            "100%|██████████| 69/69 [00:27<00:00,  2.54it/s]"
          ]
        },
        {
          "output_type": "stream",
          "name": "stdout",
          "text": [
            "Accuracy: 0.9420289855072463\n",
            "Precision: 0.8709677419354839\n",
            "Recall: 1.0\n",
            "F1 Score: 0.9310344827586207\n"
          ]
        },
        {
          "output_type": "stream",
          "name": "stderr",
          "text": [
            "\n"
          ]
        }
      ]
    },
    {
      "cell_type": "markdown",
      "source": [
        "# Fairness Evaluation on Protected Attributes"
      ],
      "metadata": {
        "id": "qNNpw-rYN_7K"
      }
    },
    {
      "cell_type": "markdown",
      "source": [
        "### Setup"
      ],
      "metadata": {
        "id": "Wq-uDlUNAypT"
      }
    },
    {
      "cell_type": "code",
      "source": [
        "# Save predictions\n",
        "with open('./data/vanilla_preds.pkl', 'wb') as fp:\n",
        "  pickle.dump(neutralized_preds, fp)\n",
        "\n",
        "with open('./data/weighted_preds.pkl', 'wb') as fp:\n",
        "  pickle.dump(attn_weighted_preds, fp)"
      ],
      "metadata": {
        "id": "MnfqNtCa-eop"
      },
      "execution_count": null,
      "outputs": []
    },
    {
      "cell_type": "code",
      "source": [
        "# Load predictions\n",
        "with open('./data/vanilla_preds.pkl', 'rb') as fp:\n",
        "  vanilla_preds = pickle.load(fp)\n",
        "  vanilla_preds = flip_labels(vanilla_preds)\n",
        "\n",
        "with open('./data/weighted_preds.pkl', 'rb') as fp:\n",
        "  weighted_preds = pickle.load(fp)\n",
        "  weighted_preds = flip_labels(weighted_preds)"
      ],
      "metadata": {
        "id": "W7qFEzt8_O1v"
      },
      "execution_count": null,
      "outputs": []
    },
    {
      "cell_type": "code",
      "source": [
        "from fairlearn import metrics as fairness_metrics\n",
        "\n",
        "def compute_fairness_metrics(y_true, y_pred, protected_attribute):\n",
        "  dem_parity_diff = fairness_metrics.demographic_parity_difference(y_true, y_pred, sensitive_features=protected_attribute)\n",
        "  dem_parity_ratio = fairness_metrics.demographic_parity_ratio(y_true, y_pred, sensitive_features=protected_attribute)\n",
        "  equal_odd_diff = fairness_metrics.equalized_odds_difference(y_true, y_pred, sensitive_features=protected_attribute)\n",
        "  equal_odd_ratio = fairness_metrics.equalized_odds_ratio(y_true, y_pred, sensitive_features=protected_attribute)\n",
        "  false_negative_rate = fairness_metrics.false_negative_rate(y_true, y_pred)\n",
        "  false_positive_rate = fairness_metrics.false_positive_rate(y_true, y_pred)\n",
        "  true_negative_rate = fairness_metrics.true_negative_rate(y_true, y_pred)\n",
        "  true_positive_rate = fairness_metrics.true_positive_rate(y_true, y_pred)\n",
        "  print('Demographic Parity Difference:', dem_parity_diff)\n",
        "  print('Demographic Parity Ratio:', dem_parity_ratio)\n",
        "  print('Equalized Odds Difference:', equal_odd_diff)\n",
        "  print('Equalized Odds Ratio:', equal_odd_ratio)\n",
        "  print('False Negative Rate:', false_negative_rate)\n",
        "  print('False Positive Rate:', false_positive_rate)\n",
        "  print('True Negative Rate:', true_negative_rate)\n",
        "  print('True Positive Rate:', true_positive_rate)"
      ],
      "metadata": {
        "id": "gtTT_kzFA7I0"
      },
      "execution_count": null,
      "outputs": []
    },
    {
      "cell_type": "code",
      "source": [
        "def cyberbullying_attribute_ratio(sentiment_labels, attribute_labels, group1_name, group2_name):\n",
        "  group1_count = len([attr for attr in attribute_labels if attr==group1_name])\n",
        "  group2_count = len([attr for attr in attribute_labels if attr==group2_name])\n",
        "  group1_neg_count = 0\n",
        "  group2_neg_count = 0\n",
        "  for sentiment, attribute in zip(sentiment_labels, attribute_labels):\n",
        "    if attribute == group1_name and sentiment == 0:\n",
        "      group1_neg_count += 1\n",
        "    if attribute == group2_name and sentiment == 0:\n",
        "      group2_neg_count += 1\n",
        "  group1_ratio = group1_neg_count / group1_count\n",
        "  group2_ratio = group2_neg_count / group2_count\n",
        "  print(group1_name, '|', group1_neg_count, '/', group1_count, '| cyberbullying ratio:', group1_ratio)\n",
        "  print(group2_name, '|', group2_neg_count, '/', group2_count, '| cyberbullying ratio:', group2_ratio)"
      ],
      "metadata": {
        "id": "PbM1nr1_PfD7"
      },
      "execution_count": null,
      "outputs": []
    },
    {
      "cell_type": "code",
      "source": [
        "import nltk\n",
        "\n",
        "nltk.download('stopwords')\n",
        "nltk.download('punkt')\n",
        "nltk.download('wordnet')\n",
        "\n",
        "def tokenize_dataset(dataset_text):\n",
        "  description_list = list()\n",
        "  for description in dataset_text:\n",
        "    description = re.sub('[^a-zA-Z]', ' ', description)\n",
        "    description = description.lower()\n",
        "    description = nltk.word_tokenize(description)\n",
        "    lemma = nltk.WordNetLemmatizer()\n",
        "    description = [lemma.lemmatize(word) for word in description]\n",
        "    description = ' '.join(description)\n",
        "    description_list.append(description)\n",
        "  return description_list"
      ],
      "metadata": {
        "colab": {
          "base_uri": "https://localhost:8080/"
        },
        "id": "lbASgubGFST1",
        "outputId": "e9bc3d32-58c2-420b-a995-0f954c58e0ad"
      },
      "execution_count": null,
      "outputs": [
        {
          "output_type": "stream",
          "name": "stdout",
          "text": [
            "[nltk_data] Downloading package stopwords to /root/nltk_data...\n",
            "[nltk_data]   Package stopwords is already up-to-date!\n",
            "[nltk_data] Downloading package punkt to /root/nltk_data...\n",
            "[nltk_data]   Package punkt is already up-to-date!\n",
            "[nltk_data] Downloading package wordnet to /root/nltk_data...\n",
            "[nltk_data]   Package wordnet is already up-to-date!\n"
          ]
        }
      ]
    },
    {
      "cell_type": "code",
      "source": [
        "from sklearn.feature_extraction.text import CountVectorizer\n",
        "\n",
        "def bag_of_words(tokenized_dataset):\n",
        "  max_features = 5000\n",
        "  cv = CountVectorizer(max_features=max_features, stop_words = 'english')\n",
        "  sparse_matrix = cv.fit_transform(tokenized_dataset).toarray()\n",
        "  return sparse_matrix"
      ],
      "metadata": {
        "id": "-RtSdU7WFTcQ"
      },
      "execution_count": null,
      "outputs": []
    },
    {
      "cell_type": "code",
      "source": [
        "from xgboost import XGBClassifier\n",
        "\n",
        "def train_classifier(data_x, data_y):\n",
        "  model = XGBClassifier(random_state=1)\n",
        "  model.fit(data_x, data_y)\n",
        "  return model\n",
        "\n",
        "def test_classifier(model, data_x):\n",
        "  pred_y = model.predict(data_x)\n",
        "  pred_y = [round(pred) for pred in pred_y]\n",
        "  return pred_y"
      ],
      "metadata": {
        "id": "CGnu8FmzFZLA"
      },
      "execution_count": null,
      "outputs": []
    },
    {
      "cell_type": "markdown",
      "source": [
        "### Race"
      ],
      "metadata": {
        "id": "wDpfBQApr473"
      }
    },
    {
      "cell_type": "code",
      "source": [
        "from fairness import race_classification\n",
        "\n",
        "race_classification.load_model()"
      ],
      "metadata": {
        "id": "K9etYIJrF_Pb"
      },
      "execution_count": null,
      "outputs": []
    },
    {
      "cell_type": "code",
      "source": [
        "def predict_race(text):\n",
        "  logits = race_classification.predict(text.split())\n",
        "  if logits is None:\n",
        "    return 'wae'\n",
        "  # African-American English\n",
        "  aae_score = logits[0]\n",
        "  # White-Aligned English\n",
        "  wae_score = logits[3]\n",
        "  if aae_score > wae_score:\n",
        "    return 'aae'\n",
        "  else:\n",
        "    return 'wae'\n",
        "\n",
        "race_attribute = [predict_race(example[0]) for example in neutralized_dataset]"
      ],
      "metadata": {
        "id": "bD4-aYpAsN0W"
      },
      "execution_count": null,
      "outputs": []
    },
    {
      "cell_type": "code",
      "source": [
        "cyberbullying_attribute_ratio(ground_truth_labels, race_attribute, 'aae', 'wae')"
      ],
      "metadata": {
        "id": "vcutlyo2Ok-h",
        "colab": {
          "base_uri": "https://localhost:8080/"
        },
        "outputId": "1e8e8340-b0c2-4545-9fa0-7c8bae308084"
      },
      "execution_count": null,
      "outputs": [
        {
          "output_type": "stream",
          "name": "stdout",
          "text": [
            "aae | 153 / 871 | cyberbullying ratio: 0.1756601607347876\n",
            "wae | 2128 / 3472 | cyberbullying ratio: 0.6129032258064516\n"
          ]
        }
      ]
    },
    {
      "cell_type": "code",
      "source": [
        "print('Vanilla:')\n",
        "compute_fairness_metrics(ground_truth_labels, vanilla_preds, race_attribute)\n",
        "print('\\nAttention-Weighted Integrated Gradients:')\n",
        "compute_fairness_metrics(ground_truth_labels, weighted_preds, race_attribute)"
      ],
      "metadata": {
        "id": "i5QT_9G3spNy",
        "colab": {
          "base_uri": "https://localhost:8080/"
        },
        "outputId": "5d2a8fb4-7915-48f1-cce2-a8fd50cab6da"
      },
      "execution_count": null,
      "outputs": [
        {
          "output_type": "stream",
          "name": "stdout",
          "text": [
            "Vanilla:\n",
            "Demographic Parity Difference: 0.28498448470162485\n",
            "Demographic Parity Ratio: 0.6412984303827814\n",
            "Equalized Odds Difference: 0.04065617475060196\n",
            "Equalized Odds Ratio: 0.8730531686358755\n",
            "False Negative Rate: 0.11881668283220174\n",
            "False Positive Rate: 0.28233231039017975\n",
            "True Negative Rate: 0.7176676896098203\n",
            "True Positive Rate: 0.8811833171677983\n",
            "\n",
            "Attention-Weighted Integrated Gradients:\n",
            "Demographic Parity Difference: 0.33438477146349077\n",
            "Demographic Parity Ratio: 0.5993822064034382\n",
            "Equalized Odds Difference: 0.09161998132586369\n",
            "Equalized Odds Ratio: 0.7451298701298701\n",
            "False Negative Rate: 0.1081474296799224\n",
            "False Positive Rate: 0.2740026304252521\n",
            "True Negative Rate: 0.7259973695747479\n",
            "True Positive Rate: 0.8918525703200776\n"
          ]
        }
      ]
    },
    {
      "cell_type": "markdown",
      "source": [
        "## Sex"
      ],
      "metadata": {
        "id": "5zqVNcceD1AX"
      }
    },
    {
      "cell_type": "code",
      "source": [
        "def load_sex_dataset():\n",
        "  data = pd.read_csv('./fairness/data/sex_tweets.csv', encoding='latin1')\n",
        "  data = pd.concat([data.gender, data.description], axis=1)\n",
        "  data.dropna(axis=0, inplace=True)\n",
        "  data.gender = [0 if gender=='female' else 1 for gender in data.gender]\n",
        "  return data\n",
        "\n",
        "sex_dataset = load_sex_dataset()"
      ],
      "metadata": {
        "id": "UWIAtfw2DkYJ"
      },
      "execution_count": null,
      "outputs": []
    },
    {
      "cell_type": "code",
      "source": [
        "tokenized_sex_dataset = tokenize_dataset(sex_dataset.description)\n",
        "sex_x = bag_of_words(tokenized_sex_dataset)\n",
        "sex_y = sex_dataset.iloc[:, 0].values\n",
        "sex_classifier = train_classifier(sex_x, sex_y)"
      ],
      "metadata": {
        "id": "4P5HGqkemnO2"
      },
      "execution_count": null,
      "outputs": []
    },
    {
      "cell_type": "code",
      "source": [
        "def predict_sex(sex_classifier, dataset):\n",
        "  dataset_text = [example[0] for example in dataset]\n",
        "  tokenized_dataset = tokenize_dataset(dataset_text)\n",
        "  dataset_x = bag_of_words(tokenized_dataset)\n",
        "  dataset_y = test_classifier(sex_classifier, dataset_x)\n",
        "  dataset_sex = list()\n",
        "  for y_val in dataset_y:\n",
        "    if y_val == 0:\n",
        "      dataset_sex.append('female')\n",
        "    else:\n",
        "      dataset_sex.append('male')\n",
        "  return dataset_sex\n",
        "\n",
        "sex_attribute = predict_sex(sex_classifier, neutralized_dataset)"
      ],
      "metadata": {
        "id": "TMQcu4D2oiS8"
      },
      "execution_count": null,
      "outputs": []
    },
    {
      "cell_type": "code",
      "source": [
        "cyberbullying_attribute_ratio(ground_truth_labels, sex_attribute, 'female', 'male')"
      ],
      "metadata": {
        "colab": {
          "base_uri": "https://localhost:8080/"
        },
        "id": "SdTBmMAVSpyK",
        "outputId": "e0ab4034-82b9-4758-bf3e-0d024ed7199a"
      },
      "execution_count": null,
      "outputs": [
        {
          "output_type": "stream",
          "name": "stdout",
          "text": [
            "female | 11 / 19 | cyberbullying ratio: 0.5789473684210527\n",
            "male | 2270 / 4324 | cyberbullying ratio: 0.5249768732654949\n"
          ]
        }
      ]
    },
    {
      "cell_type": "code",
      "source": [
        "print('Vanilla:')\n",
        "compute_fairness_metrics(ground_truth_labels, vanilla_preds, sex_attribute)\n",
        "print('\\nAttention-Weighted Integrated Gradients:')\n",
        "compute_fairness_metrics(ground_truth_labels, weighted_preds, sex_attribute)"
      ],
      "metadata": {
        "colab": {
          "base_uri": "https://localhost:8080/"
        },
        "id": "PEId8EDQqhfx",
        "outputId": "cfa7c271-2b85-4dc1-d211-dd0ca9192b4e"
      },
      "execution_count": null,
      "outputs": [
        {
          "output_type": "stream",
          "name": "stdout",
          "text": [
            "Vanilla:\n",
            "Demographic Parity Difference: 0.012342373046399513\n",
            "Demographic Parity Ratio: 0.9786813556471281\n",
            "Equalized Odds Difference: 0.11927945472249268\n",
            "Equalized Odds Ratio: 0.8807205452775073\n",
            "False Negative Rate: 0.11881668283220174\n",
            "False Positive Rate: 0.28233231039017975\n",
            "True Negative Rate: 0.7176676896098203\n",
            "True Positive Rate: 0.8811833171677983\n",
            "\n",
            "Attention-Weighted Integrated Gradients:\n",
            "Demographic Parity Difference: 0.011648571011246944\n",
            "Demographic Parity Ratio: 0.9798797409805735\n",
            "Equalized Odds Difference: 0.1085686465433301\n",
            "Equalized Odds Ratio: 0.8914313534566699\n",
            "False Negative Rate: 0.1081474296799224\n",
            "False Positive Rate: 0.2740026304252521\n",
            "True Negative Rate: 0.7259973695747479\n",
            "True Positive Rate: 0.8918525703200776\n"
          ]
        }
      ]
    },
    {
      "cell_type": "markdown",
      "source": [
        "## Party"
      ],
      "metadata": {
        "id": "Lov3Ltlbr9dm"
      }
    },
    {
      "cell_type": "code",
      "source": [
        "def load_party_dataset():\n",
        "  data = pd.read_csv('./fairness/data/party_tweets.csv')\n",
        "  data = pd.concat([data.Party, data.Tweet], axis=1)\n",
        "  data.dropna(axis=0, inplace=True)\n",
        "  data.Party = [0 if party=='Republican' else 1 for party in data.Party]\n",
        "  return data\n",
        "\n",
        "party_dataset = load_party_dataset()\n",
        "# Sub-sample dataset because too large for RAM\n",
        "party_dataset = party_dataset.sample(n=50000)"
      ],
      "metadata": {
        "id": "sBnoRpfirF8p"
      },
      "execution_count": null,
      "outputs": []
    },
    {
      "cell_type": "code",
      "source": [
        "tokenized_party_dataset = tokenize_dataset(party_dataset.Tweet)\n",
        "party_x = bag_of_words(tokenized_party_dataset)\n",
        "party_y = party_dataset.iloc[:, 0].values\n",
        "party_classifier = train_classifier(party_x, party_y)"
      ],
      "metadata": {
        "id": "VL8iP3cJEpiQ"
      },
      "execution_count": null,
      "outputs": []
    },
    {
      "cell_type": "code",
      "source": [
        "def predict_party(party_classifier, dataset):\n",
        "  dataset_text = [example[0] for example in dataset]\n",
        "  tokenized_dataset = tokenize_dataset(dataset_text)\n",
        "  dataset_x = bag_of_words(tokenized_dataset)\n",
        "  dataset_y = test_classifier(party_classifier, dataset_x)\n",
        "  dataset_party = list()\n",
        "  for y_val in dataset_y:\n",
        "    if y_val == 0:\n",
        "      dataset_party.append('republican')\n",
        "    else:\n",
        "      dataset_party.append('democrat')\n",
        "  return dataset_party\n",
        "\n",
        "party_attribute = predict_party(party_classifier, neutralized_dataset)"
      ],
      "metadata": {
        "id": "2Tb4Boq8F6Z9"
      },
      "execution_count": null,
      "outputs": []
    },
    {
      "cell_type": "code",
      "source": [
        "cyberbullying_attribute_ratio(ground_truth_labels, party_attribute, 'republican', 'democrat')"
      ],
      "metadata": {
        "colab": {
          "base_uri": "https://localhost:8080/"
        },
        "id": "HhHrYKTZS9qy",
        "outputId": "932f7c7c-3cd8-4505-d20f-d3feab2c3366"
      },
      "execution_count": null,
      "outputs": [
        {
          "output_type": "stream",
          "name": "stdout",
          "text": [
            "republican | 2148 / 4179 | cyberbullying ratio: 0.5139985642498205\n",
            "democrat | 133 / 164 | cyberbullying ratio: 0.8109756097560976\n"
          ]
        }
      ]
    },
    {
      "cell_type": "code",
      "source": [
        "print('Vanilla:')\n",
        "compute_fairness_metrics(ground_truth_labels, vanilla_preds, party_attribute)\n",
        "print('\\nAttention-Weighted Integrated Gradients:')\n",
        "compute_fairness_metrics(ground_truth_labels, weighted_preds, party_attribute)"
      ],
      "metadata": {
        "colab": {
          "base_uri": "https://localhost:8080/"
        },
        "id": "Bevx9_46JHVm",
        "outputId": "2f3c6a34-e461-431c-b71a-505b14e811d2"
      },
      "execution_count": null,
      "outputs": [
        {
          "output_type": "stream",
          "name": "stdout",
          "text": [
            "Vanilla:\n",
            "Demographic Parity Difference: 0.29740164235813205\n",
            "Demographic Parity Ratio: 0.4853658536585367\n",
            "Equalized Odds Difference: 0.15609554612788956\n",
            "Equalized Odds Ratio: 0.46438780657714573\n",
            "False Negative Rate: 0.11881668283220174\n",
            "False Positive Rate: 0.28233231039017975\n",
            "True Negative Rate: 0.7176676896098203\n",
            "True Positive Rate: 0.8811833171677983\n",
            "\n",
            "Attention-Weighted Integrated Gradients:\n",
            "Demographic Parity Difference: 0.2791089594313028\n",
            "Demographic Parity Ratio: 0.5170201484623542\n",
            "Equalized Odds Difference: 0.11531272314865376\n",
            "Equalized Odds Ratio: 0.5892342797291736\n",
            "False Negative Rate: 0.1081474296799224\n",
            "False Positive Rate: 0.2740026304252521\n",
            "True Negative Rate: 0.7259973695747479\n",
            "True Positive Rate: 0.8918525703200776\n"
          ]
        }
      ]
    },
    {
      "cell_type": "code",
      "source": [
        ""
      ],
      "metadata": {
        "id": "s4Dd3HvwJVYb"
      },
      "execution_count": null,
      "outputs": []
    }
  ],
  "metadata": {
    "accelerator": "GPU",
    "anaconda-cloud": {},
    "colab": {
      "collapsed_sections": [],
      "name": "project.ipynb",
      "provenance": []
    },
    "interpreter": {
      "hash": "51eb71198507ab2c2a4108a27eda9d9658549732e67153fc0e371d8439827db7"
    },
    "kernelspec": {
      "display_name": "Python 3 (ipykernel)",
      "language": "python",
      "name": "python3"
    },
    "language_info": {
      "codemirror_mode": {
        "name": "ipython",
        "version": 3
      },
      "file_extension": ".py",
      "mimetype": "text/x-python",
      "name": "python",
      "nbconvert_exporter": "python",
      "pygments_lexer": "ipython3",
      "version": "3.8.13"
    },
    "widgets": {
      "application/vnd.jupyter.widget-state+json": {
        "71a219d2806d4a9591e5ae4fba768b01": {
          "model_module": "@jupyter-widgets/controls",
          "model_name": "HBoxModel",
          "model_module_version": "1.5.0",
          "state": {
            "_dom_classes": [],
            "_model_module": "@jupyter-widgets/controls",
            "_model_module_version": "1.5.0",
            "_model_name": "HBoxModel",
            "_view_count": null,
            "_view_module": "@jupyter-widgets/controls",
            "_view_module_version": "1.5.0",
            "_view_name": "HBoxView",
            "box_style": "",
            "children": [
              "IPY_MODEL_4dd5bb282c76419b8fe1ef176ed58855",
              "IPY_MODEL_5b02fb5f9ab94f27943f9b77cae8f6e6",
              "IPY_MODEL_2749ee79326849e1b1285b653594acd4"
            ],
            "layout": "IPY_MODEL_dcae8e9d3c3d4162b3c755bd2c66d7e0"
          }
        },
        "4dd5bb282c76419b8fe1ef176ed58855": {
          "model_module": "@jupyter-widgets/controls",
          "model_name": "HTMLModel",
          "model_module_version": "1.5.0",
          "state": {
            "_dom_classes": [],
            "_model_module": "@jupyter-widgets/controls",
            "_model_module_version": "1.5.0",
            "_model_name": "HTMLModel",
            "_view_count": null,
            "_view_module": "@jupyter-widgets/controls",
            "_view_module_version": "1.5.0",
            "_view_name": "HTMLView",
            "description": "",
            "description_tooltip": null,
            "layout": "IPY_MODEL_ee79307460cc45e4830f96828c32fea5",
            "placeholder": "​",
            "style": "IPY_MODEL_3e4cc7fd89f747a689fdbb88e9398e4d",
            "value": "Downloading: 100%"
          }
        },
        "5b02fb5f9ab94f27943f9b77cae8f6e6": {
          "model_module": "@jupyter-widgets/controls",
          "model_name": "FloatProgressModel",
          "model_module_version": "1.5.0",
          "state": {
            "_dom_classes": [],
            "_model_module": "@jupyter-widgets/controls",
            "_model_module_version": "1.5.0",
            "_model_name": "FloatProgressModel",
            "_view_count": null,
            "_view_module": "@jupyter-widgets/controls",
            "_view_module_version": "1.5.0",
            "_view_name": "ProgressView",
            "bar_style": "success",
            "description": "",
            "description_tooltip": null,
            "layout": "IPY_MODEL_261515e464664091b6c2ed0695eec828",
            "max": 929,
            "min": 0,
            "orientation": "horizontal",
            "style": "IPY_MODEL_7b4b21073aa245978e043b62377dbbb7",
            "value": 929
          }
        },
        "2749ee79326849e1b1285b653594acd4": {
          "model_module": "@jupyter-widgets/controls",
          "model_name": "HTMLModel",
          "model_module_version": "1.5.0",
          "state": {
            "_dom_classes": [],
            "_model_module": "@jupyter-widgets/controls",
            "_model_module_version": "1.5.0",
            "_model_name": "HTMLModel",
            "_view_count": null,
            "_view_module": "@jupyter-widgets/controls",
            "_view_module_version": "1.5.0",
            "_view_name": "HTMLView",
            "description": "",
            "description_tooltip": null,
            "layout": "IPY_MODEL_83d604ee7b0c4f99a130b64d7c352470",
            "placeholder": "​",
            "style": "IPY_MODEL_834e2ed361bf4dd6b169e7c8983bd45d",
            "value": " 929/929 [00:00&lt;00:00, 24.1kB/s]"
          }
        },
        "dcae8e9d3c3d4162b3c755bd2c66d7e0": {
          "model_module": "@jupyter-widgets/base",
          "model_name": "LayoutModel",
          "model_module_version": "1.2.0",
          "state": {
            "_model_module": "@jupyter-widgets/base",
            "_model_module_version": "1.2.0",
            "_model_name": "LayoutModel",
            "_view_count": null,
            "_view_module": "@jupyter-widgets/base",
            "_view_module_version": "1.2.0",
            "_view_name": "LayoutView",
            "align_content": null,
            "align_items": null,
            "align_self": null,
            "border": null,
            "bottom": null,
            "display": null,
            "flex": null,
            "flex_flow": null,
            "grid_area": null,
            "grid_auto_columns": null,
            "grid_auto_flow": null,
            "grid_auto_rows": null,
            "grid_column": null,
            "grid_gap": null,
            "grid_row": null,
            "grid_template_areas": null,
            "grid_template_columns": null,
            "grid_template_rows": null,
            "height": null,
            "justify_content": null,
            "justify_items": null,
            "left": null,
            "margin": null,
            "max_height": null,
            "max_width": null,
            "min_height": null,
            "min_width": null,
            "object_fit": null,
            "object_position": null,
            "order": null,
            "overflow": null,
            "overflow_x": null,
            "overflow_y": null,
            "padding": null,
            "right": null,
            "top": null,
            "visibility": null,
            "width": null
          }
        },
        "ee79307460cc45e4830f96828c32fea5": {
          "model_module": "@jupyter-widgets/base",
          "model_name": "LayoutModel",
          "model_module_version": "1.2.0",
          "state": {
            "_model_module": "@jupyter-widgets/base",
            "_model_module_version": "1.2.0",
            "_model_name": "LayoutModel",
            "_view_count": null,
            "_view_module": "@jupyter-widgets/base",
            "_view_module_version": "1.2.0",
            "_view_name": "LayoutView",
            "align_content": null,
            "align_items": null,
            "align_self": null,
            "border": null,
            "bottom": null,
            "display": null,
            "flex": null,
            "flex_flow": null,
            "grid_area": null,
            "grid_auto_columns": null,
            "grid_auto_flow": null,
            "grid_auto_rows": null,
            "grid_column": null,
            "grid_gap": null,
            "grid_row": null,
            "grid_template_areas": null,
            "grid_template_columns": null,
            "grid_template_rows": null,
            "height": null,
            "justify_content": null,
            "justify_items": null,
            "left": null,
            "margin": null,
            "max_height": null,
            "max_width": null,
            "min_height": null,
            "min_width": null,
            "object_fit": null,
            "object_position": null,
            "order": null,
            "overflow": null,
            "overflow_x": null,
            "overflow_y": null,
            "padding": null,
            "right": null,
            "top": null,
            "visibility": null,
            "width": null
          }
        },
        "3e4cc7fd89f747a689fdbb88e9398e4d": {
          "model_module": "@jupyter-widgets/controls",
          "model_name": "DescriptionStyleModel",
          "model_module_version": "1.5.0",
          "state": {
            "_model_module": "@jupyter-widgets/controls",
            "_model_module_version": "1.5.0",
            "_model_name": "DescriptionStyleModel",
            "_view_count": null,
            "_view_module": "@jupyter-widgets/base",
            "_view_module_version": "1.2.0",
            "_view_name": "StyleView",
            "description_width": ""
          }
        },
        "261515e464664091b6c2ed0695eec828": {
          "model_module": "@jupyter-widgets/base",
          "model_name": "LayoutModel",
          "model_module_version": "1.2.0",
          "state": {
            "_model_module": "@jupyter-widgets/base",
            "_model_module_version": "1.2.0",
            "_model_name": "LayoutModel",
            "_view_count": null,
            "_view_module": "@jupyter-widgets/base",
            "_view_module_version": "1.2.0",
            "_view_name": "LayoutView",
            "align_content": null,
            "align_items": null,
            "align_self": null,
            "border": null,
            "bottom": null,
            "display": null,
            "flex": null,
            "flex_flow": null,
            "grid_area": null,
            "grid_auto_columns": null,
            "grid_auto_flow": null,
            "grid_auto_rows": null,
            "grid_column": null,
            "grid_gap": null,
            "grid_row": null,
            "grid_template_areas": null,
            "grid_template_columns": null,
            "grid_template_rows": null,
            "height": null,
            "justify_content": null,
            "justify_items": null,
            "left": null,
            "margin": null,
            "max_height": null,
            "max_width": null,
            "min_height": null,
            "min_width": null,
            "object_fit": null,
            "object_position": null,
            "order": null,
            "overflow": null,
            "overflow_x": null,
            "overflow_y": null,
            "padding": null,
            "right": null,
            "top": null,
            "visibility": null,
            "width": null
          }
        },
        "7b4b21073aa245978e043b62377dbbb7": {
          "model_module": "@jupyter-widgets/controls",
          "model_name": "ProgressStyleModel",
          "model_module_version": "1.5.0",
          "state": {
            "_model_module": "@jupyter-widgets/controls",
            "_model_module_version": "1.5.0",
            "_model_name": "ProgressStyleModel",
            "_view_count": null,
            "_view_module": "@jupyter-widgets/base",
            "_view_module_version": "1.2.0",
            "_view_name": "StyleView",
            "bar_color": null,
            "description_width": ""
          }
        },
        "83d604ee7b0c4f99a130b64d7c352470": {
          "model_module": "@jupyter-widgets/base",
          "model_name": "LayoutModel",
          "model_module_version": "1.2.0",
          "state": {
            "_model_module": "@jupyter-widgets/base",
            "_model_module_version": "1.2.0",
            "_model_name": "LayoutModel",
            "_view_count": null,
            "_view_module": "@jupyter-widgets/base",
            "_view_module_version": "1.2.0",
            "_view_name": "LayoutView",
            "align_content": null,
            "align_items": null,
            "align_self": null,
            "border": null,
            "bottom": null,
            "display": null,
            "flex": null,
            "flex_flow": null,
            "grid_area": null,
            "grid_auto_columns": null,
            "grid_auto_flow": null,
            "grid_auto_rows": null,
            "grid_column": null,
            "grid_gap": null,
            "grid_row": null,
            "grid_template_areas": null,
            "grid_template_columns": null,
            "grid_template_rows": null,
            "height": null,
            "justify_content": null,
            "justify_items": null,
            "left": null,
            "margin": null,
            "max_height": null,
            "max_width": null,
            "min_height": null,
            "min_width": null,
            "object_fit": null,
            "object_position": null,
            "order": null,
            "overflow": null,
            "overflow_x": null,
            "overflow_y": null,
            "padding": null,
            "right": null,
            "top": null,
            "visibility": null,
            "width": null
          }
        },
        "834e2ed361bf4dd6b169e7c8983bd45d": {
          "model_module": "@jupyter-widgets/controls",
          "model_name": "DescriptionStyleModel",
          "model_module_version": "1.5.0",
          "state": {
            "_model_module": "@jupyter-widgets/controls",
            "_model_module_version": "1.5.0",
            "_model_name": "DescriptionStyleModel",
            "_view_count": null,
            "_view_module": "@jupyter-widgets/base",
            "_view_module_version": "1.2.0",
            "_view_name": "StyleView",
            "description_width": ""
          }
        },
        "b8184b00dd154e2d9cde3d90069d6f80": {
          "model_module": "@jupyter-widgets/controls",
          "model_name": "HBoxModel",
          "model_module_version": "1.5.0",
          "state": {
            "_dom_classes": [],
            "_model_module": "@jupyter-widgets/controls",
            "_model_module_version": "1.5.0",
            "_model_name": "HBoxModel",
            "_view_count": null,
            "_view_module": "@jupyter-widgets/controls",
            "_view_module_version": "1.5.0",
            "_view_name": "HBoxView",
            "box_style": "",
            "children": [
              "IPY_MODEL_e968d1d3949c475483f23fb291a6824b",
              "IPY_MODEL_fc809363f8124464819a34ef74488b7e",
              "IPY_MODEL_317f1219810a4ea681c2c00d2d6259aa"
            ],
            "layout": "IPY_MODEL_5289d066a7e346cf85502fea672d46ee"
          }
        },
        "e968d1d3949c475483f23fb291a6824b": {
          "model_module": "@jupyter-widgets/controls",
          "model_name": "HTMLModel",
          "model_module_version": "1.5.0",
          "state": {
            "_dom_classes": [],
            "_model_module": "@jupyter-widgets/controls",
            "_model_module_version": "1.5.0",
            "_model_name": "HTMLModel",
            "_view_count": null,
            "_view_module": "@jupyter-widgets/controls",
            "_view_module_version": "1.5.0",
            "_view_name": "HTMLView",
            "description": "",
            "description_tooltip": null,
            "layout": "IPY_MODEL_8e9041e393b541e2add3d7a89bcc1067",
            "placeholder": "​",
            "style": "IPY_MODEL_163b0ba7b6f5476088b46b5d5d03a3b1",
            "value": "Downloading: 100%"
          }
        },
        "fc809363f8124464819a34ef74488b7e": {
          "model_module": "@jupyter-widgets/controls",
          "model_name": "FloatProgressModel",
          "model_module_version": "1.5.0",
          "state": {
            "_dom_classes": [],
            "_model_module": "@jupyter-widgets/controls",
            "_model_module_version": "1.5.0",
            "_model_name": "FloatProgressModel",
            "_view_count": null,
            "_view_module": "@jupyter-widgets/controls",
            "_view_module_version": "1.5.0",
            "_view_name": "ProgressView",
            "bar_style": "success",
            "description": "",
            "description_tooltip": null,
            "layout": "IPY_MODEL_4b2de5ed62634169b36a4f42dabe90e5",
            "max": 501045531,
            "min": 0,
            "orientation": "horizontal",
            "style": "IPY_MODEL_a242b1dd7734408a8821756f2ebd70cd",
            "value": 501045531
          }
        },
        "317f1219810a4ea681c2c00d2d6259aa": {
          "model_module": "@jupyter-widgets/controls",
          "model_name": "HTMLModel",
          "model_module_version": "1.5.0",
          "state": {
            "_dom_classes": [],
            "_model_module": "@jupyter-widgets/controls",
            "_model_module_version": "1.5.0",
            "_model_name": "HTMLModel",
            "_view_count": null,
            "_view_module": "@jupyter-widgets/controls",
            "_view_module_version": "1.5.0",
            "_view_name": "HTMLView",
            "description": "",
            "description_tooltip": null,
            "layout": "IPY_MODEL_28752bc3e6e8448294c06c60f8918de8",
            "placeholder": "​",
            "style": "IPY_MODEL_0ee32320f2934f52b6ab6acf5acceddc",
            "value": " 478M/478M [00:09&lt;00:00, 55.7MB/s]"
          }
        },
        "5289d066a7e346cf85502fea672d46ee": {
          "model_module": "@jupyter-widgets/base",
          "model_name": "LayoutModel",
          "model_module_version": "1.2.0",
          "state": {
            "_model_module": "@jupyter-widgets/base",
            "_model_module_version": "1.2.0",
            "_model_name": "LayoutModel",
            "_view_count": null,
            "_view_module": "@jupyter-widgets/base",
            "_view_module_version": "1.2.0",
            "_view_name": "LayoutView",
            "align_content": null,
            "align_items": null,
            "align_self": null,
            "border": null,
            "bottom": null,
            "display": null,
            "flex": null,
            "flex_flow": null,
            "grid_area": null,
            "grid_auto_columns": null,
            "grid_auto_flow": null,
            "grid_auto_rows": null,
            "grid_column": null,
            "grid_gap": null,
            "grid_row": null,
            "grid_template_areas": null,
            "grid_template_columns": null,
            "grid_template_rows": null,
            "height": null,
            "justify_content": null,
            "justify_items": null,
            "left": null,
            "margin": null,
            "max_height": null,
            "max_width": null,
            "min_height": null,
            "min_width": null,
            "object_fit": null,
            "object_position": null,
            "order": null,
            "overflow": null,
            "overflow_x": null,
            "overflow_y": null,
            "padding": null,
            "right": null,
            "top": null,
            "visibility": null,
            "width": null
          }
        },
        "8e9041e393b541e2add3d7a89bcc1067": {
          "model_module": "@jupyter-widgets/base",
          "model_name": "LayoutModel",
          "model_module_version": "1.2.0",
          "state": {
            "_model_module": "@jupyter-widgets/base",
            "_model_module_version": "1.2.0",
            "_model_name": "LayoutModel",
            "_view_count": null,
            "_view_module": "@jupyter-widgets/base",
            "_view_module_version": "1.2.0",
            "_view_name": "LayoutView",
            "align_content": null,
            "align_items": null,
            "align_self": null,
            "border": null,
            "bottom": null,
            "display": null,
            "flex": null,
            "flex_flow": null,
            "grid_area": null,
            "grid_auto_columns": null,
            "grid_auto_flow": null,
            "grid_auto_rows": null,
            "grid_column": null,
            "grid_gap": null,
            "grid_row": null,
            "grid_template_areas": null,
            "grid_template_columns": null,
            "grid_template_rows": null,
            "height": null,
            "justify_content": null,
            "justify_items": null,
            "left": null,
            "margin": null,
            "max_height": null,
            "max_width": null,
            "min_height": null,
            "min_width": null,
            "object_fit": null,
            "object_position": null,
            "order": null,
            "overflow": null,
            "overflow_x": null,
            "overflow_y": null,
            "padding": null,
            "right": null,
            "top": null,
            "visibility": null,
            "width": null
          }
        },
        "163b0ba7b6f5476088b46b5d5d03a3b1": {
          "model_module": "@jupyter-widgets/controls",
          "model_name": "DescriptionStyleModel",
          "model_module_version": "1.5.0",
          "state": {
            "_model_module": "@jupyter-widgets/controls",
            "_model_module_version": "1.5.0",
            "_model_name": "DescriptionStyleModel",
            "_view_count": null,
            "_view_module": "@jupyter-widgets/base",
            "_view_module_version": "1.2.0",
            "_view_name": "StyleView",
            "description_width": ""
          }
        },
        "4b2de5ed62634169b36a4f42dabe90e5": {
          "model_module": "@jupyter-widgets/base",
          "model_name": "LayoutModel",
          "model_module_version": "1.2.0",
          "state": {
            "_model_module": "@jupyter-widgets/base",
            "_model_module_version": "1.2.0",
            "_model_name": "LayoutModel",
            "_view_count": null,
            "_view_module": "@jupyter-widgets/base",
            "_view_module_version": "1.2.0",
            "_view_name": "LayoutView",
            "align_content": null,
            "align_items": null,
            "align_self": null,
            "border": null,
            "bottom": null,
            "display": null,
            "flex": null,
            "flex_flow": null,
            "grid_area": null,
            "grid_auto_columns": null,
            "grid_auto_flow": null,
            "grid_auto_rows": null,
            "grid_column": null,
            "grid_gap": null,
            "grid_row": null,
            "grid_template_areas": null,
            "grid_template_columns": null,
            "grid_template_rows": null,
            "height": null,
            "justify_content": null,
            "justify_items": null,
            "left": null,
            "margin": null,
            "max_height": null,
            "max_width": null,
            "min_height": null,
            "min_width": null,
            "object_fit": null,
            "object_position": null,
            "order": null,
            "overflow": null,
            "overflow_x": null,
            "overflow_y": null,
            "padding": null,
            "right": null,
            "top": null,
            "visibility": null,
            "width": null
          }
        },
        "a242b1dd7734408a8821756f2ebd70cd": {
          "model_module": "@jupyter-widgets/controls",
          "model_name": "ProgressStyleModel",
          "model_module_version": "1.5.0",
          "state": {
            "_model_module": "@jupyter-widgets/controls",
            "_model_module_version": "1.5.0",
            "_model_name": "ProgressStyleModel",
            "_view_count": null,
            "_view_module": "@jupyter-widgets/base",
            "_view_module_version": "1.2.0",
            "_view_name": "StyleView",
            "bar_color": null,
            "description_width": ""
          }
        },
        "28752bc3e6e8448294c06c60f8918de8": {
          "model_module": "@jupyter-widgets/base",
          "model_name": "LayoutModel",
          "model_module_version": "1.2.0",
          "state": {
            "_model_module": "@jupyter-widgets/base",
            "_model_module_version": "1.2.0",
            "_model_name": "LayoutModel",
            "_view_count": null,
            "_view_module": "@jupyter-widgets/base",
            "_view_module_version": "1.2.0",
            "_view_name": "LayoutView",
            "align_content": null,
            "align_items": null,
            "align_self": null,
            "border": null,
            "bottom": null,
            "display": null,
            "flex": null,
            "flex_flow": null,
            "grid_area": null,
            "grid_auto_columns": null,
            "grid_auto_flow": null,
            "grid_auto_rows": null,
            "grid_column": null,
            "grid_gap": null,
            "grid_row": null,
            "grid_template_areas": null,
            "grid_template_columns": null,
            "grid_template_rows": null,
            "height": null,
            "justify_content": null,
            "justify_items": null,
            "left": null,
            "margin": null,
            "max_height": null,
            "max_width": null,
            "min_height": null,
            "min_width": null,
            "object_fit": null,
            "object_position": null,
            "order": null,
            "overflow": null,
            "overflow_x": null,
            "overflow_y": null,
            "padding": null,
            "right": null,
            "top": null,
            "visibility": null,
            "width": null
          }
        },
        "0ee32320f2934f52b6ab6acf5acceddc": {
          "model_module": "@jupyter-widgets/controls",
          "model_name": "DescriptionStyleModel",
          "model_module_version": "1.5.0",
          "state": {
            "_model_module": "@jupyter-widgets/controls",
            "_model_module_version": "1.5.0",
            "_model_name": "DescriptionStyleModel",
            "_view_count": null,
            "_view_module": "@jupyter-widgets/base",
            "_view_module_version": "1.2.0",
            "_view_name": "StyleView",
            "description_width": ""
          }
        },
        "8f34ebf193954babad878a8ddf97570c": {
          "model_module": "@jupyter-widgets/controls",
          "model_name": "HBoxModel",
          "model_module_version": "1.5.0",
          "state": {
            "_dom_classes": [],
            "_model_module": "@jupyter-widgets/controls",
            "_model_module_version": "1.5.0",
            "_model_name": "HBoxModel",
            "_view_count": null,
            "_view_module": "@jupyter-widgets/controls",
            "_view_module_version": "1.5.0",
            "_view_name": "HBoxView",
            "box_style": "",
            "children": [
              "IPY_MODEL_30a29783ceda4b918c105765dcda4ee4",
              "IPY_MODEL_25f897a3d09c4b539a67548bbc65f066",
              "IPY_MODEL_a4e0844a61c046f09cc4f4842cb3f34d"
            ],
            "layout": "IPY_MODEL_f9925dc80388486fabbe5e3780b07523"
          }
        },
        "30a29783ceda4b918c105765dcda4ee4": {
          "model_module": "@jupyter-widgets/controls",
          "model_name": "HTMLModel",
          "model_module_version": "1.5.0",
          "state": {
            "_dom_classes": [],
            "_model_module": "@jupyter-widgets/controls",
            "_model_module_version": "1.5.0",
            "_model_name": "HTMLModel",
            "_view_count": null,
            "_view_module": "@jupyter-widgets/controls",
            "_view_module_version": "1.5.0",
            "_view_name": "HTMLView",
            "description": "",
            "description_tooltip": null,
            "layout": "IPY_MODEL_33ea955842a741e6b51ef7fe175b2ad8",
            "placeholder": "​",
            "style": "IPY_MODEL_faef7d94c5094af3a075a9ff241bb90e",
            "value": "Downloading: 100%"
          }
        },
        "25f897a3d09c4b539a67548bbc65f066": {
          "model_module": "@jupyter-widgets/controls",
          "model_name": "FloatProgressModel",
          "model_module_version": "1.5.0",
          "state": {
            "_dom_classes": [],
            "_model_module": "@jupyter-widgets/controls",
            "_model_module_version": "1.5.0",
            "_model_name": "FloatProgressModel",
            "_view_count": null,
            "_view_module": "@jupyter-widgets/controls",
            "_view_module_version": "1.5.0",
            "_view_name": "ProgressView",
            "bar_style": "success",
            "description": "",
            "description_tooltip": null,
            "layout": "IPY_MODEL_bc5add30e7324160a4bb9814f30e7d2c",
            "max": 898822,
            "min": 0,
            "orientation": "horizontal",
            "style": "IPY_MODEL_86a9c4eceba84e6aaf0d57224b4979d6",
            "value": 898822
          }
        },
        "a4e0844a61c046f09cc4f4842cb3f34d": {
          "model_module": "@jupyter-widgets/controls",
          "model_name": "HTMLModel",
          "model_module_version": "1.5.0",
          "state": {
            "_dom_classes": [],
            "_model_module": "@jupyter-widgets/controls",
            "_model_module_version": "1.5.0",
            "_model_name": "HTMLModel",
            "_view_count": null,
            "_view_module": "@jupyter-widgets/controls",
            "_view_module_version": "1.5.0",
            "_view_name": "HTMLView",
            "description": "",
            "description_tooltip": null,
            "layout": "IPY_MODEL_5ccc6e44873340df96416f82fdfb5925",
            "placeholder": "​",
            "style": "IPY_MODEL_e72f92ece4804737aacc5ad832f91307",
            "value": " 878k/878k [00:00&lt;00:00, 1.43MB/s]"
          }
        },
        "f9925dc80388486fabbe5e3780b07523": {
          "model_module": "@jupyter-widgets/base",
          "model_name": "LayoutModel",
          "model_module_version": "1.2.0",
          "state": {
            "_model_module": "@jupyter-widgets/base",
            "_model_module_version": "1.2.0",
            "_model_name": "LayoutModel",
            "_view_count": null,
            "_view_module": "@jupyter-widgets/base",
            "_view_module_version": "1.2.0",
            "_view_name": "LayoutView",
            "align_content": null,
            "align_items": null,
            "align_self": null,
            "border": null,
            "bottom": null,
            "display": null,
            "flex": null,
            "flex_flow": null,
            "grid_area": null,
            "grid_auto_columns": null,
            "grid_auto_flow": null,
            "grid_auto_rows": null,
            "grid_column": null,
            "grid_gap": null,
            "grid_row": null,
            "grid_template_areas": null,
            "grid_template_columns": null,
            "grid_template_rows": null,
            "height": null,
            "justify_content": null,
            "justify_items": null,
            "left": null,
            "margin": null,
            "max_height": null,
            "max_width": null,
            "min_height": null,
            "min_width": null,
            "object_fit": null,
            "object_position": null,
            "order": null,
            "overflow": null,
            "overflow_x": null,
            "overflow_y": null,
            "padding": null,
            "right": null,
            "top": null,
            "visibility": null,
            "width": null
          }
        },
        "33ea955842a741e6b51ef7fe175b2ad8": {
          "model_module": "@jupyter-widgets/base",
          "model_name": "LayoutModel",
          "model_module_version": "1.2.0",
          "state": {
            "_model_module": "@jupyter-widgets/base",
            "_model_module_version": "1.2.0",
            "_model_name": "LayoutModel",
            "_view_count": null,
            "_view_module": "@jupyter-widgets/base",
            "_view_module_version": "1.2.0",
            "_view_name": "LayoutView",
            "align_content": null,
            "align_items": null,
            "align_self": null,
            "border": null,
            "bottom": null,
            "display": null,
            "flex": null,
            "flex_flow": null,
            "grid_area": null,
            "grid_auto_columns": null,
            "grid_auto_flow": null,
            "grid_auto_rows": null,
            "grid_column": null,
            "grid_gap": null,
            "grid_row": null,
            "grid_template_areas": null,
            "grid_template_columns": null,
            "grid_template_rows": null,
            "height": null,
            "justify_content": null,
            "justify_items": null,
            "left": null,
            "margin": null,
            "max_height": null,
            "max_width": null,
            "min_height": null,
            "min_width": null,
            "object_fit": null,
            "object_position": null,
            "order": null,
            "overflow": null,
            "overflow_x": null,
            "overflow_y": null,
            "padding": null,
            "right": null,
            "top": null,
            "visibility": null,
            "width": null
          }
        },
        "faef7d94c5094af3a075a9ff241bb90e": {
          "model_module": "@jupyter-widgets/controls",
          "model_name": "DescriptionStyleModel",
          "model_module_version": "1.5.0",
          "state": {
            "_model_module": "@jupyter-widgets/controls",
            "_model_module_version": "1.5.0",
            "_model_name": "DescriptionStyleModel",
            "_view_count": null,
            "_view_module": "@jupyter-widgets/base",
            "_view_module_version": "1.2.0",
            "_view_name": "StyleView",
            "description_width": ""
          }
        },
        "bc5add30e7324160a4bb9814f30e7d2c": {
          "model_module": "@jupyter-widgets/base",
          "model_name": "LayoutModel",
          "model_module_version": "1.2.0",
          "state": {
            "_model_module": "@jupyter-widgets/base",
            "_model_module_version": "1.2.0",
            "_model_name": "LayoutModel",
            "_view_count": null,
            "_view_module": "@jupyter-widgets/base",
            "_view_module_version": "1.2.0",
            "_view_name": "LayoutView",
            "align_content": null,
            "align_items": null,
            "align_self": null,
            "border": null,
            "bottom": null,
            "display": null,
            "flex": null,
            "flex_flow": null,
            "grid_area": null,
            "grid_auto_columns": null,
            "grid_auto_flow": null,
            "grid_auto_rows": null,
            "grid_column": null,
            "grid_gap": null,
            "grid_row": null,
            "grid_template_areas": null,
            "grid_template_columns": null,
            "grid_template_rows": null,
            "height": null,
            "justify_content": null,
            "justify_items": null,
            "left": null,
            "margin": null,
            "max_height": null,
            "max_width": null,
            "min_height": null,
            "min_width": null,
            "object_fit": null,
            "object_position": null,
            "order": null,
            "overflow": null,
            "overflow_x": null,
            "overflow_y": null,
            "padding": null,
            "right": null,
            "top": null,
            "visibility": null,
            "width": null
          }
        },
        "86a9c4eceba84e6aaf0d57224b4979d6": {
          "model_module": "@jupyter-widgets/controls",
          "model_name": "ProgressStyleModel",
          "model_module_version": "1.5.0",
          "state": {
            "_model_module": "@jupyter-widgets/controls",
            "_model_module_version": "1.5.0",
            "_model_name": "ProgressStyleModel",
            "_view_count": null,
            "_view_module": "@jupyter-widgets/base",
            "_view_module_version": "1.2.0",
            "_view_name": "StyleView",
            "bar_color": null,
            "description_width": ""
          }
        },
        "5ccc6e44873340df96416f82fdfb5925": {
          "model_module": "@jupyter-widgets/base",
          "model_name": "LayoutModel",
          "model_module_version": "1.2.0",
          "state": {
            "_model_module": "@jupyter-widgets/base",
            "_model_module_version": "1.2.0",
            "_model_name": "LayoutModel",
            "_view_count": null,
            "_view_module": "@jupyter-widgets/base",
            "_view_module_version": "1.2.0",
            "_view_name": "LayoutView",
            "align_content": null,
            "align_items": null,
            "align_self": null,
            "border": null,
            "bottom": null,
            "display": null,
            "flex": null,
            "flex_flow": null,
            "grid_area": null,
            "grid_auto_columns": null,
            "grid_auto_flow": null,
            "grid_auto_rows": null,
            "grid_column": null,
            "grid_gap": null,
            "grid_row": null,
            "grid_template_areas": null,
            "grid_template_columns": null,
            "grid_template_rows": null,
            "height": null,
            "justify_content": null,
            "justify_items": null,
            "left": null,
            "margin": null,
            "max_height": null,
            "max_width": null,
            "min_height": null,
            "min_width": null,
            "object_fit": null,
            "object_position": null,
            "order": null,
            "overflow": null,
            "overflow_x": null,
            "overflow_y": null,
            "padding": null,
            "right": null,
            "top": null,
            "visibility": null,
            "width": null
          }
        },
        "e72f92ece4804737aacc5ad832f91307": {
          "model_module": "@jupyter-widgets/controls",
          "model_name": "DescriptionStyleModel",
          "model_module_version": "1.5.0",
          "state": {
            "_model_module": "@jupyter-widgets/controls",
            "_model_module_version": "1.5.0",
            "_model_name": "DescriptionStyleModel",
            "_view_count": null,
            "_view_module": "@jupyter-widgets/base",
            "_view_module_version": "1.2.0",
            "_view_name": "StyleView",
            "description_width": ""
          }
        },
        "2773bb9873964849ab58ace06fc515d5": {
          "model_module": "@jupyter-widgets/controls",
          "model_name": "HBoxModel",
          "model_module_version": "1.5.0",
          "state": {
            "_dom_classes": [],
            "_model_module": "@jupyter-widgets/controls",
            "_model_module_version": "1.5.0",
            "_model_name": "HBoxModel",
            "_view_count": null,
            "_view_module": "@jupyter-widgets/controls",
            "_view_module_version": "1.5.0",
            "_view_name": "HBoxView",
            "box_style": "",
            "children": [
              "IPY_MODEL_fcc40eaa09ce49948a418db68576cf6c",
              "IPY_MODEL_63b49ff689c2458abce47e1f4265d034",
              "IPY_MODEL_c0a7aeb339f843968173eda74f2f3987"
            ],
            "layout": "IPY_MODEL_49d93ed52705455fb0d5e1cdee822558"
          }
        },
        "fcc40eaa09ce49948a418db68576cf6c": {
          "model_module": "@jupyter-widgets/controls",
          "model_name": "HTMLModel",
          "model_module_version": "1.5.0",
          "state": {
            "_dom_classes": [],
            "_model_module": "@jupyter-widgets/controls",
            "_model_module_version": "1.5.0",
            "_model_name": "HTMLModel",
            "_view_count": null,
            "_view_module": "@jupyter-widgets/controls",
            "_view_module_version": "1.5.0",
            "_view_name": "HTMLView",
            "description": "",
            "description_tooltip": null,
            "layout": "IPY_MODEL_9a944ad13d8f40668b2375400d4efeb7",
            "placeholder": "​",
            "style": "IPY_MODEL_723e3a06ba0945da9ec9c55780620fe1",
            "value": "Downloading: 100%"
          }
        },
        "63b49ff689c2458abce47e1f4265d034": {
          "model_module": "@jupyter-widgets/controls",
          "model_name": "FloatProgressModel",
          "model_module_version": "1.5.0",
          "state": {
            "_dom_classes": [],
            "_model_module": "@jupyter-widgets/controls",
            "_model_module_version": "1.5.0",
            "_model_name": "FloatProgressModel",
            "_view_count": null,
            "_view_module": "@jupyter-widgets/controls",
            "_view_module_version": "1.5.0",
            "_view_name": "ProgressView",
            "bar_style": "success",
            "description": "",
            "description_tooltip": null,
            "layout": "IPY_MODEL_9e6d3d9c0ae54459853d3e4934eb6514",
            "max": 456318,
            "min": 0,
            "orientation": "horizontal",
            "style": "IPY_MODEL_1cd357a8a72244db98a1cd3551e86da8",
            "value": 456318
          }
        },
        "c0a7aeb339f843968173eda74f2f3987": {
          "model_module": "@jupyter-widgets/controls",
          "model_name": "HTMLModel",
          "model_module_version": "1.5.0",
          "state": {
            "_dom_classes": [],
            "_model_module": "@jupyter-widgets/controls",
            "_model_module_version": "1.5.0",
            "_model_name": "HTMLModel",
            "_view_count": null,
            "_view_module": "@jupyter-widgets/controls",
            "_view_module_version": "1.5.0",
            "_view_name": "HTMLView",
            "description": "",
            "description_tooltip": null,
            "layout": "IPY_MODEL_a8da29b44f044591b620dbc457e35dcb",
            "placeholder": "​",
            "style": "IPY_MODEL_374751176abf46ff801a9cc7435cf173",
            "value": " 446k/446k [00:00&lt;00:00, 1.52MB/s]"
          }
        },
        "49d93ed52705455fb0d5e1cdee822558": {
          "model_module": "@jupyter-widgets/base",
          "model_name": "LayoutModel",
          "model_module_version": "1.2.0",
          "state": {
            "_model_module": "@jupyter-widgets/base",
            "_model_module_version": "1.2.0",
            "_model_name": "LayoutModel",
            "_view_count": null,
            "_view_module": "@jupyter-widgets/base",
            "_view_module_version": "1.2.0",
            "_view_name": "LayoutView",
            "align_content": null,
            "align_items": null,
            "align_self": null,
            "border": null,
            "bottom": null,
            "display": null,
            "flex": null,
            "flex_flow": null,
            "grid_area": null,
            "grid_auto_columns": null,
            "grid_auto_flow": null,
            "grid_auto_rows": null,
            "grid_column": null,
            "grid_gap": null,
            "grid_row": null,
            "grid_template_areas": null,
            "grid_template_columns": null,
            "grid_template_rows": null,
            "height": null,
            "justify_content": null,
            "justify_items": null,
            "left": null,
            "margin": null,
            "max_height": null,
            "max_width": null,
            "min_height": null,
            "min_width": null,
            "object_fit": null,
            "object_position": null,
            "order": null,
            "overflow": null,
            "overflow_x": null,
            "overflow_y": null,
            "padding": null,
            "right": null,
            "top": null,
            "visibility": null,
            "width": null
          }
        },
        "9a944ad13d8f40668b2375400d4efeb7": {
          "model_module": "@jupyter-widgets/base",
          "model_name": "LayoutModel",
          "model_module_version": "1.2.0",
          "state": {
            "_model_module": "@jupyter-widgets/base",
            "_model_module_version": "1.2.0",
            "_model_name": "LayoutModel",
            "_view_count": null,
            "_view_module": "@jupyter-widgets/base",
            "_view_module_version": "1.2.0",
            "_view_name": "LayoutView",
            "align_content": null,
            "align_items": null,
            "align_self": null,
            "border": null,
            "bottom": null,
            "display": null,
            "flex": null,
            "flex_flow": null,
            "grid_area": null,
            "grid_auto_columns": null,
            "grid_auto_flow": null,
            "grid_auto_rows": null,
            "grid_column": null,
            "grid_gap": null,
            "grid_row": null,
            "grid_template_areas": null,
            "grid_template_columns": null,
            "grid_template_rows": null,
            "height": null,
            "justify_content": null,
            "justify_items": null,
            "left": null,
            "margin": null,
            "max_height": null,
            "max_width": null,
            "min_height": null,
            "min_width": null,
            "object_fit": null,
            "object_position": null,
            "order": null,
            "overflow": null,
            "overflow_x": null,
            "overflow_y": null,
            "padding": null,
            "right": null,
            "top": null,
            "visibility": null,
            "width": null
          }
        },
        "723e3a06ba0945da9ec9c55780620fe1": {
          "model_module": "@jupyter-widgets/controls",
          "model_name": "DescriptionStyleModel",
          "model_module_version": "1.5.0",
          "state": {
            "_model_module": "@jupyter-widgets/controls",
            "_model_module_version": "1.5.0",
            "_model_name": "DescriptionStyleModel",
            "_view_count": null,
            "_view_module": "@jupyter-widgets/base",
            "_view_module_version": "1.2.0",
            "_view_name": "StyleView",
            "description_width": ""
          }
        },
        "9e6d3d9c0ae54459853d3e4934eb6514": {
          "model_module": "@jupyter-widgets/base",
          "model_name": "LayoutModel",
          "model_module_version": "1.2.0",
          "state": {
            "_model_module": "@jupyter-widgets/base",
            "_model_module_version": "1.2.0",
            "_model_name": "LayoutModel",
            "_view_count": null,
            "_view_module": "@jupyter-widgets/base",
            "_view_module_version": "1.2.0",
            "_view_name": "LayoutView",
            "align_content": null,
            "align_items": null,
            "align_self": null,
            "border": null,
            "bottom": null,
            "display": null,
            "flex": null,
            "flex_flow": null,
            "grid_area": null,
            "grid_auto_columns": null,
            "grid_auto_flow": null,
            "grid_auto_rows": null,
            "grid_column": null,
            "grid_gap": null,
            "grid_row": null,
            "grid_template_areas": null,
            "grid_template_columns": null,
            "grid_template_rows": null,
            "height": null,
            "justify_content": null,
            "justify_items": null,
            "left": null,
            "margin": null,
            "max_height": null,
            "max_width": null,
            "min_height": null,
            "min_width": null,
            "object_fit": null,
            "object_position": null,
            "order": null,
            "overflow": null,
            "overflow_x": null,
            "overflow_y": null,
            "padding": null,
            "right": null,
            "top": null,
            "visibility": null,
            "width": null
          }
        },
        "1cd357a8a72244db98a1cd3551e86da8": {
          "model_module": "@jupyter-widgets/controls",
          "model_name": "ProgressStyleModel",
          "model_module_version": "1.5.0",
          "state": {
            "_model_module": "@jupyter-widgets/controls",
            "_model_module_version": "1.5.0",
            "_model_name": "ProgressStyleModel",
            "_view_count": null,
            "_view_module": "@jupyter-widgets/base",
            "_view_module_version": "1.2.0",
            "_view_name": "StyleView",
            "bar_color": null,
            "description_width": ""
          }
        },
        "a8da29b44f044591b620dbc457e35dcb": {
          "model_module": "@jupyter-widgets/base",
          "model_name": "LayoutModel",
          "model_module_version": "1.2.0",
          "state": {
            "_model_module": "@jupyter-widgets/base",
            "_model_module_version": "1.2.0",
            "_model_name": "LayoutModel",
            "_view_count": null,
            "_view_module": "@jupyter-widgets/base",
            "_view_module_version": "1.2.0",
            "_view_name": "LayoutView",
            "align_content": null,
            "align_items": null,
            "align_self": null,
            "border": null,
            "bottom": null,
            "display": null,
            "flex": null,
            "flex_flow": null,
            "grid_area": null,
            "grid_auto_columns": null,
            "grid_auto_flow": null,
            "grid_auto_rows": null,
            "grid_column": null,
            "grid_gap": null,
            "grid_row": null,
            "grid_template_areas": null,
            "grid_template_columns": null,
            "grid_template_rows": null,
            "height": null,
            "justify_content": null,
            "justify_items": null,
            "left": null,
            "margin": null,
            "max_height": null,
            "max_width": null,
            "min_height": null,
            "min_width": null,
            "object_fit": null,
            "object_position": null,
            "order": null,
            "overflow": null,
            "overflow_x": null,
            "overflow_y": null,
            "padding": null,
            "right": null,
            "top": null,
            "visibility": null,
            "width": null
          }
        },
        "374751176abf46ff801a9cc7435cf173": {
          "model_module": "@jupyter-widgets/controls",
          "model_name": "DescriptionStyleModel",
          "model_module_version": "1.5.0",
          "state": {
            "_model_module": "@jupyter-widgets/controls",
            "_model_module_version": "1.5.0",
            "_model_name": "DescriptionStyleModel",
            "_view_count": null,
            "_view_module": "@jupyter-widgets/base",
            "_view_module_version": "1.2.0",
            "_view_name": "StyleView",
            "description_width": ""
          }
        },
        "7cb3820ad9e64f34beeec911e9f2826c": {
          "model_module": "@jupyter-widgets/controls",
          "model_name": "HBoxModel",
          "model_module_version": "1.5.0",
          "state": {
            "_dom_classes": [],
            "_model_module": "@jupyter-widgets/controls",
            "_model_module_version": "1.5.0",
            "_model_name": "HBoxModel",
            "_view_count": null,
            "_view_module": "@jupyter-widgets/controls",
            "_view_module_version": "1.5.0",
            "_view_name": "HBoxView",
            "box_style": "",
            "children": [
              "IPY_MODEL_f7cd64cf7e7a41dda0d7e8b741ba68b8",
              "IPY_MODEL_d0b9e2ad9a2f439295eb8e9dd2617741",
              "IPY_MODEL_078244a79cd84dc0b6c5a9193aa6893d"
            ],
            "layout": "IPY_MODEL_d7b92ef68fd242d4b539abed84774db6"
          }
        },
        "f7cd64cf7e7a41dda0d7e8b741ba68b8": {
          "model_module": "@jupyter-widgets/controls",
          "model_name": "HTMLModel",
          "model_module_version": "1.5.0",
          "state": {
            "_dom_classes": [],
            "_model_module": "@jupyter-widgets/controls",
            "_model_module_version": "1.5.0",
            "_model_name": "HTMLModel",
            "_view_count": null,
            "_view_module": "@jupyter-widgets/controls",
            "_view_module_version": "1.5.0",
            "_view_name": "HTMLView",
            "description": "",
            "description_tooltip": null,
            "layout": "IPY_MODEL_b8abe60c26144e218f644bfdafff22ab",
            "placeholder": "​",
            "style": "IPY_MODEL_d5d0124fd4bd4d24bcb83f562e7bd13a",
            "value": "Downloading: 100%"
          }
        },
        "d0b9e2ad9a2f439295eb8e9dd2617741": {
          "model_module": "@jupyter-widgets/controls",
          "model_name": "FloatProgressModel",
          "model_module_version": "1.5.0",
          "state": {
            "_dom_classes": [],
            "_model_module": "@jupyter-widgets/controls",
            "_model_module_version": "1.5.0",
            "_model_name": "FloatProgressModel",
            "_view_count": null,
            "_view_module": "@jupyter-widgets/controls",
            "_view_module_version": "1.5.0",
            "_view_name": "ProgressView",
            "bar_style": "success",
            "description": "",
            "description_tooltip": null,
            "layout": "IPY_MODEL_743ad77759144e6c87324e1702ef6b73",
            "max": 239,
            "min": 0,
            "orientation": "horizontal",
            "style": "IPY_MODEL_c57c8b32148d48208f0d7e08ae215691",
            "value": 239
          }
        },
        "078244a79cd84dc0b6c5a9193aa6893d": {
          "model_module": "@jupyter-widgets/controls",
          "model_name": "HTMLModel",
          "model_module_version": "1.5.0",
          "state": {
            "_dom_classes": [],
            "_model_module": "@jupyter-widgets/controls",
            "_model_module_version": "1.5.0",
            "_model_name": "HTMLModel",
            "_view_count": null,
            "_view_module": "@jupyter-widgets/controls",
            "_view_module_version": "1.5.0",
            "_view_name": "HTMLView",
            "description": "",
            "description_tooltip": null,
            "layout": "IPY_MODEL_b3bf04c946a14bdeae6b4566041865ad",
            "placeholder": "​",
            "style": "IPY_MODEL_9b9bfc6ba603477297054c05e255d10f",
            "value": " 239/239 [00:00&lt;00:00, 7.22kB/s]"
          }
        },
        "d7b92ef68fd242d4b539abed84774db6": {
          "model_module": "@jupyter-widgets/base",
          "model_name": "LayoutModel",
          "model_module_version": "1.2.0",
          "state": {
            "_model_module": "@jupyter-widgets/base",
            "_model_module_version": "1.2.0",
            "_model_name": "LayoutModel",
            "_view_count": null,
            "_view_module": "@jupyter-widgets/base",
            "_view_module_version": "1.2.0",
            "_view_name": "LayoutView",
            "align_content": null,
            "align_items": null,
            "align_self": null,
            "border": null,
            "bottom": null,
            "display": null,
            "flex": null,
            "flex_flow": null,
            "grid_area": null,
            "grid_auto_columns": null,
            "grid_auto_flow": null,
            "grid_auto_rows": null,
            "grid_column": null,
            "grid_gap": null,
            "grid_row": null,
            "grid_template_areas": null,
            "grid_template_columns": null,
            "grid_template_rows": null,
            "height": null,
            "justify_content": null,
            "justify_items": null,
            "left": null,
            "margin": null,
            "max_height": null,
            "max_width": null,
            "min_height": null,
            "min_width": null,
            "object_fit": null,
            "object_position": null,
            "order": null,
            "overflow": null,
            "overflow_x": null,
            "overflow_y": null,
            "padding": null,
            "right": null,
            "top": null,
            "visibility": null,
            "width": null
          }
        },
        "b8abe60c26144e218f644bfdafff22ab": {
          "model_module": "@jupyter-widgets/base",
          "model_name": "LayoutModel",
          "model_module_version": "1.2.0",
          "state": {
            "_model_module": "@jupyter-widgets/base",
            "_model_module_version": "1.2.0",
            "_model_name": "LayoutModel",
            "_view_count": null,
            "_view_module": "@jupyter-widgets/base",
            "_view_module_version": "1.2.0",
            "_view_name": "LayoutView",
            "align_content": null,
            "align_items": null,
            "align_self": null,
            "border": null,
            "bottom": null,
            "display": null,
            "flex": null,
            "flex_flow": null,
            "grid_area": null,
            "grid_auto_columns": null,
            "grid_auto_flow": null,
            "grid_auto_rows": null,
            "grid_column": null,
            "grid_gap": null,
            "grid_row": null,
            "grid_template_areas": null,
            "grid_template_columns": null,
            "grid_template_rows": null,
            "height": null,
            "justify_content": null,
            "justify_items": null,
            "left": null,
            "margin": null,
            "max_height": null,
            "max_width": null,
            "min_height": null,
            "min_width": null,
            "object_fit": null,
            "object_position": null,
            "order": null,
            "overflow": null,
            "overflow_x": null,
            "overflow_y": null,
            "padding": null,
            "right": null,
            "top": null,
            "visibility": null,
            "width": null
          }
        },
        "d5d0124fd4bd4d24bcb83f562e7bd13a": {
          "model_module": "@jupyter-widgets/controls",
          "model_name": "DescriptionStyleModel",
          "model_module_version": "1.5.0",
          "state": {
            "_model_module": "@jupyter-widgets/controls",
            "_model_module_version": "1.5.0",
            "_model_name": "DescriptionStyleModel",
            "_view_count": null,
            "_view_module": "@jupyter-widgets/base",
            "_view_module_version": "1.2.0",
            "_view_name": "StyleView",
            "description_width": ""
          }
        },
        "743ad77759144e6c87324e1702ef6b73": {
          "model_module": "@jupyter-widgets/base",
          "model_name": "LayoutModel",
          "model_module_version": "1.2.0",
          "state": {
            "_model_module": "@jupyter-widgets/base",
            "_model_module_version": "1.2.0",
            "_model_name": "LayoutModel",
            "_view_count": null,
            "_view_module": "@jupyter-widgets/base",
            "_view_module_version": "1.2.0",
            "_view_name": "LayoutView",
            "align_content": null,
            "align_items": null,
            "align_self": null,
            "border": null,
            "bottom": null,
            "display": null,
            "flex": null,
            "flex_flow": null,
            "grid_area": null,
            "grid_auto_columns": null,
            "grid_auto_flow": null,
            "grid_auto_rows": null,
            "grid_column": null,
            "grid_gap": null,
            "grid_row": null,
            "grid_template_areas": null,
            "grid_template_columns": null,
            "grid_template_rows": null,
            "height": null,
            "justify_content": null,
            "justify_items": null,
            "left": null,
            "margin": null,
            "max_height": null,
            "max_width": null,
            "min_height": null,
            "min_width": null,
            "object_fit": null,
            "object_position": null,
            "order": null,
            "overflow": null,
            "overflow_x": null,
            "overflow_y": null,
            "padding": null,
            "right": null,
            "top": null,
            "visibility": null,
            "width": null
          }
        },
        "c57c8b32148d48208f0d7e08ae215691": {
          "model_module": "@jupyter-widgets/controls",
          "model_name": "ProgressStyleModel",
          "model_module_version": "1.5.0",
          "state": {
            "_model_module": "@jupyter-widgets/controls",
            "_model_module_version": "1.5.0",
            "_model_name": "ProgressStyleModel",
            "_view_count": null,
            "_view_module": "@jupyter-widgets/base",
            "_view_module_version": "1.2.0",
            "_view_name": "StyleView",
            "bar_color": null,
            "description_width": ""
          }
        },
        "b3bf04c946a14bdeae6b4566041865ad": {
          "model_module": "@jupyter-widgets/base",
          "model_name": "LayoutModel",
          "model_module_version": "1.2.0",
          "state": {
            "_model_module": "@jupyter-widgets/base",
            "_model_module_version": "1.2.0",
            "_model_name": "LayoutModel",
            "_view_count": null,
            "_view_module": "@jupyter-widgets/base",
            "_view_module_version": "1.2.0",
            "_view_name": "LayoutView",
            "align_content": null,
            "align_items": null,
            "align_self": null,
            "border": null,
            "bottom": null,
            "display": null,
            "flex": null,
            "flex_flow": null,
            "grid_area": null,
            "grid_auto_columns": null,
            "grid_auto_flow": null,
            "grid_auto_rows": null,
            "grid_column": null,
            "grid_gap": null,
            "grid_row": null,
            "grid_template_areas": null,
            "grid_template_columns": null,
            "grid_template_rows": null,
            "height": null,
            "justify_content": null,
            "justify_items": null,
            "left": null,
            "margin": null,
            "max_height": null,
            "max_width": null,
            "min_height": null,
            "min_width": null,
            "object_fit": null,
            "object_position": null,
            "order": null,
            "overflow": null,
            "overflow_x": null,
            "overflow_y": null,
            "padding": null,
            "right": null,
            "top": null,
            "visibility": null,
            "width": null
          }
        },
        "9b9bfc6ba603477297054c05e255d10f": {
          "model_module": "@jupyter-widgets/controls",
          "model_name": "DescriptionStyleModel",
          "model_module_version": "1.5.0",
          "state": {
            "_model_module": "@jupyter-widgets/controls",
            "_model_module_version": "1.5.0",
            "_model_name": "DescriptionStyleModel",
            "_view_count": null,
            "_view_module": "@jupyter-widgets/base",
            "_view_module_version": "1.2.0",
            "_view_name": "StyleView",
            "description_width": ""
          }
        }
      }
    }
  },
  "nbformat": 4,
  "nbformat_minor": 0
}