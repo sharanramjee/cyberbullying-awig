{
  "nbformat": 4,
  "nbformat_minor": 0,
  "metadata": {
    "colab": {
      "name": "textAttack.ipynb",
      "provenance": []
    },
    "kernelspec": {
      "name": "python3",
      "display_name": "Python 3"
    },
    "language_info": {
      "name": "python"
    },
    "widgets": {
      "application/vnd.jupyter.widget-state+json": {
        "debc5aaa44a04db0b6b3382431f5f729": {
          "model_module": "@jupyter-widgets/controls",
          "model_name": "HBoxModel",
          "model_module_version": "1.5.0",
          "state": {
            "_dom_classes": [],
            "_model_module": "@jupyter-widgets/controls",
            "_model_module_version": "1.5.0",
            "_model_name": "HBoxModel",
            "_view_count": null,
            "_view_module": "@jupyter-widgets/controls",
            "_view_module_version": "1.5.0",
            "_view_name": "HBoxView",
            "box_style": "",
            "children": [
              "IPY_MODEL_c51b7ffd543344f4b6d344753b737dbb",
              "IPY_MODEL_5d68291df9d14fff8ceb014080bcf851"
            ],
            "layout": "IPY_MODEL_7190c70c4ea74053b43dd295acdce82f"
          }
        },
        "c51b7ffd543344f4b6d344753b737dbb": {
          "model_module": "@jupyter-widgets/controls",
          "model_name": "FloatProgressModel",
          "model_module_version": "1.5.0",
          "state": {
            "_dom_classes": [],
            "_model_module": "@jupyter-widgets/controls",
            "_model_module_version": "1.5.0",
            "_model_name": "FloatProgressModel",
            "_view_count": null,
            "_view_module": "@jupyter-widgets/controls",
            "_view_module_version": "1.5.0",
            "_view_name": "ProgressView",
            "bar_style": "success",
            "description": "Downloading: 100%",
            "description_tooltip": null,
            "layout": "IPY_MODEL_0b69a5f644d3430282f3287635d6b02c",
            "max": 929,
            "min": 0,
            "orientation": "horizontal",
            "style": "IPY_MODEL_5416d9a8e61346c8abff682f2a59e09f",
            "value": 929
          }
        },
        "5d68291df9d14fff8ceb014080bcf851": {
          "model_module": "@jupyter-widgets/controls",
          "model_name": "HTMLModel",
          "model_module_version": "1.5.0",
          "state": {
            "_dom_classes": [],
            "_model_module": "@jupyter-widgets/controls",
            "_model_module_version": "1.5.0",
            "_model_name": "HTMLModel",
            "_view_count": null,
            "_view_module": "@jupyter-widgets/controls",
            "_view_module_version": "1.5.0",
            "_view_name": "HTMLView",
            "description": "",
            "description_tooltip": null,
            "layout": "IPY_MODEL_d2e03dfcfb7542fd9c20b68c4cd49d96",
            "placeholder": "​",
            "style": "IPY_MODEL_88f7fc2e898045d1b58a488c3500f058",
            "value": " 929/929 [00:00&lt;00:00, 14.7kB/s]"
          }
        },
        "7190c70c4ea74053b43dd295acdce82f": {
          "model_module": "@jupyter-widgets/base",
          "model_name": "LayoutModel",
          "model_module_version": "1.2.0",
          "state": {
            "_model_module": "@jupyter-widgets/base",
            "_model_module_version": "1.2.0",
            "_model_name": "LayoutModel",
            "_view_count": null,
            "_view_module": "@jupyter-widgets/base",
            "_view_module_version": "1.2.0",
            "_view_name": "LayoutView",
            "align_content": null,
            "align_items": null,
            "align_self": null,
            "border": null,
            "bottom": null,
            "display": null,
            "flex": null,
            "flex_flow": null,
            "grid_area": null,
            "grid_auto_columns": null,
            "grid_auto_flow": null,
            "grid_auto_rows": null,
            "grid_column": null,
            "grid_gap": null,
            "grid_row": null,
            "grid_template_areas": null,
            "grid_template_columns": null,
            "grid_template_rows": null,
            "height": null,
            "justify_content": null,
            "justify_items": null,
            "left": null,
            "margin": null,
            "max_height": null,
            "max_width": null,
            "min_height": null,
            "min_width": null,
            "object_fit": null,
            "object_position": null,
            "order": null,
            "overflow": null,
            "overflow_x": null,
            "overflow_y": null,
            "padding": null,
            "right": null,
            "top": null,
            "visibility": null,
            "width": null
          }
        },
        "0b69a5f644d3430282f3287635d6b02c": {
          "model_module": "@jupyter-widgets/base",
          "model_name": "LayoutModel",
          "model_module_version": "1.2.0",
          "state": {
            "_model_module": "@jupyter-widgets/base",
            "_model_module_version": "1.2.0",
            "_model_name": "LayoutModel",
            "_view_count": null,
            "_view_module": "@jupyter-widgets/base",
            "_view_module_version": "1.2.0",
            "_view_name": "LayoutView",
            "align_content": null,
            "align_items": null,
            "align_self": null,
            "border": null,
            "bottom": null,
            "display": null,
            "flex": null,
            "flex_flow": null,
            "grid_area": null,
            "grid_auto_columns": null,
            "grid_auto_flow": null,
            "grid_auto_rows": null,
            "grid_column": null,
            "grid_gap": null,
            "grid_row": null,
            "grid_template_areas": null,
            "grid_template_columns": null,
            "grid_template_rows": null,
            "height": null,
            "justify_content": null,
            "justify_items": null,
            "left": null,
            "margin": null,
            "max_height": null,
            "max_width": null,
            "min_height": null,
            "min_width": null,
            "object_fit": null,
            "object_position": null,
            "order": null,
            "overflow": null,
            "overflow_x": null,
            "overflow_y": null,
            "padding": null,
            "right": null,
            "top": null,
            "visibility": null,
            "width": null
          }
        },
        "5416d9a8e61346c8abff682f2a59e09f": {
          "model_module": "@jupyter-widgets/controls",
          "model_name": "ProgressStyleModel",
          "model_module_version": "1.5.0",
          "state": {
            "_model_module": "@jupyter-widgets/controls",
            "_model_module_version": "1.5.0",
            "_model_name": "ProgressStyleModel",
            "_view_count": null,
            "_view_module": "@jupyter-widgets/base",
            "_view_module_version": "1.2.0",
            "_view_name": "StyleView",
            "bar_color": null,
            "description_width": "initial"
          }
        },
        "d2e03dfcfb7542fd9c20b68c4cd49d96": {
          "model_module": "@jupyter-widgets/base",
          "model_name": "LayoutModel",
          "model_module_version": "1.2.0",
          "state": {
            "_model_module": "@jupyter-widgets/base",
            "_model_module_version": "1.2.0",
            "_model_name": "LayoutModel",
            "_view_count": null,
            "_view_module": "@jupyter-widgets/base",
            "_view_module_version": "1.2.0",
            "_view_name": "LayoutView",
            "align_content": null,
            "align_items": null,
            "align_self": null,
            "border": null,
            "bottom": null,
            "display": null,
            "flex": null,
            "flex_flow": null,
            "grid_area": null,
            "grid_auto_columns": null,
            "grid_auto_flow": null,
            "grid_auto_rows": null,
            "grid_column": null,
            "grid_gap": null,
            "grid_row": null,
            "grid_template_areas": null,
            "grid_template_columns": null,
            "grid_template_rows": null,
            "height": null,
            "justify_content": null,
            "justify_items": null,
            "left": null,
            "margin": null,
            "max_height": null,
            "max_width": null,
            "min_height": null,
            "min_width": null,
            "object_fit": null,
            "object_position": null,
            "order": null,
            "overflow": null,
            "overflow_x": null,
            "overflow_y": null,
            "padding": null,
            "right": null,
            "top": null,
            "visibility": null,
            "width": null
          }
        },
        "88f7fc2e898045d1b58a488c3500f058": {
          "model_module": "@jupyter-widgets/controls",
          "model_name": "DescriptionStyleModel",
          "model_module_version": "1.5.0",
          "state": {
            "_model_module": "@jupyter-widgets/controls",
            "_model_module_version": "1.5.0",
            "_model_name": "DescriptionStyleModel",
            "_view_count": null,
            "_view_module": "@jupyter-widgets/base",
            "_view_module_version": "1.2.0",
            "_view_name": "StyleView",
            "description_width": ""
          }
        },
        "4ff1d89155c34defac860d789be84b20": {
          "model_module": "@jupyter-widgets/controls",
          "model_name": "HBoxModel",
          "model_module_version": "1.5.0",
          "state": {
            "_dom_classes": [],
            "_model_module": "@jupyter-widgets/controls",
            "_model_module_version": "1.5.0",
            "_model_name": "HBoxModel",
            "_view_count": null,
            "_view_module": "@jupyter-widgets/controls",
            "_view_module_version": "1.5.0",
            "_view_name": "HBoxView",
            "box_style": "",
            "children": [
              "IPY_MODEL_31906229fa3d4a669e9717d04d77ae8b",
              "IPY_MODEL_abb5ab0e84db4ef988c3ce168a151978"
            ],
            "layout": "IPY_MODEL_64849836a8114e548b32038cb29e7870"
          }
        },
        "31906229fa3d4a669e9717d04d77ae8b": {
          "model_module": "@jupyter-widgets/controls",
          "model_name": "FloatProgressModel",
          "model_module_version": "1.5.0",
          "state": {
            "_dom_classes": [],
            "_model_module": "@jupyter-widgets/controls",
            "_model_module_version": "1.5.0",
            "_model_name": "FloatProgressModel",
            "_view_count": null,
            "_view_module": "@jupyter-widgets/controls",
            "_view_module_version": "1.5.0",
            "_view_name": "ProgressView",
            "bar_style": "success",
            "description": "Downloading: 100%",
            "description_tooltip": null,
            "layout": "IPY_MODEL_ad7cc2fb68a741f89c4cb1c518e0f9de",
            "max": 501045531,
            "min": 0,
            "orientation": "horizontal",
            "style": "IPY_MODEL_009cf90fe4ee4b1d8ca2a4aa8f6ebef9",
            "value": 501045531
          }
        },
        "abb5ab0e84db4ef988c3ce168a151978": {
          "model_module": "@jupyter-widgets/controls",
          "model_name": "HTMLModel",
          "model_module_version": "1.5.0",
          "state": {
            "_dom_classes": [],
            "_model_module": "@jupyter-widgets/controls",
            "_model_module_version": "1.5.0",
            "_model_name": "HTMLModel",
            "_view_count": null,
            "_view_module": "@jupyter-widgets/controls",
            "_view_module_version": "1.5.0",
            "_view_name": "HTMLView",
            "description": "",
            "description_tooltip": null,
            "layout": "IPY_MODEL_8db0d0f38ee245fab9adfa3d5728a500",
            "placeholder": "​",
            "style": "IPY_MODEL_0c01c2416a17421b8ed8253abd8bb85a",
            "value": " 478M/478M [00:13&lt;00:00, 37.2MB/s]"
          }
        },
        "64849836a8114e548b32038cb29e7870": {
          "model_module": "@jupyter-widgets/base",
          "model_name": "LayoutModel",
          "model_module_version": "1.2.0",
          "state": {
            "_model_module": "@jupyter-widgets/base",
            "_model_module_version": "1.2.0",
            "_model_name": "LayoutModel",
            "_view_count": null,
            "_view_module": "@jupyter-widgets/base",
            "_view_module_version": "1.2.0",
            "_view_name": "LayoutView",
            "align_content": null,
            "align_items": null,
            "align_self": null,
            "border": null,
            "bottom": null,
            "display": null,
            "flex": null,
            "flex_flow": null,
            "grid_area": null,
            "grid_auto_columns": null,
            "grid_auto_flow": null,
            "grid_auto_rows": null,
            "grid_column": null,
            "grid_gap": null,
            "grid_row": null,
            "grid_template_areas": null,
            "grid_template_columns": null,
            "grid_template_rows": null,
            "height": null,
            "justify_content": null,
            "justify_items": null,
            "left": null,
            "margin": null,
            "max_height": null,
            "max_width": null,
            "min_height": null,
            "min_width": null,
            "object_fit": null,
            "object_position": null,
            "order": null,
            "overflow": null,
            "overflow_x": null,
            "overflow_y": null,
            "padding": null,
            "right": null,
            "top": null,
            "visibility": null,
            "width": null
          }
        },
        "ad7cc2fb68a741f89c4cb1c518e0f9de": {
          "model_module": "@jupyter-widgets/base",
          "model_name": "LayoutModel",
          "model_module_version": "1.2.0",
          "state": {
            "_model_module": "@jupyter-widgets/base",
            "_model_module_version": "1.2.0",
            "_model_name": "LayoutModel",
            "_view_count": null,
            "_view_module": "@jupyter-widgets/base",
            "_view_module_version": "1.2.0",
            "_view_name": "LayoutView",
            "align_content": null,
            "align_items": null,
            "align_self": null,
            "border": null,
            "bottom": null,
            "display": null,
            "flex": null,
            "flex_flow": null,
            "grid_area": null,
            "grid_auto_columns": null,
            "grid_auto_flow": null,
            "grid_auto_rows": null,
            "grid_column": null,
            "grid_gap": null,
            "grid_row": null,
            "grid_template_areas": null,
            "grid_template_columns": null,
            "grid_template_rows": null,
            "height": null,
            "justify_content": null,
            "justify_items": null,
            "left": null,
            "margin": null,
            "max_height": null,
            "max_width": null,
            "min_height": null,
            "min_width": null,
            "object_fit": null,
            "object_position": null,
            "order": null,
            "overflow": null,
            "overflow_x": null,
            "overflow_y": null,
            "padding": null,
            "right": null,
            "top": null,
            "visibility": null,
            "width": null
          }
        },
        "009cf90fe4ee4b1d8ca2a4aa8f6ebef9": {
          "model_module": "@jupyter-widgets/controls",
          "model_name": "ProgressStyleModel",
          "model_module_version": "1.5.0",
          "state": {
            "_model_module": "@jupyter-widgets/controls",
            "_model_module_version": "1.5.0",
            "_model_name": "ProgressStyleModel",
            "_view_count": null,
            "_view_module": "@jupyter-widgets/base",
            "_view_module_version": "1.2.0",
            "_view_name": "StyleView",
            "bar_color": null,
            "description_width": "initial"
          }
        },
        "8db0d0f38ee245fab9adfa3d5728a500": {
          "model_module": "@jupyter-widgets/base",
          "model_name": "LayoutModel",
          "model_module_version": "1.2.0",
          "state": {
            "_model_module": "@jupyter-widgets/base",
            "_model_module_version": "1.2.0",
            "_model_name": "LayoutModel",
            "_view_count": null,
            "_view_module": "@jupyter-widgets/base",
            "_view_module_version": "1.2.0",
            "_view_name": "LayoutView",
            "align_content": null,
            "align_items": null,
            "align_self": null,
            "border": null,
            "bottom": null,
            "display": null,
            "flex": null,
            "flex_flow": null,
            "grid_area": null,
            "grid_auto_columns": null,
            "grid_auto_flow": null,
            "grid_auto_rows": null,
            "grid_column": null,
            "grid_gap": null,
            "grid_row": null,
            "grid_template_areas": null,
            "grid_template_columns": null,
            "grid_template_rows": null,
            "height": null,
            "justify_content": null,
            "justify_items": null,
            "left": null,
            "margin": null,
            "max_height": null,
            "max_width": null,
            "min_height": null,
            "min_width": null,
            "object_fit": null,
            "object_position": null,
            "order": null,
            "overflow": null,
            "overflow_x": null,
            "overflow_y": null,
            "padding": null,
            "right": null,
            "top": null,
            "visibility": null,
            "width": null
          }
        },
        "0c01c2416a17421b8ed8253abd8bb85a": {
          "model_module": "@jupyter-widgets/controls",
          "model_name": "DescriptionStyleModel",
          "model_module_version": "1.5.0",
          "state": {
            "_model_module": "@jupyter-widgets/controls",
            "_model_module_version": "1.5.0",
            "_model_name": "DescriptionStyleModel",
            "_view_count": null,
            "_view_module": "@jupyter-widgets/base",
            "_view_module_version": "1.2.0",
            "_view_name": "StyleView",
            "description_width": ""
          }
        },
        "f98ffe963dd04beeb6f820d37bd3c29f": {
          "model_module": "@jupyter-widgets/controls",
          "model_name": "HBoxModel",
          "model_module_version": "1.5.0",
          "state": {
            "_dom_classes": [],
            "_model_module": "@jupyter-widgets/controls",
            "_model_module_version": "1.5.0",
            "_model_name": "HBoxModel",
            "_view_count": null,
            "_view_module": "@jupyter-widgets/controls",
            "_view_module_version": "1.5.0",
            "_view_name": "HBoxView",
            "box_style": "",
            "children": [
              "IPY_MODEL_a0f7466c4aa94854908d1959847b2fc8",
              "IPY_MODEL_3cdc32eb56db4725bcd8211b8aafc849"
            ],
            "layout": "IPY_MODEL_5319e8bafb85455886d8c73e309ac0de"
          }
        },
        "a0f7466c4aa94854908d1959847b2fc8": {
          "model_module": "@jupyter-widgets/controls",
          "model_name": "FloatProgressModel",
          "model_module_version": "1.5.0",
          "state": {
            "_dom_classes": [],
            "_model_module": "@jupyter-widgets/controls",
            "_model_module_version": "1.5.0",
            "_model_name": "FloatProgressModel",
            "_view_count": null,
            "_view_module": "@jupyter-widgets/controls",
            "_view_module_version": "1.5.0",
            "_view_name": "ProgressView",
            "bar_style": "success",
            "description": "Downloading: 100%",
            "description_tooltip": null,
            "layout": "IPY_MODEL_5ae2343a306b4052ae61a3a3269eba9e",
            "max": 898822,
            "min": 0,
            "orientation": "horizontal",
            "style": "IPY_MODEL_7f4979cff01f4050ba3ac348c8e95a69",
            "value": 898822
          }
        },
        "3cdc32eb56db4725bcd8211b8aafc849": {
          "model_module": "@jupyter-widgets/controls",
          "model_name": "HTMLModel",
          "model_module_version": "1.5.0",
          "state": {
            "_dom_classes": [],
            "_model_module": "@jupyter-widgets/controls",
            "_model_module_version": "1.5.0",
            "_model_name": "HTMLModel",
            "_view_count": null,
            "_view_module": "@jupyter-widgets/controls",
            "_view_module_version": "1.5.0",
            "_view_name": "HTMLView",
            "description": "",
            "description_tooltip": null,
            "layout": "IPY_MODEL_1de484adaa14444498b8e1b5e198a8c7",
            "placeholder": "​",
            "style": "IPY_MODEL_1c7145cf7aef43d0aaf23f0cbe2a7706",
            "value": " 878k/878k [00:00&lt;00:00, 997kB/s]"
          }
        },
        "5319e8bafb85455886d8c73e309ac0de": {
          "model_module": "@jupyter-widgets/base",
          "model_name": "LayoutModel",
          "model_module_version": "1.2.0",
          "state": {
            "_model_module": "@jupyter-widgets/base",
            "_model_module_version": "1.2.0",
            "_model_name": "LayoutModel",
            "_view_count": null,
            "_view_module": "@jupyter-widgets/base",
            "_view_module_version": "1.2.0",
            "_view_name": "LayoutView",
            "align_content": null,
            "align_items": null,
            "align_self": null,
            "border": null,
            "bottom": null,
            "display": null,
            "flex": null,
            "flex_flow": null,
            "grid_area": null,
            "grid_auto_columns": null,
            "grid_auto_flow": null,
            "grid_auto_rows": null,
            "grid_column": null,
            "grid_gap": null,
            "grid_row": null,
            "grid_template_areas": null,
            "grid_template_columns": null,
            "grid_template_rows": null,
            "height": null,
            "justify_content": null,
            "justify_items": null,
            "left": null,
            "margin": null,
            "max_height": null,
            "max_width": null,
            "min_height": null,
            "min_width": null,
            "object_fit": null,
            "object_position": null,
            "order": null,
            "overflow": null,
            "overflow_x": null,
            "overflow_y": null,
            "padding": null,
            "right": null,
            "top": null,
            "visibility": null,
            "width": null
          }
        },
        "5ae2343a306b4052ae61a3a3269eba9e": {
          "model_module": "@jupyter-widgets/base",
          "model_name": "LayoutModel",
          "model_module_version": "1.2.0",
          "state": {
            "_model_module": "@jupyter-widgets/base",
            "_model_module_version": "1.2.0",
            "_model_name": "LayoutModel",
            "_view_count": null,
            "_view_module": "@jupyter-widgets/base",
            "_view_module_version": "1.2.0",
            "_view_name": "LayoutView",
            "align_content": null,
            "align_items": null,
            "align_self": null,
            "border": null,
            "bottom": null,
            "display": null,
            "flex": null,
            "flex_flow": null,
            "grid_area": null,
            "grid_auto_columns": null,
            "grid_auto_flow": null,
            "grid_auto_rows": null,
            "grid_column": null,
            "grid_gap": null,
            "grid_row": null,
            "grid_template_areas": null,
            "grid_template_columns": null,
            "grid_template_rows": null,
            "height": null,
            "justify_content": null,
            "justify_items": null,
            "left": null,
            "margin": null,
            "max_height": null,
            "max_width": null,
            "min_height": null,
            "min_width": null,
            "object_fit": null,
            "object_position": null,
            "order": null,
            "overflow": null,
            "overflow_x": null,
            "overflow_y": null,
            "padding": null,
            "right": null,
            "top": null,
            "visibility": null,
            "width": null
          }
        },
        "7f4979cff01f4050ba3ac348c8e95a69": {
          "model_module": "@jupyter-widgets/controls",
          "model_name": "ProgressStyleModel",
          "model_module_version": "1.5.0",
          "state": {
            "_model_module": "@jupyter-widgets/controls",
            "_model_module_version": "1.5.0",
            "_model_name": "ProgressStyleModel",
            "_view_count": null,
            "_view_module": "@jupyter-widgets/base",
            "_view_module_version": "1.2.0",
            "_view_name": "StyleView",
            "bar_color": null,
            "description_width": "initial"
          }
        },
        "1de484adaa14444498b8e1b5e198a8c7": {
          "model_module": "@jupyter-widgets/base",
          "model_name": "LayoutModel",
          "model_module_version": "1.2.0",
          "state": {
            "_model_module": "@jupyter-widgets/base",
            "_model_module_version": "1.2.0",
            "_model_name": "LayoutModel",
            "_view_count": null,
            "_view_module": "@jupyter-widgets/base",
            "_view_module_version": "1.2.0",
            "_view_name": "LayoutView",
            "align_content": null,
            "align_items": null,
            "align_self": null,
            "border": null,
            "bottom": null,
            "display": null,
            "flex": null,
            "flex_flow": null,
            "grid_area": null,
            "grid_auto_columns": null,
            "grid_auto_flow": null,
            "grid_auto_rows": null,
            "grid_column": null,
            "grid_gap": null,
            "grid_row": null,
            "grid_template_areas": null,
            "grid_template_columns": null,
            "grid_template_rows": null,
            "height": null,
            "justify_content": null,
            "justify_items": null,
            "left": null,
            "margin": null,
            "max_height": null,
            "max_width": null,
            "min_height": null,
            "min_width": null,
            "object_fit": null,
            "object_position": null,
            "order": null,
            "overflow": null,
            "overflow_x": null,
            "overflow_y": null,
            "padding": null,
            "right": null,
            "top": null,
            "visibility": null,
            "width": null
          }
        },
        "1c7145cf7aef43d0aaf23f0cbe2a7706": {
          "model_module": "@jupyter-widgets/controls",
          "model_name": "DescriptionStyleModel",
          "model_module_version": "1.5.0",
          "state": {
            "_model_module": "@jupyter-widgets/controls",
            "_model_module_version": "1.5.0",
            "_model_name": "DescriptionStyleModel",
            "_view_count": null,
            "_view_module": "@jupyter-widgets/base",
            "_view_module_version": "1.2.0",
            "_view_name": "StyleView",
            "description_width": ""
          }
        },
        "5c3c8bd7de9f499495898acd7ce4ecc3": {
          "model_module": "@jupyter-widgets/controls",
          "model_name": "HBoxModel",
          "model_module_version": "1.5.0",
          "state": {
            "_dom_classes": [],
            "_model_module": "@jupyter-widgets/controls",
            "_model_module_version": "1.5.0",
            "_model_name": "HBoxModel",
            "_view_count": null,
            "_view_module": "@jupyter-widgets/controls",
            "_view_module_version": "1.5.0",
            "_view_name": "HBoxView",
            "box_style": "",
            "children": [
              "IPY_MODEL_2d9f35a455f347d787449b30d7f3dc5e",
              "IPY_MODEL_a7eb5b82ae934c9b8db356e77fdbad16"
            ],
            "layout": "IPY_MODEL_6ed751060dc448bfb1a529d2cefbeda3"
          }
        },
        "2d9f35a455f347d787449b30d7f3dc5e": {
          "model_module": "@jupyter-widgets/controls",
          "model_name": "FloatProgressModel",
          "model_module_version": "1.5.0",
          "state": {
            "_dom_classes": [],
            "_model_module": "@jupyter-widgets/controls",
            "_model_module_version": "1.5.0",
            "_model_name": "FloatProgressModel",
            "_view_count": null,
            "_view_module": "@jupyter-widgets/controls",
            "_view_module_version": "1.5.0",
            "_view_name": "ProgressView",
            "bar_style": "success",
            "description": "Downloading: 100%",
            "description_tooltip": null,
            "layout": "IPY_MODEL_8671e520f59e4754935aa07db7427af9",
            "max": 456318,
            "min": 0,
            "orientation": "horizontal",
            "style": "IPY_MODEL_73eafa1aa1324e788b6beff16d0fb75a",
            "value": 456318
          }
        },
        "a7eb5b82ae934c9b8db356e77fdbad16": {
          "model_module": "@jupyter-widgets/controls",
          "model_name": "HTMLModel",
          "model_module_version": "1.5.0",
          "state": {
            "_dom_classes": [],
            "_model_module": "@jupyter-widgets/controls",
            "_model_module_version": "1.5.0",
            "_model_name": "HTMLModel",
            "_view_count": null,
            "_view_module": "@jupyter-widgets/controls",
            "_view_module_version": "1.5.0",
            "_view_name": "HTMLView",
            "description": "",
            "description_tooltip": null,
            "layout": "IPY_MODEL_f5133afd1a7e4a4baff27176aef121a3",
            "placeholder": "​",
            "style": "IPY_MODEL_71298c2a322847e9b563ec3ff551ff7b",
            "value": " 446k/446k [00:02&lt;00:00, 210kB/s]"
          }
        },
        "6ed751060dc448bfb1a529d2cefbeda3": {
          "model_module": "@jupyter-widgets/base",
          "model_name": "LayoutModel",
          "model_module_version": "1.2.0",
          "state": {
            "_model_module": "@jupyter-widgets/base",
            "_model_module_version": "1.2.0",
            "_model_name": "LayoutModel",
            "_view_count": null,
            "_view_module": "@jupyter-widgets/base",
            "_view_module_version": "1.2.0",
            "_view_name": "LayoutView",
            "align_content": null,
            "align_items": null,
            "align_self": null,
            "border": null,
            "bottom": null,
            "display": null,
            "flex": null,
            "flex_flow": null,
            "grid_area": null,
            "grid_auto_columns": null,
            "grid_auto_flow": null,
            "grid_auto_rows": null,
            "grid_column": null,
            "grid_gap": null,
            "grid_row": null,
            "grid_template_areas": null,
            "grid_template_columns": null,
            "grid_template_rows": null,
            "height": null,
            "justify_content": null,
            "justify_items": null,
            "left": null,
            "margin": null,
            "max_height": null,
            "max_width": null,
            "min_height": null,
            "min_width": null,
            "object_fit": null,
            "object_position": null,
            "order": null,
            "overflow": null,
            "overflow_x": null,
            "overflow_y": null,
            "padding": null,
            "right": null,
            "top": null,
            "visibility": null,
            "width": null
          }
        },
        "8671e520f59e4754935aa07db7427af9": {
          "model_module": "@jupyter-widgets/base",
          "model_name": "LayoutModel",
          "model_module_version": "1.2.0",
          "state": {
            "_model_module": "@jupyter-widgets/base",
            "_model_module_version": "1.2.0",
            "_model_name": "LayoutModel",
            "_view_count": null,
            "_view_module": "@jupyter-widgets/base",
            "_view_module_version": "1.2.0",
            "_view_name": "LayoutView",
            "align_content": null,
            "align_items": null,
            "align_self": null,
            "border": null,
            "bottom": null,
            "display": null,
            "flex": null,
            "flex_flow": null,
            "grid_area": null,
            "grid_auto_columns": null,
            "grid_auto_flow": null,
            "grid_auto_rows": null,
            "grid_column": null,
            "grid_gap": null,
            "grid_row": null,
            "grid_template_areas": null,
            "grid_template_columns": null,
            "grid_template_rows": null,
            "height": null,
            "justify_content": null,
            "justify_items": null,
            "left": null,
            "margin": null,
            "max_height": null,
            "max_width": null,
            "min_height": null,
            "min_width": null,
            "object_fit": null,
            "object_position": null,
            "order": null,
            "overflow": null,
            "overflow_x": null,
            "overflow_y": null,
            "padding": null,
            "right": null,
            "top": null,
            "visibility": null,
            "width": null
          }
        },
        "73eafa1aa1324e788b6beff16d0fb75a": {
          "model_module": "@jupyter-widgets/controls",
          "model_name": "ProgressStyleModel",
          "model_module_version": "1.5.0",
          "state": {
            "_model_module": "@jupyter-widgets/controls",
            "_model_module_version": "1.5.0",
            "_model_name": "ProgressStyleModel",
            "_view_count": null,
            "_view_module": "@jupyter-widgets/base",
            "_view_module_version": "1.2.0",
            "_view_name": "StyleView",
            "bar_color": null,
            "description_width": "initial"
          }
        },
        "f5133afd1a7e4a4baff27176aef121a3": {
          "model_module": "@jupyter-widgets/base",
          "model_name": "LayoutModel",
          "model_module_version": "1.2.0",
          "state": {
            "_model_module": "@jupyter-widgets/base",
            "_model_module_version": "1.2.0",
            "_model_name": "LayoutModel",
            "_view_count": null,
            "_view_module": "@jupyter-widgets/base",
            "_view_module_version": "1.2.0",
            "_view_name": "LayoutView",
            "align_content": null,
            "align_items": null,
            "align_self": null,
            "border": null,
            "bottom": null,
            "display": null,
            "flex": null,
            "flex_flow": null,
            "grid_area": null,
            "grid_auto_columns": null,
            "grid_auto_flow": null,
            "grid_auto_rows": null,
            "grid_column": null,
            "grid_gap": null,
            "grid_row": null,
            "grid_template_areas": null,
            "grid_template_columns": null,
            "grid_template_rows": null,
            "height": null,
            "justify_content": null,
            "justify_items": null,
            "left": null,
            "margin": null,
            "max_height": null,
            "max_width": null,
            "min_height": null,
            "min_width": null,
            "object_fit": null,
            "object_position": null,
            "order": null,
            "overflow": null,
            "overflow_x": null,
            "overflow_y": null,
            "padding": null,
            "right": null,
            "top": null,
            "visibility": null,
            "width": null
          }
        },
        "71298c2a322847e9b563ec3ff551ff7b": {
          "model_module": "@jupyter-widgets/controls",
          "model_name": "DescriptionStyleModel",
          "model_module_version": "1.5.0",
          "state": {
            "_model_module": "@jupyter-widgets/controls",
            "_model_module_version": "1.5.0",
            "_model_name": "DescriptionStyleModel",
            "_view_count": null,
            "_view_module": "@jupyter-widgets/base",
            "_view_module_version": "1.2.0",
            "_view_name": "StyleView",
            "description_width": ""
          }
        },
        "90e50a06a52445dd832d7ab2b35e0e2f": {
          "model_module": "@jupyter-widgets/controls",
          "model_name": "HBoxModel",
          "model_module_version": "1.5.0",
          "state": {
            "_dom_classes": [],
            "_model_module": "@jupyter-widgets/controls",
            "_model_module_version": "1.5.0",
            "_model_name": "HBoxModel",
            "_view_count": null,
            "_view_module": "@jupyter-widgets/controls",
            "_view_module_version": "1.5.0",
            "_view_name": "HBoxView",
            "box_style": "",
            "children": [
              "IPY_MODEL_e6b1e51786704e6480630343fb88ea08",
              "IPY_MODEL_278879bdbf654e1c97eefe7316591daf"
            ],
            "layout": "IPY_MODEL_e35cb8e74b024d678a02a6e905a9c975"
          }
        },
        "e6b1e51786704e6480630343fb88ea08": {
          "model_module": "@jupyter-widgets/controls",
          "model_name": "FloatProgressModel",
          "model_module_version": "1.5.0",
          "state": {
            "_dom_classes": [],
            "_model_module": "@jupyter-widgets/controls",
            "_model_module_version": "1.5.0",
            "_model_name": "FloatProgressModel",
            "_view_count": null,
            "_view_module": "@jupyter-widgets/controls",
            "_view_module_version": "1.5.0",
            "_view_name": "ProgressView",
            "bar_style": "success",
            "description": "Downloading: 100%",
            "description_tooltip": null,
            "layout": "IPY_MODEL_f9ea3fca42fc4e2486db2059eab394d5",
            "max": 239,
            "min": 0,
            "orientation": "horizontal",
            "style": "IPY_MODEL_615aa149a2e54ee09156984e2be7c2eb",
            "value": 239
          }
        },
        "278879bdbf654e1c97eefe7316591daf": {
          "model_module": "@jupyter-widgets/controls",
          "model_name": "HTMLModel",
          "model_module_version": "1.5.0",
          "state": {
            "_dom_classes": [],
            "_model_module": "@jupyter-widgets/controls",
            "_model_module_version": "1.5.0",
            "_model_name": "HTMLModel",
            "_view_count": null,
            "_view_module": "@jupyter-widgets/controls",
            "_view_module_version": "1.5.0",
            "_view_name": "HTMLView",
            "description": "",
            "description_tooltip": null,
            "layout": "IPY_MODEL_e453a924d0c74ce6baf1fafe64375f70",
            "placeholder": "​",
            "style": "IPY_MODEL_d175c2826a5544a9a29185c7ed637d2a",
            "value": " 239/239 [00:00&lt;00:00, 354B/s]"
          }
        },
        "e35cb8e74b024d678a02a6e905a9c975": {
          "model_module": "@jupyter-widgets/base",
          "model_name": "LayoutModel",
          "model_module_version": "1.2.0",
          "state": {
            "_model_module": "@jupyter-widgets/base",
            "_model_module_version": "1.2.0",
            "_model_name": "LayoutModel",
            "_view_count": null,
            "_view_module": "@jupyter-widgets/base",
            "_view_module_version": "1.2.0",
            "_view_name": "LayoutView",
            "align_content": null,
            "align_items": null,
            "align_self": null,
            "border": null,
            "bottom": null,
            "display": null,
            "flex": null,
            "flex_flow": null,
            "grid_area": null,
            "grid_auto_columns": null,
            "grid_auto_flow": null,
            "grid_auto_rows": null,
            "grid_column": null,
            "grid_gap": null,
            "grid_row": null,
            "grid_template_areas": null,
            "grid_template_columns": null,
            "grid_template_rows": null,
            "height": null,
            "justify_content": null,
            "justify_items": null,
            "left": null,
            "margin": null,
            "max_height": null,
            "max_width": null,
            "min_height": null,
            "min_width": null,
            "object_fit": null,
            "object_position": null,
            "order": null,
            "overflow": null,
            "overflow_x": null,
            "overflow_y": null,
            "padding": null,
            "right": null,
            "top": null,
            "visibility": null,
            "width": null
          }
        },
        "f9ea3fca42fc4e2486db2059eab394d5": {
          "model_module": "@jupyter-widgets/base",
          "model_name": "LayoutModel",
          "model_module_version": "1.2.0",
          "state": {
            "_model_module": "@jupyter-widgets/base",
            "_model_module_version": "1.2.0",
            "_model_name": "LayoutModel",
            "_view_count": null,
            "_view_module": "@jupyter-widgets/base",
            "_view_module_version": "1.2.0",
            "_view_name": "LayoutView",
            "align_content": null,
            "align_items": null,
            "align_self": null,
            "border": null,
            "bottom": null,
            "display": null,
            "flex": null,
            "flex_flow": null,
            "grid_area": null,
            "grid_auto_columns": null,
            "grid_auto_flow": null,
            "grid_auto_rows": null,
            "grid_column": null,
            "grid_gap": null,
            "grid_row": null,
            "grid_template_areas": null,
            "grid_template_columns": null,
            "grid_template_rows": null,
            "height": null,
            "justify_content": null,
            "justify_items": null,
            "left": null,
            "margin": null,
            "max_height": null,
            "max_width": null,
            "min_height": null,
            "min_width": null,
            "object_fit": null,
            "object_position": null,
            "order": null,
            "overflow": null,
            "overflow_x": null,
            "overflow_y": null,
            "padding": null,
            "right": null,
            "top": null,
            "visibility": null,
            "width": null
          }
        },
        "615aa149a2e54ee09156984e2be7c2eb": {
          "model_module": "@jupyter-widgets/controls",
          "model_name": "ProgressStyleModel",
          "model_module_version": "1.5.0",
          "state": {
            "_model_module": "@jupyter-widgets/controls",
            "_model_module_version": "1.5.0",
            "_model_name": "ProgressStyleModel",
            "_view_count": null,
            "_view_module": "@jupyter-widgets/base",
            "_view_module_version": "1.2.0",
            "_view_name": "StyleView",
            "bar_color": null,
            "description_width": "initial"
          }
        },
        "e453a924d0c74ce6baf1fafe64375f70": {
          "model_module": "@jupyter-widgets/base",
          "model_name": "LayoutModel",
          "model_module_version": "1.2.0",
          "state": {
            "_model_module": "@jupyter-widgets/base",
            "_model_module_version": "1.2.0",
            "_model_name": "LayoutModel",
            "_view_count": null,
            "_view_module": "@jupyter-widgets/base",
            "_view_module_version": "1.2.0",
            "_view_name": "LayoutView",
            "align_content": null,
            "align_items": null,
            "align_self": null,
            "border": null,
            "bottom": null,
            "display": null,
            "flex": null,
            "flex_flow": null,
            "grid_area": null,
            "grid_auto_columns": null,
            "grid_auto_flow": null,
            "grid_auto_rows": null,
            "grid_column": null,
            "grid_gap": null,
            "grid_row": null,
            "grid_template_areas": null,
            "grid_template_columns": null,
            "grid_template_rows": null,
            "height": null,
            "justify_content": null,
            "justify_items": null,
            "left": null,
            "margin": null,
            "max_height": null,
            "max_width": null,
            "min_height": null,
            "min_width": null,
            "object_fit": null,
            "object_position": null,
            "order": null,
            "overflow": null,
            "overflow_x": null,
            "overflow_y": null,
            "padding": null,
            "right": null,
            "top": null,
            "visibility": null,
            "width": null
          }
        },
        "d175c2826a5544a9a29185c7ed637d2a": {
          "model_module": "@jupyter-widgets/controls",
          "model_name": "DescriptionStyleModel",
          "model_module_version": "1.5.0",
          "state": {
            "_model_module": "@jupyter-widgets/controls",
            "_model_module_version": "1.5.0",
            "_model_name": "DescriptionStyleModel",
            "_view_count": null,
            "_view_module": "@jupyter-widgets/base",
            "_view_module_version": "1.2.0",
            "_view_name": "StyleView",
            "description_width": ""
          }
        },
        "9d43de28a6524377ab3a5c3e9b8e54ca": {
          "model_module": "@jupyter-widgets/controls",
          "model_name": "HBoxModel",
          "model_module_version": "1.5.0",
          "state": {
            "_dom_classes": [],
            "_model_module": "@jupyter-widgets/controls",
            "_model_module_version": "1.5.0",
            "_model_name": "HBoxModel",
            "_view_count": null,
            "_view_module": "@jupyter-widgets/controls",
            "_view_module_version": "1.5.0",
            "_view_name": "HBoxView",
            "box_style": "",
            "children": [
              "IPY_MODEL_174c9101aec7401994d9748cb4da461e",
              "IPY_MODEL_40b494feccdf4b9a8c1e005792166847"
            ],
            "layout": "IPY_MODEL_8ec6affc246940199afb234c5aec5fba"
          }
        },
        "174c9101aec7401994d9748cb4da461e": {
          "model_module": "@jupyter-widgets/controls",
          "model_name": "FloatProgressModel",
          "model_module_version": "1.5.0",
          "state": {
            "_dom_classes": [],
            "_model_module": "@jupyter-widgets/controls",
            "_model_module_version": "1.5.0",
            "_model_name": "FloatProgressModel",
            "_view_count": null,
            "_view_module": "@jupyter-widgets/controls",
            "_view_module_version": "1.5.0",
            "_view_name": "ProgressView",
            "bar_style": "success",
            "description": "Downloading: 100%",
            "description_tooltip": null,
            "layout": "IPY_MODEL_7864e9fc6fa0479e91c48267fa1d2ad2",
            "max": 570,
            "min": 0,
            "orientation": "horizontal",
            "style": "IPY_MODEL_af4fb918d9e7484b8ba3ae4badf3fa4d",
            "value": 570
          }
        },
        "40b494feccdf4b9a8c1e005792166847": {
          "model_module": "@jupyter-widgets/controls",
          "model_name": "HTMLModel",
          "model_module_version": "1.5.0",
          "state": {
            "_dom_classes": [],
            "_model_module": "@jupyter-widgets/controls",
            "_model_module_version": "1.5.0",
            "_model_name": "HTMLModel",
            "_view_count": null,
            "_view_module": "@jupyter-widgets/controls",
            "_view_module_version": "1.5.0",
            "_view_name": "HTMLView",
            "description": "",
            "description_tooltip": null,
            "layout": "IPY_MODEL_c9543b9d71b240ad8df13023b17ebb57",
            "placeholder": "​",
            "style": "IPY_MODEL_d8e39ede42a1469e9659e7e8d91af110",
            "value": " 570/570 [00:12&lt;00:00, 44.5B/s]"
          }
        },
        "8ec6affc246940199afb234c5aec5fba": {
          "model_module": "@jupyter-widgets/base",
          "model_name": "LayoutModel",
          "model_module_version": "1.2.0",
          "state": {
            "_model_module": "@jupyter-widgets/base",
            "_model_module_version": "1.2.0",
            "_model_name": "LayoutModel",
            "_view_count": null,
            "_view_module": "@jupyter-widgets/base",
            "_view_module_version": "1.2.0",
            "_view_name": "LayoutView",
            "align_content": null,
            "align_items": null,
            "align_self": null,
            "border": null,
            "bottom": null,
            "display": null,
            "flex": null,
            "flex_flow": null,
            "grid_area": null,
            "grid_auto_columns": null,
            "grid_auto_flow": null,
            "grid_auto_rows": null,
            "grid_column": null,
            "grid_gap": null,
            "grid_row": null,
            "grid_template_areas": null,
            "grid_template_columns": null,
            "grid_template_rows": null,
            "height": null,
            "justify_content": null,
            "justify_items": null,
            "left": null,
            "margin": null,
            "max_height": null,
            "max_width": null,
            "min_height": null,
            "min_width": null,
            "object_fit": null,
            "object_position": null,
            "order": null,
            "overflow": null,
            "overflow_x": null,
            "overflow_y": null,
            "padding": null,
            "right": null,
            "top": null,
            "visibility": null,
            "width": null
          }
        },
        "7864e9fc6fa0479e91c48267fa1d2ad2": {
          "model_module": "@jupyter-widgets/base",
          "model_name": "LayoutModel",
          "model_module_version": "1.2.0",
          "state": {
            "_model_module": "@jupyter-widgets/base",
            "_model_module_version": "1.2.0",
            "_model_name": "LayoutModel",
            "_view_count": null,
            "_view_module": "@jupyter-widgets/base",
            "_view_module_version": "1.2.0",
            "_view_name": "LayoutView",
            "align_content": null,
            "align_items": null,
            "align_self": null,
            "border": null,
            "bottom": null,
            "display": null,
            "flex": null,
            "flex_flow": null,
            "grid_area": null,
            "grid_auto_columns": null,
            "grid_auto_flow": null,
            "grid_auto_rows": null,
            "grid_column": null,
            "grid_gap": null,
            "grid_row": null,
            "grid_template_areas": null,
            "grid_template_columns": null,
            "grid_template_rows": null,
            "height": null,
            "justify_content": null,
            "justify_items": null,
            "left": null,
            "margin": null,
            "max_height": null,
            "max_width": null,
            "min_height": null,
            "min_width": null,
            "object_fit": null,
            "object_position": null,
            "order": null,
            "overflow": null,
            "overflow_x": null,
            "overflow_y": null,
            "padding": null,
            "right": null,
            "top": null,
            "visibility": null,
            "width": null
          }
        },
        "af4fb918d9e7484b8ba3ae4badf3fa4d": {
          "model_module": "@jupyter-widgets/controls",
          "model_name": "ProgressStyleModel",
          "model_module_version": "1.5.0",
          "state": {
            "_model_module": "@jupyter-widgets/controls",
            "_model_module_version": "1.5.0",
            "_model_name": "ProgressStyleModel",
            "_view_count": null,
            "_view_module": "@jupyter-widgets/base",
            "_view_module_version": "1.2.0",
            "_view_name": "StyleView",
            "bar_color": null,
            "description_width": "initial"
          }
        },
        "c9543b9d71b240ad8df13023b17ebb57": {
          "model_module": "@jupyter-widgets/base",
          "model_name": "LayoutModel",
          "model_module_version": "1.2.0",
          "state": {
            "_model_module": "@jupyter-widgets/base",
            "_model_module_version": "1.2.0",
            "_model_name": "LayoutModel",
            "_view_count": null,
            "_view_module": "@jupyter-widgets/base",
            "_view_module_version": "1.2.0",
            "_view_name": "LayoutView",
            "align_content": null,
            "align_items": null,
            "align_self": null,
            "border": null,
            "bottom": null,
            "display": null,
            "flex": null,
            "flex_flow": null,
            "grid_area": null,
            "grid_auto_columns": null,
            "grid_auto_flow": null,
            "grid_auto_rows": null,
            "grid_column": null,
            "grid_gap": null,
            "grid_row": null,
            "grid_template_areas": null,
            "grid_template_columns": null,
            "grid_template_rows": null,
            "height": null,
            "justify_content": null,
            "justify_items": null,
            "left": null,
            "margin": null,
            "max_height": null,
            "max_width": null,
            "min_height": null,
            "min_width": null,
            "object_fit": null,
            "object_position": null,
            "order": null,
            "overflow": null,
            "overflow_x": null,
            "overflow_y": null,
            "padding": null,
            "right": null,
            "top": null,
            "visibility": null,
            "width": null
          }
        },
        "d8e39ede42a1469e9659e7e8d91af110": {
          "model_module": "@jupyter-widgets/controls",
          "model_name": "DescriptionStyleModel",
          "model_module_version": "1.5.0",
          "state": {
            "_model_module": "@jupyter-widgets/controls",
            "_model_module_version": "1.5.0",
            "_model_name": "DescriptionStyleModel",
            "_view_count": null,
            "_view_module": "@jupyter-widgets/base",
            "_view_module_version": "1.2.0",
            "_view_name": "StyleView",
            "description_width": ""
          }
        },
        "1a8cb15cc889416ca348d7a8382d8961": {
          "model_module": "@jupyter-widgets/controls",
          "model_name": "HBoxModel",
          "model_module_version": "1.5.0",
          "state": {
            "_dom_classes": [],
            "_model_module": "@jupyter-widgets/controls",
            "_model_module_version": "1.5.0",
            "_model_name": "HBoxModel",
            "_view_count": null,
            "_view_module": "@jupyter-widgets/controls",
            "_view_module_version": "1.5.0",
            "_view_name": "HBoxView",
            "box_style": "",
            "children": [
              "IPY_MODEL_40efb864aa39434cb8ddec1db636c24b",
              "IPY_MODEL_7d05fd553e5e4efb92db15a64533a085"
            ],
            "layout": "IPY_MODEL_bc8c585acf0a4907818f073e3f8c7464"
          }
        },
        "40efb864aa39434cb8ddec1db636c24b": {
          "model_module": "@jupyter-widgets/controls",
          "model_name": "FloatProgressModel",
          "model_module_version": "1.5.0",
          "state": {
            "_dom_classes": [],
            "_model_module": "@jupyter-widgets/controls",
            "_model_module_version": "1.5.0",
            "_model_name": "FloatProgressModel",
            "_view_count": null,
            "_view_module": "@jupyter-widgets/controls",
            "_view_module_version": "1.5.0",
            "_view_name": "ProgressView",
            "bar_style": "success",
            "description": "Downloading: 100%",
            "description_tooltip": null,
            "layout": "IPY_MODEL_5b94d5a409d544b38d7fcb4c9888a561",
            "max": 440473133,
            "min": 0,
            "orientation": "horizontal",
            "style": "IPY_MODEL_087589c5886e441d995dfd389865f07a",
            "value": 440473133
          }
        },
        "7d05fd553e5e4efb92db15a64533a085": {
          "model_module": "@jupyter-widgets/controls",
          "model_name": "HTMLModel",
          "model_module_version": "1.5.0",
          "state": {
            "_dom_classes": [],
            "_model_module": "@jupyter-widgets/controls",
            "_model_module_version": "1.5.0",
            "_model_name": "HTMLModel",
            "_view_count": null,
            "_view_module": "@jupyter-widgets/controls",
            "_view_module_version": "1.5.0",
            "_view_name": "HTMLView",
            "description": "",
            "description_tooltip": null,
            "layout": "IPY_MODEL_c25c686f6ebf46ff8259a780a59b0f61",
            "placeholder": "​",
            "style": "IPY_MODEL_380aa8e7c69b44d5983f8238740e7fc7",
            "value": " 420M/420M [01:02&lt;00:00, 7.03MB/s]"
          }
        },
        "bc8c585acf0a4907818f073e3f8c7464": {
          "model_module": "@jupyter-widgets/base",
          "model_name": "LayoutModel",
          "model_module_version": "1.2.0",
          "state": {
            "_model_module": "@jupyter-widgets/base",
            "_model_module_version": "1.2.0",
            "_model_name": "LayoutModel",
            "_view_count": null,
            "_view_module": "@jupyter-widgets/base",
            "_view_module_version": "1.2.0",
            "_view_name": "LayoutView",
            "align_content": null,
            "align_items": null,
            "align_self": null,
            "border": null,
            "bottom": null,
            "display": null,
            "flex": null,
            "flex_flow": null,
            "grid_area": null,
            "grid_auto_columns": null,
            "grid_auto_flow": null,
            "grid_auto_rows": null,
            "grid_column": null,
            "grid_gap": null,
            "grid_row": null,
            "grid_template_areas": null,
            "grid_template_columns": null,
            "grid_template_rows": null,
            "height": null,
            "justify_content": null,
            "justify_items": null,
            "left": null,
            "margin": null,
            "max_height": null,
            "max_width": null,
            "min_height": null,
            "min_width": null,
            "object_fit": null,
            "object_position": null,
            "order": null,
            "overflow": null,
            "overflow_x": null,
            "overflow_y": null,
            "padding": null,
            "right": null,
            "top": null,
            "visibility": null,
            "width": null
          }
        },
        "5b94d5a409d544b38d7fcb4c9888a561": {
          "model_module": "@jupyter-widgets/base",
          "model_name": "LayoutModel",
          "model_module_version": "1.2.0",
          "state": {
            "_model_module": "@jupyter-widgets/base",
            "_model_module_version": "1.2.0",
            "_model_name": "LayoutModel",
            "_view_count": null,
            "_view_module": "@jupyter-widgets/base",
            "_view_module_version": "1.2.0",
            "_view_name": "LayoutView",
            "align_content": null,
            "align_items": null,
            "align_self": null,
            "border": null,
            "bottom": null,
            "display": null,
            "flex": null,
            "flex_flow": null,
            "grid_area": null,
            "grid_auto_columns": null,
            "grid_auto_flow": null,
            "grid_auto_rows": null,
            "grid_column": null,
            "grid_gap": null,
            "grid_row": null,
            "grid_template_areas": null,
            "grid_template_columns": null,
            "grid_template_rows": null,
            "height": null,
            "justify_content": null,
            "justify_items": null,
            "left": null,
            "margin": null,
            "max_height": null,
            "max_width": null,
            "min_height": null,
            "min_width": null,
            "object_fit": null,
            "object_position": null,
            "order": null,
            "overflow": null,
            "overflow_x": null,
            "overflow_y": null,
            "padding": null,
            "right": null,
            "top": null,
            "visibility": null,
            "width": null
          }
        },
        "087589c5886e441d995dfd389865f07a": {
          "model_module": "@jupyter-widgets/controls",
          "model_name": "ProgressStyleModel",
          "model_module_version": "1.5.0",
          "state": {
            "_model_module": "@jupyter-widgets/controls",
            "_model_module_version": "1.5.0",
            "_model_name": "ProgressStyleModel",
            "_view_count": null,
            "_view_module": "@jupyter-widgets/base",
            "_view_module_version": "1.2.0",
            "_view_name": "StyleView",
            "bar_color": null,
            "description_width": "initial"
          }
        },
        "c25c686f6ebf46ff8259a780a59b0f61": {
          "model_module": "@jupyter-widgets/base",
          "model_name": "LayoutModel",
          "model_module_version": "1.2.0",
          "state": {
            "_model_module": "@jupyter-widgets/base",
            "_model_module_version": "1.2.0",
            "_model_name": "LayoutModel",
            "_view_count": null,
            "_view_module": "@jupyter-widgets/base",
            "_view_module_version": "1.2.0",
            "_view_name": "LayoutView",
            "align_content": null,
            "align_items": null,
            "align_self": null,
            "border": null,
            "bottom": null,
            "display": null,
            "flex": null,
            "flex_flow": null,
            "grid_area": null,
            "grid_auto_columns": null,
            "grid_auto_flow": null,
            "grid_auto_rows": null,
            "grid_column": null,
            "grid_gap": null,
            "grid_row": null,
            "grid_template_areas": null,
            "grid_template_columns": null,
            "grid_template_rows": null,
            "height": null,
            "justify_content": null,
            "justify_items": null,
            "left": null,
            "margin": null,
            "max_height": null,
            "max_width": null,
            "min_height": null,
            "min_width": null,
            "object_fit": null,
            "object_position": null,
            "order": null,
            "overflow": null,
            "overflow_x": null,
            "overflow_y": null,
            "padding": null,
            "right": null,
            "top": null,
            "visibility": null,
            "width": null
          }
        },
        "380aa8e7c69b44d5983f8238740e7fc7": {
          "model_module": "@jupyter-widgets/controls",
          "model_name": "DescriptionStyleModel",
          "model_module_version": "1.5.0",
          "state": {
            "_model_module": "@jupyter-widgets/controls",
            "_model_module_version": "1.5.0",
            "_model_name": "DescriptionStyleModel",
            "_view_count": null,
            "_view_module": "@jupyter-widgets/base",
            "_view_module_version": "1.2.0",
            "_view_name": "StyleView",
            "description_width": ""
          }
        },
        "7c590a27e3cf4691ad71ad46a0cad036": {
          "model_module": "@jupyter-widgets/controls",
          "model_name": "HBoxModel",
          "model_module_version": "1.5.0",
          "state": {
            "_dom_classes": [],
            "_model_module": "@jupyter-widgets/controls",
            "_model_module_version": "1.5.0",
            "_model_name": "HBoxModel",
            "_view_count": null,
            "_view_module": "@jupyter-widgets/controls",
            "_view_module_version": "1.5.0",
            "_view_name": "HBoxView",
            "box_style": "",
            "children": [
              "IPY_MODEL_c2632982eee748b8860caa1148d47ccb",
              "IPY_MODEL_1cbb42bdc26e488d833f0c3bf3967909"
            ],
            "layout": "IPY_MODEL_9eb9a54a0d4e4a31a52acf5f5258246c"
          }
        },
        "c2632982eee748b8860caa1148d47ccb": {
          "model_module": "@jupyter-widgets/controls",
          "model_name": "FloatProgressModel",
          "model_module_version": "1.5.0",
          "state": {
            "_dom_classes": [],
            "_model_module": "@jupyter-widgets/controls",
            "_model_module_version": "1.5.0",
            "_model_name": "FloatProgressModel",
            "_view_count": null,
            "_view_module": "@jupyter-widgets/controls",
            "_view_module_version": "1.5.0",
            "_view_name": "ProgressView",
            "bar_style": "success",
            "description": "Downloading: 100%",
            "description_tooltip": null,
            "layout": "IPY_MODEL_c7b9417b4a164a70b2b8bcf69a97ef6a",
            "max": 28,
            "min": 0,
            "orientation": "horizontal",
            "style": "IPY_MODEL_d85f52bff73143f1ae6204935533cccf",
            "value": 28
          }
        },
        "1cbb42bdc26e488d833f0c3bf3967909": {
          "model_module": "@jupyter-widgets/controls",
          "model_name": "HTMLModel",
          "model_module_version": "1.5.0",
          "state": {
            "_dom_classes": [],
            "_model_module": "@jupyter-widgets/controls",
            "_model_module_version": "1.5.0",
            "_model_name": "HTMLModel",
            "_view_count": null,
            "_view_module": "@jupyter-widgets/controls",
            "_view_module_version": "1.5.0",
            "_view_name": "HTMLView",
            "description": "",
            "description_tooltip": null,
            "layout": "IPY_MODEL_b879547b2fe84c8790f71e05290150f6",
            "placeholder": "​",
            "style": "IPY_MODEL_00d35f0b42794febafff927246bba8e5",
            "value": " 28.0/28.0 [00:01&lt;00:00, 19.7B/s]"
          }
        },
        "9eb9a54a0d4e4a31a52acf5f5258246c": {
          "model_module": "@jupyter-widgets/base",
          "model_name": "LayoutModel",
          "model_module_version": "1.2.0",
          "state": {
            "_model_module": "@jupyter-widgets/base",
            "_model_module_version": "1.2.0",
            "_model_name": "LayoutModel",
            "_view_count": null,
            "_view_module": "@jupyter-widgets/base",
            "_view_module_version": "1.2.0",
            "_view_name": "LayoutView",
            "align_content": null,
            "align_items": null,
            "align_self": null,
            "border": null,
            "bottom": null,
            "display": null,
            "flex": null,
            "flex_flow": null,
            "grid_area": null,
            "grid_auto_columns": null,
            "grid_auto_flow": null,
            "grid_auto_rows": null,
            "grid_column": null,
            "grid_gap": null,
            "grid_row": null,
            "grid_template_areas": null,
            "grid_template_columns": null,
            "grid_template_rows": null,
            "height": null,
            "justify_content": null,
            "justify_items": null,
            "left": null,
            "margin": null,
            "max_height": null,
            "max_width": null,
            "min_height": null,
            "min_width": null,
            "object_fit": null,
            "object_position": null,
            "order": null,
            "overflow": null,
            "overflow_x": null,
            "overflow_y": null,
            "padding": null,
            "right": null,
            "top": null,
            "visibility": null,
            "width": null
          }
        },
        "c7b9417b4a164a70b2b8bcf69a97ef6a": {
          "model_module": "@jupyter-widgets/base",
          "model_name": "LayoutModel",
          "model_module_version": "1.2.0",
          "state": {
            "_model_module": "@jupyter-widgets/base",
            "_model_module_version": "1.2.0",
            "_model_name": "LayoutModel",
            "_view_count": null,
            "_view_module": "@jupyter-widgets/base",
            "_view_module_version": "1.2.0",
            "_view_name": "LayoutView",
            "align_content": null,
            "align_items": null,
            "align_self": null,
            "border": null,
            "bottom": null,
            "display": null,
            "flex": null,
            "flex_flow": null,
            "grid_area": null,
            "grid_auto_columns": null,
            "grid_auto_flow": null,
            "grid_auto_rows": null,
            "grid_column": null,
            "grid_gap": null,
            "grid_row": null,
            "grid_template_areas": null,
            "grid_template_columns": null,
            "grid_template_rows": null,
            "height": null,
            "justify_content": null,
            "justify_items": null,
            "left": null,
            "margin": null,
            "max_height": null,
            "max_width": null,
            "min_height": null,
            "min_width": null,
            "object_fit": null,
            "object_position": null,
            "order": null,
            "overflow": null,
            "overflow_x": null,
            "overflow_y": null,
            "padding": null,
            "right": null,
            "top": null,
            "visibility": null,
            "width": null
          }
        },
        "d85f52bff73143f1ae6204935533cccf": {
          "model_module": "@jupyter-widgets/controls",
          "model_name": "ProgressStyleModel",
          "model_module_version": "1.5.0",
          "state": {
            "_model_module": "@jupyter-widgets/controls",
            "_model_module_version": "1.5.0",
            "_model_name": "ProgressStyleModel",
            "_view_count": null,
            "_view_module": "@jupyter-widgets/base",
            "_view_module_version": "1.2.0",
            "_view_name": "StyleView",
            "bar_color": null,
            "description_width": "initial"
          }
        },
        "b879547b2fe84c8790f71e05290150f6": {
          "model_module": "@jupyter-widgets/base",
          "model_name": "LayoutModel",
          "model_module_version": "1.2.0",
          "state": {
            "_model_module": "@jupyter-widgets/base",
            "_model_module_version": "1.2.0",
            "_model_name": "LayoutModel",
            "_view_count": null,
            "_view_module": "@jupyter-widgets/base",
            "_view_module_version": "1.2.0",
            "_view_name": "LayoutView",
            "align_content": null,
            "align_items": null,
            "align_self": null,
            "border": null,
            "bottom": null,
            "display": null,
            "flex": null,
            "flex_flow": null,
            "grid_area": null,
            "grid_auto_columns": null,
            "grid_auto_flow": null,
            "grid_auto_rows": null,
            "grid_column": null,
            "grid_gap": null,
            "grid_row": null,
            "grid_template_areas": null,
            "grid_template_columns": null,
            "grid_template_rows": null,
            "height": null,
            "justify_content": null,
            "justify_items": null,
            "left": null,
            "margin": null,
            "max_height": null,
            "max_width": null,
            "min_height": null,
            "min_width": null,
            "object_fit": null,
            "object_position": null,
            "order": null,
            "overflow": null,
            "overflow_x": null,
            "overflow_y": null,
            "padding": null,
            "right": null,
            "top": null,
            "visibility": null,
            "width": null
          }
        },
        "00d35f0b42794febafff927246bba8e5": {
          "model_module": "@jupyter-widgets/controls",
          "model_name": "DescriptionStyleModel",
          "model_module_version": "1.5.0",
          "state": {
            "_model_module": "@jupyter-widgets/controls",
            "_model_module_version": "1.5.0",
            "_model_name": "DescriptionStyleModel",
            "_view_count": null,
            "_view_module": "@jupyter-widgets/base",
            "_view_module_version": "1.2.0",
            "_view_name": "StyleView",
            "description_width": ""
          }
        },
        "125001b48ee04c59901578a224e1e35c": {
          "model_module": "@jupyter-widgets/controls",
          "model_name": "HBoxModel",
          "model_module_version": "1.5.0",
          "state": {
            "_dom_classes": [],
            "_model_module": "@jupyter-widgets/controls",
            "_model_module_version": "1.5.0",
            "_model_name": "HBoxModel",
            "_view_count": null,
            "_view_module": "@jupyter-widgets/controls",
            "_view_module_version": "1.5.0",
            "_view_name": "HBoxView",
            "box_style": "",
            "children": [
              "IPY_MODEL_8a08fe36992142a99dcbdf50e4438962",
              "IPY_MODEL_8ed20e1ce1814a80b9b51e391e9839b1"
            ],
            "layout": "IPY_MODEL_2419d1bcecfb483aba6cc8a983692b71"
          }
        },
        "8a08fe36992142a99dcbdf50e4438962": {
          "model_module": "@jupyter-widgets/controls",
          "model_name": "FloatProgressModel",
          "model_module_version": "1.5.0",
          "state": {
            "_dom_classes": [],
            "_model_module": "@jupyter-widgets/controls",
            "_model_module_version": "1.5.0",
            "_model_name": "FloatProgressModel",
            "_view_count": null,
            "_view_module": "@jupyter-widgets/controls",
            "_view_module_version": "1.5.0",
            "_view_name": "ProgressView",
            "bar_style": "success",
            "description": "Downloading: 100%",
            "description_tooltip": null,
            "layout": "IPY_MODEL_8c1254cf4fbf40638edb596a889380dc",
            "max": 231508,
            "min": 0,
            "orientation": "horizontal",
            "style": "IPY_MODEL_5200f7ef191c4ea2ba28de4f82983419",
            "value": 231508
          }
        },
        "8ed20e1ce1814a80b9b51e391e9839b1": {
          "model_module": "@jupyter-widgets/controls",
          "model_name": "HTMLModel",
          "model_module_version": "1.5.0",
          "state": {
            "_dom_classes": [],
            "_model_module": "@jupyter-widgets/controls",
            "_model_module_version": "1.5.0",
            "_model_name": "HTMLModel",
            "_view_count": null,
            "_view_module": "@jupyter-widgets/controls",
            "_view_module_version": "1.5.0",
            "_view_name": "HTMLView",
            "description": "",
            "description_tooltip": null,
            "layout": "IPY_MODEL_203e2883755a4f4890c067216edc1329",
            "placeholder": "​",
            "style": "IPY_MODEL_a9cffe4bc5f6426f952a3433f892e231",
            "value": " 226k/226k [00:38&lt;00:00, 6.09kB/s]"
          }
        },
        "2419d1bcecfb483aba6cc8a983692b71": {
          "model_module": "@jupyter-widgets/base",
          "model_name": "LayoutModel",
          "model_module_version": "1.2.0",
          "state": {
            "_model_module": "@jupyter-widgets/base",
            "_model_module_version": "1.2.0",
            "_model_name": "LayoutModel",
            "_view_count": null,
            "_view_module": "@jupyter-widgets/base",
            "_view_module_version": "1.2.0",
            "_view_name": "LayoutView",
            "align_content": null,
            "align_items": null,
            "align_self": null,
            "border": null,
            "bottom": null,
            "display": null,
            "flex": null,
            "flex_flow": null,
            "grid_area": null,
            "grid_auto_columns": null,
            "grid_auto_flow": null,
            "grid_auto_rows": null,
            "grid_column": null,
            "grid_gap": null,
            "grid_row": null,
            "grid_template_areas": null,
            "grid_template_columns": null,
            "grid_template_rows": null,
            "height": null,
            "justify_content": null,
            "justify_items": null,
            "left": null,
            "margin": null,
            "max_height": null,
            "max_width": null,
            "min_height": null,
            "min_width": null,
            "object_fit": null,
            "object_position": null,
            "order": null,
            "overflow": null,
            "overflow_x": null,
            "overflow_y": null,
            "padding": null,
            "right": null,
            "top": null,
            "visibility": null,
            "width": null
          }
        },
        "8c1254cf4fbf40638edb596a889380dc": {
          "model_module": "@jupyter-widgets/base",
          "model_name": "LayoutModel",
          "model_module_version": "1.2.0",
          "state": {
            "_model_module": "@jupyter-widgets/base",
            "_model_module_version": "1.2.0",
            "_model_name": "LayoutModel",
            "_view_count": null,
            "_view_module": "@jupyter-widgets/base",
            "_view_module_version": "1.2.0",
            "_view_name": "LayoutView",
            "align_content": null,
            "align_items": null,
            "align_self": null,
            "border": null,
            "bottom": null,
            "display": null,
            "flex": null,
            "flex_flow": null,
            "grid_area": null,
            "grid_auto_columns": null,
            "grid_auto_flow": null,
            "grid_auto_rows": null,
            "grid_column": null,
            "grid_gap": null,
            "grid_row": null,
            "grid_template_areas": null,
            "grid_template_columns": null,
            "grid_template_rows": null,
            "height": null,
            "justify_content": null,
            "justify_items": null,
            "left": null,
            "margin": null,
            "max_height": null,
            "max_width": null,
            "min_height": null,
            "min_width": null,
            "object_fit": null,
            "object_position": null,
            "order": null,
            "overflow": null,
            "overflow_x": null,
            "overflow_y": null,
            "padding": null,
            "right": null,
            "top": null,
            "visibility": null,
            "width": null
          }
        },
        "5200f7ef191c4ea2ba28de4f82983419": {
          "model_module": "@jupyter-widgets/controls",
          "model_name": "ProgressStyleModel",
          "model_module_version": "1.5.0",
          "state": {
            "_model_module": "@jupyter-widgets/controls",
            "_model_module_version": "1.5.0",
            "_model_name": "ProgressStyleModel",
            "_view_count": null,
            "_view_module": "@jupyter-widgets/base",
            "_view_module_version": "1.2.0",
            "_view_name": "StyleView",
            "bar_color": null,
            "description_width": "initial"
          }
        },
        "203e2883755a4f4890c067216edc1329": {
          "model_module": "@jupyter-widgets/base",
          "model_name": "LayoutModel",
          "model_module_version": "1.2.0",
          "state": {
            "_model_module": "@jupyter-widgets/base",
            "_model_module_version": "1.2.0",
            "_model_name": "LayoutModel",
            "_view_count": null,
            "_view_module": "@jupyter-widgets/base",
            "_view_module_version": "1.2.0",
            "_view_name": "LayoutView",
            "align_content": null,
            "align_items": null,
            "align_self": null,
            "border": null,
            "bottom": null,
            "display": null,
            "flex": null,
            "flex_flow": null,
            "grid_area": null,
            "grid_auto_columns": null,
            "grid_auto_flow": null,
            "grid_auto_rows": null,
            "grid_column": null,
            "grid_gap": null,
            "grid_row": null,
            "grid_template_areas": null,
            "grid_template_columns": null,
            "grid_template_rows": null,
            "height": null,
            "justify_content": null,
            "justify_items": null,
            "left": null,
            "margin": null,
            "max_height": null,
            "max_width": null,
            "min_height": null,
            "min_width": null,
            "object_fit": null,
            "object_position": null,
            "order": null,
            "overflow": null,
            "overflow_x": null,
            "overflow_y": null,
            "padding": null,
            "right": null,
            "top": null,
            "visibility": null,
            "width": null
          }
        },
        "a9cffe4bc5f6426f952a3433f892e231": {
          "model_module": "@jupyter-widgets/controls",
          "model_name": "DescriptionStyleModel",
          "model_module_version": "1.5.0",
          "state": {
            "_model_module": "@jupyter-widgets/controls",
            "_model_module_version": "1.5.0",
            "_model_name": "DescriptionStyleModel",
            "_view_count": null,
            "_view_module": "@jupyter-widgets/base",
            "_view_module_version": "1.2.0",
            "_view_name": "StyleView",
            "description_width": ""
          }
        },
        "d09b5461414549328b5ad499ef38f119": {
          "model_module": "@jupyter-widgets/controls",
          "model_name": "HBoxModel",
          "model_module_version": "1.5.0",
          "state": {
            "_dom_classes": [],
            "_model_module": "@jupyter-widgets/controls",
            "_model_module_version": "1.5.0",
            "_model_name": "HBoxModel",
            "_view_count": null,
            "_view_module": "@jupyter-widgets/controls",
            "_view_module_version": "1.5.0",
            "_view_name": "HBoxView",
            "box_style": "",
            "children": [
              "IPY_MODEL_daf157bf44fd48aeaf332f9f7aacb738",
              "IPY_MODEL_ca01e45985f54b3780840951bd282d15"
            ],
            "layout": "IPY_MODEL_9929ea09b3b64e30b4a6621c6269a585"
          }
        },
        "daf157bf44fd48aeaf332f9f7aacb738": {
          "model_module": "@jupyter-widgets/controls",
          "model_name": "FloatProgressModel",
          "model_module_version": "1.5.0",
          "state": {
            "_dom_classes": [],
            "_model_module": "@jupyter-widgets/controls",
            "_model_module_version": "1.5.0",
            "_model_name": "FloatProgressModel",
            "_view_count": null,
            "_view_module": "@jupyter-widgets/controls",
            "_view_module_version": "1.5.0",
            "_view_name": "ProgressView",
            "bar_style": "success",
            "description": "Downloading: 100%",
            "description_tooltip": null,
            "layout": "IPY_MODEL_e80d958369c642fb80f90e2680566b98",
            "max": 466062,
            "min": 0,
            "orientation": "horizontal",
            "style": "IPY_MODEL_72180d44cf094c63bdab6a359fc4bda4",
            "value": 466062
          }
        },
        "ca01e45985f54b3780840951bd282d15": {
          "model_module": "@jupyter-widgets/controls",
          "model_name": "HTMLModel",
          "model_module_version": "1.5.0",
          "state": {
            "_dom_classes": [],
            "_model_module": "@jupyter-widgets/controls",
            "_model_module_version": "1.5.0",
            "_model_name": "HTMLModel",
            "_view_count": null,
            "_view_module": "@jupyter-widgets/controls",
            "_view_module_version": "1.5.0",
            "_view_name": "HTMLView",
            "description": "",
            "description_tooltip": null,
            "layout": "IPY_MODEL_de2862a1301645b89cf40b3417f5fda0",
            "placeholder": "​",
            "style": "IPY_MODEL_56b93e69de374ad2be1f415214e0be21",
            "value": " 455k/455k [00:36&lt;00:00, 12.9kB/s]"
          }
        },
        "9929ea09b3b64e30b4a6621c6269a585": {
          "model_module": "@jupyter-widgets/base",
          "model_name": "LayoutModel",
          "model_module_version": "1.2.0",
          "state": {
            "_model_module": "@jupyter-widgets/base",
            "_model_module_version": "1.2.0",
            "_model_name": "LayoutModel",
            "_view_count": null,
            "_view_module": "@jupyter-widgets/base",
            "_view_module_version": "1.2.0",
            "_view_name": "LayoutView",
            "align_content": null,
            "align_items": null,
            "align_self": null,
            "border": null,
            "bottom": null,
            "display": null,
            "flex": null,
            "flex_flow": null,
            "grid_area": null,
            "grid_auto_columns": null,
            "grid_auto_flow": null,
            "grid_auto_rows": null,
            "grid_column": null,
            "grid_gap": null,
            "grid_row": null,
            "grid_template_areas": null,
            "grid_template_columns": null,
            "grid_template_rows": null,
            "height": null,
            "justify_content": null,
            "justify_items": null,
            "left": null,
            "margin": null,
            "max_height": null,
            "max_width": null,
            "min_height": null,
            "min_width": null,
            "object_fit": null,
            "object_position": null,
            "order": null,
            "overflow": null,
            "overflow_x": null,
            "overflow_y": null,
            "padding": null,
            "right": null,
            "top": null,
            "visibility": null,
            "width": null
          }
        },
        "e80d958369c642fb80f90e2680566b98": {
          "model_module": "@jupyter-widgets/base",
          "model_name": "LayoutModel",
          "model_module_version": "1.2.0",
          "state": {
            "_model_module": "@jupyter-widgets/base",
            "_model_module_version": "1.2.0",
            "_model_name": "LayoutModel",
            "_view_count": null,
            "_view_module": "@jupyter-widgets/base",
            "_view_module_version": "1.2.0",
            "_view_name": "LayoutView",
            "align_content": null,
            "align_items": null,
            "align_self": null,
            "border": null,
            "bottom": null,
            "display": null,
            "flex": null,
            "flex_flow": null,
            "grid_area": null,
            "grid_auto_columns": null,
            "grid_auto_flow": null,
            "grid_auto_rows": null,
            "grid_column": null,
            "grid_gap": null,
            "grid_row": null,
            "grid_template_areas": null,
            "grid_template_columns": null,
            "grid_template_rows": null,
            "height": null,
            "justify_content": null,
            "justify_items": null,
            "left": null,
            "margin": null,
            "max_height": null,
            "max_width": null,
            "min_height": null,
            "min_width": null,
            "object_fit": null,
            "object_position": null,
            "order": null,
            "overflow": null,
            "overflow_x": null,
            "overflow_y": null,
            "padding": null,
            "right": null,
            "top": null,
            "visibility": null,
            "width": null
          }
        },
        "72180d44cf094c63bdab6a359fc4bda4": {
          "model_module": "@jupyter-widgets/controls",
          "model_name": "ProgressStyleModel",
          "model_module_version": "1.5.0",
          "state": {
            "_model_module": "@jupyter-widgets/controls",
            "_model_module_version": "1.5.0",
            "_model_name": "ProgressStyleModel",
            "_view_count": null,
            "_view_module": "@jupyter-widgets/base",
            "_view_module_version": "1.2.0",
            "_view_name": "StyleView",
            "bar_color": null,
            "description_width": "initial"
          }
        },
        "de2862a1301645b89cf40b3417f5fda0": {
          "model_module": "@jupyter-widgets/base",
          "model_name": "LayoutModel",
          "model_module_version": "1.2.0",
          "state": {
            "_model_module": "@jupyter-widgets/base",
            "_model_module_version": "1.2.0",
            "_model_name": "LayoutModel",
            "_view_count": null,
            "_view_module": "@jupyter-widgets/base",
            "_view_module_version": "1.2.0",
            "_view_name": "LayoutView",
            "align_content": null,
            "align_items": null,
            "align_self": null,
            "border": null,
            "bottom": null,
            "display": null,
            "flex": null,
            "flex_flow": null,
            "grid_area": null,
            "grid_auto_columns": null,
            "grid_auto_flow": null,
            "grid_auto_rows": null,
            "grid_column": null,
            "grid_gap": null,
            "grid_row": null,
            "grid_template_areas": null,
            "grid_template_columns": null,
            "grid_template_rows": null,
            "height": null,
            "justify_content": null,
            "justify_items": null,
            "left": null,
            "margin": null,
            "max_height": null,
            "max_width": null,
            "min_height": null,
            "min_width": null,
            "object_fit": null,
            "object_position": null,
            "order": null,
            "overflow": null,
            "overflow_x": null,
            "overflow_y": null,
            "padding": null,
            "right": null,
            "top": null,
            "visibility": null,
            "width": null
          }
        },
        "56b93e69de374ad2be1f415214e0be21": {
          "model_module": "@jupyter-widgets/controls",
          "model_name": "DescriptionStyleModel",
          "model_module_version": "1.5.0",
          "state": {
            "_model_module": "@jupyter-widgets/controls",
            "_model_module_version": "1.5.0",
            "_model_name": "DescriptionStyleModel",
            "_view_count": null,
            "_view_module": "@jupyter-widgets/base",
            "_view_module_version": "1.2.0",
            "_view_name": "StyleView",
            "description_width": ""
          }
        }
      }
    }
  },
  "cells": [
    {
      "cell_type": "code",
      "source": [
        "!pip install sacremoses\n",
        "!pip install flair"
      ],
      "metadata": {
        "colab": {
          "base_uri": "https://localhost:8080/"
        },
        "id": "09CJU-we04MS",
        "outputId": "ff3b2b19-7538-4f49-ef08-b7cb143edf12"
      },
      "execution_count": null,
      "outputs": [
        {
          "output_type": "stream",
          "name": "stdout",
          "text": [
            "Requirement already satisfied: sacremoses in /usr/local/lib/python3.7/dist-packages (0.0.53)\n",
            "Requirement already satisfied: joblib in /usr/local/lib/python3.7/dist-packages (from sacremoses) (1.1.0)\n",
            "Requirement already satisfied: regex in /usr/local/lib/python3.7/dist-packages (from sacremoses) (2019.12.20)\n",
            "Requirement already satisfied: click in /usr/local/lib/python3.7/dist-packages (from sacremoses) (7.1.2)\n",
            "Requirement already satisfied: tqdm in /usr/local/lib/python3.7/dist-packages (from sacremoses) (4.49.0)\n",
            "Requirement already satisfied: six in /usr/local/lib/python3.7/dist-packages (from sacremoses) (1.15.0)\n",
            "Requirement already satisfied: flair in /usr/local/lib/python3.7/dist-packages (0.11.2)\n",
            "Requirement already satisfied: janome in /usr/local/lib/python3.7/dist-packages (from flair) (0.4.2)\n",
            "Requirement already satisfied: lxml in /usr/local/lib/python3.7/dist-packages (from flair) (4.2.6)\n",
            "Requirement already satisfied: sqlitedict>=1.6.0 in /usr/local/lib/python3.7/dist-packages (from flair) (2.0.0)\n",
            "Requirement already satisfied: segtok>=1.5.7 in /usr/local/lib/python3.7/dist-packages (from flair) (1.5.11)\n",
            "Requirement already satisfied: bpemb>=0.3.2 in /usr/local/lib/python3.7/dist-packages (from flair) (0.3.3)\n",
            "Requirement already satisfied: konoha<5.0.0,>=4.0.0 in /usr/local/lib/python3.7/dist-packages (from flair) (4.6.3)\n",
            "Requirement already satisfied: tqdm>=4.26.0 in /usr/local/lib/python3.7/dist-packages (from flair) (4.49.0)\n",
            "Requirement already satisfied: langdetect in /usr/local/lib/python3.7/dist-packages (from flair) (1.0.9)\n",
            "Requirement already satisfied: matplotlib>=2.2.3 in /usr/local/lib/python3.7/dist-packages (from flair) (3.2.2)\n",
            "Requirement already satisfied: scikit-learn>=0.21.3 in /usr/local/lib/python3.7/dist-packages (from flair) (1.0.2)\n",
            "Requirement already satisfied: pptree in /usr/local/lib/python3.7/dist-packages (from flair) (3.1)\n",
            "Requirement already satisfied: conllu>=4.0 in /usr/local/lib/python3.7/dist-packages (from flair) (4.4.2)\n",
            "Requirement already satisfied: regex in /usr/local/lib/python3.7/dist-packages (from flair) (2019.12.20)\n",
            "Requirement already satisfied: tabulate in /usr/local/lib/python3.7/dist-packages (from flair) (0.8.9)\n",
            "Requirement already satisfied: mpld3==0.3 in /usr/local/lib/python3.7/dist-packages (from flair) (0.3)\n",
            "Requirement already satisfied: gdown==3.12.2 in /usr/local/lib/python3.7/dist-packages (from flair) (3.12.2)\n",
            "Requirement already satisfied: deprecated>=1.2.4 in /usr/local/lib/python3.7/dist-packages (from flair) (1.2.13)\n",
            "Requirement already satisfied: hyperopt>=0.2.7 in /usr/local/lib/python3.7/dist-packages (from flair) (0.2.7)\n",
            "Requirement already satisfied: torch!=1.8,>=1.5.0 in /usr/local/lib/python3.7/dist-packages (from flair) (1.11.0+cu113)\n",
            "Requirement already satisfied: transformers>=4.0.0 in /usr/local/lib/python3.7/dist-packages (from flair) (4.19.2)\n",
            "Requirement already satisfied: wikipedia-api in /usr/local/lib/python3.7/dist-packages (from flair) (0.5.4)\n",
            "Requirement already satisfied: sentencepiece==0.1.95 in /usr/local/lib/python3.7/dist-packages (from flair) (0.1.95)\n",
            "Requirement already satisfied: ftfy in /usr/local/lib/python3.7/dist-packages (from flair) (6.1.1)\n",
            "Requirement already satisfied: huggingface-hub in /usr/local/lib/python3.7/dist-packages (from flair) (0.6.0)\n",
            "Requirement already satisfied: more-itertools in /usr/local/lib/python3.7/dist-packages (from flair) (8.13.0)\n",
            "Requirement already satisfied: python-dateutil>=2.6.1 in /usr/local/lib/python3.7/dist-packages (from flair) (2.8.2)\n",
            "Requirement already satisfied: gensim>=3.4.0 in /usr/local/lib/python3.7/dist-packages (from flair) (3.6.0)\n",
            "Requirement already satisfied: six in /usr/local/lib/python3.7/dist-packages (from gdown==3.12.2->flair) (1.15.0)\n",
            "Requirement already satisfied: filelock in /usr/local/lib/python3.7/dist-packages (from gdown==3.12.2->flair) (3.7.0)\n",
            "Requirement already satisfied: requests[socks] in /usr/local/lib/python3.7/dist-packages (from gdown==3.12.2->flair) (2.27.1)\n",
            "Requirement already satisfied: numpy in /usr/local/lib/python3.7/dist-packages (from bpemb>=0.3.2->flair) (1.19.5)\n",
            "Requirement already satisfied: wrapt<2,>=1.10 in /usr/local/lib/python3.7/dist-packages (from deprecated>=1.2.4->flair) (1.12.1)\n",
            "Requirement already satisfied: smart-open>=1.2.1 in /usr/local/lib/python3.7/dist-packages (from gensim>=3.4.0->flair) (6.0.0)\n",
            "Requirement already satisfied: scipy>=0.18.1 in /usr/local/lib/python3.7/dist-packages (from gensim>=3.4.0->flair) (1.4.1)\n",
            "Requirement already satisfied: future in /usr/local/lib/python3.7/dist-packages (from hyperopt>=0.2.7->flair) (0.16.0)\n",
            "Requirement already satisfied: networkx>=2.2 in /usr/local/lib/python3.7/dist-packages (from hyperopt>=0.2.7->flair) (2.6.3)\n",
            "Requirement already satisfied: cloudpickle in /usr/local/lib/python3.7/dist-packages (from hyperopt>=0.2.7->flair) (1.3.0)\n",
            "Requirement already satisfied: py4j in /usr/local/lib/python3.7/dist-packages (from hyperopt>=0.2.7->flair) (0.10.9.5)\n",
            "Requirement already satisfied: overrides<4.0.0,>=3.0.0 in /usr/local/lib/python3.7/dist-packages (from konoha<5.0.0,>=4.0.0->flair) (3.1.0)\n",
            "Requirement already satisfied: kiwisolver>=1.0.1 in /usr/local/lib/python3.7/dist-packages (from matplotlib>=2.2.3->flair) (1.4.2)\n",
            "Requirement already satisfied: cycler>=0.10 in /usr/local/lib/python3.7/dist-packages (from matplotlib>=2.2.3->flair) (0.11.0)\n",
            "Requirement already satisfied: pyparsing!=2.0.4,!=2.1.2,!=2.1.6,>=2.0.1 in /usr/local/lib/python3.7/dist-packages (from matplotlib>=2.2.3->flair) (3.0.9)\n",
            "Requirement already satisfied: typing-extensions in /usr/local/lib/python3.7/dist-packages (from kiwisolver>=1.0.1->matplotlib>=2.2.3->flair) (3.7.4.3)\n",
            "Requirement already satisfied: joblib>=0.11 in /usr/local/lib/python3.7/dist-packages (from scikit-learn>=0.21.3->flair) (1.1.0)\n",
            "Requirement already satisfied: threadpoolctl>=2.0.0 in /usr/local/lib/python3.7/dist-packages (from scikit-learn>=0.21.3->flair) (3.1.0)\n",
            "Requirement already satisfied: packaging>=20.0 in /usr/local/lib/python3.7/dist-packages (from transformers>=4.0.0->flair) (21.3)\n",
            "Requirement already satisfied: importlib-metadata in /usr/local/lib/python3.7/dist-packages (from transformers>=4.0.0->flair) (4.11.3)\n",
            "Requirement already satisfied: pyyaml>=5.1 in /usr/local/lib/python3.7/dist-packages (from transformers>=4.0.0->flair) (6.0)\n",
            "Requirement already satisfied: tokenizers!=0.11.3,<0.13,>=0.11.1 in /usr/local/lib/python3.7/dist-packages (from transformers>=4.0.0->flair) (0.12.1)\n",
            "Requirement already satisfied: wcwidth>=0.2.5 in /usr/local/lib/python3.7/dist-packages (from ftfy->flair) (0.2.5)\n",
            "Requirement already satisfied: zipp>=0.5 in /usr/local/lib/python3.7/dist-packages (from importlib-metadata->transformers>=4.0.0->flair) (3.8.0)\n",
            "Requirement already satisfied: charset-normalizer~=2.0.0 in /usr/local/lib/python3.7/dist-packages (from requests[socks]->gdown==3.12.2->flair) (2.0.12)\n",
            "Requirement already satisfied: certifi>=2017.4.17 in /usr/local/lib/python3.7/dist-packages (from requests[socks]->gdown==3.12.2->flair) (2021.10.8)\n",
            "Requirement already satisfied: urllib3<1.27,>=1.21.1 in /usr/local/lib/python3.7/dist-packages (from requests[socks]->gdown==3.12.2->flair) (1.24.3)\n",
            "Requirement already satisfied: idna<4,>=2.5 in /usr/local/lib/python3.7/dist-packages (from requests[socks]->gdown==3.12.2->flair) (2.10)\n",
            "Requirement already satisfied: PySocks!=1.5.7,>=1.5.6 in /usr/local/lib/python3.7/dist-packages (from requests[socks]->gdown==3.12.2->flair) (1.7.1)\n"
          ]
        }
      ]
    },
    {
      "cell_type": "code",
      "execution_count": null,
      "metadata": {
        "colab": {
          "base_uri": "https://localhost:8080/"
        },
        "id": "uhTgpON5weY7",
        "outputId": "aef406d0-a9f8-4686-f079-ab23ecf28fd5"
      },
      "outputs": [
        {
          "output_type": "execute_result",
          "data": {
            "text/plain": [
              "['Requirement already satisfied: textattack[tensorflow] in /usr/local/lib/python3.7/dist-packages (0.3.4)',\n",
              " 'Requirement already satisfied: num2words in /usr/local/lib/python3.7/dist-packages (from textattack[tensorflow]) (0.5.10)',\n",
              " 'Requirement already satisfied: torch!=1.8,>=1.7.0 in /usr/local/lib/python3.7/dist-packages (from textattack[tensorflow]) (1.11.0+cu113)',\n",
              " 'Requirement already satisfied: nltk in /usr/local/lib/python3.7/dist-packages (from textattack[tensorflow]) (3.2.5)',\n",
              " 'Requirement already satisfied: scipy>=1.4.1 in /usr/local/lib/python3.7/dist-packages (from textattack[tensorflow]) (1.4.1)',\n",
              " 'Requirement already satisfied: flair in /usr/local/lib/python3.7/dist-packages (from textattack[tensorflow]) (0.11.2)',\n",
              " 'Requirement already satisfied: lru-dict in /usr/local/lib/python3.7/dist-packages (from textattack[tensorflow]) (1.1.7)',\n",
              " 'Requirement already satisfied: terminaltables in /usr/local/lib/python3.7/dist-packages (from textattack[tensorflow]) (3.1.10)',\n",
              " 'Requirement already satisfied: editdistance in /usr/local/lib/python3.7/dist-packages (from textattack[tensorflow]) (0.5.3)',\n",
              " 'Requirement already satisfied: more-itertools in /usr/local/lib/python3.7/dist-packages (from textattack[tensorflow]) (8.13.0)',\n",
              " 'Requirement already satisfied: filelock in /usr/local/lib/python3.7/dist-packages (from textattack[tensorflow]) (3.7.0)',\n",
              " 'Requirement already satisfied: PySocks!=1.5.7,>=1.5.6 in /usr/local/lib/python3.7/dist-packages (from textattack[tensorflow]) (1.7.1)',\n",
              " 'Requirement already satisfied: transformers>=3.3.0 in /usr/local/lib/python3.7/dist-packages (from textattack[tensorflow]) (4.19.2)',\n",
              " 'Requirement already satisfied: datasets in /usr/local/lib/python3.7/dist-packages (from textattack[tensorflow]) (1.2.1)',\n",
              " 'Requirement already satisfied: numpy>=1.19.2 in /usr/local/lib/python3.7/dist-packages (from textattack[tensorflow]) (1.19.5)',\n",
              " 'Requirement already satisfied: lemminflect in /usr/local/lib/python3.7/dist-packages (from textattack[tensorflow]) (0.2.2)',\n",
              " 'Requirement already satisfied: word2number in /usr/local/lib/python3.7/dist-packages (from textattack[tensorflow]) (1.1)',\n",
              " 'Requirement already satisfied: language-tool-python in /usr/local/lib/python3.7/dist-packages (from textattack[tensorflow]) (2.7.1)',\n",
              " 'Requirement already satisfied: bert-score>=0.3.5 in /usr/local/lib/python3.7/dist-packages (from textattack[tensorflow]) (0.3.11)',\n",
              " 'Requirement already satisfied: tqdm<4.50.0,>=4.27 in /usr/local/lib/python3.7/dist-packages (from textattack[tensorflow]) (4.49.0)',\n",
              " 'Requirement already satisfied: pandas>=1.0.1 in /usr/local/lib/python3.7/dist-packages (from textattack[tensorflow]) (1.3.5)',\n",
              " 'Requirement already satisfied: tensorflow-text>=2 in /usr/local/lib/python3.7/dist-packages (from textattack[tensorflow]) (2.5.0)',\n",
              " 'Requirement already satisfied: tensorflow-hub in /usr/local/lib/python3.7/dist-packages (from textattack[tensorflow]) (0.12.0)',\n",
              " 'Requirement already satisfied: tensorflow==2.5.0 in /usr/local/lib/python3.7/dist-packages (from textattack[tensorflow]) (2.5.0)',\n",
              " 'Requirement already satisfied: tensorflow-estimator==2.5.0 in /usr/local/lib/python3.7/dist-packages (from textattack[tensorflow]) (2.5.0)',\n",
              " 'Requirement already satisfied: tensorboardX in /usr/local/lib/python3.7/dist-packages (from textattack[tensorflow]) (2.5)',\n",
              " 'Requirement already satisfied: typing-extensions~=3.7.4 in /usr/local/lib/python3.7/dist-packages (from tensorflow==2.5.0->textattack[tensorflow]) (3.7.4.3)',\n",
              " 'Requirement already satisfied: wrapt~=1.12.1 in /usr/local/lib/python3.7/dist-packages (from tensorflow==2.5.0->textattack[tensorflow]) (1.12.1)',\n",
              " 'Requirement already satisfied: termcolor~=1.1.0 in /usr/local/lib/python3.7/dist-packages (from tensorflow==2.5.0->textattack[tensorflow]) (1.1.0)',\n",
              " 'Requirement already satisfied: wheel~=0.35 in /usr/local/lib/python3.7/dist-packages (from tensorflow==2.5.0->textattack[tensorflow]) (0.37.1)',\n",
              " 'Requirement already satisfied: keras-nightly~=2.5.0.dev in /usr/local/lib/python3.7/dist-packages (from tensorflow==2.5.0->textattack[tensorflow]) (2.5.0.dev2021032900)',\n",
              " 'Requirement already satisfied: google-pasta~=0.2 in /usr/local/lib/python3.7/dist-packages (from tensorflow==2.5.0->textattack[tensorflow]) (0.2.0)',\n",
              " 'Requirement already satisfied: astunparse~=1.6.3 in /usr/local/lib/python3.7/dist-packages (from tensorflow==2.5.0->textattack[tensorflow]) (1.6.3)',\n",
              " 'Requirement already satisfied: opt-einsum~=3.3.0 in /usr/local/lib/python3.7/dist-packages (from tensorflow==2.5.0->textattack[tensorflow]) (3.3.0)',\n",
              " 'Requirement already satisfied: six~=1.15.0 in /usr/local/lib/python3.7/dist-packages (from tensorflow==2.5.0->textattack[tensorflow]) (1.15.0)',\n",
              " 'Requirement already satisfied: grpcio~=1.34.0 in /usr/local/lib/python3.7/dist-packages (from tensorflow==2.5.0->textattack[tensorflow]) (1.34.1)',\n",
              " 'Requirement already satisfied: gast==0.4.0 in /usr/local/lib/python3.7/dist-packages (from tensorflow==2.5.0->textattack[tensorflow]) (0.4.0)',\n",
              " 'Requirement already satisfied: keras-preprocessing~=1.1.2 in /usr/local/lib/python3.7/dist-packages (from tensorflow==2.5.0->textattack[tensorflow]) (1.1.2)',\n",
              " 'Requirement already satisfied: tensorboard~=2.5 in /usr/local/lib/python3.7/dist-packages (from tensorflow==2.5.0->textattack[tensorflow]) (2.8.0)',\n",
              " 'Requirement already satisfied: protobuf>=3.9.2 in /usr/local/lib/python3.7/dist-packages (from tensorflow==2.5.0->textattack[tensorflow]) (3.17.3)',\n",
              " 'Requirement already satisfied: absl-py~=0.10 in /usr/local/lib/python3.7/dist-packages (from tensorflow==2.5.0->textattack[tensorflow]) (0.15.0)',\n",
              " 'Requirement already satisfied: h5py~=3.1.0 in /usr/local/lib/python3.7/dist-packages (from tensorflow==2.5.0->textattack[tensorflow]) (3.1.0)',\n",
              " 'Requirement already satisfied: flatbuffers~=1.12.0 in /usr/local/lib/python3.7/dist-packages (from tensorflow==2.5.0->textattack[tensorflow]) (1.12)',\n",
              " 'Requirement already satisfied: requests in /usr/local/lib/python3.7/dist-packages (from bert-score>=0.3.5->textattack[tensorflow]) (2.27.1)',\n",
              " 'Requirement already satisfied: packaging>=20.9 in /usr/local/lib/python3.7/dist-packages (from bert-score>=0.3.5->textattack[tensorflow]) (21.3)',\n",
              " 'Requirement already satisfied: matplotlib in /usr/local/lib/python3.7/dist-packages (from bert-score>=0.3.5->textattack[tensorflow]) (3.2.2)',\n",
              " 'Requirement already satisfied: cached-property in /usr/local/lib/python3.7/dist-packages (from h5py~=3.1.0->tensorflow==2.5.0->textattack[tensorflow]) (1.5.2)',\n",
              " 'Requirement already satisfied: pyparsing!=3.0.5,>=2.0.2 in /usr/local/lib/python3.7/dist-packages (from packaging>=20.9->bert-score>=0.3.5->textattack[tensorflow]) (3.0.9)',\n",
              " 'Requirement already satisfied: pytz>=2017.3 in /usr/local/lib/python3.7/dist-packages (from pandas>=1.0.1->textattack[tensorflow]) (2022.1)',\n",
              " 'Requirement already satisfied: python-dateutil>=2.7.3 in /usr/local/lib/python3.7/dist-packages (from pandas>=1.0.1->textattack[tensorflow]) (2.8.2)',\n",
              " 'Requirement already satisfied: tensorboard-data-server<0.7.0,>=0.6.0 in /usr/local/lib/python3.7/dist-packages (from tensorboard~=2.5->tensorflow==2.5.0->textattack[tensorflow]) (0.6.1)',\n",
              " 'Requirement already satisfied: google-auth<3,>=1.6.3 in /usr/local/lib/python3.7/dist-packages (from tensorboard~=2.5->tensorflow==2.5.0->textattack[tensorflow]) (1.35.0)',\n",
              " 'Requirement already satisfied: werkzeug>=0.11.15 in /usr/local/lib/python3.7/dist-packages (from tensorboard~=2.5->tensorflow==2.5.0->textattack[tensorflow]) (1.0.1)',\n",
              " 'Requirement already satisfied: tensorboard-plugin-wit>=1.6.0 in /usr/local/lib/python3.7/dist-packages (from tensorboard~=2.5->tensorflow==2.5.0->textattack[tensorflow]) (1.8.1)',\n",
              " 'Requirement already satisfied: markdown>=2.6.8 in /usr/local/lib/python3.7/dist-packages (from tensorboard~=2.5->tensorflow==2.5.0->textattack[tensorflow]) (3.3.7)',\n",
              " 'Requirement already satisfied: setuptools>=41.0.0 in /usr/local/lib/python3.7/dist-packages (from tensorboard~=2.5->tensorflow==2.5.0->textattack[tensorflow]) (57.4.0)',\n",
              " 'Requirement already satisfied: google-auth-oauthlib<0.5,>=0.4.1 in /usr/local/lib/python3.7/dist-packages (from tensorboard~=2.5->tensorflow==2.5.0->textattack[tensorflow]) (0.4.6)',\n",
              " 'Requirement already satisfied: pyasn1-modules>=0.2.1 in /usr/local/lib/python3.7/dist-packages (from google-auth<3,>=1.6.3->tensorboard~=2.5->tensorflow==2.5.0->textattack[tensorflow]) (0.2.8)',\n",
              " 'Requirement already satisfied: cachetools<5.0,>=2.0.0 in /usr/local/lib/python3.7/dist-packages (from google-auth<3,>=1.6.3->tensorboard~=2.5->tensorflow==2.5.0->textattack[tensorflow]) (4.2.4)',\n",
              " 'Requirement already satisfied: rsa<5,>=3.1.4 in /usr/local/lib/python3.7/dist-packages (from google-auth<3,>=1.6.3->tensorboard~=2.5->tensorflow==2.5.0->textattack[tensorflow]) (4.8)',\n",
              " 'Requirement already satisfied: requests-oauthlib>=0.7.0 in /usr/local/lib/python3.7/dist-packages (from google-auth-oauthlib<0.5,>=0.4.1->tensorboard~=2.5->tensorflow==2.5.0->textattack[tensorflow]) (1.3.1)',\n",
              " 'Requirement already satisfied: importlib-metadata>=4.4 in /usr/local/lib/python3.7/dist-packages (from markdown>=2.6.8->tensorboard~=2.5->tensorflow==2.5.0->textattack[tensorflow]) (4.11.3)',\n",
              " 'Requirement already satisfied: zipp>=0.5 in /usr/local/lib/python3.7/dist-packages (from importlib-metadata>=4.4->markdown>=2.6.8->tensorboard~=2.5->tensorflow==2.5.0->textattack[tensorflow]) (3.8.0)',\n",
              " 'Requirement already satisfied: pyasn1<0.5.0,>=0.4.6 in /usr/local/lib/python3.7/dist-packages (from pyasn1-modules>=0.2.1->google-auth<3,>=1.6.3->tensorboard~=2.5->tensorflow==2.5.0->textattack[tensorflow]) (0.4.8)',\n",
              " 'Requirement already satisfied: certifi>=2017.4.17 in /usr/local/lib/python3.7/dist-packages (from requests->bert-score>=0.3.5->textattack[tensorflow]) (2021.10.8)',\n",
              " 'Requirement already satisfied: charset-normalizer~=2.0.0 in /usr/local/lib/python3.7/dist-packages (from requests->bert-score>=0.3.5->textattack[tensorflow]) (2.0.12)',\n",
              " 'Requirement already satisfied: urllib3<1.27,>=1.21.1 in /usr/local/lib/python3.7/dist-packages (from requests->bert-score>=0.3.5->textattack[tensorflow]) (1.24.3)',\n",
              " 'Requirement already satisfied: idna<4,>=2.5 in /usr/local/lib/python3.7/dist-packages (from requests->bert-score>=0.3.5->textattack[tensorflow]) (2.10)',\n",
              " 'Requirement already satisfied: oauthlib>=3.0.0 in /usr/local/lib/python3.7/dist-packages (from requests-oauthlib>=0.7.0->google-auth-oauthlib<0.5,>=0.4.1->tensorboard~=2.5->tensorflow==2.5.0->textattack[tensorflow]) (3.2.0)',\n",
              " 'Requirement already satisfied: tokenizers!=0.11.3,<0.13,>=0.11.1 in /usr/local/lib/python3.7/dist-packages (from transformers>=3.3.0->textattack[tensorflow]) (0.12.1)',\n",
              " 'Requirement already satisfied: pyyaml>=5.1 in /usr/local/lib/python3.7/dist-packages (from transformers>=3.3.0->textattack[tensorflow]) (6.0)',\n",
              " 'Requirement already satisfied: huggingface-hub<1.0,>=0.1.0 in /usr/local/lib/python3.7/dist-packages (from transformers>=3.3.0->textattack[tensorflow]) (0.6.0)',\n",
              " 'Requirement already satisfied: regex!=2019.12.17 in /usr/local/lib/python3.7/dist-packages (from transformers>=3.3.0->textattack[tensorflow]) (2019.12.20)',\n",
              " 'Requirement already satisfied: dill in /usr/local/lib/python3.7/dist-packages (from datasets->textattack[tensorflow]) (0.3.4)',\n",
              " 'Requirement already satisfied: pyarrow>=0.17.1 in /usr/local/lib/python3.7/dist-packages (from datasets->textattack[tensorflow]) (6.0.1)',\n",
              " 'Requirement already satisfied: multiprocess in /usr/local/lib/python3.7/dist-packages (from datasets->textattack[tensorflow]) (0.70.12.2)',\n",
              " 'Requirement already satisfied: xxhash in /usr/local/lib/python3.7/dist-packages (from datasets->textattack[tensorflow]) (3.0.0)',\n",
              " 'Requirement already satisfied: lxml in /usr/local/lib/python3.7/dist-packages (from flair->textattack[tensorflow]) (4.2.6)',\n",
              " 'Requirement already satisfied: mpld3==0.3 in /usr/local/lib/python3.7/dist-packages (from flair->textattack[tensorflow]) (0.3)',\n",
              " 'Requirement already satisfied: sentencepiece==0.1.95 in /usr/local/lib/python3.7/dist-packages (from flair->textattack[tensorflow]) (0.1.95)',\n",
              " 'Requirement already satisfied: janome in /usr/local/lib/python3.7/dist-packages (from flair->textattack[tensorflow]) (0.4.2)',\n",
              " 'Requirement already satisfied: konoha<5.0.0,>=4.0.0 in /usr/local/lib/python3.7/dist-packages (from flair->textattack[tensorflow]) (4.6.3)',\n",
              " 'Requirement already satisfied: pptree in /usr/local/lib/python3.7/dist-packages (from flair->textattack[tensorflow]) (3.1)',\n",
              " 'Requirement already satisfied: langdetect in /usr/local/lib/python3.7/dist-packages (from flair->textattack[tensorflow]) (1.0.9)',\n",
              " 'Requirement already satisfied: scikit-learn>=0.21.3 in /usr/local/lib/python3.7/dist-packages (from flair->textattack[tensorflow]) (1.0.2)',\n",
              " 'Requirement already satisfied: wikipedia-api in /usr/local/lib/python3.7/dist-packages (from flair->textattack[tensorflow]) (0.5.4)',\n",
              " 'Requirement already satisfied: tabulate in /usr/local/lib/python3.7/dist-packages (from flair->textattack[tensorflow]) (0.8.9)',\n",
              " 'Requirement already satisfied: hyperopt>=0.2.7 in /usr/local/lib/python3.7/dist-packages (from flair->textattack[tensorflow]) (0.2.7)',\n",
              " 'Requirement already satisfied: ftfy in /usr/local/lib/python3.7/dist-packages (from flair->textattack[tensorflow]) (6.1.1)',\n",
              " 'Requirement already satisfied: sqlitedict>=1.6.0 in /usr/local/lib/python3.7/dist-packages (from flair->textattack[tensorflow]) (2.0.0)',\n",
              " 'Requirement already satisfied: gdown==3.12.2 in /usr/local/lib/python3.7/dist-packages (from flair->textattack[tensorflow]) (3.12.2)',\n",
              " 'Requirement already satisfied: gensim>=3.4.0 in /usr/local/lib/python3.7/dist-packages (from flair->textattack[tensorflow]) (3.6.0)',\n",
              " 'Requirement already satisfied: conllu>=4.0 in /usr/local/lib/python3.7/dist-packages (from flair->textattack[tensorflow]) (4.4.2)',\n",
              " 'Requirement already satisfied: deprecated>=1.2.4 in /usr/local/lib/python3.7/dist-packages (from flair->textattack[tensorflow]) (1.2.13)',\n",
              " 'Requirement already satisfied: bpemb>=0.3.2 in /usr/local/lib/python3.7/dist-packages (from flair->textattack[tensorflow]) (0.3.3)',\n",
              " 'Requirement already satisfied: segtok>=1.5.7 in /usr/local/lib/python3.7/dist-packages (from flair->textattack[tensorflow]) (1.5.11)',\n",
              " 'Requirement already satisfied: smart-open>=1.2.1 in /usr/local/lib/python3.7/dist-packages (from gensim>=3.4.0->flair->textattack[tensorflow]) (6.0.0)',\n",
              " 'Requirement already satisfied: cloudpickle in /usr/local/lib/python3.7/dist-packages (from hyperopt>=0.2.7->flair->textattack[tensorflow]) (1.3.0)',\n",
              " 'Requirement already satisfied: future in /usr/local/lib/python3.7/dist-packages (from hyperopt>=0.2.7->flair->textattack[tensorflow]) (0.16.0)',\n",
              " 'Requirement already satisfied: py4j in /usr/local/lib/python3.7/dist-packages (from hyperopt>=0.2.7->flair->textattack[tensorflow]) (0.10.9.5)',\n",
              " 'Requirement already satisfied: networkx>=2.2 in /usr/local/lib/python3.7/dist-packages (from hyperopt>=0.2.7->flair->textattack[tensorflow]) (2.6.3)',\n",
              " 'Requirement already satisfied: overrides<4.0.0,>=3.0.0 in /usr/local/lib/python3.7/dist-packages (from konoha<5.0.0,>=4.0.0->flair->textattack[tensorflow]) (3.1.0)',\n",
              " 'Requirement already satisfied: cycler>=0.10 in /usr/local/lib/python3.7/dist-packages (from matplotlib->bert-score>=0.3.5->textattack[tensorflow]) (0.11.0)',\n",
              " 'Requirement already satisfied: kiwisolver>=1.0.1 in /usr/local/lib/python3.7/dist-packages (from matplotlib->bert-score>=0.3.5->textattack[tensorflow]) (1.4.2)',\n",
              " 'Requirement already satisfied: joblib>=0.11 in /usr/local/lib/python3.7/dist-packages (from scikit-learn>=0.21.3->flair->textattack[tensorflow]) (1.1.0)',\n",
              " 'Requirement already satisfied: threadpoolctl>=2.0.0 in /usr/local/lib/python3.7/dist-packages (from scikit-learn>=0.21.3->flair->textattack[tensorflow]) (3.1.0)',\n",
              " 'Requirement already satisfied: wcwidth>=0.2.5 in /usr/local/lib/python3.7/dist-packages (from ftfy->flair->textattack[tensorflow]) (0.2.5)',\n",
              " 'Requirement already satisfied: docopt>=0.6.2 in /usr/local/lib/python3.7/dist-packages (from num2words->textattack[tensorflow]) (0.6.2)']"
            ]
          },
          "metadata": {},
          "execution_count": 4
        }
      ],
      "source": [
        "!!pip install textattack['tensorflow']"
      ]
    },
    {
      "cell_type": "code",
      "source": [
        "import textattack"
      ],
      "metadata": {
        "colab": {
          "base_uri": "https://localhost:8080/"
        },
        "id": "mrQLmKsAzeNi",
        "outputId": "2bf5b2db-5c25-4cd5-e1e5-14965cb8fd56"
      },
      "execution_count": null,
      "outputs": [
        {
          "output_type": "stream",
          "name": "stderr",
          "text": [
            "textattack: Updating TextAttack package dependencies.\n",
            "textattack: Downloading NLTK required packages.\n"
          ]
        },
        {
          "output_type": "stream",
          "name": "stdout",
          "text": [
            "[nltk_data] Downloading package averaged_perceptron_tagger to\n",
            "[nltk_data]     /root/nltk_data...\n",
            "[nltk_data]   Unzipping taggers/averaged_perceptron_tagger.zip.\n",
            "[nltk_data] Downloading package stopwords to /root/nltk_data...\n",
            "[nltk_data]   Unzipping corpora/stopwords.zip.\n",
            "[nltk_data] Downloading package omw to /root/nltk_data...\n",
            "[nltk_data]   Unzipping corpora/omw.zip.\n",
            "[nltk_data] Downloading package universal_tagset to /root/nltk_data...\n",
            "[nltk_data]   Unzipping taggers/universal_tagset.zip.\n",
            "[nltk_data] Downloading package wordnet to /root/nltk_data...\n",
            "[nltk_data]   Unzipping corpora/wordnet.zip.\n",
            "[nltk_data] Downloading package punkt to /root/nltk_data...\n",
            "[nltk_data]   Unzipping tokenizers/punkt.zip.\n"
          ]
        },
        {
          "output_type": "stream",
          "name": "stderr",
          "text": [
            "textattack: Downloading https://textattack.s3.amazonaws.com/word_embeddings/paragramcf.\n",
            "100%|██████████| 481M/481M [00:12<00:00, 38.8MB/s]\n",
            "textattack: Unzipping file /root/.cache/textattack/tmpq53n3skt.zip to /root/.cache/textattack/word_embeddings/paragramcf.\n",
            "textattack: Successfully saved word_embeddings/paragramcf to cache.\n"
          ]
        }
      ]
    },
    {
      "cell_type": "code",
      "source": [
        "import pickle"
      ],
      "metadata": {
        "id": "hmnj_NYw7Y3O"
      },
      "execution_count": null,
      "outputs": []
    },
    {
      "cell_type": "code",
      "source": [
        "from textattack.models.wrappers import HuggingFaceModelWrapper\n",
        "from textattack.attack_recipes import TextFoolerJin2019\n",
        "from textattack import Attacker"
      ],
      "metadata": {
        "id": "byLB5J1ew_gf"
      },
      "execution_count": null,
      "outputs": []
    },
    {
      "cell_type": "code",
      "source": [
        "from transformers import AutoModelForSequenceClassification\n",
        "from transformers import AutoTokenizer\n",
        "\n",
        "MODEL = f'cardiffnlp/twitter-roberta-base-sentiment-latest'\n",
        "test_model = AutoModelForSequenceClassification.from_pretrained(MODEL)\n",
        "test_tokenizer = AutoTokenizer.from_pretrained(MODEL)"
      ],
      "metadata": {
        "id": "uwXKYPH2xFJZ",
        "colab": {
          "base_uri": "https://localhost:8080/",
          "height": 336,
          "referenced_widgets": [
            "debc5aaa44a04db0b6b3382431f5f729",
            "c51b7ffd543344f4b6d344753b737dbb",
            "5d68291df9d14fff8ceb014080bcf851",
            "7190c70c4ea74053b43dd295acdce82f",
            "0b69a5f644d3430282f3287635d6b02c",
            "5416d9a8e61346c8abff682f2a59e09f",
            "d2e03dfcfb7542fd9c20b68c4cd49d96",
            "88f7fc2e898045d1b58a488c3500f058",
            "4ff1d89155c34defac860d789be84b20",
            "31906229fa3d4a669e9717d04d77ae8b",
            "abb5ab0e84db4ef988c3ce168a151978",
            "64849836a8114e548b32038cb29e7870",
            "ad7cc2fb68a741f89c4cb1c518e0f9de",
            "009cf90fe4ee4b1d8ca2a4aa8f6ebef9",
            "8db0d0f38ee245fab9adfa3d5728a500",
            "0c01c2416a17421b8ed8253abd8bb85a",
            "f98ffe963dd04beeb6f820d37bd3c29f",
            "a0f7466c4aa94854908d1959847b2fc8",
            "3cdc32eb56db4725bcd8211b8aafc849",
            "5319e8bafb85455886d8c73e309ac0de",
            "5ae2343a306b4052ae61a3a3269eba9e",
            "7f4979cff01f4050ba3ac348c8e95a69",
            "1de484adaa14444498b8e1b5e198a8c7",
            "1c7145cf7aef43d0aaf23f0cbe2a7706",
            "5c3c8bd7de9f499495898acd7ce4ecc3",
            "2d9f35a455f347d787449b30d7f3dc5e",
            "a7eb5b82ae934c9b8db356e77fdbad16",
            "6ed751060dc448bfb1a529d2cefbeda3",
            "8671e520f59e4754935aa07db7427af9",
            "73eafa1aa1324e788b6beff16d0fb75a",
            "f5133afd1a7e4a4baff27176aef121a3",
            "71298c2a322847e9b563ec3ff551ff7b",
            "90e50a06a52445dd832d7ab2b35e0e2f",
            "e6b1e51786704e6480630343fb88ea08",
            "278879bdbf654e1c97eefe7316591daf",
            "e35cb8e74b024d678a02a6e905a9c975",
            "f9ea3fca42fc4e2486db2059eab394d5",
            "615aa149a2e54ee09156984e2be7c2eb",
            "e453a924d0c74ce6baf1fafe64375f70",
            "d175c2826a5544a9a29185c7ed637d2a"
          ]
        },
        "outputId": "ab13b797-0654-4b02-f4cf-c07c0ba2f91c"
      },
      "execution_count": null,
      "outputs": [
        {
          "output_type": "display_data",
          "data": {
            "text/plain": [
              "HBox(children=(FloatProgress(value=0.0, description='Downloading', max=929.0, style=ProgressStyle(description_…"
            ],
            "application/vnd.jupyter.widget-view+json": {
              "version_major": 2,
              "version_minor": 0,
              "model_id": "debc5aaa44a04db0b6b3382431f5f729"
            }
          },
          "metadata": {}
        },
        {
          "output_type": "stream",
          "name": "stdout",
          "text": [
            "\n"
          ]
        },
        {
          "output_type": "display_data",
          "data": {
            "text/plain": [
              "HBox(children=(FloatProgress(value=0.0, description='Downloading', max=501045531.0, style=ProgressStyle(descri…"
            ],
            "application/vnd.jupyter.widget-view+json": {
              "version_major": 2,
              "version_minor": 0,
              "model_id": "4ff1d89155c34defac860d789be84b20"
            }
          },
          "metadata": {}
        },
        {
          "output_type": "stream",
          "name": "stdout",
          "text": [
            "\n"
          ]
        },
        {
          "output_type": "stream",
          "name": "stderr",
          "text": [
            "Some weights of the model checkpoint at cardiffnlp/twitter-roberta-base-sentiment-latest were not used when initializing RobertaForSequenceClassification: ['roberta.pooler.dense.weight', 'roberta.pooler.dense.bias']\n",
            "- This IS expected if you are initializing RobertaForSequenceClassification from the checkpoint of a model trained on another task or with another architecture (e.g. initializing a BertForSequenceClassification model from a BertForPreTraining model).\n",
            "- This IS NOT expected if you are initializing RobertaForSequenceClassification from the checkpoint of a model that you expect to be exactly identical (initializing a BertForSequenceClassification model from a BertForSequenceClassification model).\n"
          ]
        },
        {
          "output_type": "display_data",
          "data": {
            "text/plain": [
              "HBox(children=(FloatProgress(value=0.0, description='Downloading', max=898822.0, style=ProgressStyle(descripti…"
            ],
            "application/vnd.jupyter.widget-view+json": {
              "version_major": 2,
              "version_minor": 0,
              "model_id": "f98ffe963dd04beeb6f820d37bd3c29f"
            }
          },
          "metadata": {}
        },
        {
          "output_type": "stream",
          "name": "stdout",
          "text": [
            "\n"
          ]
        },
        {
          "output_type": "display_data",
          "data": {
            "text/plain": [
              "HBox(children=(FloatProgress(value=0.0, description='Downloading', max=456318.0, style=ProgressStyle(descripti…"
            ],
            "application/vnd.jupyter.widget-view+json": {
              "version_major": 2,
              "version_minor": 0,
              "model_id": "5c3c8bd7de9f499495898acd7ce4ecc3"
            }
          },
          "metadata": {}
        },
        {
          "output_type": "stream",
          "name": "stdout",
          "text": [
            "\n"
          ]
        },
        {
          "output_type": "display_data",
          "data": {
            "text/plain": [
              "HBox(children=(FloatProgress(value=0.0, description='Downloading', max=239.0, style=ProgressStyle(description_…"
            ],
            "application/vnd.jupyter.widget-view+json": {
              "version_major": 2,
              "version_minor": 0,
              "model_id": "90e50a06a52445dd832d7ab2b35e0e2f"
            }
          },
          "metadata": {}
        },
        {
          "output_type": "stream",
          "name": "stdout",
          "text": [
            "\n"
          ]
        }
      ]
    },
    {
      "cell_type": "code",
      "source": [
        "# This mounts your Google Drive to the Colab VM.\n",
        "from google.colab import drive\n",
        "drive.mount('/content/drive')\n",
        "\n",
        "# Folder to mount\n",
        "FOLDERNAME = 'cs329t/project/'\n",
        "assert FOLDERNAME is not None, \"[!] Enter the foldername.\"\n",
        "\n",
        "# Ensure the Python interpreter of the Colab VM can load python files\n",
        "import sys\n",
        "sys.path.append('/content/drive/My Drive/{}'.format(FOLDERNAME))\n",
        "\n",
        "# cd into the dataset\n",
        "%cd /content/drive/My\\ Drive/$FOLDERNAME"
      ],
      "metadata": {
        "colab": {
          "base_uri": "https://localhost:8080/"
        },
        "id": "04Q5hkvk1qBR",
        "outputId": "71ffa827-8f07-42c6-d930-473bd72a3637"
      },
      "execution_count": null,
      "outputs": [
        {
          "output_type": "stream",
          "name": "stdout",
          "text": [
            "Mounted at /content/drive\n",
            "/content/drive/My Drive/cs329t/project\n"
          ]
        }
      ]
    },
    {
      "cell_type": "code",
      "source": [
        "%load_ext autoreload\n",
        "%autoreload 2"
      ],
      "metadata": {
        "id": "mWOQ8lu31zBU"
      },
      "execution_count": null,
      "outputs": []
    },
    {
      "cell_type": "code",
      "source": [
        "import csv\n",
        "\n",
        "# Load CSV file\n",
        "def load_csv(file_path):\n",
        "  with open(file_path, newline='') as csv_file:\n",
        "    reader = csv.reader(csv_file)\n",
        "    csv_data = list(reader)\n",
        "  return csv_data\n",
        "\n",
        "csv_data = load_csv('data/target_test_clean.csv')"
      ],
      "metadata": {
        "id": "8vI5-c0c11qD"
      },
      "execution_count": null,
      "outputs": []
    },
    {
      "cell_type": "code",
      "source": [
        "def format_data(csv_data):\n",
        "  formatted_dataset = list()\n",
        "  for example in csv_data[1:]:\n",
        "    text = example[0]\n",
        "    targets = [word for word in text.split() if word.startswith('@') or word.startswith('.@')]\n",
        "    polarity = example[-1]\n",
        "    formatted_dataset.append([text, targets, polarity])\n",
        "  return formatted_dataset\n",
        "  \n",
        "dataset = format_data(csv_data)"
      ],
      "metadata": {
        "id": "ll1VvFCV131o"
      },
      "execution_count": null,
      "outputs": []
    },
    {
      "cell_type": "code",
      "source": [
        "def neutralize_dataset(dataset):\n",
        "  neutralized_dataset = list()\n",
        "  for example in dataset:\n",
        "    text = example[0]\n",
        "    targets = example[1]\n",
        "    polarity = example[-1]\n",
        "    for target in targets:\n",
        "      text = text.replace(target, '@username')\n",
        "    neutralized_dataset.append([text, targets, polarity])\n",
        "  neutralized_dataset = [example for example in neutralized_dataset if '@username' in example[0]]\n",
        "  return neutralized_dataset\n",
        "\n",
        "neutralized_dataset = neutralize_dataset(dataset)"
      ],
      "metadata": {
        "id": "xgJKKHGn17Su"
      },
      "execution_count": null,
      "outputs": []
    },
    {
      "cell_type": "code",
      "source": [
        "def parse_label(res):\n",
        "    orig_label = int(res[0])\n",
        "    if res[-10:] == ' [SKIPPED]':\n",
        "        return orig_label, -1\n",
        "    if res[-9:] == ' [FAILED]':\n",
        "        return orig_label,orig_label\n",
        "    else:\n",
        "        return orig_label, res.split(\">\")[1][1]\n",
        "\n",
        "def tuplify_dataset(dataset):\n",
        "    return [(tweet,int(label)) for tweet,target,label in dataset]"
      ],
      "metadata": {
        "id": "rGLYcxDn17po"
      },
      "execution_count": null,
      "outputs": []
    },
    {
      "cell_type": "code",
      "source": [
        "len(neutralized_dataset)"
      ],
      "metadata": {
        "colab": {
          "base_uri": "https://localhost:8080/"
        },
        "id": "lkiqbEHM16ZL",
        "outputId": "2b30900e-c059-4d9f-c94c-7910a0a94383"
      },
      "execution_count": null,
      "outputs": [
        {
          "output_type": "execute_result",
          "data": {
            "text/plain": [
              "4343"
            ]
          },
          "metadata": {},
          "execution_count": 15
        }
      ]
    },
    {
      "cell_type": "code",
      "source": [
        "ta_model_wrapper = HuggingFaceModelWrapper(test_model,test_tokenizer)\n",
        "attack_tf = TextFoolerJin2019.build(ta_model_wrapper)\n",
        "attacker_tf = Attacker(attack_tf, textattack.datasets.Dataset(tuplify_dataset(neutralized_dataset[:100])))\n",
        "attacker_tf.attack_args.num_examples = -1\n",
        "attack_tf_results = attacker_tf.attack_dataset()\n",
        "a_tf_res_list = [(res.original_text(), res.perturbed_text(), parse_label(res.goal_function_result_str())) for res in attack_tf_results]\n",
        "\n",
        "with open('a_textfooler.pkl', 'wb') as f:\n",
        "    pickle.dump(a_tf_res_list, f)"
      ],
      "metadata": {
        "id": "uTu61klFxIQ4",
        "colab": {
          "base_uri": "https://localhost:8080/"
        },
        "outputId": "a69f5948-4bc3-40ce-f255-4eef55328612"
      },
      "execution_count": null,
      "outputs": [
        {
          "metadata": {
            "tags": null
          },
          "name": "stderr",
          "output_type": "stream",
          "text": [
            "textattack: Unknown if model of class <class 'transformers.models.roberta.modeling_roberta.RobertaForSequenceClassification'> compatible with goal function <class 'textattack.goal_functions.classification.untargeted_classification.UntargetedClassification'>.\n",
            "\n",
            "\n",
            "  0%|          | 0/100 [00:00<?, ?it/s]\u001b[A\u001b[A"
          ]
        },
        {
          "metadata": {
            "tags": null
          },
          "name": "stdout",
          "output_type": "stream",
          "text": [
            "Attack(\n",
            "  (search_method): GreedyWordSwapWIR(\n",
            "    (wir_method):  delete\n",
            "  )\n",
            "  (goal_function):  UntargetedClassification\n",
            "  (transformation):  WordSwapEmbedding(\n",
            "    (max_candidates):  50\n",
            "    (embedding):  WordEmbedding\n",
            "  )\n",
            "  (constraints): \n",
            "    (0): WordEmbeddingDistance(\n",
            "        (embedding):  WordEmbedding\n",
            "        (min_cos_sim):  0.5\n",
            "        (cased):  False\n",
            "        (include_unknown_words):  True\n",
            "        (compare_against_original):  True\n",
            "      )\n",
            "    (1): PartOfSpeech(\n",
            "        (tagger_type):  nltk\n",
            "        (tagset):  universal\n",
            "        (allow_verb_noun_swap):  True\n",
            "        (compare_against_original):  True\n",
            "      )\n",
            "    (2): UniversalSentenceEncoder(\n",
            "        (metric):  angular\n",
            "        (threshold):  0.840845057\n",
            "        (window_size):  15\n",
            "        (skip_text_shorter_than_window):  True\n",
            "        (compare_against_original):  False\n",
            "      )\n",
            "    (3): RepeatModification\n",
            "    (4): StopwordModification\n",
            "    (5): InputColumnModification(\n",
            "        (matching_column_labels):  ['premise', 'hypothesis']\n",
            "        (columns_to_ignore):  {'premise'}\n",
            "      )\n",
            "  (is_black_box):  True\n",
            ") \n",
            "\n"
          ]
        },
        {
          "metadata": {
            "tags": null
          },
          "name": "stderr",
          "output_type": "stream",
          "text": [
            "\n",
            "\n",
            "  1%|          | 1/100 [04:50<7:59:56, 290.88s/it]\u001b[A\u001b[A\n",
            "\n",
            "[Succeeded / Failed / Skipped / Total] 0 / 1 / 0 / 1:   1%|          | 1/100 [04:50<7:59:57, 290.89s/it]\u001b[A\u001b[A"
          ]
        },
        {
          "metadata": {
            "tags": null
          },
          "name": "stdout",
          "output_type": "stream",
          "text": [
            "--------------------------------------------- Result 1 ---------------------------------------------\n",
            "[[1 (91%)]] --> [[[FAILED]]]\n",
            "\n",
            "#NowPlaying on Activ Radio 90 FM : Kaleo - Way down we go (TOP24H #charts : 4th) @username @username #Music… \n",
            "\n",
            "\n"
          ]
        },
        {
          "metadata": {
            "tags": null
          },
          "name": "stderr",
          "output_type": "stream",
          "text": [
            "\n",
            "\n",
            "[Succeeded / Failed / Skipped / Total] 0 / 1 / 0 / 1:   2%|▏         | 2/100 [07:23<6:02:15, 221.79s/it]\u001b[A\u001b[A\n",
            "\n",
            "[Succeeded / Failed / Skipped / Total] 1 / 1 / 0 / 2:   2%|▏         | 2/100 [07:23<6:02:15, 221.79s/it]\u001b[A\u001b[A"
          ]
        },
        {
          "metadata": {
            "tags": null
          },
          "name": "stdout",
          "output_type": "stream",
          "text": [
            "--------------------------------------------- Result 2 ---------------------------------------------\n",
            "[[0 (87%)]] --> [[1 (49%)]]\n",
            "\n",
            "RT @username That dude done [[fucked]] up by saying \"everything you want\" [[does]] he not realize just 1 liquid lipstick is gonna run hi…\n",
            "\n",
            "RT @username That dude done [[merde]] up by saying \"everything you want\" [[es]] he not realize just 1 liquid lipstick is gonna run hi…\n",
            "\n",
            "\n"
          ]
        },
        {
          "metadata": {
            "tags": null
          },
          "name": "stderr",
          "output_type": "stream",
          "text": [
            "\n",
            "\n",
            "[Succeeded / Failed / Skipped / Total] 1 / 1 / 0 / 2:   3%|▎         | 3/100 [09:05<4:54:09, 181.95s/it]\u001b[A\u001b[A\n",
            "\n",
            "[Succeeded / Failed / Skipped / Total] 2 / 1 / 0 / 3:   3%|▎         | 3/100 [09:05<4:54:09, 181.96s/it]\u001b[A\u001b[A"
          ]
        },
        {
          "metadata": {
            "tags": null
          },
          "name": "stdout",
          "output_type": "stream",
          "text": [
            "--------------------------------------------- Result 3 ---------------------------------------------\n",
            "[[0 (92%)]] --> [[2 (44%)]]\n",
            "\n",
            "RT @username I was so into you but you [[fucked]] that up\n",
            "\n",
            "RT @username I was so into you but you [[banged]] that up\n",
            "\n",
            "\n"
          ]
        },
        {
          "metadata": {
            "tags": null
          },
          "name": "stderr",
          "output_type": "stream",
          "text": [
            "\n",
            "\n",
            "[Succeeded / Failed / Skipped / Total] 2 / 1 / 0 / 3:   4%|▍         | 4/100 [15:22<6:09:02, 230.65s/it]\u001b[A\u001b[A\n",
            "\n",
            "[Succeeded / Failed / Skipped / Total] 3 / 1 / 0 / 4:   4%|▍         | 4/100 [15:22<6:09:02, 230.65s/it]\u001b[A\u001b[A"
          ]
        },
        {
          "metadata": {
            "tags": null
          },
          "name": "stdout",
          "output_type": "stream",
          "text": [
            "--------------------------------------------- Result 4 ---------------------------------------------\n",
            "[[0 (93%)]] --> [[1 (51%)]]\n",
            "\n",
            "RT @username this just [[emphasizes]] how [[fucked]] up this [[society]] is [[people]] [[bashing]] a protective boyfriend [[instead]] of [[saying]] smth about disre…\n",
            "\n",
            "RT @username this just [[emphasized]] how [[sandbagged]] up this [[firms]] is [[individuals]] [[disagreeing]] a protective boyfriend [[yet]] of [[explains]] smth about disre…\n",
            "\n",
            "\n"
          ]
        },
        {
          "metadata": {
            "tags": null
          },
          "name": "stderr",
          "output_type": "stream",
          "text": [
            "\n",
            "\n",
            "[Succeeded / Failed / Skipped / Total] 3 / 1 / 0 / 4:   5%|▌         | 5/100 [15:24<4:52:47, 184.92s/it]\u001b[A\u001b[A\n",
            "\n",
            "[Succeeded / Failed / Skipped / Total] 3 / 1 / 1 / 5:   5%|▌         | 5/100 [15:24<4:52:47, 184.93s/it]\u001b[A\u001b[A"
          ]
        },
        {
          "metadata": {
            "tags": null
          },
          "name": "stdout",
          "output_type": "stream",
          "text": [
            "--------------------------------------------- Result 5 ---------------------------------------------\n",
            "[[2 (96%)]] --> [[[SKIPPED]]]\n",
            "\n",
            "@username Good morning Maddie xx @username @username @username @username @username @username @username\n",
            "\n",
            "\n"
          ]
        },
        {
          "metadata": {
            "tags": null
          },
          "name": "stderr",
          "output_type": "stream",
          "text": [
            "\n",
            "\n",
            "[Succeeded / Failed / Skipped / Total] 3 / 1 / 1 / 5:   6%|▌         | 6/100 [16:54<4:24:47, 169.02s/it]\u001b[A\u001b[A\n",
            "\n",
            "[Succeeded / Failed / Skipped / Total] 4 / 1 / 1 / 6:   6%|▌         | 6/100 [16:54<4:24:48, 169.02s/it]\u001b[A\u001b[A"
          ]
        },
        {
          "metadata": {
            "tags": null
          },
          "name": "stdout",
          "output_type": "stream",
          "text": [
            "--------------------------------------------- Result 6 ---------------------------------------------\n",
            "[[0 (50%)]] --> [[1 (88%)]]\n",
            "\n",
            "RT @username [[Fucking]] mood \n",
            "\n",
            "RT @username [[Kissed]] mood \n",
            "\n",
            "\n"
          ]
        },
        {
          "metadata": {
            "tags": null
          },
          "name": "stderr",
          "output_type": "stream",
          "text": [
            "\n",
            "\n",
            "[Succeeded / Failed / Skipped / Total] 4 / 1 / 1 / 6:   7%|▋         | 7/100 [16:56<3:45:00, 145.17s/it]\u001b[A\u001b[A\n",
            "\n",
            "[Succeeded / Failed / Skipped / Total] 4 / 1 / 2 / 7:   7%|▋         | 7/100 [16:56<3:45:00, 145.17s/it]\u001b[A\u001b[A"
          ]
        },
        {
          "metadata": {
            "tags": null
          },
          "name": "stdout",
          "output_type": "stream",
          "text": [
            "--------------------------------------------- Result 7 ---------------------------------------------\n",
            "[[2 (99%)]] --> [[[SKIPPED]]]\n",
            "\n",
            "@username You are one of my faves and getting followed by you would make me the happiest person alive. Have a good day/night! \n",
            "\n",
            "\n"
          ]
        },
        {
          "metadata": {
            "tags": null
          },
          "name": "stderr",
          "output_type": "stream",
          "text": [
            "\n",
            "\n",
            "[Succeeded / Failed / Skipped / Total] 4 / 1 / 2 / 7:   8%|▊         | 8/100 [16:58<3:15:09, 127.28s/it]\u001b[A\u001b[A\n",
            "\n",
            "[Succeeded / Failed / Skipped / Total] 4 / 1 / 3 / 8:   8%|▊         | 8/100 [16:58<3:15:09, 127.28s/it]\u001b[A\u001b[A"
          ]
        },
        {
          "metadata": {
            "tags": null
          },
          "name": "stdout",
          "output_type": "stream",
          "text": [
            "--------------------------------------------- Result 8 ---------------------------------------------\n",
            "[[2 (99%)]] --> [[[SKIPPED]]]\n",
            "\n",
            "@username @username Thank you for follow! Glad to see you!  \n",
            "\n",
            "\n"
          ]
        },
        {
          "metadata": {
            "tags": null
          },
          "name": "stderr",
          "output_type": "stream",
          "text": [
            "\n",
            "\n",
            "[Succeeded / Failed / Skipped / Total] 4 / 1 / 3 / 8:   9%|▉         | 9/100 [18:35<3:07:58, 123.94s/it]\u001b[A\u001b[A\n",
            "\n",
            "[Succeeded / Failed / Skipped / Total] 5 / 1 / 3 / 9:   9%|▉         | 9/100 [18:35<3:07:58, 123.94s/it]\u001b[A\u001b[A"
          ]
        },
        {
          "metadata": {
            "tags": null
          },
          "name": "stdout",
          "output_type": "stream",
          "text": [
            "--------------------------------------------- Result 9 ---------------------------------------------\n",
            "[[0 (76%)]] --> [[1 (51%)]]\n",
            "\n",
            "RT @username It's about time I stopped [[fucking]] up\n",
            "\n",
            "RT @username It's about time I stopped [[freaking]] up\n",
            "\n",
            "\n"
          ]
        },
        {
          "metadata": {
            "tags": null
          },
          "name": "stderr",
          "output_type": "stream",
          "text": [
            "\n",
            "\n",
            "[Succeeded / Failed / Skipped / Total] 5 / 1 / 3 / 9:  10%|█         | 10/100 [20:45<3:06:50, 124.56s/it]\u001b[A\u001b[A\n",
            "\n",
            "[Succeeded / Failed / Skipped / Total] 6 / 1 / 3 / 10:  10%|█         | 10/100 [20:45<3:06:50, 124.56s/it]\u001b[A\u001b[A"
          ]
        },
        {
          "metadata": {
            "tags": null
          },
          "name": "stdout",
          "output_type": "stream",
          "text": [
            "--------------------------------------------- Result 10 ---------------------------------------------\n",
            "[[0 (71%)]] --> [[1 (62%)]]\n",
            "\n",
            "RT @username [[Bad]] bitches don't take [[days]] off \n",
            "\n",
            "RT @username [[Defective]] bitches don't take [[jour]] off \n",
            "\n",
            "\n"
          ]
        },
        {
          "metadata": {
            "tags": null
          },
          "name": "stderr",
          "output_type": "stream",
          "text": [
            "\n",
            "\n",
            "[Succeeded / Failed / Skipped / Total] 6 / 1 / 3 / 10:  11%|█         | 11/100 [22:55<3:05:30, 125.06s/it]\u001b[A\u001b[A\n",
            "\n",
            "[Succeeded / Failed / Skipped / Total] 7 / 1 / 3 / 11:  11%|█         | 11/100 [22:55<3:05:30, 125.06s/it]\u001b[A\u001b[A"
          ]
        },
        {
          "metadata": {
            "tags": null
          },
          "name": "stdout",
          "output_type": "stream",
          "text": [
            "--------------------------------------------- Result 11 ---------------------------------------------\n",
            "[[0 (91%)]] --> [[2 (79%)]]\n",
            "\n",
            "RT @username Man everything is so [[fucking]] [[expensive]] now. $60 games. $15 skins. $3.75 gas/gallon Thank god you can save 10% off lootcr…\n",
            "\n",
            "RT @username Man everything is so [[kissed]] [[inestimable]] now. $60 games. $15 skins. $3.75 gas/gallon Thank god you can save 10% off lootcr…\n",
            "\n",
            "\n"
          ]
        },
        {
          "metadata": {
            "tags": null
          },
          "name": "stderr",
          "output_type": "stream",
          "text": [
            "\n",
            "\n",
            "[Succeeded / Failed / Skipped / Total] 7 / 1 / 3 / 11:  12%|█▏        | 12/100 [24:41<3:01:01, 123.42s/it]\u001b[A\u001b[A\n",
            "\n",
            "[Succeeded / Failed / Skipped / Total] 8 / 1 / 3 / 12:  12%|█▏        | 12/100 [24:41<3:01:01, 123.42s/it]\u001b[A\u001b[A"
          ]
        },
        {
          "metadata": {
            "tags": null
          },
          "name": "stdout",
          "output_type": "stream",
          "text": [
            "--------------------------------------------- Result 12 ---------------------------------------------\n",
            "[[0 (89%)]] --> [[1 (61%)]]\n",
            "\n",
            "RT @username As soon as u brag about a niggah they start [[fucking]] up ️\n",
            "\n",
            "RT @username As soon as u brag about a niggah they start [[kissed]] up ️\n",
            "\n",
            "\n"
          ]
        },
        {
          "metadata": {
            "tags": null
          },
          "name": "stderr",
          "output_type": "stream",
          "text": [
            "\n",
            "\n",
            "[Succeeded / Failed / Skipped / Total] 8 / 1 / 3 / 12:  13%|█▎        | 13/100 [24:43<2:45:25, 114.08s/it]\u001b[A\u001b[A\n",
            "\n",
            "[Succeeded / Failed / Skipped / Total] 8 / 1 / 4 / 13:  13%|█▎        | 13/100 [24:43<2:45:25, 114.09s/it]\u001b[A\u001b[A"
          ]
        },
        {
          "metadata": {
            "tags": null
          },
          "name": "stdout",
          "output_type": "stream",
          "text": [
            "--------------------------------------------- Result 13 ---------------------------------------------\n",
            "[[2 (59%)]] --> [[[SKIPPED]]]\n",
            "\n",
            "@username This is mine and my older sisters song. We always do the scene from Bridesmaids, we are gonna do it at her wedding nxt yr \n",
            "\n",
            "\n"
          ]
        },
        {
          "metadata": {
            "tags": null
          },
          "name": "stderr",
          "output_type": "stream",
          "text": [
            "\n",
            "\n",
            "[Succeeded / Failed / Skipped / Total] 8 / 1 / 4 / 13:  14%|█▍        | 14/100 [26:50<2:44:53, 115.04s/it]\u001b[A\u001b[A\n",
            "\n",
            "[Succeeded / Failed / Skipped / Total] 9 / 1 / 4 / 14:  14%|█▍        | 14/100 [26:50<2:44:53, 115.04s/it]\u001b[A\u001b[A"
          ]
        },
        {
          "metadata": {
            "tags": null
          },
          "name": "stdout",
          "output_type": "stream",
          "text": [
            "--------------------------------------------- Result 14 ---------------------------------------------\n",
            "[[1 (92%)]] --> [[0 (62%)]]\n",
            "\n",
            "[[The]] Outwaste : [[Se]] 1 [[Ep]] 169 'Deacon's Donut Dilemma' (Let's [[Survive]] Fallo...  [[via]] @username\n",
            "\n",
            "[[Both]] Outwaste : [[Become]] 1 [[Pe]] 169 'Deacon's Donut Dilemma' (Let's [[Livelihood]] Fallo...  [[among]] @username\n",
            "\n",
            "\n"
          ]
        },
        {
          "metadata": {
            "tags": null
          },
          "name": "stderr",
          "output_type": "stream",
          "text": [
            "\n",
            "\n",
            "[Succeeded / Failed / Skipped / Total] 9 / 1 / 4 / 14:  15%|█▌        | 15/100 [26:52<2:32:17, 107.50s/it]\u001b[A\u001b[A\n",
            "\n",
            "[Succeeded / Failed / Skipped / Total] 9 / 1 / 5 / 15:  15%|█▌        | 15/100 [26:52<2:32:17, 107.50s/it]\u001b[A\u001b[A"
          ]
        },
        {
          "metadata": {
            "tags": null
          },
          "name": "stdout",
          "output_type": "stream",
          "text": [
            "--------------------------------------------- Result 15 ---------------------------------------------\n",
            "[[2 (53%)]] --> [[[SKIPPED]]]\n",
            "\n",
            "@username The U.S. luxury electric car maker, jumped 69 percent from a year ago to a quarterly record of 25,000… \n",
            "\n",
            "\n"
          ]
        },
        {
          "metadata": {
            "tags": null
          },
          "name": "stderr",
          "output_type": "stream",
          "text": [
            "\n",
            "\n",
            "[Succeeded / Failed / Skipped / Total] 9 / 1 / 5 / 15:  16%|█▌        | 16/100 [29:12<2:33:19, 109.52s/it]\u001b[A\u001b[A\n",
            "\n",
            "[Succeeded / Failed / Skipped / Total] 10 / 1 / 5 / 16:  16%|█▌        | 16/100 [29:12<2:33:19, 109.52s/it]\u001b[A\u001b[A"
          ]
        },
        {
          "metadata": {
            "tags": null
          },
          "name": "stdout",
          "output_type": "stream",
          "text": [
            "--------------------------------------------- Result 16 ---------------------------------------------\n",
            "[[0 (93%)]] --> [[2 (94%)]]\n",
            "\n",
            "RT @username We're living in the [[dumbest]] [[fucking]] mobster movie imaginable. \n",
            "\n",
            "RT @username We're living in the [[sweetest]] [[kissed]] mobster movie imaginable. \n",
            "\n",
            "\n"
          ]
        },
        {
          "metadata": {
            "tags": null
          },
          "name": "stderr",
          "output_type": "stream",
          "text": [
            "\n",
            "\n",
            "[Succeeded / Failed / Skipped / Total] 10 / 1 / 5 / 16:  17%|█▋        | 17/100 [31:57<2:36:01, 112.79s/it]\u001b[A\u001b[A\n",
            "\n",
            "[Succeeded / Failed / Skipped / Total] 11 / 1 / 5 / 17:  17%|█▋        | 17/100 [31:57<2:36:01, 112.79s/it]\u001b[A\u001b[A"
          ]
        },
        {
          "metadata": {
            "tags": null
          },
          "name": "stdout",
          "output_type": "stream",
          "text": [
            "--------------------------------------------- Result 17 ---------------------------------------------\n",
            "[[0 (79%)]] --> [[1 (50%)]]\n",
            "\n",
            "RT @username [[bitches]] be boosie bad ass until it time to fight. then they a no [[show]]\n",
            "\n",
            "RT @username [[geeks]] be boosie bad ass until it time to fight. then they a no [[showcases]]\n",
            "\n",
            "\n"
          ]
        },
        {
          "metadata": {
            "tags": null
          },
          "name": "stderr",
          "output_type": "stream",
          "text": [
            "\n",
            "\n",
            "[Succeeded / Failed / Skipped / Total] 11 / 1 / 5 / 17:  18%|█▊        | 18/100 [33:42<2:33:34, 112.37s/it]\u001b[A\u001b[A\n",
            "\n",
            "[Succeeded / Failed / Skipped / Total] 12 / 1 / 5 / 18:  18%|█▊        | 18/100 [33:42<2:33:34, 112.37s/it]\u001b[A\u001b[A"
          ]
        },
        {
          "metadata": {
            "tags": null
          },
          "name": "stdout",
          "output_type": "stream",
          "text": [
            "--------------------------------------------- Result 18 ---------------------------------------------\n",
            "[[0 (74%)]] --> [[1 (65%)]]\n",
            "\n",
            "RT @username i need to find someone who can handle my [[fucked]] up mind.\n",
            "\n",
            "RT @username i need to find someone who can handle my [[kissed]] up mind.\n",
            "\n",
            "\n"
          ]
        },
        {
          "metadata": {
            "tags": null
          },
          "name": "stderr",
          "output_type": "stream",
          "text": [
            "\n",
            "\n",
            "[Succeeded / Failed / Skipped / Total] 12 / 1 / 5 / 18:  19%|█▉        | 19/100 [35:52<2:32:55, 113.28s/it]\u001b[A\u001b[A\n",
            "\n",
            "[Succeeded / Failed / Skipped / Total] 13 / 1 / 5 / 19:  19%|█▉        | 19/100 [35:52<2:32:55, 113.28s/it]\u001b[A\u001b[A"
          ]
        },
        {
          "metadata": {
            "tags": null
          },
          "name": "stdout",
          "output_type": "stream",
          "text": [
            "--------------------------------------------- Result 19 ---------------------------------------------\n",
            "[[0 (71%)]] --> [[1 (62%)]]\n",
            "\n",
            "RT @username [[Bad]] bitches don't take [[days]] off \n",
            "\n",
            "RT @username [[Defective]] bitches don't take [[jour]] off \n",
            "\n",
            "\n"
          ]
        },
        {
          "metadata": {
            "tags": null
          },
          "name": "stderr",
          "output_type": "stream",
          "text": [
            "\n",
            "\n",
            "[Succeeded / Failed / Skipped / Total] 13 / 1 / 5 / 19:  20%|██        | 20/100 [37:55<2:31:43, 113.80s/it]\u001b[A\u001b[A\n",
            "\n",
            "[Succeeded / Failed / Skipped / Total] 14 / 1 / 5 / 20:  20%|██        | 20/100 [37:55<2:31:43, 113.80s/it]\u001b[A\u001b[A"
          ]
        },
        {
          "metadata": {
            "tags": null
          },
          "name": "stdout",
          "output_type": "stream",
          "text": [
            "--------------------------------------------- Result 20 ---------------------------------------------\n",
            "[[0 (93%)]] --> [[1 (64%)]]\n",
            "\n",
            "RT @username can u maybe [[fucking]] not [[do]] that or something\n",
            "\n",
            "RT @username can u maybe [[humped]] not [[been]] that or something\n",
            "\n",
            "\n"
          ]
        },
        {
          "metadata": {
            "tags": null
          },
          "name": "stderr",
          "output_type": "stream",
          "text": [
            "\n",
            "\n",
            "[Succeeded / Failed / Skipped / Total] 14 / 1 / 5 / 20:  21%|██        | 21/100 [39:30<2:28:36, 112.86s/it]\u001b[A\u001b[A\n",
            "\n",
            "[Succeeded / Failed / Skipped / Total] 15 / 1 / 5 / 21:  21%|██        | 21/100 [39:30<2:28:36, 112.86s/it]\u001b[A\u001b[A"
          ]
        },
        {
          "metadata": {
            "tags": null
          },
          "name": "stdout",
          "output_type": "stream",
          "text": [
            "--------------------------------------------- Result 21 ---------------------------------------------\n",
            "[[1 (67%)]] --> [[2 (84%)]]\n",
            "\n",
            "@username @username @username I would [[probably]] purchased that game first for the Wii-U Then later for Nin Switch \n",
            "\n",
            "@username @username @username I would [[definitely]] purchased that game first for the Wii-U Then later for Nin Switch \n",
            "\n",
            "\n"
          ]
        },
        {
          "metadata": {
            "tags": null
          },
          "name": "stderr",
          "output_type": "stream",
          "text": [
            "\n",
            "\n",
            "[Succeeded / Failed / Skipped / Total] 15 / 1 / 5 / 21:  22%|██▏       | 22/100 [41:20<2:26:35, 112.76s/it]\u001b[A\u001b[A\n",
            "\n",
            "[Succeeded / Failed / Skipped / Total] 16 / 1 / 5 / 22:  22%|██▏       | 22/100 [41:20<2:26:35, 112.76s/it]\u001b[A\u001b[A"
          ]
        },
        {
          "metadata": {
            "tags": null
          },
          "name": "stdout",
          "output_type": "stream",
          "text": [
            "--------------------------------------------- Result 22 ---------------------------------------------\n",
            "[[1 (92%)]] --> [[2 (54%)]]\n",
            "\n",
            "Rabah Al-Hussaini set to debut for @username [[vs]] Star tonight. He already [[practiced]] 3x w/ d team since traded by @username @username\n",
            "\n",
            "Rabah Al-Hussaini set to debut for @username [[volt]] Star tonight. He already [[achieved]] 3x w/ d team since traded by @username @username\n",
            "\n",
            "\n"
          ]
        },
        {
          "metadata": {
            "tags": null
          },
          "name": "stderr",
          "output_type": "stream",
          "text": [
            "\n",
            "\n",
            "[Succeeded / Failed / Skipped / Total] 16 / 1 / 5 / 22:  23%|██▎       | 23/100 [44:44<2:29:48, 116.74s/it]\u001b[A\u001b[A\n",
            "\n",
            "[Succeeded / Failed / Skipped / Total] 17 / 1 / 5 / 23:  23%|██▎       | 23/100 [44:44<2:29:48, 116.74s/it]\u001b[A\u001b[A"
          ]
        },
        {
          "metadata": {
            "tags": null
          },
          "name": "stdout",
          "output_type": "stream",
          "text": [
            "--------------------------------------------- Result 23 ---------------------------------------------\n",
            "[[0 (88%)]] --> [[1 (54%)]]\n",
            "\n",
            "RT @username Idiot [[shoots]] idiot at [[idiot]] [[headquarters]]. @[[username]] \n",
            "\n",
            "RT @username Idiot [[sprouts]] idiot at [[nerds]] [[ca]]. @[[connect]] \n",
            "\n",
            "\n"
          ]
        },
        {
          "metadata": {
            "tags": null
          },
          "name": "stderr",
          "output_type": "stream",
          "text": [
            "\n",
            "\n",
            "[Succeeded / Failed / Skipped / Total] 17 / 1 / 5 / 23:  24%|██▍       | 24/100 [44:46<2:21:48, 111.96s/it]\u001b[A\u001b[A\n",
            "\n",
            "[Succeeded / Failed / Skipped / Total] 17 / 1 / 6 / 24:  24%|██▍       | 24/100 [44:46<2:21:48, 111.96s/it]\u001b[A\u001b[A"
          ]
        },
        {
          "metadata": {
            "tags": null
          },
          "name": "stdout",
          "output_type": "stream",
          "text": [
            "--------------------------------------------- Result 24 ---------------------------------------------\n",
            "[[2 (79%)]] --> [[[SKIPPED]]]\n",
            "\n",
            "\"Baser Amer is a big reason why Meralco is 4-0.\" @username talks about @username solid start in the PBA Commis… \n",
            "\n",
            "\n"
          ]
        },
        {
          "metadata": {
            "tags": null
          },
          "name": "stderr",
          "output_type": "stream",
          "text": [
            "\n",
            "\n",
            "[Succeeded / Failed / Skipped / Total] 17 / 1 / 6 / 24:  25%|██▌       | 25/100 [48:44<2:26:12, 116.97s/it]\u001b[A\u001b[A\n",
            "\n",
            "[Succeeded / Failed / Skipped / Total] 17 / 2 / 6 / 25:  25%|██▌       | 25/100 [48:44<2:26:12, 116.97s/it]\u001b[A\u001b[A"
          ]
        },
        {
          "metadata": {
            "tags": null
          },
          "name": "stdout",
          "output_type": "stream",
          "text": [
            "--------------------------------------------- Result 25 ---------------------------------------------\n",
            "[[1 (95%)]] --> [[[FAILED]]]\n",
            "\n",
            "#NowOn BADAMALA on @username by Brothers Videos Official -  Tuesday, April 4th, 2017 - 08:39:20 PM\n",
            "\n",
            "\n"
          ]
        },
        {
          "metadata": {
            "tags": null
          },
          "name": "stderr",
          "output_type": "stream",
          "text": [
            "\n",
            "\n",
            "[Succeeded / Failed / Skipped / Total] 17 / 2 / 6 / 25:  26%|██▌       | 26/100 [48:46<2:18:48, 112.55s/it]\u001b[A\u001b[A\n",
            "\n",
            "[Succeeded / Failed / Skipped / Total] 17 / 2 / 7 / 26:  26%|██▌       | 26/100 [48:46<2:18:48, 112.55s/it]\u001b[A\u001b[A"
          ]
        },
        {
          "metadata": {
            "tags": null
          },
          "name": "stdout",
          "output_type": "stream",
          "text": [
            "--------------------------------------------- Result 26 ---------------------------------------------\n",
            "[[0 (89%)]] --> [[[SKIPPED]]]\n",
            "\n",
            "@username @username @username Leaky isn’t an archaeologist. your level of knowledge is woeful\n",
            "\n",
            "\n"
          ]
        },
        {
          "metadata": {
            "tags": null
          },
          "name": "stderr",
          "output_type": "stream",
          "text": [
            "\n",
            "\n",
            "[Succeeded / Failed / Skipped / Total] 17 / 2 / 7 / 26:  27%|██▋       | 27/100 [50:47<2:17:19, 112.87s/it]\u001b[A\u001b[A\n",
            "\n",
            "[Succeeded / Failed / Skipped / Total] 18 / 2 / 7 / 27:  27%|██▋       | 27/100 [50:47<2:17:19, 112.87s/it]\u001b[A\u001b[A"
          ]
        },
        {
          "metadata": {
            "tags": null
          },
          "name": "stdout",
          "output_type": "stream",
          "text": [
            "--------------------------------------------- Result 27 ---------------------------------------------\n",
            "[[0 (71%)]] --> [[1 (55%)]]\n",
            "\n",
            "[[Islamic]] State says U.S. 'being [[run]] by an idiot'  by #elcitizen via @[[username]] \n",
            "\n",
            "[[Fundamentalism]] State says U.S. 'being [[enforcement]] by an idiot'  by #elcitizen via @[[subscribers]] \n",
            "\n",
            "\n"
          ]
        },
        {
          "metadata": {
            "tags": null
          },
          "name": "stderr",
          "output_type": "stream",
          "text": [
            "\n",
            "\n",
            "[Succeeded / Failed / Skipped / Total] 18 / 2 / 7 / 27:  28%|██▊       | 28/100 [50:49<2:10:41, 108.91s/it]\u001b[A\u001b[A\n",
            "\n",
            "[Succeeded / Failed / Skipped / Total] 18 / 2 / 8 / 28:  28%|██▊       | 28/100 [50:49<2:10:41, 108.91s/it]\u001b[A\u001b[A"
          ]
        },
        {
          "metadata": {
            "tags": null
          },
          "name": "stdout",
          "output_type": "stream",
          "text": [
            "--------------------------------------------- Result 28 ---------------------------------------------\n",
            "[[0 (54%)]] --> [[[SKIPPED]]]\n",
            "\n",
            "@username Bannon would be forced to stay cause he knows too much and would flip. #Blackmail #Russiagate\n",
            "\n",
            "\n"
          ]
        },
        {
          "metadata": {
            "tags": null
          },
          "name": "stderr",
          "output_type": "stream",
          "text": [
            "\n",
            "\n",
            "[Succeeded / Failed / Skipped / Total] 18 / 2 / 8 / 28:  29%|██▉       | 29/100 [50:51<2:04:30, 105.22s/it]\u001b[A\u001b[A\n",
            "\n",
            "[Succeeded / Failed / Skipped / Total] 18 / 2 / 9 / 29:  29%|██▉       | 29/100 [50:51<2:04:30, 105.22s/it]\u001b[A\u001b[A"
          ]
        },
        {
          "metadata": {
            "tags": null
          },
          "name": "stdout",
          "output_type": "stream",
          "text": [
            "--------------------------------------------- Result 29 ---------------------------------------------\n",
            "[[1 (52%)]] --> [[[SKIPPED]]]\n",
            "\n",
            "RT @username When you fucking her like a pornstar and she start shaking having convulsions like she's possessed \n",
            "\n",
            "\n"
          ]
        },
        {
          "metadata": {
            "tags": null
          },
          "name": "stderr",
          "output_type": "stream",
          "text": [
            "\n",
            "\n",
            "[Succeeded / Failed / Skipped / Total] 18 / 2 / 9 / 29:  30%|███       | 30/100 [53:13<2:04:12, 106.46s/it]\u001b[A\u001b[A\n",
            "\n",
            "[Succeeded / Failed / Skipped / Total] 19 / 2 / 9 / 30:  30%|███       | 30/100 [53:13<2:04:12, 106.46s/it]\u001b[A\u001b[A"
          ]
        },
        {
          "metadata": {
            "tags": null
          },
          "name": "stdout",
          "output_type": "stream",
          "text": [
            "--------------------------------------------- Result 30 ---------------------------------------------\n",
            "[[0 (89%)]] --> [[2 (82%)]]\n",
            "\n",
            "RT @username i've been so [[fucking]] [[sleepy]] all day man\n",
            "\n",
            "RT @username i've been so [[kissed]] [[woozy]] all day man\n",
            "\n",
            "\n"
          ]
        },
        {
          "metadata": {
            "tags": null
          },
          "name": "stderr",
          "output_type": "stream",
          "text": [
            "\n",
            "\n",
            "[Succeeded / Failed / Skipped / Total] 19 / 2 / 9 / 30:  31%|███       | 31/100 [53:15<1:58:33, 103.09s/it]\u001b[A\u001b[A\n",
            "\n",
            "[Succeeded / Failed / Skipped / Total] 19 / 2 / 10 / 31:  31%|███       | 31/100 [53:15<1:58:33, 103.09s/it]\u001b[A\u001b[A"
          ]
        },
        {
          "metadata": {
            "tags": null
          },
          "name": "stdout",
          "output_type": "stream",
          "text": [
            "--------------------------------------------- Result 31 ---------------------------------------------\n",
            "[[1 (64%)]] --> [[[SKIPPED]]]\n",
            "\n",
            "Drew Buckz X @username X @username - Fucking That Work Up Out Now !!!!!!   \n",
            "\n",
            "\n"
          ]
        },
        {
          "metadata": {
            "tags": null
          },
          "name": "stderr",
          "output_type": "stream",
          "text": [
            "\n",
            "\n",
            "[Succeeded / Failed / Skipped / Total] 19 / 2 / 10 / 31:  32%|███▏      | 32/100 [55:05<1:57:04, 103.31s/it]\u001b[A\u001b[A\n",
            "\n",
            "[Succeeded / Failed / Skipped / Total] 20 / 2 / 10 / 32:  32%|███▏      | 32/100 [55:05<1:57:05, 103.31s/it]\u001b[A\u001b[A"
          ]
        },
        {
          "metadata": {
            "tags": null
          },
          "name": "stdout",
          "output_type": "stream",
          "text": [
            "--------------------------------------------- Result 32 ---------------------------------------------\n",
            "[[0 (92%)]] --> [[1 (51%)]]\n",
            "\n",
            "CSUS the immigrant rapist scrub saga... [[FUCKING]] SCRUB! CA GOV Jamie Barnes TLC - No Scrubs  via @username\n",
            "\n",
            "CSUS the immigrant rapist scrub saga... [[KISS]] SCRUB! CA GOV Jamie Barnes TLC - No Scrubs  via @username\n",
            "\n",
            "\n"
          ]
        },
        {
          "metadata": {
            "tags": null
          },
          "name": "stderr",
          "output_type": "stream",
          "text": [
            "\n",
            "\n",
            "[Succeeded / Failed / Skipped / Total] 20 / 2 / 10 / 32:  33%|███▎      | 33/100 [56:48<1:55:19, 103.28s/it]\u001b[A\u001b[A\n",
            "\n",
            "[Succeeded / Failed / Skipped / Total] 21 / 2 / 10 / 33:  33%|███▎      | 33/100 [56:48<1:55:19, 103.28s/it]\u001b[A\u001b[A"
          ]
        },
        {
          "metadata": {
            "tags": null
          },
          "name": "stdout",
          "output_type": "stream",
          "text": [
            "--------------------------------------------- Result 33 ---------------------------------------------\n",
            "[[0 (94%)]] --> [[2 (86%)]]\n",
            "\n",
            "@username That shit looks so [[weak]]!!!!! Just throw on a Miles Davis record\n",
            "\n",
            "@username That shit looks so [[humble]]!!!!! Just throw on a Miles Davis record\n",
            "\n",
            "\n"
          ]
        },
        {
          "metadata": {
            "tags": null
          },
          "name": "stderr",
          "output_type": "stream",
          "text": [
            "\n",
            "\n",
            "[Succeeded / Failed / Skipped / Total] 21 / 2 / 10 / 33:  34%|███▍      | 34/100 [59:15<1:55:01, 104.58s/it]\u001b[A\u001b[A\n",
            "\n",
            "[Succeeded / Failed / Skipped / Total] 22 / 2 / 10 / 34:  34%|███▍      | 34/100 [59:15<1:55:02, 104.58s/it]\u001b[A\u001b[A"
          ]
        },
        {
          "metadata": {
            "tags": null
          },
          "name": "stdout",
          "output_type": "stream",
          "text": [
            "--------------------------------------------- Result 34 ---------------------------------------------\n",
            "[[1 (89%)]] --> [[2 (58%)]]\n",
            "\n",
            "This week on the podcast @username [[joins]] us to discuss [[student]] [[loans]] and financial aid. Subscribe here!… \n",
            "\n",
            "This week on the podcast @username [[endorses]] us to discuss [[kids]] [[poised]] and financial aid. Subscribe here!… \n",
            "\n",
            "\n"
          ]
        },
        {
          "metadata": {
            "tags": null
          },
          "name": "stderr",
          "output_type": "stream",
          "text": [
            "\n",
            "\n",
            "[Succeeded / Failed / Skipped / Total] 22 / 2 / 10 / 34:  35%|███▌      | 35/100 [59:17<1:50:06, 101.65s/it]\u001b[A\u001b[A\n",
            "\n",
            "[Succeeded / Failed / Skipped / Total] 22 / 2 / 11 / 35:  35%|███▌      | 35/100 [59:17<1:50:06, 101.65s/it]\u001b[A\u001b[A"
          ]
        },
        {
          "metadata": {
            "tags": null
          },
          "name": "stdout",
          "output_type": "stream",
          "text": [
            "--------------------------------------------- Result 35 ---------------------------------------------\n",
            "[[2 (97%)]] --> [[[SKIPPED]]]\n",
            "\n",
            "@username Just woke up and gonna curl up on the sofa and watch Moana again  hope you guys had a good night! \n",
            "\n",
            "\n"
          ]
        },
        {
          "metadata": {
            "tags": null
          },
          "name": "stderr",
          "output_type": "stream",
          "text": [
            "\n",
            "\n",
            "[Succeeded / Failed / Skipped / Total] 22 / 2 / 11 / 35:  36%|███▌      | 36/100 [59:19<1:45:28, 98.88s/it] \u001b[A\u001b[A\n",
            "\n",
            "[Succeeded / Failed / Skipped / Total] 22 / 2 / 12 / 36:  36%|███▌      | 36/100 [59:19<1:45:28, 98.88s/it]\u001b[A\u001b[A"
          ]
        },
        {
          "metadata": {
            "tags": null
          },
          "name": "stdout",
          "output_type": "stream",
          "text": [
            "--------------------------------------------- Result 36 ---------------------------------------------\n",
            "[[2 (80%)]] --> [[[SKIPPED]]]\n",
            "\n",
            "@username @username @username @username @username You're welcome Annie and Nessa. (Goes to her fa… \n",
            "\n",
            "\n"
          ]
        },
        {
          "metadata": {
            "tags": null
          },
          "name": "stderr",
          "output_type": "stream",
          "text": [
            "\n",
            "\n",
            "[Succeeded / Failed / Skipped / Total] 22 / 2 / 12 / 36:  37%|███▋      | 37/100 [1:00:52<1:43:38, 98.71s/it]\u001b[A\u001b[A\n",
            "\n",
            "[Succeeded / Failed / Skipped / Total] 23 / 2 / 12 / 37:  37%|███▋      | 37/100 [1:00:52<1:43:38, 98.71s/it]\u001b[A\u001b[A"
          ]
        },
        {
          "metadata": {
            "tags": null
          },
          "name": "stdout",
          "output_type": "stream",
          "text": [
            "--------------------------------------------- Result 37 ---------------------------------------------\n",
            "[[0 (45%)]] --> [[2 (67%)]]\n",
            "\n",
            "@username I love you immensely but D A M N you need to give a girl a [[warning]]. I damn near had a heart [[attack]] \n",
            "\n",
            "@username I love you immensely but D A M N you need to give a girl a [[warnings]]. I damn near had a heart [[bombarded]] \n",
            "\n",
            "\n"
          ]
        },
        {
          "metadata": {
            "tags": null
          },
          "name": "stderr",
          "output_type": "stream",
          "text": [
            "\n",
            "\n",
            "[Succeeded / Failed / Skipped / Total] 23 / 2 / 12 / 37:  38%|███▊      | 38/100 [1:01:58<1:41:06, 97.85s/it]\u001b[A\u001b[A\n",
            "\n",
            "[Succeeded / Failed / Skipped / Total] 24 / 2 / 12 / 38:  38%|███▊      | 38/100 [1:01:58<1:41:06, 97.85s/it]\u001b[A\u001b[A"
          ]
        },
        {
          "metadata": {
            "tags": null
          },
          "name": "stdout",
          "output_type": "stream",
          "text": [
            "--------------------------------------------- Result 38 ---------------------------------------------\n",
            "[[1 (53%)]] --> [[2 (75%)]]\n",
            "\n",
            "regrann from @username - Confident at very competitive ang ating mga [[celebrity]] guests na… \n",
            "\n",
            "regrann from @username - Confident at very competitive ang ating mga [[celebrated]] guests na… \n",
            "\n",
            "\n"
          ]
        },
        {
          "metadata": {
            "tags": null
          },
          "name": "stderr",
          "output_type": "stream",
          "text": [
            "\n",
            "\n",
            "[Succeeded / Failed / Skipped / Total] 24 / 2 / 12 / 38:  39%|███▉      | 39/100 [1:05:46<1:42:53, 101.20s/it]\u001b[A\u001b[A\n",
            "\n",
            "[Succeeded / Failed / Skipped / Total] 25 / 2 / 12 / 39:  39%|███▉      | 39/100 [1:05:46<1:42:53, 101.20s/it]\u001b[A\u001b[A"
          ]
        },
        {
          "metadata": {
            "tags": null
          },
          "name": "stdout",
          "output_type": "stream",
          "text": [
            "--------------------------------------------- Result 39 ---------------------------------------------\n",
            "[[0 (86%)]] --> [[1 (60%)]]\n",
            "\n",
            "RT @username You can't [[make]] me look [[stupid]] cause I'm already [[retarded]]\n",
            "\n",
            "RT @username You can't [[introduces]] me look [[ludicrous]] cause I'm already [[retrograde]]\n",
            "\n",
            "\n"
          ]
        },
        {
          "metadata": {
            "tags": null
          },
          "name": "stderr",
          "output_type": "stream",
          "text": [
            "\n",
            "\n",
            "[Succeeded / Failed / Skipped / Total] 25 / 2 / 12 / 39:  40%|████      | 40/100 [1:05:48<1:38:43, 98.72s/it] \u001b[A\u001b[A\n",
            "\n",
            "[Succeeded / Failed / Skipped / Total] 25 / 2 / 13 / 40:  40%|████      | 40/100 [1:05:48<1:38:43, 98.72s/it]\u001b[A\u001b[A"
          ]
        },
        {
          "metadata": {
            "tags": null
          },
          "name": "stdout",
          "output_type": "stream",
          "text": [
            "--------------------------------------------- Result 40 ---------------------------------------------\n",
            "[[0 (77%)]] --> [[[SKIPPED]]]\n",
            "\n",
            "@username Mr farooq Abdullah when you r in power you said on record if we have no space in jails do encounter of kashmires SHAME ON YOU\n",
            "\n",
            "\n"
          ]
        },
        {
          "metadata": {
            "tags": null
          },
          "name": "stderr",
          "output_type": "stream",
          "text": [
            "\n",
            "\n",
            "[Succeeded / Failed / Skipped / Total] 25 / 2 / 13 / 40:  41%|████      | 41/100 [1:05:50<1:34:45, 96.36s/it]\u001b[A\u001b[A\n",
            "\n",
            "[Succeeded / Failed / Skipped / Total] 25 / 2 / 14 / 41:  41%|████      | 41/100 [1:05:50<1:34:45, 96.36s/it]\u001b[A\u001b[A"
          ]
        },
        {
          "metadata": {
            "tags": null
          },
          "name": "stdout",
          "output_type": "stream",
          "text": [
            "--------------------------------------------- Result 41 ---------------------------------------------\n",
            "[[2 (92%)]] --> [[[SKIPPED]]]\n",
            "\n",
            "RT @username he is so fucking hot/cute \n",
            "\n",
            "\n"
          ]
        },
        {
          "metadata": {
            "tags": null
          },
          "name": "stderr",
          "output_type": "stream",
          "text": [
            "\n",
            "\n",
            "[Succeeded / Failed / Skipped / Total] 25 / 2 / 14 / 41:  42%|████▏     | 42/100 [1:05:52<1:30:58, 94.11s/it]\u001b[A\u001b[A\n",
            "\n",
            "[Succeeded / Failed / Skipped / Total] 25 / 2 / 15 / 42:  42%|████▏     | 42/100 [1:05:52<1:30:58, 94.11s/it]\u001b[A\u001b[A"
          ]
        },
        {
          "metadata": {
            "tags": null
          },
          "name": "stdout",
          "output_type": "stream",
          "text": [
            "--------------------------------------------- Result 42 ---------------------------------------------\n",
            "[[0 (85%)]] --> [[[SKIPPED]]]\n",
            "\n",
            "@username Oomf darkened his nonexistent 'facial hair' just to make it look that he got a beard. Sad!\n",
            "\n",
            "\n"
          ]
        },
        {
          "metadata": {
            "tags": null
          },
          "name": "stderr",
          "output_type": "stream",
          "text": [
            "\n",
            "\n",
            "[Succeeded / Failed / Skipped / Total] 25 / 2 / 15 / 42:  43%|████▎     | 43/100 [1:07:38<1:29:39, 94.37s/it]\u001b[A\u001b[A\n",
            "\n",
            "[Succeeded / Failed / Skipped / Total] 26 / 2 / 15 / 43:  43%|████▎     | 43/100 [1:07:38<1:29:39, 94.37s/it]\u001b[A\u001b[A"
          ]
        },
        {
          "metadata": {
            "tags": null
          },
          "name": "stdout",
          "output_type": "stream",
          "text": [
            "--------------------------------------------- Result 43 ---------------------------------------------\n",
            "[[0 (50%)]] --> [[1 (49%)]]\n",
            "\n",
            "RT @username  [[Brutally]] punch fisting Annas prolapsing ass till she squirts! #fisting #anal #prolapse…\n",
            "\n",
            "RT @username  [[Playfully]] punch fisting Annas prolapsing ass till she squirts! #fisting #anal #prolapse…\n",
            "\n",
            "\n"
          ]
        },
        {
          "metadata": {
            "tags": null
          },
          "name": "stderr",
          "output_type": "stream",
          "text": [
            "\n",
            "\n",
            "[Succeeded / Failed / Skipped / Total] 26 / 2 / 15 / 43:  44%|████▍     | 44/100 [1:09:17<1:28:10, 94.48s/it]\u001b[A\u001b[A\n",
            "\n",
            "[Succeeded / Failed / Skipped / Total] 27 / 2 / 15 / 44:  44%|████▍     | 44/100 [1:09:17<1:28:10, 94.48s/it]\u001b[A\u001b[A"
          ]
        },
        {
          "metadata": {
            "tags": null
          },
          "name": "stdout",
          "output_type": "stream",
          "text": [
            "--------------------------------------------- Result 44 ---------------------------------------------\n",
            "[[0 (91%)]] --> [[1 (60%)]]\n",
            "\n",
            "RT @username waiting for this school year to be [[fucking]] over.\n",
            "\n",
            "RT @username waiting for this school year to be [[merde]] over.\n",
            "\n",
            "\n"
          ]
        },
        {
          "metadata": {
            "tags": null
          },
          "name": "stderr",
          "output_type": "stream",
          "text": [
            "\n",
            "\n",
            "[Succeeded / Failed / Skipped / Total] 27 / 2 / 15 / 44:  45%|████▌     | 45/100 [1:09:19<1:24:43, 92.43s/it]\u001b[A\u001b[A\n",
            "\n",
            "[Succeeded / Failed / Skipped / Total] 27 / 2 / 16 / 45:  45%|████▌     | 45/100 [1:09:19<1:24:43, 92.43s/it]\u001b[A\u001b[A"
          ]
        },
        {
          "metadata": {
            "tags": null
          },
          "name": "stdout",
          "output_type": "stream",
          "text": [
            "--------------------------------------------- Result 45 ---------------------------------------------\n",
            "[[0 (78%)]] --> [[[SKIPPED]]]\n",
            "\n",
            "@username It is like a corpse dumped in a forest that becomes an incubator for so much new life, mostly maggots\n",
            "\n",
            "\n"
          ]
        },
        {
          "metadata": {
            "tags": null
          },
          "name": "stderr",
          "output_type": "stream",
          "text": [
            "\n",
            "\n",
            "[Succeeded / Failed / Skipped / Total] 27 / 2 / 16 / 45:  46%|████▌     | 46/100 [1:11:15<1:23:39, 92.95s/it]\u001b[A\u001b[A\n",
            "\n",
            "[Succeeded / Failed / Skipped / Total] 28 / 2 / 16 / 46:  46%|████▌     | 46/100 [1:11:15<1:23:39, 92.95s/it]\u001b[A\u001b[A"
          ]
        },
        {
          "metadata": {
            "tags": null
          },
          "name": "stdout",
          "output_type": "stream",
          "text": [
            "--------------------------------------------- Result 46 ---------------------------------------------\n",
            "[[0 (65%)]] --> [[1 (47%)]]\n",
            "\n",
            "@username Nigerians just can't pull off something without any form of partiality or [[foul]] play...BBNAIJA we dey watch [[una]]\n",
            "\n",
            "@username Nigerians just can't pull off something without any form of partiality or [[nefarious]] play...BBNAIJA we dey watch [[este]]\n",
            "\n",
            "\n"
          ]
        },
        {
          "metadata": {
            "tags": null
          },
          "name": "stderr",
          "output_type": "stream",
          "text": [
            "\n",
            "\n",
            "[Succeeded / Failed / Skipped / Total] 28 / 2 / 16 / 46:  47%|████▋     | 47/100 [1:12:37<1:21:53, 92.71s/it]\u001b[A\u001b[A\n",
            "\n",
            "[Succeeded / Failed / Skipped / Total] 29 / 2 / 16 / 47:  47%|████▋     | 47/100 [1:12:37<1:21:53, 92.71s/it]\u001b[A\u001b[A"
          ]
        },
        {
          "metadata": {
            "tags": null
          },
          "name": "stdout",
          "output_type": "stream",
          "text": [
            "--------------------------------------------- Result 47 ---------------------------------------------\n",
            "[[0 (92%)]] --> [[1 (86%)]]\n",
            "\n",
            "@username @username like, [[screw]] world design, how about some [[fucking]] UI design\n",
            "\n",
            "@username @username like, [[bolt]] world design, how about some [[merde]] UI design\n",
            "\n",
            "\n"
          ]
        },
        {
          "metadata": {
            "tags": null
          },
          "name": "stderr",
          "output_type": "stream",
          "text": [
            "\n",
            "\n",
            "[Succeeded / Failed / Skipped / Total] 29 / 2 / 16 / 47:  48%|████▊     | 48/100 [1:14:00<1:20:10, 92.51s/it]\u001b[A\u001b[A\n",
            "\n",
            "[Succeeded / Failed / Skipped / Total] 30 / 2 / 16 / 48:  48%|████▊     | 48/100 [1:14:00<1:20:10, 92.51s/it]\u001b[A\u001b[A"
          ]
        },
        {
          "metadata": {
            "tags": null
          },
          "name": "stdout",
          "output_type": "stream",
          "text": [
            "--------------------------------------------- Result 48 ---------------------------------------------\n",
            "[[0 (75%)]] --> [[2 (38%)]]\n",
            "\n",
            "RT @username superlove was definitely a [[fucking]] bop, tinashe did not play and y'all let it flop \n",
            "\n",
            "RT @username superlove was definitely a [[freaking]] bop, tinashe did not play and y'all let it flop \n",
            "\n",
            "\n"
          ]
        },
        {
          "metadata": {
            "tags": null
          },
          "name": "stderr",
          "output_type": "stream",
          "text": [
            "\n",
            "\n",
            "[Succeeded / Failed / Skipped / Total] 30 / 2 / 16 / 48:  49%|████▉     | 49/100 [1:14:02<1:17:03, 90.66s/it]\u001b[A\u001b[A\n",
            "\n",
            "[Succeeded / Failed / Skipped / Total] 30 / 2 / 17 / 49:  49%|████▉     | 49/100 [1:14:02<1:17:03, 90.66s/it]\u001b[A\u001b[A"
          ]
        },
        {
          "metadata": {
            "tags": null
          },
          "name": "stdout",
          "output_type": "stream",
          "text": [
            "--------------------------------------------- Result 49 ---------------------------------------------\n",
            "[[2 (60%)]] --> [[[SKIPPED]]]\n",
            "\n",
            "@username @username WE GOTTA VOTE FASTER TO WIN CMON #OneDirection #YouKnowYouLoveThem #SteveAoki… \n",
            "\n",
            "\n"
          ]
        },
        {
          "metadata": {
            "tags": null
          },
          "name": "stderr",
          "output_type": "stream",
          "text": [
            "\n",
            "\n",
            "[Succeeded / Failed / Skipped / Total] 30 / 2 / 17 / 49:  50%|█████     | 50/100 [1:16:25<1:16:25, 91.70s/it]\u001b[A\u001b[A\n",
            "\n",
            "[Succeeded / Failed / Skipped / Total] 31 / 2 / 17 / 50:  50%|█████     | 50/100 [1:16:25<1:16:25, 91.70s/it]\u001b[A\u001b[A"
          ]
        },
        {
          "metadata": {
            "tags": null
          },
          "name": "stdout",
          "output_type": "stream",
          "text": [
            "--------------------------------------------- Result 50 ---------------------------------------------\n",
            "[[0 (94%)]] --> [[1 (89%)]]\n",
            "\n",
            "RT @username Look at this [[fucking]] [[asshole]]:  \n",
            "\n",
            "RT @username Look at this [[merde]] [[gomer]]:  \n",
            "\n",
            "\n"
          ]
        },
        {
          "metadata": {
            "tags": null
          },
          "name": "stderr",
          "output_type": "stream",
          "text": [
            "\n",
            "\n",
            "[Succeeded / Failed / Skipped / Total] 31 / 2 / 17 / 50:  51%|█████     | 51/100 [1:19:18<1:16:11, 93.30s/it]\u001b[A\u001b[A\n",
            "\n",
            "[Succeeded / Failed / Skipped / Total] 32 / 2 / 17 / 51:  51%|█████     | 51/100 [1:19:18<1:16:11, 93.30s/it]\u001b[A\u001b[A"
          ]
        },
        {
          "metadata": {
            "tags": null
          },
          "name": "stdout",
          "output_type": "stream",
          "text": [
            "--------------------------------------------- Result 51 ---------------------------------------------\n",
            "[[0 (95%)]] --> [[2 (46%)]]\n",
            "\n",
            "@username [[UR]] [[FAKE]]!! I [[DONT]] APPROVE OF THIS [[I]] AM [[SUING]] YOU SEE YOU IN COURT BITCH\n",
            "\n",
            "@username [[IZ]] [[FAUX]]!! I [[THATS]] APPROVE OF THIS [[me]] AM [[SUZAN]] YOU SEE YOU IN COURT BITCH\n",
            "\n",
            "\n"
          ]
        },
        {
          "metadata": {
            "tags": null
          },
          "name": "stderr",
          "output_type": "stream",
          "text": [
            "\n",
            "\n",
            "[Succeeded / Failed / Skipped / Total] 32 / 2 / 17 / 51:  52%|█████▏    | 52/100 [1:20:51<1:14:38, 93.30s/it]\u001b[A\u001b[A\n",
            "\n",
            "[Succeeded / Failed / Skipped / Total] 33 / 2 / 17 / 52:  52%|█████▏    | 52/100 [1:20:51<1:14:38, 93.30s/it]\u001b[A\u001b[A"
          ]
        },
        {
          "metadata": {
            "tags": null
          },
          "name": "stdout",
          "output_type": "stream",
          "text": [
            "--------------------------------------------- Result 52 ---------------------------------------------\n",
            "[[0 (86%)]] --> [[2 (73%)]]\n",
            "\n",
            "RT @username Im a [[nasty]] ass freak when I like you..\n",
            "\n",
            "RT @username Im a [[bad]] ass freak when I like you..\n",
            "\n",
            "\n"
          ]
        },
        {
          "metadata": {
            "tags": null
          },
          "name": "stderr",
          "output_type": "stream",
          "text": [
            "\n",
            "\n",
            "[Succeeded / Failed / Skipped / Total] 33 / 2 / 17 / 52:  53%|█████▎    | 53/100 [1:20:53<1:11:44, 91.58s/it]\u001b[A\u001b[A\n",
            "\n",
            "[Succeeded / Failed / Skipped / Total] 33 / 2 / 18 / 53:  53%|█████▎    | 53/100 [1:20:53<1:11:44, 91.58s/it]\u001b[A\u001b[A"
          ]
        },
        {
          "metadata": {
            "tags": null
          },
          "name": "stdout",
          "output_type": "stream",
          "text": [
            "--------------------------------------------- Result 53 ---------------------------------------------\n",
            "[[2 (88%)]] --> [[[SKIPPED]]]\n",
            "\n",
            "@username first quarter is over and i know the second one is ours already! keeping that passion burning shishi\n",
            "\n",
            "\n"
          ]
        },
        {
          "metadata": {
            "tags": null
          },
          "name": "stderr",
          "output_type": "stream",
          "text": [
            "\n",
            "\n",
            "[Succeeded / Failed / Skipped / Total] 33 / 2 / 18 / 53:  54%|█████▍    | 54/100 [1:23:49<1:11:24, 93.14s/it]\u001b[A\u001b[A\n",
            "\n",
            "[Succeeded / Failed / Skipped / Total] 34 / 2 / 18 / 54:  54%|█████▍    | 54/100 [1:23:49<1:11:24, 93.14s/it]\u001b[A\u001b[A"
          ]
        },
        {
          "metadata": {
            "tags": null
          },
          "name": "stdout",
          "output_type": "stream",
          "text": [
            "--------------------------------------------- Result 54 ---------------------------------------------\n",
            "[[0 (90%)]] --> [[1 (72%)]]\n",
            "\n",
            "@username [[Bloody]] hell [[stan]], I'd [[erased]] that from you memory.\n",
            "\n",
            "@username [[Gorram]] hell [[tarawa]], I'd [[cleared]] that from you memory.\n",
            "\n",
            "\n"
          ]
        },
        {
          "metadata": {
            "tags": null
          },
          "name": "stderr",
          "output_type": "stream",
          "text": [
            "\n",
            "\n",
            "[Succeeded / Failed / Skipped / Total] 34 / 2 / 18 / 54:  55%|█████▌    | 55/100 [1:30:48<1:14:18, 99.07s/it]\u001b[A\u001b[A\n",
            "\n",
            "[Succeeded / Failed / Skipped / Total] 35 / 2 / 18 / 55:  55%|█████▌    | 55/100 [1:30:48<1:14:18, 99.07s/it]\u001b[A\u001b[A"
          ]
        },
        {
          "metadata": {
            "tags": null
          },
          "name": "stdout",
          "output_type": "stream",
          "text": [
            "--------------------------------------------- Result 55 ---------------------------------------------\n",
            "[[1 (88%)]] --> [[2 (54%)]]\n",
            "\n",
            "[[Driving]] to Rio [[de]] [[Janeiro]], [[sharing]] real-time [[road]] [[info]] with wazers in my [[area]]. [[ETA]] 11:20 [[AM]] using @[[username]] - Drive [[Social]].\n",
            "\n",
            "[[Drive]] to Rio [[with]] [[April]], [[shared]] real-time [[superhighway]] [[endorsements]] with wazers in my [[sector]]. [[TAW]] 11:20 [[COULD]] using @[[user]] - Drive [[Sociable]].\n",
            "\n",
            "\n"
          ]
        },
        {
          "metadata": {
            "tags": null
          },
          "name": "stderr",
          "output_type": "stream",
          "text": [
            "\n",
            "\n",
            "[Succeeded / Failed / Skipped / Total] 35 / 2 / 18 / 55:  56%|█████▌    | 56/100 [1:34:32<1:14:16, 101.29s/it]\u001b[A\u001b[A\n",
            "\n",
            "[Succeeded / Failed / Skipped / Total] 36 / 2 / 18 / 56:  56%|█████▌    | 56/100 [1:34:32<1:14:16, 101.29s/it]\u001b[A\u001b[A"
          ]
        },
        {
          "metadata": {
            "tags": null
          },
          "name": "stdout",
          "output_type": "stream",
          "text": [
            "--------------------------------------------- Result 56 ---------------------------------------------\n",
            "[[0 (89%)]] --> [[1 (51%)]]\n",
            "\n",
            "RT @username dave cullen: eric harris was a [[psychopath]] eric: “I wish I was a [[fucking]] [[sociopath]] so I didn’t have any [[remorse]], bu…\n",
            "\n",
            "RT @username dave cullen: eric harris was a [[barge]] eric: “I wish I was a [[kissed]] [[psycho]] so I didn’t have any [[contrition]], bu…\n",
            "\n",
            "\n"
          ]
        },
        {
          "metadata": {
            "tags": null
          },
          "name": "stderr",
          "output_type": "stream",
          "text": [
            "\n",
            "\n",
            "[Succeeded / Failed / Skipped / Total] 36 / 2 / 18 / 56:  57%|█████▋    | 57/100 [1:34:34<1:11:20, 99.55s/it] \u001b[A\u001b[A\n",
            "\n",
            "[Succeeded / Failed / Skipped / Total] 36 / 2 / 19 / 57:  57%|█████▋    | 57/100 [1:34:34<1:11:20, 99.55s/it]\u001b[A\u001b[A"
          ]
        },
        {
          "metadata": {
            "tags": null
          },
          "name": "stdout",
          "output_type": "stream",
          "text": [
            "--------------------------------------------- Result 57 ---------------------------------------------\n",
            "[[0 (82%)]] --> [[[SKIPPED]]]\n",
            "\n",
            "@username wait til after playoffs when u find out everyone was playing injured and is now #broken\n",
            "\n",
            "\n"
          ]
        },
        {
          "metadata": {
            "tags": null
          },
          "name": "stderr",
          "output_type": "stream",
          "text": [
            "\n",
            "\n",
            "[Succeeded / Failed / Skipped / Total] 36 / 2 / 19 / 57:  58%|█████▊    | 58/100 [1:35:14<1:08:57, 98.52s/it]\u001b[A\u001b[A\n",
            "\n",
            "[Succeeded / Failed / Skipped / Total] 37 / 2 / 19 / 58:  58%|█████▊    | 58/100 [1:35:14<1:08:57, 98.52s/it]\u001b[A\u001b[A"
          ]
        },
        {
          "metadata": {
            "tags": null
          },
          "name": "stdout",
          "output_type": "stream",
          "text": [
            "--------------------------------------------- Result 58 ---------------------------------------------\n",
            "[[1 (88%)]] --> [[0 (63%)]]\n",
            "\n",
            "@username \"Sharper Than Ya Average\" [[Ft]]. @username and @username »  … » \n",
            "\n",
            "@username \"Sharper Than Ya Average\" [[Ffs]]. @username and @username »  … » \n",
            "\n",
            "\n"
          ]
        },
        {
          "metadata": {
            "tags": null
          },
          "name": "stderr",
          "output_type": "stream",
          "text": [
            "\n",
            "\n",
            "[Succeeded / Failed / Skipped / Total] 37 / 2 / 19 / 58:  59%|█████▉    | 59/100 [1:38:53<1:08:43, 100.57s/it]\u001b[A\u001b[A\n",
            "\n",
            "[Succeeded / Failed / Skipped / Total] 38 / 2 / 19 / 59:  59%|█████▉    | 59/100 [1:38:53<1:08:43, 100.57s/it]\u001b[A\u001b[A"
          ]
        },
        {
          "metadata": {
            "tags": null
          },
          "name": "stdout",
          "output_type": "stream",
          "text": [
            "--------------------------------------------- Result 59 ---------------------------------------------\n",
            "[[0 (85%)]] --> [[1 (49%)]]\n",
            "\n",
            "RT @username i [[fucked]] that nigga bitch so he a [[madder]] [[guy]]\n",
            "\n",
            "RT @username i [[damned]] that nigga bitch so he a [[cuter]] [[guys]]\n",
            "\n",
            "\n"
          ]
        },
        {
          "metadata": {
            "tags": null
          },
          "name": "stderr",
          "output_type": "stream",
          "text": [
            "\n",
            "\n",
            "[Succeeded / Failed / Skipped / Total] 38 / 2 / 19 / 59:  60%|██████    | 60/100 [1:40:05<1:06:43, 100.09s/it]\u001b[A\u001b[A\n",
            "\n",
            "[Succeeded / Failed / Skipped / Total] 39 / 2 / 19 / 60:  60%|██████    | 60/100 [1:40:05<1:06:43, 100.09s/it]\u001b[A\u001b[A"
          ]
        },
        {
          "metadata": {
            "tags": null
          },
          "name": "stdout",
          "output_type": "stream",
          "text": [
            "--------------------------------------------- Result 60 ---------------------------------------------\n",
            "[[1 (51%)]] --> [[2 (57%)]]\n",
            "\n",
            "@username Have you enjoyed [[concerts]] in Poland? What do you think of Polish Tinistas? KOCHAMY CIĘ \n",
            "\n",
            "@username Have you enjoyed [[concert]] in Poland? What do you think of Polish Tinistas? KOCHAMY CIĘ \n",
            "\n",
            "\n"
          ]
        },
        {
          "metadata": {
            "tags": null
          },
          "name": "stderr",
          "output_type": "stream",
          "text": [
            "\n",
            "\n",
            "[Succeeded / Failed / Skipped / Total] 39 / 2 / 19 / 60:  61%|██████    | 61/100 [1:49:07<1:09:45, 107.33s/it]\u001b[A\u001b[A\n",
            "\n",
            "[Succeeded / Failed / Skipped / Total] 40 / 2 / 19 / 61:  61%|██████    | 61/100 [1:49:07<1:09:45, 107.33s/it]\u001b[A\u001b[A"
          ]
        },
        {
          "metadata": {
            "tags": null
          },
          "name": "stdout",
          "output_type": "stream",
          "text": [
            "--------------------------------------------- Result 61 ---------------------------------------------\n",
            "[[0 (95%)]] --> [[2 (37%)]]\n",
            "\n",
            "[[RT]] @username KIM, SWEETIE. [[IM]] SO [[SORRY]]. IM [[SO]] SORRY THAT AN UGLY [[ASS]] [[BITCH]] [[LIKE]] THIS WOULD [[EVEN]] [[SAY]] THAT, OH MY GOD \n",
            "\n",
            "[[TA]] @username KIM, SWEETIE. [[LIM]] SO [[WOEFUL]]. IM [[YET]] SORRY THAT AN UGLY [[CUL]] [[BIATCH]] [[LOVES]] THIS WOULD [[BOTH]] [[CITE]] THAT, OH MY GOD \n",
            "\n",
            "\n"
          ]
        },
        {
          "metadata": {
            "tags": null
          },
          "name": "stderr",
          "output_type": "stream",
          "text": [
            "\n",
            "\n",
            "[Succeeded / Failed / Skipped / Total] 40 / 2 / 19 / 61:  62%|██████▏   | 62/100 [1:52:45<1:09:06, 109.13s/it]\u001b[A\u001b[A\n",
            "\n",
            "[Succeeded / Failed / Skipped / Total] 41 / 2 / 19 / 62:  62%|██████▏   | 62/100 [1:52:45<1:09:06, 109.13s/it]\u001b[A\u001b[A"
          ]
        },
        {
          "metadata": {
            "tags": null
          },
          "name": "stdout",
          "output_type": "stream",
          "text": [
            "--------------------------------------------- Result 62 ---------------------------------------------\n",
            "[[1 (82%)]] --> [[0 (57%)]]\n",
            "\n",
            "@username [[This]] may sound dtrange but I [[think]] insane you tweet a while [[ago]] about a [[site]] that [[references]] for you. What was it? I'm\n",
            "\n",
            "@username [[That]] may sound dtrange but I [[thinks]] insane you tweet a while [[ahead]] about a [[websites]] that [[insinuations]] for you. What was it? I'm\n",
            "\n",
            "\n"
          ]
        },
        {
          "metadata": {
            "tags": null
          },
          "name": "stderr",
          "output_type": "stream",
          "text": [
            "\n",
            "\n",
            "[Succeeded / Failed / Skipped / Total] 41 / 2 / 19 / 62:  63%|██████▎   | 63/100 [1:52:47<1:06:14, 107.43s/it]\u001b[A\u001b[A\n",
            "\n",
            "[Succeeded / Failed / Skipped / Total] 41 / 2 / 20 / 63:  63%|██████▎   | 63/100 [1:52:47<1:06:14, 107.43s/it]\u001b[A\u001b[A"
          ]
        },
        {
          "metadata": {
            "tags": null
          },
          "name": "stdout",
          "output_type": "stream",
          "text": [
            "--------------------------------------------- Result 63 ---------------------------------------------\n",
            "[[2 (84%)]] --> [[[SKIPPED]]]\n",
            "\n",
            "@username Thx for enrolling in #AmexGift offer. Spend w/connected Card and receive credit. Terms: \n",
            "\n",
            "\n"
          ]
        },
        {
          "metadata": {
            "tags": null
          },
          "name": "stderr",
          "output_type": "stream",
          "text": [
            "\n",
            "\n",
            "[Succeeded / Failed / Skipped / Total] 41 / 2 / 20 / 63:  64%|██████▍   | 64/100 [1:54:13<1:04:15, 107.09s/it]\u001b[A\u001b[A\n",
            "\n",
            "[Succeeded / Failed / Skipped / Total] 42 / 2 / 20 / 64:  64%|██████▍   | 64/100 [1:54:13<1:04:15, 107.09s/it]\u001b[A\u001b[A"
          ]
        },
        {
          "metadata": {
            "tags": null
          },
          "name": "stdout",
          "output_type": "stream",
          "text": [
            "--------------------------------------------- Result 64 ---------------------------------------------\n",
            "[[0 (80%)]] --> [[1 (43%)]]\n",
            "\n",
            "RT @username If you scream \"oh god!\" while Richard Dawkins is [[fucking]] you, he immediately pulls out and lectures you for 3hrs\n",
            "\n",
            "RT @username If you scream \"oh god!\" while Richard Dawkins is [[kissed]] you, he immediately pulls out and lectures you for 3hrs\n",
            "\n",
            "\n"
          ]
        },
        {
          "metadata": {
            "tags": null
          },
          "name": "stderr",
          "output_type": "stream",
          "text": [
            "\n",
            "\n",
            "[Succeeded / Failed / Skipped / Total] 42 / 2 / 20 / 64:  65%|██████▌   | 65/100 [1:57:10<1:03:05, 108.16s/it]\u001b[A\u001b[A\n",
            "\n",
            "[Succeeded / Failed / Skipped / Total] 43 / 2 / 20 / 65:  65%|██████▌   | 65/100 [1:57:10<1:03:05, 108.16s/it]\u001b[A\u001b[A"
          ]
        },
        {
          "metadata": {
            "tags": null
          },
          "name": "stdout",
          "output_type": "stream",
          "text": [
            "--------------------------------------------- Result 65 ---------------------------------------------\n",
            "[[0 (78%)]] --> [[1 (51%)]]\n",
            "\n",
            "RT @username #IfMyLifeWasLikeProWrestling I'd hit every [[idiot]] who [[annoys]] me with a steel chair.\n",
            "\n",
            "RT @username #IfMyLifeWasLikeProWrestling I'd hit every [[nerds]] who [[fears]] me with a steel chair.\n",
            "\n",
            "\n"
          ]
        },
        {
          "metadata": {
            "tags": null
          },
          "name": "stderr",
          "output_type": "stream",
          "text": [
            "\n",
            "\n",
            "[Succeeded / Failed / Skipped / Total] 43 / 2 / 20 / 65:  66%|██████▌   | 66/100 [1:58:46<1:01:11, 107.98s/it]\u001b[A\u001b[A\n",
            "\n",
            "[Succeeded / Failed / Skipped / Total] 44 / 2 / 20 / 66:  66%|██████▌   | 66/100 [1:58:46<1:01:11, 107.98s/it]\u001b[A\u001b[A"
          ]
        },
        {
          "metadata": {
            "tags": null
          },
          "name": "stdout",
          "output_type": "stream",
          "text": [
            "--------------------------------------------- Result 66 ---------------------------------------------\n",
            "[[0 (78%)]] --> [[1 (52%)]]\n",
            "\n",
            "RT @username Getting my PAWG ass [[fucked]] on  \n",
            "\n",
            "RT @username Getting my PAWG ass [[freakin]] on  \n",
            "\n",
            "\n"
          ]
        },
        {
          "metadata": {
            "tags": null
          },
          "name": "stderr",
          "output_type": "stream",
          "text": [
            "\n",
            "\n",
            "[Succeeded / Failed / Skipped / Total] 44 / 2 / 20 / 66:  67%|██████▋   | 67/100 [2:00:35<59:23, 108.00s/it]  \u001b[A\u001b[A\n",
            "\n",
            "[Succeeded / Failed / Skipped / Total] 45 / 2 / 20 / 67:  67%|██████▋   | 67/100 [2:00:35<59:23, 108.00s/it]\u001b[A\u001b[A"
          ]
        },
        {
          "metadata": {
            "tags": null
          },
          "name": "stdout",
          "output_type": "stream",
          "text": [
            "--------------------------------------------- Result 67 ---------------------------------------------\n",
            "[[1 (86%)]] --> [[0 (72%)]]\n",
            "\n",
            "@username Can I email you? The \"Contact Us\" pg isn't available yet on the newspaper's website. [[Thanks]].\n",
            "\n",
            "@username Can I email you? The \"Contact Us\" pg isn't available yet on the newspaper's website. [[Gratefully]].\n",
            "\n",
            "\n"
          ]
        },
        {
          "metadata": {
            "tags": null
          },
          "name": "stderr",
          "output_type": "stream",
          "text": [
            "\n",
            "\n",
            "[Succeeded / Failed / Skipped / Total] 45 / 2 / 20 / 67:  68%|██████▊   | 68/100 [2:02:22<57:35, 107.98s/it]\u001b[A\u001b[A\n",
            "\n",
            "[Succeeded / Failed / Skipped / Total] 46 / 2 / 20 / 68:  68%|██████▊   | 68/100 [2:02:22<57:35, 107.98s/it]\u001b[A\u001b[A"
          ]
        },
        {
          "metadata": {
            "tags": null
          },
          "name": "stdout",
          "output_type": "stream",
          "text": [
            "--------------------------------------------- Result 68 ---------------------------------------------\n",
            "[[0 (82%)]] --> [[1 (61%)]]\n",
            "\n",
            "RT @username So @username goes on @username to promote school meals policy and all they can do is ask about the [[idiot]] Livingstone…\n",
            "\n",
            "RT @username So @username goes on @username to promote school meals policy and all they can do is ask about the [[twit]] Livingstone…\n",
            "\n",
            "\n"
          ]
        },
        {
          "metadata": {
            "tags": null
          },
          "name": "stderr",
          "output_type": "stream",
          "text": [
            "\n",
            "\n",
            "[Succeeded / Failed / Skipped / Total] 46 / 2 / 20 / 68:  69%|██████▉   | 69/100 [2:05:30<56:23, 109.14s/it]\u001b[A\u001b[A\n",
            "\n",
            "[Succeeded / Failed / Skipped / Total] 47 / 2 / 20 / 69:  69%|██████▉   | 69/100 [2:05:30<56:23, 109.14s/it]\u001b[A\u001b[A"
          ]
        },
        {
          "metadata": {
            "tags": null
          },
          "name": "stdout",
          "output_type": "stream",
          "text": [
            "--------------------------------------------- Result 69 ---------------------------------------------\n",
            "[[1 (81%)]] --> [[0 (73%)]]\n",
            "\n",
            "@[[username]] [[It]] wouldn't [[surprise]] me if the next one is a [[reboot]] or a prequel [[set]] before ME1 or ME2.\n",
            "\n",
            "@[[user]] [[He]] wouldn't [[impressed]] me if the next one is a [[resumed]] or a prequel [[gaming]] before ME1 or ME2.\n",
            "\n",
            "\n"
          ]
        },
        {
          "metadata": {
            "tags": null
          },
          "name": "stderr",
          "output_type": "stream",
          "text": [
            "\n",
            "\n",
            "[Succeeded / Failed / Skipped / Total] 47 / 2 / 20 / 69:  70%|███████   | 70/100 [2:13:56<57:24, 114.80s/it]\u001b[A\u001b[A\n",
            "\n",
            "[Succeeded / Failed / Skipped / Total] 48 / 2 / 20 / 70:  70%|███████   | 70/100 [2:13:56<57:24, 114.80s/it]\u001b[A\u001b[A"
          ]
        },
        {
          "metadata": {
            "tags": null
          },
          "name": "stdout",
          "output_type": "stream",
          "text": [
            "--------------------------------------------- Result 70 ---------------------------------------------\n",
            "[[0 (95%)]] --> [[1 (58%)]]\n",
            "\n",
            "RT @username my [[sister]] is [[so]] [[fucking]] [[annoying]] that [[bitch]] [[act]] like it wasnt her who [[took]] my charger she even [[paint]] the charger an…\n",
            "\n",
            "RT @username my [[sibling]] is [[however]] [[kissed]] [[pesky]] that [[prostitute]] [[stipulations]] like it wasnt her who [[opted]] my charger she even [[portraits]] the charger an…\n",
            "\n",
            "\n"
          ]
        },
        {
          "metadata": {
            "tags": null
          },
          "name": "stderr",
          "output_type": "stream",
          "text": [
            "\n",
            "\n",
            "[Succeeded / Failed / Skipped / Total] 48 / 2 / 20 / 70:  71%|███████   | 71/100 [2:13:58<54:43, 113.22s/it]\u001b[A\u001b[A\n",
            "\n",
            "[Succeeded / Failed / Skipped / Total] 48 / 2 / 21 / 71:  71%|███████   | 71/100 [2:13:58<54:43, 113.22s/it]\u001b[A\u001b[A"
          ]
        },
        {
          "metadata": {
            "tags": null
          },
          "name": "stdout",
          "output_type": "stream",
          "text": [
            "--------------------------------------------- Result 71 ---------------------------------------------\n",
            "[[2 (99%)]] --> [[[SKIPPED]]]\n",
            "\n",
            "@username @username Those kids are lucky, lucky, lucky! I'm seeing it myself in a few weeks :) - W\n",
            "\n",
            "\n"
          ]
        },
        {
          "metadata": {
            "tags": null
          },
          "name": "stderr",
          "output_type": "stream",
          "text": [
            "\n",
            "\n",
            "[Succeeded / Failed / Skipped / Total] 48 / 2 / 21 / 71:  72%|███████▏  | 72/100 [2:14:00<52:06, 111.67s/it]\u001b[A\u001b[A\n",
            "\n",
            "[Succeeded / Failed / Skipped / Total] 48 / 2 / 22 / 72:  72%|███████▏  | 72/100 [2:14:00<52:06, 111.67s/it]\u001b[A\u001b[A"
          ]
        },
        {
          "metadata": {
            "tags": null
          },
          "name": "stdout",
          "output_type": "stream",
          "text": [
            "--------------------------------------------- Result 72 ---------------------------------------------\n",
            "[[0 (62%)]] --> [[[SKIPPED]]]\n",
            "\n",
            "I guess in times like these, the burden falls to @username  #SyriaStrikes #Trump\n",
            "\n",
            "\n"
          ]
        },
        {
          "metadata": {
            "tags": null
          },
          "name": "stderr",
          "output_type": "stream",
          "text": [
            "\n",
            "\n",
            "[Succeeded / Failed / Skipped / Total] 48 / 2 / 22 / 72:  73%|███████▎  | 73/100 [2:14:55<49:54, 110.90s/it]\u001b[A\u001b[A\n",
            "\n",
            "[Succeeded / Failed / Skipped / Total] 49 / 2 / 22 / 73:  73%|███████▎  | 73/100 [2:14:55<49:54, 110.90s/it]\u001b[A\u001b[A"
          ]
        },
        {
          "metadata": {
            "tags": null
          },
          "name": "stdout",
          "output_type": "stream",
          "text": [
            "--------------------------------------------- Result 73 ---------------------------------------------\n",
            "[[0 (60%)]] --> [[1 (56%)]]\n",
            "\n",
            "@username @username The TrapHall EP6 Is So [[Fucking]] Insane \n",
            "\n",
            "@username @username The TrapHall EP6 Is So [[Kissed]] Insane \n",
            "\n",
            "\n"
          ]
        },
        {
          "metadata": {
            "tags": null
          },
          "name": "stderr",
          "output_type": "stream",
          "text": [
            "\n",
            "\n",
            "[Succeeded / Failed / Skipped / Total] 49 / 2 / 22 / 73:  74%|███████▍  | 74/100 [2:16:27<47:56, 110.64s/it]\u001b[A\u001b[A\n",
            "\n",
            "[Succeeded / Failed / Skipped / Total] 50 / 2 / 22 / 74:  74%|███████▍  | 74/100 [2:16:27<47:56, 110.64s/it]\u001b[A\u001b[A"
          ]
        },
        {
          "metadata": {
            "tags": null
          },
          "name": "stdout",
          "output_type": "stream",
          "text": [
            "--------------------------------------------- Result 74 ---------------------------------------------\n",
            "[[0 (53%)]] --> [[1 (86%)]]\n",
            "\n",
            "RT @username @username ohh look, an [[idiot]]\n",
            "\n",
            "RT @username @username ohh look, an [[schnook]]\n",
            "\n",
            "\n"
          ]
        },
        {
          "metadata": {
            "tags": null
          },
          "name": "stderr",
          "output_type": "stream",
          "text": [
            "\n",
            "\n",
            "[Succeeded / Failed / Skipped / Total] 50 / 2 / 22 / 74:  75%|███████▌  | 75/100 [2:16:29<45:29, 109.19s/it]\u001b[A\u001b[A\n",
            "\n",
            "[Succeeded / Failed / Skipped / Total] 50 / 2 / 23 / 75:  75%|███████▌  | 75/100 [2:16:29<45:29, 109.19s/it]\u001b[A\u001b[A"
          ]
        },
        {
          "metadata": {
            "tags": null
          },
          "name": "stdout",
          "output_type": "stream",
          "text": [
            "--------------------------------------------- Result 75 ---------------------------------------------\n",
            "[[2 (59%)]] --> [[[SKIPPED]]]\n",
            "\n",
            "@username + kindness, a gentle smile on her face as she followed him to sit by the statue of her grandmother. \"Well. . . I have a number+\n",
            "\n",
            "\n"
          ]
        },
        {
          "metadata": {
            "tags": null
          },
          "name": "stderr",
          "output_type": "stream",
          "text": [
            "\n",
            "\n",
            "[Succeeded / Failed / Skipped / Total] 50 / 2 / 23 / 75:  76%|███████▌  | 76/100 [2:20:17<44:18, 110.76s/it]\u001b[A\u001b[A\n",
            "\n",
            "[Succeeded / Failed / Skipped / Total] 51 / 2 / 23 / 76:  76%|███████▌  | 76/100 [2:20:17<44:18, 110.76s/it]\u001b[A\u001b[A"
          ]
        },
        {
          "metadata": {
            "tags": null
          },
          "name": "stdout",
          "output_type": "stream",
          "text": [
            "--------------------------------------------- Result 76 ---------------------------------------------\n",
            "[[0 (93%)]] --> [[1 (49%)]]\n",
            "\n",
            "RT @username if [[u]] [[quote]] tweets with \"can't relate\" i already know [[ur]] an [[annoying]] [[ass]] [[bitch]]\n",
            "\n",
            "RT @username if [[umm]] [[citations]] tweets with \"can't relate\" i already know [[dont]] an [[discouraging]] [[cul]] [[floozy]]\n",
            "\n",
            "\n"
          ]
        },
        {
          "metadata": {
            "tags": null
          },
          "name": "stderr",
          "output_type": "stream",
          "text": [
            "\n",
            "\n",
            "[Succeeded / Failed / Skipped / Total] 51 / 2 / 23 / 76:  77%|███████▋  | 77/100 [2:22:48<42:39, 111.28s/it]\u001b[A\u001b[A\n",
            "\n",
            "[Succeeded / Failed / Skipped / Total] 52 / 2 / 23 / 77:  77%|███████▋  | 77/100 [2:22:48<42:39, 111.28s/it]\u001b[A\u001b[A"
          ]
        },
        {
          "metadata": {
            "tags": null
          },
          "name": "stdout",
          "output_type": "stream",
          "text": [
            "--------------------------------------------- Result 77 ---------------------------------------------\n",
            "[[1 (82%)]] --> [[2 (51%)]]\n",
            "\n",
            "@username yep, [[looks]] like they're basically the same but balance: we're already on dropbox [[vs]] [[file]] [[checkout]]/in anyway… \n",
            "\n",
            "@username yep, [[hoping]] like they're basically the same but balance: we're already on dropbox [[fifth]] [[documentation]] [[lookat]]/in anyway… \n",
            "\n",
            "\n"
          ]
        },
        {
          "metadata": {
            "tags": null
          },
          "name": "stderr",
          "output_type": "stream",
          "text": [
            "\n",
            "\n",
            "[Succeeded / Failed / Skipped / Total] 52 / 2 / 23 / 77:  78%|███████▊  | 78/100 [2:29:02<42:02, 114.65s/it]\u001b[A\u001b[A\n",
            "\n",
            "[Succeeded / Failed / Skipped / Total] 53 / 2 / 23 / 78:  78%|███████▊  | 78/100 [2:29:02<42:02, 114.65s/it]\u001b[A\u001b[A"
          ]
        },
        {
          "metadata": {
            "tags": null
          },
          "name": "stdout",
          "output_type": "stream",
          "text": [
            "--------------------------------------------- Result 78 ---------------------------------------------\n",
            "[[0 (91%)]] --> [[1 (60%)]]\n",
            "\n",
            "@username @username @username Girl [[shut]] up. you're an [[idiot]] you [[have]] no [[clue]] what you're [[talking]] about [[keep]] it moving ‍\n",
            "\n",
            "@username @username @username Girl [[end]] up. you're an [[nerds]] you [[received]] no [[allusion]] what you're [[told]] about [[preserving]] it moving ‍\n",
            "\n",
            "\n"
          ]
        },
        {
          "metadata": {
            "tags": null
          },
          "name": "stderr",
          "output_type": "stream",
          "text": [
            "\n",
            "\n",
            "[Succeeded / Failed / Skipped / Total] 53 / 2 / 23 / 78:  79%|███████▉  | 79/100 [2:29:05<39:37, 113.23s/it]\u001b[A\u001b[A\n",
            "\n",
            "[Succeeded / Failed / Skipped / Total] 53 / 2 / 24 / 79:  79%|███████▉  | 79/100 [2:29:05<39:37, 113.23s/it]\u001b[A\u001b[A"
          ]
        },
        {
          "metadata": {
            "tags": null
          },
          "name": "stdout",
          "output_type": "stream",
          "text": [
            "--------------------------------------------- Result 79 ---------------------------------------------\n",
            "[[2 (88%)]] --> [[[SKIPPED]]]\n",
            "\n",
            "@username As long as you try is all that matters my friend. Sometimes it will fail but failure is a great lear… \n",
            "\n",
            "\n"
          ]
        },
        {
          "metadata": {
            "tags": null
          },
          "name": "stderr",
          "output_type": "stream",
          "text": [
            "\n",
            "\n",
            "[Succeeded / Failed / Skipped / Total] 53 / 2 / 24 / 79:  80%|████████  | 80/100 [2:33:02<38:15, 114.78s/it]\u001b[A\u001b[A\n",
            "\n",
            "[Succeeded / Failed / Skipped / Total] 53 / 3 / 24 / 80:  80%|████████  | 80/100 [2:33:02<38:15, 114.78s/it]\u001b[A\u001b[A"
          ]
        },
        {
          "metadata": {
            "tags": null
          },
          "name": "stdout",
          "output_type": "stream",
          "text": [
            "--------------------------------------------- Result 80 ---------------------------------------------\n",
            "[[1 (94%)]] --> [[[FAILED]]]\n",
            "\n",
            "@username @username Depends on the area ur area... If u are around Ziks avenue, Ogui, independence or new he… \n",
            "\n",
            "\n"
          ]
        },
        {
          "metadata": {
            "tags": null
          },
          "name": "stderr",
          "output_type": "stream",
          "text": [
            "\n",
            "\n",
            "[Succeeded / Failed / Skipped / Total] 53 / 3 / 24 / 80:  81%|████████  | 81/100 [2:33:41<36:03, 113.85s/it]\u001b[A\u001b[A\n",
            "\n",
            "[Succeeded / Failed / Skipped / Total] 54 / 3 / 24 / 81:  81%|████████  | 81/100 [2:33:42<36:03, 113.85s/it]\u001b[A\u001b[A"
          ]
        },
        {
          "metadata": {
            "tags": null
          },
          "name": "stdout",
          "output_type": "stream",
          "text": [
            "--------------------------------------------- Result 81 ---------------------------------------------\n",
            "[[1 (65%)]] --> [[0 (48%)]]\n",
            "\n",
            "@username we always had this and absolutely no one got bullied/took issues with it. it's a way of making [[sure]] the… \n",
            "\n",
            "@username we always had this and absolutely no one got bullied/took issues with it. it's a way of making [[certain]] the… \n",
            "\n",
            "\n"
          ]
        },
        {
          "metadata": {
            "tags": null
          },
          "name": "stderr",
          "output_type": "stream",
          "text": [
            "\n",
            "\n",
            "[Succeeded / Failed / Skipped / Total] 54 / 3 / 24 / 81:  82%|████████▏ | 82/100 [2:33:44<33:44, 112.49s/it]\u001b[A\u001b[A\n",
            "\n",
            "[Succeeded / Failed / Skipped / Total] 54 / 3 / 25 / 82:  82%|████████▏ | 82/100 [2:33:44<33:44, 112.49s/it]\u001b[A\u001b[A"
          ]
        },
        {
          "metadata": {
            "tags": null
          },
          "name": "stdout",
          "output_type": "stream",
          "text": [
            "--------------------------------------------- Result 82 ---------------------------------------------\n",
            "[[0 (61%)]] --> [[[SKIPPED]]]\n",
            "\n",
            "@username @username ....and how's this to help the folks and children there? Best to work w/@realDonaldTrump-… \n",
            "\n",
            "\n"
          ]
        },
        {
          "metadata": {
            "tags": null
          },
          "name": "stderr",
          "output_type": "stream",
          "text": [
            "\n",
            "\n",
            "[Succeeded / Failed / Skipped / Total] 54 / 3 / 25 / 82:  83%|████████▎ | 83/100 [2:33:46<31:29, 111.16s/it]\u001b[A\u001b[A\n",
            "\n",
            "[Succeeded / Failed / Skipped / Total] 54 / 3 / 26 / 83:  83%|████████▎ | 83/100 [2:33:46<31:29, 111.16s/it]\u001b[A\u001b[A"
          ]
        },
        {
          "metadata": {
            "tags": null
          },
          "name": "stdout",
          "output_type": "stream",
          "text": [
            "--------------------------------------------- Result 83 ---------------------------------------------\n",
            "[[0 (90%)]] --> [[[SKIPPED]]]\n",
            "\n",
            "@username @username He saw vid of babies dying, as skin melted and lungs quit working. Are you really shaming him… \n",
            "\n",
            "\n"
          ]
        },
        {
          "metadata": {
            "tags": null
          },
          "name": "stderr",
          "output_type": "stream",
          "text": [
            "\n",
            "\n",
            "[Succeeded / Failed / Skipped / Total] 54 / 3 / 26 / 83:  84%|████████▍ | 84/100 [2:33:48<29:17, 109.86s/it]\u001b[A\u001b[A\n",
            "\n",
            "[Succeeded / Failed / Skipped / Total] 54 / 3 / 27 / 84:  84%|████████▍ | 84/100 [2:33:48<29:17, 109.86s/it]\u001b[A\u001b[A"
          ]
        },
        {
          "metadata": {
            "tags": null
          },
          "name": "stdout",
          "output_type": "stream",
          "text": [
            "--------------------------------------------- Result 84 ---------------------------------------------\n",
            "[[2 (84%)]] --> [[[SKIPPED]]]\n",
            "\n",
            "Here are 4 (of many) useful plugins for vim: - vim-sensible - vim-surround - vim-repeat - vim-unimpaired See  @username\n",
            "\n",
            "\n"
          ]
        },
        {
          "metadata": {
            "tags": null
          },
          "name": "stderr",
          "output_type": "stream",
          "text": [
            "\n",
            "\n",
            "[Succeeded / Failed / Skipped / Total] 54 / 3 / 27 / 84:  85%|████████▌ | 85/100 [2:34:47<27:18, 109.26s/it]\u001b[A\u001b[A\n",
            "\n",
            "[Succeeded / Failed / Skipped / Total] 55 / 3 / 27 / 85:  85%|████████▌ | 85/100 [2:34:47<27:18, 109.26s/it]\u001b[A\u001b[A"
          ]
        },
        {
          "metadata": {
            "tags": null
          },
          "name": "stdout",
          "output_type": "stream",
          "text": [
            "--------------------------------------------- Result 85 ---------------------------------------------\n",
            "[[1 (47%)]] --> [[2 (52%)]]\n",
            "\n",
            "@username Patience lol trust me Jariel [[drives]] me crazy but I tell him k siga jodiendo he's still going \n",
            "\n",
            "@username Patience lol trust me Jariel [[conduct]] me crazy but I tell him k siga jodiendo he's still going \n",
            "\n",
            "\n"
          ]
        },
        {
          "metadata": {
            "tags": null
          },
          "name": "stderr",
          "output_type": "stream",
          "text": [
            "\n",
            "\n",
            "[Succeeded / Failed / Skipped / Total] 55 / 3 / 27 / 85:  86%|████████▌ | 86/100 [2:36:14<25:26, 109.01s/it]\u001b[A\u001b[A\n",
            "\n",
            "[Succeeded / Failed / Skipped / Total] 56 / 3 / 27 / 86:  86%|████████▌ | 86/100 [2:36:14<25:26, 109.01s/it]\u001b[A\u001b[A"
          ]
        },
        {
          "metadata": {
            "tags": null
          },
          "name": "stdout",
          "output_type": "stream",
          "text": [
            "--------------------------------------------- Result 86 ---------------------------------------------\n",
            "[[0 (93%)]] --> [[1 (59%)]]\n",
            "\n",
            "RT @username I bet Bear Grylls' barbecues are [[awful]]. Everyone expecting burgers and sausages, whilst he roasts dog shits and boils pin…\n",
            "\n",
            "RT @username I bet Bear Grylls' barbecues are [[spooky]]. Everyone expecting burgers and sausages, whilst he roasts dog shits and boils pin…\n",
            "\n",
            "\n"
          ]
        },
        {
          "metadata": {
            "tags": null
          },
          "name": "stderr",
          "output_type": "stream",
          "text": [
            "\n",
            "\n",
            "[Succeeded / Failed / Skipped / Total] 56 / 3 / 27 / 86:  87%|████████▋ | 87/100 [2:37:24<23:31, 108.56s/it]\u001b[A\u001b[A\n",
            "\n",
            "[Succeeded / Failed / Skipped / Total] 57 / 3 / 27 / 87:  87%|████████▋ | 87/100 [2:37:24<23:31, 108.56s/it]\u001b[A\u001b[A"
          ]
        },
        {
          "metadata": {
            "tags": null
          },
          "name": "stdout",
          "output_type": "stream",
          "text": [
            "--------------------------------------------- Result 87 ---------------------------------------------\n",
            "[[1 (52%)]] --> [[0 (54%)]]\n",
            "\n",
            "@username @username @username @username @username @username y'all better see this or hands [[will]] be thrown\n",
            "\n",
            "@username @username @username @username @username @username y'all better see this or hands [[hope]] be thrown\n",
            "\n",
            "\n"
          ]
        },
        {
          "metadata": {
            "tags": null
          },
          "name": "stderr",
          "output_type": "stream",
          "text": [
            "\n",
            "\n",
            "[Succeeded / Failed / Skipped / Total] 57 / 3 / 27 / 87:  88%|████████▊ | 88/100 [2:39:11<21:42, 108.54s/it]\u001b[A\u001b[A\n",
            "\n",
            "[Succeeded / Failed / Skipped / Total] 58 / 3 / 27 / 88:  88%|████████▊ | 88/100 [2:39:11<21:42, 108.54s/it]\u001b[A\u001b[A"
          ]
        },
        {
          "metadata": {
            "tags": null
          },
          "name": "stdout",
          "output_type": "stream",
          "text": [
            "--------------------------------------------- Result 88 ---------------------------------------------\n",
            "[[1 (69%)]] --> [[0 (50%)]]\n",
            "\n",
            "@username Wasn't empty. [[Helps]] ensure this doesn't happen again. It also sends a message to Iran and North Korea… \n",
            "\n",
            "@username Wasn't empty. [[Assistance]] ensure this doesn't happen again. It also sends a message to Iran and North Korea… \n",
            "\n",
            "\n"
          ]
        },
        {
          "metadata": {
            "tags": null
          },
          "name": "stderr",
          "output_type": "stream",
          "text": [
            "\n",
            "\n",
            "[Succeeded / Failed / Skipped / Total] 58 / 3 / 27 / 88:  89%|████████▉ | 89/100 [2:42:14<20:03, 109.38s/it]\u001b[A\u001b[A\n",
            "\n",
            "[Succeeded / Failed / Skipped / Total] 59 / 3 / 27 / 89:  89%|████████▉ | 89/100 [2:42:14<20:03, 109.38s/it]\u001b[A\u001b[A"
          ]
        },
        {
          "metadata": {
            "tags": null
          },
          "name": "stdout",
          "output_type": "stream",
          "text": [
            "--------------------------------------------- Result 89 ---------------------------------------------\n",
            "[[0 (86%)]] --> [[1 (55%)]]\n",
            "\n",
            "RT @[[username]] i cannot [[fucking]] [[breathe]] \n",
            "\n",
            "RT @[[wearer]] i cannot [[kissed]] [[exhale]] \n",
            "\n",
            "\n"
          ]
        },
        {
          "metadata": {
            "tags": null
          },
          "name": "stderr",
          "output_type": "stream",
          "text": [
            "\n",
            "\n",
            "[Succeeded / Failed / Skipped / Total] 59 / 3 / 27 / 89:  90%|█████████ | 90/100 [2:43:23<18:09, 108.92s/it]\u001b[A\u001b[A\n",
            "\n",
            "[Succeeded / Failed / Skipped / Total] 60 / 3 / 27 / 90:  90%|█████████ | 90/100 [2:43:23<18:09, 108.93s/it]\u001b[A\u001b[A"
          ]
        },
        {
          "metadata": {
            "tags": null
          },
          "name": "stdout",
          "output_type": "stream",
          "text": [
            "--------------------------------------------- Result 90 ---------------------------------------------\n",
            "[[1 (77%)]] --> [[0 (50%)]]\n",
            "\n",
            "@username @username @username @username @username @username Take your pick. [[Any]] one that [[has]] overruled\n",
            "\n",
            "@username @username @username @username @username @username Take your pick. [[Every]] one that [[gets]] overruled\n",
            "\n",
            "\n"
          ]
        },
        {
          "metadata": {
            "tags": null
          },
          "name": "stderr",
          "output_type": "stream",
          "text": [
            "\n",
            "\n",
            "[Succeeded / Failed / Skipped / Total] 60 / 3 / 27 / 90:  91%|█████████ | 91/100 [2:43:25<16:09, 107.75s/it]\u001b[A\u001b[A\n",
            "\n",
            "[Succeeded / Failed / Skipped / Total] 60 / 3 / 28 / 91:  91%|█████████ | 91/100 [2:43:25<16:09, 107.75s/it]\u001b[A\u001b[A"
          ]
        },
        {
          "metadata": {
            "tags": null
          },
          "name": "stdout",
          "output_type": "stream",
          "text": [
            "--------------------------------------------- Result 91 ---------------------------------------------\n",
            "[[2 (66%)]] --> [[[SKIPPED]]]\n",
            "\n",
            "@username @username @username HELL FUCKING YEAH\n",
            "\n",
            "\n"
          ]
        },
        {
          "metadata": {
            "tags": null
          },
          "name": "stderr",
          "output_type": "stream",
          "text": [
            "\n",
            "\n",
            "[Succeeded / Failed / Skipped / Total] 60 / 3 / 28 / 91:  92%|█████████▏| 92/100 [2:45:58<14:25, 108.24s/it]\u001b[A\u001b[A\n",
            "\n",
            "[Succeeded / Failed / Skipped / Total] 61 / 3 / 28 / 92:  92%|█████████▏| 92/100 [2:45:58<14:25, 108.24s/it]\u001b[A\u001b[A"
          ]
        },
        {
          "metadata": {
            "tags": null
          },
          "name": "stdout",
          "output_type": "stream",
          "text": [
            "--------------------------------------------- Result 92 ---------------------------------------------\n",
            "[[0 (88%)]] --> [[1 (67%)]]\n",
            "\n",
            "RT @username . @username RETURN TO ME MY EGG FORME OR I WILL [[FUCKING]] OBLITERATE YOU WITH A KATANA I AM [[NOT]] PLAYING\n",
            "\n",
            "RT @username . @username RETURN TO ME MY EGG FORME OR I WILL [[KISSED]] OBLITERATE YOU WITH A KATANA I AM [[PAS]] PLAYING\n",
            "\n",
            "\n"
          ]
        },
        {
          "metadata": {
            "tags": null
          },
          "name": "stderr",
          "output_type": "stream",
          "text": [
            "\n",
            "\n",
            "[Succeeded / Failed / Skipped / Total] 61 / 3 / 28 / 92:  93%|█████████▎| 93/100 [2:46:49<12:33, 107.63s/it]\u001b[A\u001b[A\n",
            "\n",
            "[Succeeded / Failed / Skipped / Total] 62 / 3 / 28 / 93:  93%|█████████▎| 93/100 [2:46:49<12:33, 107.63s/it]\u001b[A\u001b[A"
          ]
        },
        {
          "metadata": {
            "tags": null
          },
          "name": "stdout",
          "output_type": "stream",
          "text": [
            "--------------------------------------------- Result 93 ---------------------------------------------\n",
            "[[1 (61%)]] --> [[0 (58%)]]\n",
            "\n",
            "Susan Rice And Why Cernovich Media Is Being Plagiarized! Mike Cernovich ...  [[via]] @username\n",
            "\n",
            "Susan Rice And Why Cernovich Media Is Being Plagiarized! Mike Cernovich ...  [[onto]] @username\n",
            "\n",
            "\n"
          ]
        },
        {
          "metadata": {
            "tags": null
          },
          "name": "stderr",
          "output_type": "stream",
          "text": [
            "\n",
            "\n",
            "[Succeeded / Failed / Skipped / Total] 62 / 3 / 28 / 93:  94%|█████████▍| 94/100 [2:46:51<10:39, 106.51s/it]\u001b[A\u001b[A\n",
            "\n",
            "[Succeeded / Failed / Skipped / Total] 62 / 3 / 29 / 94:  94%|█████████▍| 94/100 [2:46:51<10:39, 106.51s/it]\u001b[A\u001b[A"
          ]
        },
        {
          "metadata": {
            "tags": null
          },
          "name": "stdout",
          "output_type": "stream",
          "text": [
            "--------------------------------------------- Result 94 ---------------------------------------------\n",
            "[[2 (97%)]] --> [[[SKIPPED]]]\n",
            "\n",
            "WOW @username I know we put lots of points on a few teams especially Leeds, But that was our best performance by far in 2017\n",
            "\n",
            "\n"
          ]
        },
        {
          "metadata": {
            "tags": null
          },
          "name": "stderr",
          "output_type": "stream",
          "text": [
            "\n",
            "\n",
            "[Succeeded / Failed / Skipped / Total] 62 / 3 / 29 / 94:  95%|█████████▌| 95/100 [2:49:11<08:54, 106.86s/it]\u001b[A\u001b[A\n",
            "\n",
            "[Succeeded / Failed / Skipped / Total] 63 / 3 / 29 / 95:  95%|█████████▌| 95/100 [2:49:11<08:54, 106.86s/it]\u001b[A\u001b[A"
          ]
        },
        {
          "metadata": {
            "tags": null
          },
          "name": "stdout",
          "output_type": "stream",
          "text": [
            "--------------------------------------------- Result 95 ---------------------------------------------\n",
            "[[1 (61%)]] --> [[0 (51%)]]\n",
            "\n",
            "@username @username I've never seen either in full. I only ever saw the Britney [[episode]] of [[Will]] and [[Grace]].\n",
            "\n",
            "@username @username I've never seen either in full. I only ever saw the Britney [[bout]] of [[Lust]] and [[Leniency]].\n",
            "\n",
            "\n"
          ]
        },
        {
          "metadata": {
            "tags": null
          },
          "name": "stderr",
          "output_type": "stream",
          "text": [
            "\n",
            "\n",
            "[Succeeded / Failed / Skipped / Total] 63 / 3 / 29 / 95:  96%|█████████▌| 96/100 [2:49:13<07:03, 105.76s/it]\u001b[A\u001b[A\n",
            "\n",
            "[Succeeded / Failed / Skipped / Total] 63 / 3 / 30 / 96:  96%|█████████▌| 96/100 [2:49:13<07:03, 105.76s/it]\u001b[A\u001b[A"
          ]
        },
        {
          "metadata": {
            "tags": null
          },
          "name": "stdout",
          "output_type": "stream",
          "text": [
            "--------------------------------------------- Result 96 ---------------------------------------------\n",
            "[[2 (77%)]] --> [[[SKIPPED]]]\n",
            "\n",
            "@username sure! if u dont find any near u i dont mind since its so cheap if i see them again the next time i go to daiso i will\n",
            "\n",
            "\n"
          ]
        },
        {
          "output_type": "stream",
          "name": "stderr",
          "text": [
            "\n",
            "\n",
            "[Succeeded / Failed / Skipped / Total] 63 / 3 / 30 / 96:  97%|█████████▋| 97/100 [2:51:07<05:17, 105.85s/it]\u001b[A\u001b[A\n",
            "\n",
            "[Succeeded / Failed / Skipped / Total] 64 / 3 / 30 / 97:  97%|█████████▋| 97/100 [2:51:07<05:17, 105.85s/it]\u001b[A\u001b[A"
          ]
        },
        {
          "output_type": "stream",
          "name": "stdout",
          "text": [
            "--------------------------------------------- Result 97 ---------------------------------------------\n",
            "[[1 (66%)]] --> [[2 (53%)]]\n",
            "\n",
            "@username @username ooc it makes sense to me; it [[means]] you have the full 140 [[characters]] to reply now.\n",
            "\n",
            "@username @username ooc it makes sense to me; it [[procedure]] you have the full 140 [[personality]] to reply now.\n",
            "\n",
            "\n"
          ]
        },
        {
          "output_type": "stream",
          "name": "stderr",
          "text": [
            "\n",
            "\n",
            "[Succeeded / Failed / Skipped / Total] 64 / 3 / 30 / 97:  98%|█████████▊| 98/100 [2:58:23<03:38, 109.22s/it]\u001b[A\u001b[A\n",
            "\n",
            "[Succeeded / Failed / Skipped / Total] 64 / 4 / 30 / 98:  98%|█████████▊| 98/100 [2:58:23<03:38, 109.22s/it]\u001b[A\u001b[A"
          ]
        },
        {
          "output_type": "stream",
          "name": "stdout",
          "text": [
            "--------------------------------------------- Result 98 ---------------------------------------------\n",
            "[[1 (95%)]] --> [[[FAILED]]]\n",
            "\n",
            "LPW \"Mayhem\" on Saturday April 22 @username Elks Hall (128 School St) Clinton Ma  \n",
            "\n",
            "\n"
          ]
        },
        {
          "output_type": "stream",
          "name": "stderr",
          "text": [
            "\n",
            "\n",
            "[Succeeded / Failed / Skipped / Total] 64 / 4 / 30 / 98:  99%|█████████▉| 99/100 [3:05:46<01:52, 112.59s/it]\u001b[A\u001b[A\n",
            "\n",
            "[Succeeded / Failed / Skipped / Total] 65 / 4 / 30 / 99:  99%|█████████▉| 99/100 [3:05:46<01:52, 112.59s/it]\u001b[A\u001b[A"
          ]
        },
        {
          "output_type": "stream",
          "name": "stdout",
          "text": [
            "--------------------------------------------- Result 99 ---------------------------------------------\n",
            "[[0 (94%)]] --> [[1 (51%)]]\n",
            "\n",
            "RT @[[username]] If you're [[miserable]] don't [[come]] on my [[page]]. You are not [[wanted]] in my [[comment]] [[section]]. Don't [[bring]] your [[funky]] [[ass]] [[attitude]] [[arou]]…\n",
            "\n",
            "RT @[[user]] If you're [[dismal]] don't [[happens]] on my [[pages]]. You are not [[longing]] in my [[observation]] [[part]]. Don't [[porter]] your [[marvellous]] [[hind]] [[position]] [[somethi]]…\n",
            "\n",
            "\n"
          ]
        },
        {
          "output_type": "stream",
          "name": "stderr",
          "text": [
            "\n",
            "\n",
            "[Succeeded / Failed / Skipped / Total] 65 / 4 / 30 / 99: 100%|██████████| 100/100 [3:05:48<00:00, 111.49s/it]\u001b[A\u001b[A\n",
            "\n",
            "[Succeeded / Failed / Skipped / Total] 65 / 4 / 31 / 100: 100%|██████████| 100/100 [3:05:48<00:00, 111.49s/it]"
          ]
        },
        {
          "output_type": "stream",
          "name": "stdout",
          "text": [
            "--------------------------------------------- Result 100 ---------------------------------------------\n",
            "[[0 (70%)]] --> [[[SKIPPED]]]\n",
            "\n",
            "@username So how you argue in favo of Outing being fit to have nuclear codes while supporting chemical murderer… \n",
            "\n",
            "\n",
            "\n",
            "+-------------------------------+--------+\n",
            "| Attack Results                |        |\n",
            "+-------------------------------+--------+\n",
            "| Number of successful attacks: | 65     |\n",
            "| Number of failed attacks:     | 4      |\n",
            "| Number of skipped attacks:    | 31     |\n",
            "| Original accuracy:            | 69.0%  |\n",
            "| Accuracy under attack:        | 4.0%   |\n",
            "| Attack success rate:          | 94.2%  |\n",
            "| Average perturbed word %:     | 17.18% |\n",
            "| Average num. words per input: | 16.54  |\n",
            "| Avg num queries:              | 98.38  |\n",
            "+-------------------------------+--------+\n"
          ]
        },
        {
          "output_type": "stream",
          "name": "stderr",
          "text": [
            "\n"
          ]
        }
      ]
    },
    {
      "cell_type": "code",
      "source": [
        "ta_model_wrapper = HuggingFaceModelWrapper(test_model,test_tokenizer)\n",
        "attack_dwb = textattack.attack_recipes.deepwordbug_gao_2018.DeepWordBugGao2018.build(ta_model_wrapper)\n",
        "attacker_dwb = Attacker(attack_dwb, textattack.datasets.Dataset(tuplify_dataset(neutralized_dataset[:100])))\n",
        "attacker_dwb.attack_args.num_examples = -1\n",
        "attack_results_dwb = attacker_dwb.attack_dataset()\n",
        "\n",
        "a_dwb_res__list = [(res.original_text(), res.perturbed_text(), parse_label(res.goal_function_result_str())) for res in attack_results_dwb]\n",
        "with open('a_deepwordbug_100.pkl', 'wb') as f:\n",
        "    pickle.dump(a_dwb_res__list, f)"
      ],
      "metadata": {
        "colab": {
          "base_uri": "https://localhost:8080/"
        },
        "id": "2Ttj3Tu19LTf",
        "outputId": "0b040d4b-07d9-424d-ab59-7f8087c4843a"
      },
      "execution_count": null,
      "outputs": [
        {
          "metadata": {
            "tags": null
          },
          "name": "stderr",
          "output_type": "stream",
          "text": [
            "textattack: Unknown if model of class <class 'transformers.models.roberta.modeling_roberta.RobertaForSequenceClassification'> compatible with goal function <class 'textattack.goal_functions.classification.untargeted_classification.UntargetedClassification'>.\n",
            "  0%|          | 0/100 [00:00<?, ?it/s]"
          ]
        },
        {
          "metadata": {
            "tags": null
          },
          "name": "stdout",
          "output_type": "stream",
          "text": [
            "Attack(\n",
            "  (search_method): GreedyWordSwapWIR(\n",
            "    (wir_method):  unk\n",
            "  )\n",
            "  (goal_function):  UntargetedClassification\n",
            "  (transformation):  CompositeTransformation(\n",
            "    (0): WordSwapNeighboringCharacterSwap(\n",
            "        (random_one):  True\n",
            "      )\n",
            "    (1): WordSwapRandomCharacterSubstitution(\n",
            "        (random_one):  True\n",
            "      )\n",
            "    (2): WordSwapRandomCharacterDeletion(\n",
            "        (random_one):  True\n",
            "      )\n",
            "    (3): WordSwapRandomCharacterInsertion(\n",
            "        (random_one):  True\n",
            "      )\n",
            "    )\n",
            "  (constraints): \n",
            "    (0): LevenshteinEditDistance(\n",
            "        (max_edit_distance):  30\n",
            "        (compare_against_original):  True\n",
            "      )\n",
            "    (1): RepeatModification\n",
            "    (2): StopwordModification\n",
            "  (is_black_box):  True\n",
            ") \n",
            "\n"
          ]
        },
        {
          "metadata": {
            "tags": null
          },
          "name": "stderr",
          "output_type": "stream",
          "text": [
            "[Succeeded / Failed / Skipped / Total] 0 / 1 / 0 / 1:   1%|          | 1/100 [02:07<3:29:34, 127.01s/it]"
          ]
        },
        {
          "metadata": {
            "tags": null
          },
          "name": "stdout",
          "output_type": "stream",
          "text": [
            "--------------------------------------------- Result 1 ---------------------------------------------\n",
            "[[1 (91%)]] --> [[[FAILED]]]\n",
            "\n",
            "#NowPlaying on Activ Radio 90 FM : Kaleo - Way down we go (TOP24H #charts : 4th) @username @username #Music… \n",
            "\n",
            "\n"
          ]
        },
        {
          "metadata": {
            "tags": null
          },
          "name": "stderr",
          "output_type": "stream",
          "text": [
            "[Succeeded / Failed / Skipped / Total] 1 / 1 / 0 / 2:   2%|▏         | 2/100 [03:54<3:11:33, 117.28s/it]"
          ]
        },
        {
          "metadata": {
            "tags": null
          },
          "name": "stdout",
          "output_type": "stream",
          "text": [
            "--------------------------------------------- Result 2 ---------------------------------------------\n",
            "[[0 (87%)]] --> [[1 (51%)]]\n",
            "\n",
            "RT @[[username]] [[That]] [[dude]] [[done]] [[fucked]] up by saying \"everything you want\" does he not [[realize]] just 1 liquid [[lipstick]] is [[gonna]] run hi…\n",
            "\n",
            "RT @[[usernmae]] [[Tat]] [[ude]] [[one]] [[Qucked]] up by saying \"everything you want\" does he not [[relaize]] just 1 liquid [[lpistick]] is [[gonn]] run hi…\n",
            "\n",
            "\n"
          ]
        },
        {
          "metadata": {
            "tags": null
          },
          "name": "stderr",
          "output_type": "stream",
          "text": [
            "[Succeeded / Failed / Skipped / Total] 1 / 2 / 0 / 3:   3%|▎         | 3/100 [04:35<2:28:19, 91.75s/it]"
          ]
        },
        {
          "metadata": {
            "tags": null
          },
          "name": "stdout",
          "output_type": "stream",
          "text": [
            "--------------------------------------------- Result 3 ---------------------------------------------\n",
            "[[0 (92%)]] --> [[[FAILED]]]\n",
            "\n",
            "RT @username I was so into you but you fucked that up\n",
            "\n",
            "\n"
          ]
        },
        {
          "metadata": {
            "tags": null
          },
          "name": "stderr",
          "output_type": "stream",
          "text": [
            "[Succeeded / Failed / Skipped / Total] 1 / 3 / 0 / 4:   4%|▍         | 4/100 [06:42<2:40:51, 100.54s/it]"
          ]
        },
        {
          "metadata": {
            "tags": null
          },
          "name": "stdout",
          "output_type": "stream",
          "text": [
            "--------------------------------------------- Result 4 ---------------------------------------------\n",
            "[[0 (93%)]] --> [[[FAILED]]]\n",
            "\n",
            "RT @username this just emphasizes how fucked up this society is people bashing a protective boyfriend instead of saying smth about disre…\n",
            "\n",
            "\n"
          ]
        },
        {
          "metadata": {
            "tags": null
          },
          "name": "stderr",
          "output_type": "stream",
          "text": [
            "[Succeeded / Failed / Skipped / Total] 1 / 3 / 1 / 5:   5%|▌         | 5/100 [06:43<2:07:55, 80.79s/it]"
          ]
        },
        {
          "metadata": {
            "tags": null
          },
          "name": "stdout",
          "output_type": "stream",
          "text": [
            "--------------------------------------------- Result 5 ---------------------------------------------\n",
            "[[2 (96%)]] --> [[[SKIPPED]]]\n",
            "\n",
            "@username Good morning Maddie xx @username @username @username @username @username @username @username\n",
            "\n",
            "\n"
          ]
        },
        {
          "metadata": {
            "tags": null
          },
          "name": "stderr",
          "output_type": "stream",
          "text": [
            "[Succeeded / Failed / Skipped / Total] 2 / 3 / 1 / 6:   6%|▌         | 6/100 [06:58<1:49:23, 69.82s/it]"
          ]
        },
        {
          "metadata": {
            "tags": null
          },
          "name": "stdout",
          "output_type": "stream",
          "text": [
            "--------------------------------------------- Result 6 ---------------------------------------------\n",
            "[[0 (50%)]] --> [[1 (66%)]]\n",
            "\n",
            "RT @username [[Fucking]] mood \n",
            "\n",
            "RT @username [[ucking]] mood \n",
            "\n",
            "\n"
          ]
        },
        {
          "metadata": {
            "tags": null
          },
          "name": "stderr",
          "output_type": "stream",
          "text": [
            "[Succeeded / Failed / Skipped / Total] 2 / 3 / 2 / 7:   7%|▋         | 7/100 [07:00<1:33:09, 60.11s/it]"
          ]
        },
        {
          "metadata": {
            "tags": null
          },
          "name": "stdout",
          "output_type": "stream",
          "text": [
            "--------------------------------------------- Result 7 ---------------------------------------------\n",
            "[[2 (99%)]] --> [[[SKIPPED]]]\n",
            "\n",
            "@username You are one of my faves and getting followed by you would make me the happiest person alive. Have a good day/night! \n",
            "\n",
            "\n"
          ]
        },
        {
          "metadata": {
            "tags": null
          },
          "name": "stderr",
          "output_type": "stream",
          "text": [
            "[Succeeded / Failed / Skipped / Total] 2 / 3 / 3 / 8:   8%|▊         | 8/100 [07:02<1:20:59, 52.82s/it]"
          ]
        },
        {
          "metadata": {
            "tags": null
          },
          "name": "stdout",
          "output_type": "stream",
          "text": [
            "--------------------------------------------- Result 8 ---------------------------------------------\n",
            "[[2 (99%)]] --> [[[SKIPPED]]]\n",
            "\n",
            "@username @username Thank you for follow! Glad to see you!  \n",
            "\n",
            "\n"
          ]
        },
        {
          "metadata": {
            "tags": null
          },
          "name": "stderr",
          "output_type": "stream",
          "text": [
            "[Succeeded / Failed / Skipped / Total] 3 / 3 / 3 / 9:   9%|▉         | 9/100 [07:26<1:15:10, 49.56s/it]"
          ]
        },
        {
          "metadata": {
            "tags": null
          },
          "name": "stdout",
          "output_type": "stream",
          "text": [
            "--------------------------------------------- Result 9 ---------------------------------------------\n",
            "[[0 (76%)]] --> [[1 (54%)]]\n",
            "\n",
            "RT @username It's about [[time]] I stopped fucking up\n",
            "\n",
            "RT @username It's about [[thme]] I stopped fucking up\n",
            "\n",
            "\n"
          ]
        },
        {
          "metadata": {
            "tags": null
          },
          "name": "stderr",
          "output_type": "stream",
          "text": [
            "[Succeeded / Failed / Skipped / Total] 3 / 4 / 3 / 10:  10%|█         | 10/100 [08:23<1:15:31, 50.35s/it]"
          ]
        },
        {
          "metadata": {
            "tags": null
          },
          "name": "stdout",
          "output_type": "stream",
          "text": [
            "--------------------------------------------- Result 10 ---------------------------------------------\n",
            "[[0 (71%)]] --> [[[FAILED]]]\n",
            "\n",
            "RT @username Bad bitches don't take days off \n",
            "\n",
            "\n"
          ]
        },
        {
          "metadata": {
            "tags": null
          },
          "name": "stderr",
          "output_type": "stream",
          "text": [
            "[Succeeded / Failed / Skipped / Total] 4 / 4 / 3 / 11:  11%|█         | 11/100 [09:21<1:15:40, 51.02s/it]"
          ]
        },
        {
          "metadata": {
            "tags": null
          },
          "name": "stdout",
          "output_type": "stream",
          "text": [
            "--------------------------------------------- Result 11 ---------------------------------------------\n",
            "[[0 (91%)]] --> [[2 (59%)]]\n",
            "\n",
            "RT @username Man everything is so [[fucking]] [[expensive]] now. $60 games. $15 skins. $3.75 gas/gallon Thank god you can save 10% off lootcr…\n",
            "\n",
            "RT @username Man everything is so [[fuckinwg]] [[expensiVe]] now. $60 games. $15 skins. $3.75 gas/gallon Thank god you can save 10% off lootcr…\n",
            "\n",
            "\n"
          ]
        },
        {
          "metadata": {
            "tags": null
          },
          "name": "stderr",
          "output_type": "stream",
          "text": [
            "[Succeeded / Failed / Skipped / Total] 4 / 5 / 3 / 12:  12%|█▏        | 12/100 [10:40<1:18:19, 53.41s/it]"
          ]
        },
        {
          "metadata": {
            "tags": null
          },
          "name": "stdout",
          "output_type": "stream",
          "text": [
            "--------------------------------------------- Result 12 ---------------------------------------------\n",
            "[[0 (89%)]] --> [[[FAILED]]]\n",
            "\n",
            "RT @username As soon as u brag about a niggah they start fucking up ️\n",
            "\n",
            "\n"
          ]
        },
        {
          "metadata": {
            "tags": null
          },
          "name": "stderr",
          "output_type": "stream",
          "text": [
            "[Succeeded / Failed / Skipped / Total] 4 / 5 / 4 / 13:  13%|█▎        | 13/100 [10:42<1:11:41, 49.44s/it]"
          ]
        },
        {
          "metadata": {
            "tags": null
          },
          "name": "stdout",
          "output_type": "stream",
          "text": [
            "--------------------------------------------- Result 13 ---------------------------------------------\n",
            "[[2 (59%)]] --> [[[SKIPPED]]]\n",
            "\n",
            "@username This is mine and my older sisters song. We always do the scene from Bridesmaids, we are gonna do it at her wedding nxt yr \n",
            "\n",
            "\n"
          ]
        },
        {
          "metadata": {
            "tags": null
          },
          "name": "stderr",
          "output_type": "stream",
          "text": [
            "[Succeeded / Failed / Skipped / Total] 5 / 5 / 4 / 14:  14%|█▍        | 14/100 [11:34<1:11:08, 49.63s/it]"
          ]
        },
        {
          "metadata": {
            "tags": null
          },
          "name": "stdout",
          "output_type": "stream",
          "text": [
            "--------------------------------------------- Result 14 ---------------------------------------------\n",
            "[[1 (92%)]] --> [[0 (52%)]]\n",
            "\n",
            "The Outwaste : Se 1 Ep 169 '[[Deacon's]] Donut Dilemma' ([[Let's]] [[Survive]] Fallo...  [[via]] @username\n",
            "\n",
            "The Outwaste : Se 1 Ep 169 '[[DTeacon's]] Donut Dilemma' ([[LetH's]] [[SurvivOe]] Fallo...  [[viA]] @username\n",
            "\n",
            "\n"
          ]
        },
        {
          "metadata": {
            "tags": null
          },
          "name": "stderr",
          "output_type": "stream",
          "text": [
            "[Succeeded / Failed / Skipped / Total] 5 / 5 / 5 / 15:  15%|█▌        | 15/100 [11:36<1:05:47, 46.44s/it]"
          ]
        },
        {
          "metadata": {
            "tags": null
          },
          "name": "stdout",
          "output_type": "stream",
          "text": [
            "--------------------------------------------- Result 15 ---------------------------------------------\n",
            "[[2 (53%)]] --> [[[SKIPPED]]]\n",
            "\n",
            "@username The U.S. luxury electric car maker, jumped 69 percent from a year ago to a quarterly record of 25,000… \n",
            "\n",
            "\n"
          ]
        },
        {
          "metadata": {
            "tags": null
          },
          "name": "stderr",
          "output_type": "stream",
          "text": [
            "[Succeeded / Failed / Skipped / Total] 5 / 6 / 5 / 16:  16%|█▌        | 16/100 [12:57<1:08:00, 48.57s/it]"
          ]
        },
        {
          "metadata": {
            "tags": null
          },
          "name": "stdout",
          "output_type": "stream",
          "text": [
            "--------------------------------------------- Result 16 ---------------------------------------------\n",
            "[[0 (93%)]] --> [[[FAILED]]]\n",
            "\n",
            "RT @username We're living in the dumbest fucking mobster movie imaginable. \n",
            "\n",
            "\n"
          ]
        },
        {
          "metadata": {
            "tags": null
          },
          "name": "stderr",
          "output_type": "stream",
          "text": [
            "[Succeeded / Failed / Skipped / Total] 6 / 6 / 5 / 17:  17%|█▋        | 17/100 [13:47<1:07:18, 48.66s/it]"
          ]
        },
        {
          "metadata": {
            "tags": null
          },
          "name": "stdout",
          "output_type": "stream",
          "text": [
            "--------------------------------------------- Result 17 ---------------------------------------------\n",
            "[[0 (79%)]] --> [[1 (50%)]]\n",
            "\n",
            "[[RT]] @username [[bitches]] be boosie bad ass until it time to fight. then they a no [[show]]\n",
            "\n",
            "[[RG]] @username [[itches]] be boosie bad ass until it time to fight. then they a no [[shoF]]\n",
            "\n",
            "\n"
          ]
        },
        {
          "metadata": {
            "tags": null
          },
          "name": "stderr",
          "output_type": "stream",
          "text": [
            "[Succeeded / Failed / Skipped / Total] 7 / 6 / 5 / 18:  18%|█▊        | 18/100 [14:38<1:06:43, 48.83s/it]"
          ]
        },
        {
          "metadata": {
            "tags": null
          },
          "name": "stdout",
          "output_type": "stream",
          "text": [
            "--------------------------------------------- Result 18 ---------------------------------------------\n",
            "[[0 (74%)]] --> [[1 (47%)]]\n",
            "\n",
            "RT @[[username]] i need to find [[someone]] who can [[handle]] my [[fucked]] up mind.\n",
            "\n",
            "RT @[[usernaem]] i need to find [[osmeone]] who can [[pandle]] my [[fuckeW]] up mind.\n",
            "\n",
            "\n"
          ]
        },
        {
          "metadata": {
            "tags": null
          },
          "name": "stderr",
          "output_type": "stream",
          "text": [
            "[Succeeded / Failed / Skipped / Total] 7 / 7 / 5 / 19:  19%|█▉        | 19/100 [15:34<1:06:23, 49.18s/it]"
          ]
        },
        {
          "metadata": {
            "tags": null
          },
          "name": "stdout",
          "output_type": "stream",
          "text": [
            "--------------------------------------------- Result 19 ---------------------------------------------\n",
            "[[0 (71%)]] --> [[[FAILED]]]\n",
            "\n",
            "RT @username Bad bitches don't take days off \n",
            "\n",
            "\n"
          ]
        },
        {
          "metadata": {
            "tags": null
          },
          "name": "stderr",
          "output_type": "stream",
          "text": [
            "[Succeeded / Failed / Skipped / Total] 7 / 8 / 5 / 20:  20%|██        | 20/100 [16:28<1:05:55, 49.44s/it]"
          ]
        },
        {
          "metadata": {
            "tags": null
          },
          "name": "stdout",
          "output_type": "stream",
          "text": [
            "--------------------------------------------- Result 20 ---------------------------------------------\n",
            "[[0 (93%)]] --> [[[FAILED]]]\n",
            "\n",
            "RT @username can u maybe fucking not do that or something\n",
            "\n",
            "\n"
          ]
        },
        {
          "metadata": {
            "tags": null
          },
          "name": "stderr",
          "output_type": "stream",
          "text": [
            "[Succeeded / Failed / Skipped / Total] 8 / 8 / 5 / 21:  21%|██        | 21/100 [17:20<1:05:15, 49.57s/it]"
          ]
        },
        {
          "metadata": {
            "tags": null
          },
          "name": "stdout",
          "output_type": "stream",
          "text": [
            "--------------------------------------------- Result 21 ---------------------------------------------\n",
            "[[1 (67%)]] --> [[2 (50%)]]\n",
            "\n",
            "@[[username]] @username @username I would probably purchased that game [[first]] for the Wii-U Then later for Nin Switch \n",
            "\n",
            "@[[usernme]] @username @username I would probably purchased that game [[irst]] for the Wii-U Then later for Nin Switch \n",
            "\n",
            "\n"
          ]
        },
        {
          "metadata": {
            "tags": null
          },
          "name": "stderr",
          "output_type": "stream",
          "text": [
            "[Succeeded / Failed / Skipped / Total] 8 / 9 / 5 / 22:  22%|██▏       | 22/100 [19:56<1:10:41, 54.38s/it]"
          ]
        },
        {
          "metadata": {
            "tags": null
          },
          "name": "stdout",
          "output_type": "stream",
          "text": [
            "--------------------------------------------- Result 22 ---------------------------------------------\n",
            "[[1 (92%)]] --> [[[FAILED]]]\n",
            "\n",
            "Rabah Al-Hussaini set to debut for @username vs Star tonight. He already practiced 3x w/ d team since traded by @username @username\n",
            "\n",
            "\n"
          ]
        },
        {
          "output_type": "stream",
          "name": "stderr",
          "text": [
            "[Succeeded / Failed / Skipped / Total] 9 / 9 / 5 / 23:  23%|██▎       | 23/100 [20:53<1:09:56, 54.49s/it]"
          ]
        },
        {
          "output_type": "stream",
          "name": "stdout",
          "text": [
            "--------------------------------------------- Result 23 ---------------------------------------------\n",
            "[[0 (88%)]] --> [[1 (54%)]]\n",
            "\n",
            "RT @[[username]] [[Idiot]] [[shoots]] idiot at idiot [[headquarters]]. @[[username]] \n",
            "\n",
            "RT @[[usernaNme]] [[Isiot]] [[shoost]] idiot at idiot [[hedaquarters]]. @[[usernmae]] \n",
            "\n",
            "\n"
          ]
        },
        {
          "output_type": "stream",
          "name": "stderr",
          "text": [
            "[Succeeded / Failed / Skipped / Total] 9 / 9 / 6 / 24:  24%|██▍       | 24/100 [20:55<1:06:14, 52.30s/it]"
          ]
        },
        {
          "output_type": "stream",
          "name": "stdout",
          "text": [
            "--------------------------------------------- Result 24 ---------------------------------------------\n",
            "[[2 (79%)]] --> [[[SKIPPED]]]\n",
            "\n",
            "\"Baser Amer is a big reason why Meralco is 4-0.\" @username talks about @username solid start in the PBA Commis… \n",
            "\n",
            "\n"
          ]
        },
        {
          "output_type": "stream",
          "name": "stderr",
          "text": [
            "[Succeeded / Failed / Skipped / Total] 9 / 10 / 6 / 25:  25%|██▌       | 25/100 [22:54<1:08:44, 55.00s/it]"
          ]
        },
        {
          "output_type": "stream",
          "name": "stdout",
          "text": [
            "--------------------------------------------- Result 25 ---------------------------------------------\n",
            "[[1 (95%)]] --> [[[FAILED]]]\n",
            "\n",
            "#NowOn BADAMALA on @username by Brothers Videos Official -  Tuesday, April 4th, 2017 - 08:39:20 PM\n",
            "\n",
            "\n"
          ]
        },
        {
          "output_type": "stream",
          "name": "stderr",
          "text": [
            "[Succeeded / Failed / Skipped / Total] 9 / 10 / 7 / 26:  26%|██▌       | 26/100 [22:56<1:05:18, 52.95s/it]"
          ]
        },
        {
          "output_type": "stream",
          "name": "stdout",
          "text": [
            "--------------------------------------------- Result 26 ---------------------------------------------\n",
            "[[0 (89%)]] --> [[[SKIPPED]]]\n",
            "\n",
            "@username @username @username Leaky isn’t an archaeologist. your level of knowledge is woeful\n",
            "\n",
            "\n"
          ]
        },
        {
          "output_type": "stream",
          "name": "stderr",
          "text": [
            "[Succeeded / Failed / Skipped / Total] 10 / 10 / 7 / 27:  27%|██▋       | 27/100 [23:28<1:03:28, 52.17s/it]"
          ]
        },
        {
          "output_type": "stream",
          "name": "stdout",
          "text": [
            "--------------------------------------------- Result 27 ---------------------------------------------\n",
            "[[0 (71%)]] --> [[1 (55%)]]\n",
            "\n",
            "Islamic State says U.S. 'being run by an [[idiot']]  by #elcitizen via @username \n",
            "\n",
            "Islamic State says U.S. 'being run by an [[iwiot']]  by #elcitizen via @username \n",
            "\n",
            "\n"
          ]
        },
        {
          "output_type": "stream",
          "name": "stderr",
          "text": [
            "[Succeeded / Failed / Skipped / Total] 10 / 10 / 8 / 28:  28%|██▊       | 28/100 [23:30<1:00:26, 50.37s/it]"
          ]
        },
        {
          "output_type": "stream",
          "name": "stdout",
          "text": [
            "--------------------------------------------- Result 28 ---------------------------------------------\n",
            "[[0 (54%)]] --> [[[SKIPPED]]]\n",
            "\n",
            "@username Bannon would be forced to stay cause he knows too much and would flip. #Blackmail #Russiagate\n",
            "\n",
            "\n"
          ]
        },
        {
          "output_type": "stream",
          "name": "stderr",
          "text": [
            "[Succeeded / Failed / Skipped / Total] 10 / 10 / 9 / 29:  29%|██▉       | 29/100 [23:32<57:37, 48.70s/it]"
          ]
        },
        {
          "output_type": "stream",
          "name": "stdout",
          "text": [
            "--------------------------------------------- Result 29 ---------------------------------------------\n",
            "[[1 (52%)]] --> [[[SKIPPED]]]\n",
            "\n",
            "RT @username When you fucking her like a pornstar and she start shaking having convulsions like she's possessed \n",
            "\n",
            "\n"
          ]
        },
        {
          "output_type": "stream",
          "name": "stderr",
          "text": [
            "[Succeeded / Failed / Skipped / Total] 10 / 11 / 9 / 30:  30%|███       | 30/100 [24:38<57:29, 49.28s/it]"
          ]
        },
        {
          "output_type": "stream",
          "name": "stdout",
          "text": [
            "--------------------------------------------- Result 30 ---------------------------------------------\n",
            "[[0 (89%)]] --> [[[FAILED]]]\n",
            "\n",
            "RT @username i've been so fucking sleepy all day man\n",
            "\n",
            "\n"
          ]
        },
        {
          "output_type": "stream",
          "name": "stderr",
          "text": [
            "[Succeeded / Failed / Skipped / Total] 10 / 11 / 10 / 31:  31%|███       | 31/100 [24:40<54:54, 47.75s/it]"
          ]
        },
        {
          "output_type": "stream",
          "name": "stdout",
          "text": [
            "--------------------------------------------- Result 31 ---------------------------------------------\n",
            "[[1 (64%)]] --> [[[SKIPPED]]]\n",
            "\n",
            "Drew Buckz X @username X @username - Fucking That Work Up Out Now !!!!!!   \n",
            "\n",
            "\n"
          ]
        },
        {
          "output_type": "stream",
          "name": "stderr",
          "text": [
            "[Succeeded / Failed / Skipped / Total] 11 / 11 / 10 / 32:  32%|███▏      | 32/100 [26:22<56:02, 49.46s/it]"
          ]
        },
        {
          "output_type": "stream",
          "name": "stdout",
          "text": [
            "--------------------------------------------- Result 32 ---------------------------------------------\n",
            "[[0 (92%)]] --> [[1 (55%)]]\n",
            "\n",
            "[[CSUS]] the [[immigrant]] [[rapist]] [[scrub]] saga... [[FUCKING]] SCRUB! [[CA]] [[GOV]] [[Jamie]] Barnes [[TLC]] - No Scrubs  via @[[username]]\n",
            "\n",
            "[[CWUS]] the [[imimgrant]] [[rapisy]] [[scrb]] saga... [[FCKING]] SCRUB! [[A]] [[GmV]] [[Jamei]] Barnes [[TC]] - No Scrubs  via @[[usernmae]]\n",
            "\n",
            "\n"
          ]
        },
        {
          "output_type": "stream",
          "name": "stderr",
          "text": [
            "[Succeeded / Failed / Skipped / Total] 12 / 11 / 10 / 33:  33%|███▎      | 33/100 [26:52<54:34, 48.87s/it]"
          ]
        },
        {
          "output_type": "stream",
          "name": "stdout",
          "text": [
            "--------------------------------------------- Result 33 ---------------------------------------------\n",
            "[[0 (94%)]] --> [[2 (75%)]]\n",
            "\n",
            "@username That shit looks so [[weak]]!!!!! Just throw on a Miles Davis record\n",
            "\n",
            "@username That shit looks so [[waek]]!!!!! Just throw on a Miles Davis record\n",
            "\n",
            "\n"
          ]
        },
        {
          "output_type": "stream",
          "name": "stderr",
          "text": [
            "[Succeeded / Failed / Skipped / Total] 12 / 12 / 10 / 34:  34%|███▍      | 34/100 [28:42<55:44, 50.67s/it]"
          ]
        },
        {
          "output_type": "stream",
          "name": "stdout",
          "text": [
            "--------------------------------------------- Result 34 ---------------------------------------------\n",
            "[[1 (89%)]] --> [[[FAILED]]]\n",
            "\n",
            "This week on the podcast @username joins us to discuss student loans and financial aid. Subscribe here!… \n",
            "\n",
            "\n"
          ]
        },
        {
          "output_type": "stream",
          "name": "stderr",
          "text": [
            "[Succeeded / Failed / Skipped / Total] 12 / 12 / 11 / 35:  35%|███▌      | 35/100 [28:44<53:22, 49.27s/it]"
          ]
        },
        {
          "output_type": "stream",
          "name": "stdout",
          "text": [
            "--------------------------------------------- Result 35 ---------------------------------------------\n",
            "[[2 (97%)]] --> [[[SKIPPED]]]\n",
            "\n",
            "@username Just woke up and gonna curl up on the sofa and watch Moana again  hope you guys had a good night! \n",
            "\n",
            "\n"
          ]
        },
        {
          "output_type": "stream",
          "name": "stderr",
          "text": [
            "[Succeeded / Failed / Skipped / Total] 12 / 12 / 12 / 36:  36%|███▌      | 36/100 [28:46<51:09, 47.95s/it]"
          ]
        },
        {
          "output_type": "stream",
          "name": "stdout",
          "text": [
            "--------------------------------------------- Result 36 ---------------------------------------------\n",
            "[[2 (80%)]] --> [[[SKIPPED]]]\n",
            "\n",
            "@username @username @username @username @username You're welcome Annie and Nessa. (Goes to her fa… \n",
            "\n",
            "\n"
          ]
        },
        {
          "output_type": "stream",
          "name": "stderr",
          "text": [
            "[Succeeded / Failed / Skipped / Total] 13 / 12 / 12 / 37:  37%|███▋      | 37/100 [29:43<50:37, 48.21s/it]"
          ]
        },
        {
          "output_type": "stream",
          "name": "stdout",
          "text": [
            "--------------------------------------------- Result 37 ---------------------------------------------\n",
            "[[0 (45%)]] --> [[2 (57%)]]\n",
            "\n",
            "@username I love you immensely but D A M N you need to give a girl a [[warning]]. I damn near had a heart [[attack]] \n",
            "\n",
            "@username I love you immensely but D A M N you need to give a girl a [[warnig]]. I damn near had a heart [[atack]] \n",
            "\n",
            "\n"
          ]
        },
        {
          "output_type": "stream",
          "name": "stderr",
          "text": [
            "[Succeeded / Failed / Skipped / Total] 14 / 12 / 12 / 38:  38%|███▊      | 38/100 [30:14<49:21, 47.76s/it]"
          ]
        },
        {
          "output_type": "stream",
          "name": "stdout",
          "text": [
            "--------------------------------------------- Result 38 ---------------------------------------------\n",
            "[[1 (53%)]] --> [[2 (65%)]]\n",
            "\n",
            "regrann from @username - Confident at very competitive ang ating mga [[celebrity]] guests na… \n",
            "\n",
            "regrann from @username - Confident at very competitive ang ating mga [[celebHrity]] guests na… \n",
            "\n",
            "\n"
          ]
        },
        {
          "output_type": "stream",
          "name": "stderr",
          "text": [
            "[Succeeded / Failed / Skipped / Total] 15 / 12 / 12 / 39:  39%|███▉      | 39/100 [31:39<49:30, 48.70s/it]"
          ]
        },
        {
          "output_type": "stream",
          "name": "stdout",
          "text": [
            "--------------------------------------------- Result 39 ---------------------------------------------\n",
            "[[0 (86%)]] --> [[1 (48%)]]\n",
            "\n",
            "[[RT]] @[[username]] [[You]] can't make me look [[stupid]] cause [[I'm]] [[already]] [[retarded]]\n",
            "\n",
            "[[Ra]] @[[useranme]] [[Ysou]] can't make me look [[stupii]] cause [[Im']] [[alrgeady]] [[rtarded]]\n",
            "\n",
            "\n"
          ]
        },
        {
          "output_type": "stream",
          "name": "stderr",
          "text": [
            "[Succeeded / Failed / Skipped / Total] 15 / 12 / 13 / 40:  40%|████      | 40/100 [31:41<47:32, 47.53s/it]"
          ]
        },
        {
          "output_type": "stream",
          "name": "stdout",
          "text": [
            "--------------------------------------------- Result 40 ---------------------------------------------\n",
            "[[0 (77%)]] --> [[[SKIPPED]]]\n",
            "\n",
            "@username Mr farooq Abdullah when you r in power you said on record if we have no space in jails do encounter of kashmires SHAME ON YOU\n",
            "\n",
            "\n"
          ]
        },
        {
          "output_type": "stream",
          "name": "stderr",
          "text": [
            "[Succeeded / Failed / Skipped / Total] 15 / 12 / 14 / 41:  41%|████      | 41/100 [31:43<45:38, 46.42s/it]"
          ]
        },
        {
          "output_type": "stream",
          "name": "stdout",
          "text": [
            "--------------------------------------------- Result 41 ---------------------------------------------\n",
            "[[2 (92%)]] --> [[[SKIPPED]]]\n",
            "\n",
            "RT @username he is so fucking hot/cute \n",
            "\n",
            "\n"
          ]
        },
        {
          "output_type": "stream",
          "name": "stderr",
          "text": [
            "[Succeeded / Failed / Skipped / Total] 15 / 12 / 15 / 42:  42%|████▏     | 42/100 [31:45<43:51, 45.36s/it]"
          ]
        },
        {
          "output_type": "stream",
          "name": "stdout",
          "text": [
            "--------------------------------------------- Result 42 ---------------------------------------------\n",
            "[[0 (85%)]] --> [[[SKIPPED]]]\n",
            "\n",
            "@username Oomf darkened his nonexistent 'facial hair' just to make it look that he got a beard. Sad!\n",
            "\n",
            "\n"
          ]
        },
        {
          "output_type": "stream",
          "name": "stderr",
          "text": [
            "[Succeeded / Failed / Skipped / Total] 16 / 12 / 15 / 43:  43%|████▎     | 43/100 [32:17<42:48, 45.07s/it]"
          ]
        },
        {
          "output_type": "stream",
          "name": "stdout",
          "text": [
            "--------------------------------------------- Result 43 ---------------------------------------------\n",
            "[[0 (50%)]] --> [[1 (59%)]]\n",
            "\n",
            "RT @username  [[Brutally]] punch fisting Annas prolapsing ass till she squirts! #fisting #anal #prolapse…\n",
            "\n",
            "RT @username  [[Butally]] punch fisting Annas prolapsing ass till she squirts! #fisting #anal #prolapse…\n",
            "\n",
            "\n"
          ]
        },
        {
          "output_type": "stream",
          "name": "stderr",
          "text": [
            "[Succeeded / Failed / Skipped / Total] 16 / 13 / 15 / 44:  44%|████▍     | 44/100 [33:20<42:25, 45.46s/it]"
          ]
        },
        {
          "output_type": "stream",
          "name": "stdout",
          "text": [
            "--------------------------------------------- Result 44 ---------------------------------------------\n",
            "[[0 (91%)]] --> [[[FAILED]]]\n",
            "\n",
            "RT @username waiting for this school year to be fucking over.\n",
            "\n",
            "\n"
          ]
        },
        {
          "output_type": "stream",
          "name": "stderr",
          "text": [
            "[Succeeded / Failed / Skipped / Total] 16 / 13 / 16 / 45:  45%|████▌     | 45/100 [33:22<40:47, 44.49s/it]"
          ]
        },
        {
          "output_type": "stream",
          "name": "stdout",
          "text": [
            "--------------------------------------------- Result 45 ---------------------------------------------\n",
            "[[0 (78%)]] --> [[[SKIPPED]]]\n",
            "\n",
            "@username It is like a corpse dumped in a forest that becomes an incubator for so much new life, mostly maggots\n",
            "\n",
            "\n"
          ]
        },
        {
          "output_type": "stream",
          "name": "stderr",
          "text": [
            "[Succeeded / Failed / Skipped / Total] 17 / 13 / 16 / 46:  46%|████▌     | 46/100 [34:04<39:59, 44.44s/it]"
          ]
        },
        {
          "output_type": "stream",
          "name": "stdout",
          "text": [
            "--------------------------------------------- Result 46 ---------------------------------------------\n",
            "[[0 (65%)]] --> [[1 (47%)]]\n",
            "\n",
            "@username Nigerians just [[can't]] pull off something without any form of partiality or foul play...BBNAIJA we dey watch una\n",
            "\n",
            "@username Nigerians just [[canmt]] pull off something without any form of partiality or foul play...BBNAIJA we dey watch una\n",
            "\n",
            "\n"
          ]
        },
        {
          "output_type": "stream",
          "name": "stderr",
          "text": [
            "[Succeeded / Failed / Skipped / Total] 17 / 14 / 16 / 47:  47%|████▋     | 47/100 [35:28<39:59, 45.28s/it]"
          ]
        },
        {
          "output_type": "stream",
          "name": "stdout",
          "text": [
            "--------------------------------------------- Result 47 ---------------------------------------------\n",
            "[[0 (92%)]] --> [[[FAILED]]]\n",
            "\n",
            "@username @username like, screw world design, how about some fucking UI design\n",
            "\n",
            "\n"
          ]
        },
        {
          "output_type": "stream",
          "name": "stderr",
          "text": [
            "[Succeeded / Failed / Skipped / Total] 18 / 14 / 16 / 48:  48%|████▊     | 48/100 [36:12<39:13, 45.25s/it]"
          ]
        },
        {
          "output_type": "stream",
          "name": "stdout",
          "text": [
            "--------------------------------------------- Result 48 ---------------------------------------------\n",
            "[[0 (75%)]] --> [[2 (53%)]]\n",
            "\n",
            "RT @username superlove was definitely a [[fucking]] bop, tinashe did not play and y'all let it [[flop]] \n",
            "\n",
            "RT @username superlove was definitely a [[cfucking]] bop, tinashe did not play and y'all let it [[fjop]] \n",
            "\n",
            "\n"
          ]
        },
        {
          "output_type": "stream",
          "name": "stderr",
          "text": [
            "[Succeeded / Failed / Skipped / Total] 18 / 14 / 17 / 49:  49%|████▉     | 49/100 [36:14<37:42, 44.37s/it]"
          ]
        },
        {
          "output_type": "stream",
          "name": "stdout",
          "text": [
            "--------------------------------------------- Result 49 ---------------------------------------------\n",
            "[[2 (60%)]] --> [[[SKIPPED]]]\n",
            "\n",
            "@username @username WE GOTTA VOTE FASTER TO WIN CMON #OneDirection #YouKnowYouLoveThem #SteveAoki… \n",
            "\n",
            "\n"
          ]
        },
        {
          "output_type": "stream",
          "name": "stderr",
          "text": [
            "[Succeeded / Failed / Skipped / Total] 19 / 14 / 17 / 50:  50%|█████     | 50/100 [36:55<36:55, 44.31s/it]"
          ]
        },
        {
          "output_type": "stream",
          "name": "stdout",
          "text": [
            "--------------------------------------------- Result 50 ---------------------------------------------\n",
            "[[0 (94%)]] --> [[1 (52%)]]\n",
            "\n",
            "RT @[[username]] [[Look]] at this [[fucking]] [[asshole]]:  \n",
            "\n",
            "RT @[[userame]] [[Loko]] at this [[fuckinE]] [[assole]]:  \n",
            "\n",
            "\n"
          ]
        },
        {
          "output_type": "stream",
          "name": "stderr",
          "text": [
            "[Succeeded / Failed / Skipped / Total] 20 / 14 / 17 / 51:  51%|█████     | 51/100 [38:32<37:02, 45.35s/it]"
          ]
        },
        {
          "output_type": "stream",
          "name": "stdout",
          "text": [
            "--------------------------------------------- Result 51 ---------------------------------------------\n",
            "[[0 (95%)]] --> [[1 (48%)]]\n",
            "\n",
            "@username [[UR]] [[FAKE]]!! I [[DONT]] [[APPROVE]] [[OF]] [[THIS]] I AM [[SUING]] YOU SEE [[YOU]] IN COURT BITCH\n",
            "\n",
            "@username [[RU]] [[FAIE]]!! I [[DOT]] [[APROVE]] [[FO]] [[THIk]] I AM [[SIUNG]] YOU SEE [[YO]] IN COURT BITCH\n",
            "\n",
            "\n"
          ]
        },
        {
          "output_type": "stream",
          "name": "stderr",
          "text": [
            "[Succeeded / Failed / Skipped / Total] 21 / 14 / 17 / 52:  52%|█████▏    | 52/100 [39:00<36:00, 45.00s/it]"
          ]
        },
        {
          "output_type": "stream",
          "name": "stdout",
          "text": [
            "--------------------------------------------- Result 52 ---------------------------------------------\n",
            "[[0 (86%)]] --> [[1 (53%)]]\n",
            "\n",
            "RT @username Im a [[nasty]] ass freak when I like you..\n",
            "\n",
            "RT @username Im a [[nsty]] ass freak when I like you..\n",
            "\n",
            "\n"
          ]
        },
        {
          "output_type": "stream",
          "name": "stderr",
          "text": [
            "[Succeeded / Failed / Skipped / Total] 21 / 14 / 18 / 53:  53%|█████▎    | 53/100 [39:02<34:36, 44.19s/it]"
          ]
        },
        {
          "output_type": "stream",
          "name": "stdout",
          "text": [
            "--------------------------------------------- Result 53 ---------------------------------------------\n",
            "[[2 (88%)]] --> [[[SKIPPED]]]\n",
            "\n",
            "@username first quarter is over and i know the second one is ours already! keeping that passion burning shishi\n",
            "\n",
            "\n"
          ]
        },
        {
          "output_type": "stream",
          "name": "stderr",
          "text": [
            "[Succeeded / Failed / Skipped / Total] 22 / 14 / 18 / 54:  54%|█████▍    | 54/100 [39:48<33:54, 44.24s/it]"
          ]
        },
        {
          "output_type": "stream",
          "name": "stdout",
          "text": [
            "--------------------------------------------- Result 54 ---------------------------------------------\n",
            "[[0 (90%)]] --> [[1 (61%)]]\n",
            "\n",
            "@username [[Bloody]] hell stan, [[I'd]] [[erased]] that from you memory.\n",
            "\n",
            "@username [[Blody]] hell stan, [[e'd]] [[eraed]] that from you memory.\n",
            "\n",
            "\n"
          ]
        },
        {
          "output_type": "stream",
          "name": "stderr",
          "text": [
            "[Succeeded / Failed / Skipped / Total] 22 / 15 / 18 / 55:  55%|█████▌    | 55/100 [42:30<34:46, 46.36s/it]"
          ]
        },
        {
          "output_type": "stream",
          "name": "stdout",
          "text": [
            "--------------------------------------------- Result 55 ---------------------------------------------\n",
            "[[1 (88%)]] --> [[[FAILED]]]\n",
            "\n",
            "Driving to Rio de Janeiro, sharing real-time road info with wazers in my area. ETA 11:20 AM using @username - Drive Social.\n",
            "\n",
            "\n"
          ]
        },
        {
          "output_type": "stream",
          "name": "stderr",
          "text": [
            "[Succeeded / Failed / Skipped / Total] 23 / 15 / 18 / 56:  56%|█████▌    | 56/100 [43:32<34:12, 46.65s/it]"
          ]
        },
        {
          "output_type": "stream",
          "name": "stdout",
          "text": [
            "--------------------------------------------- Result 56 ---------------------------------------------\n",
            "[[0 (89%)]] --> [[1 (50%)]]\n",
            "\n",
            "RT @[[username]] dave cullen: eric harris was a [[psychopath]] eric: “I wish I was a [[fucking]] sociopath so I didn’t have any remorse, bu…\n",
            "\n",
            "RT @[[userame]] dave cullen: eric harris was a [[psychpoath]] eric: “I wish I was a [[fucing]] sociopath so I didn’t have any remorse, bu…\n",
            "\n",
            "\n"
          ]
        },
        {
          "output_type": "stream",
          "name": "stderr",
          "text": [
            "[Succeeded / Failed / Skipped / Total] 23 / 15 / 19 / 57:  57%|█████▋    | 57/100 [43:34<32:52, 45.86s/it]"
          ]
        },
        {
          "output_type": "stream",
          "name": "stdout",
          "text": [
            "--------------------------------------------- Result 57 ---------------------------------------------\n",
            "[[0 (82%)]] --> [[[SKIPPED]]]\n",
            "\n",
            "@username wait til after playoffs when u find out everyone was playing injured and is now #broken\n",
            "\n",
            "\n"
          ]
        },
        {
          "output_type": "stream",
          "name": "stderr",
          "text": [
            "[Succeeded / Failed / Skipped / Total] 23 / 16 / 19 / 58:  58%|█████▊    | 58/100 [44:46<32:25, 46.32s/it]"
          ]
        },
        {
          "output_type": "stream",
          "name": "stdout",
          "text": [
            "--------------------------------------------- Result 58 ---------------------------------------------\n",
            "[[1 (88%)]] --> [[[FAILED]]]\n",
            "\n",
            "@username \"Sharper Than Ya Average\" Ft. @username and @username »  … » \n",
            "\n",
            "\n"
          ]
        },
        {
          "output_type": "stream",
          "name": "stderr",
          "text": [
            "[Succeeded / Failed / Skipped / Total] 23 / 17 / 19 / 59:  59%|█████▉    | 59/100 [45:54<31:53, 46.68s/it]"
          ]
        },
        {
          "output_type": "stream",
          "name": "stdout",
          "text": [
            "--------------------------------------------- Result 59 ---------------------------------------------\n",
            "[[0 (85%)]] --> [[[FAILED]]]\n",
            "\n",
            "RT @username i fucked that nigga bitch so he a madder guy\n",
            "\n",
            "\n"
          ]
        },
        {
          "output_type": "stream",
          "name": "stderr",
          "text": [
            "[Succeeded / Failed / Skipped / Total] 24 / 17 / 19 / 60:  60%|██████    | 60/100 [46:29<30:59, 46.49s/it]"
          ]
        },
        {
          "output_type": "stream",
          "name": "stdout",
          "text": [
            "--------------------------------------------- Result 60 ---------------------------------------------\n",
            "[[1 (51%)]] --> [[2 (59%)]]\n",
            "\n",
            "@username Have you enjoyed concerts in Poland? What do you [[think]] of Polish Tinistas? KOCHAMY CIĘ \n",
            "\n",
            "@username Have you enjoyed concerts in Poland? What do you [[thnik]] of Polish Tinistas? KOCHAMY CIĘ \n",
            "\n",
            "\n"
          ]
        },
        {
          "output_type": "stream",
          "name": "stderr",
          "text": [
            "[Succeeded / Failed / Skipped / Total] 25 / 17 / 19 / 61:  61%|██████    | 61/100 [49:18<31:31, 48.50s/it]"
          ]
        },
        {
          "output_type": "stream",
          "name": "stdout",
          "text": [
            "--------------------------------------------- Result 61 ---------------------------------------------\n",
            "[[0 (95%)]] --> [[1 (44%)]]\n",
            "\n",
            "[[RT]] @[[username]] KIM, SWEETIE. [[IM]] SO SORRY. [[IM]] [[SO]] SORRY [[THAT]] [[AN]] [[UGLY]] [[ASS]] [[BITCH]] [[LIKE]] [[THIS]] WOULD [[EVEN]] [[SAY]] [[THAT]], [[OH]] [[MY]] [[GOD]] \n",
            "\n",
            "[[TRT]] @[[usernaem]] KIM, SWEETIE. [[WM]] SO SORRY. [[zM]] [[OS]] SORRY [[THAd]] [[NA]] [[ULY]] [[ASM]] [[BITMH]] [[LIEK]] [[THRS]] WOULD [[EVE]] [[SYA]] [[HTAT]], [[HO]] [[YM]] [[GJOD]] \n",
            "\n",
            "\n"
          ]
        },
        {
          "output_type": "stream",
          "name": "stderr",
          "text": [
            "[Succeeded / Failed / Skipped / Total] 26 / 17 / 19 / 62:  62%|██████▏   | 62/100 [50:15<30:48, 48.64s/it]"
          ]
        },
        {
          "output_type": "stream",
          "name": "stdout",
          "text": [
            "--------------------------------------------- Result 62 ---------------------------------------------\n",
            "[[1 (82%)]] --> [[0 (48%)]]\n",
            "\n",
            "@username This may sound dtrange but I [[think]] insane you tweet a while ago about a site that references for you. [[What]] was it? I'm\n",
            "\n",
            "@username This may sound dtrange but I [[tAink]] insane you tweet a while ago about a site that references for you. [[WMat]] was it? I'm\n",
            "\n",
            "\n"
          ]
        },
        {
          "output_type": "stream",
          "name": "stderr",
          "text": [
            "[Succeeded / Failed / Skipped / Total] 26 / 17 / 20 / 63:  63%|██████▎   | 63/100 [50:17<29:32, 47.90s/it]"
          ]
        },
        {
          "output_type": "stream",
          "name": "stdout",
          "text": [
            "--------------------------------------------- Result 63 ---------------------------------------------\n",
            "[[2 (84%)]] --> [[[SKIPPED]]]\n",
            "\n",
            "@username Thx for enrolling in #AmexGift offer. Spend w/connected Card and receive credit. Terms: \n",
            "\n",
            "\n"
          ]
        },
        {
          "output_type": "stream",
          "name": "stderr",
          "text": [
            "[Succeeded / Failed / Skipped / Total] 26 / 18 / 20 / 64:  64%|██████▍   | 64/100 [52:24<29:28, 49.13s/it]"
          ]
        },
        {
          "output_type": "stream",
          "name": "stdout",
          "text": [
            "--------------------------------------------- Result 64 ---------------------------------------------\n",
            "[[0 (80%)]] --> [[[FAILED]]]\n",
            "\n",
            "RT @username If you scream \"oh god!\" while Richard Dawkins is fucking you, he immediately pulls out and lectures you for 3hrs\n",
            "\n",
            "\n"
          ]
        },
        {
          "output_type": "stream",
          "name": "stderr",
          "text": [
            "[Succeeded / Failed / Skipped / Total] 27 / 18 / 20 / 65:  65%|██████▌   | 65/100 [53:08<28:36, 49.05s/it]"
          ]
        },
        {
          "output_type": "stream",
          "name": "stdout",
          "text": [
            "--------------------------------------------- Result 65 ---------------------------------------------\n",
            "[[0 (78%)]] --> [[1 (61%)]]\n",
            "\n",
            "RT @username #IfMyLifeWasLikeProWrestling [[I'd]] hit every [[idiot]] who [[annoys]] me with a steel chair.\n",
            "\n",
            "RT @username #IfMyLifeWasLikeProWrestling '[[Id]] hit every [[idoit]] who [[Cannoys]] me with a steel chair.\n",
            "\n",
            "\n"
          ]
        },
        {
          "output_type": "stream",
          "name": "stderr",
          "text": [
            "[Succeeded / Failed / Skipped / Total] 28 / 18 / 20 / 66:  66%|██████▌   | 66/100 [53:30<27:34, 48.65s/it]"
          ]
        },
        {
          "output_type": "stream",
          "name": "stdout",
          "text": [
            "--------------------------------------------- Result 66 ---------------------------------------------\n",
            "[[0 (78%)]] --> [[1 (53%)]]\n",
            "\n",
            "RT @username Getting my PAWG ass [[fucked]] on  \n",
            "\n",
            "RT @username Getting my PAWG ass [[fucekd]] on  \n",
            "\n",
            "\n"
          ]
        },
        {
          "output_type": "stream",
          "name": "stderr",
          "text": [
            "[Succeeded / Failed / Skipped / Total] 29 / 18 / 20 / 67:  67%|██████▋   | 67/100 [54:20<26:45, 48.66s/it]"
          ]
        },
        {
          "output_type": "stream",
          "name": "stdout",
          "text": [
            "--------------------------------------------- Result 67 ---------------------------------------------\n",
            "[[1 (86%)]] --> [[0 (61%)]]\n",
            "\n",
            "@[[username]] Can I email you? [[The]] \"Contact Us\" pg isn't available yet on the newspaper's website. [[Thanks]].\n",
            "\n",
            "@[[usernZame]] Can I email you? [[Tme]] \"Contact Us\" pg isn't available yet on the newspaper's website. [[Thansk]].\n",
            "\n",
            "\n"
          ]
        },
        {
          "output_type": "stream",
          "name": "stderr",
          "text": [
            "[Succeeded / Failed / Skipped / Total] 30 / 18 / 20 / 68:  68%|██████▊   | 68/100 [55:07<25:56, 48.64s/it]"
          ]
        },
        {
          "output_type": "stream",
          "name": "stdout",
          "text": [
            "--------------------------------------------- Result 68 ---------------------------------------------\n",
            "[[0 (82%)]] --> [[1 (68%)]]\n",
            "\n",
            "RT @username So @username goes on @username to promote school meals policy and all they can do is ask about the [[idiot]] Livingstone…\n",
            "\n",
            "RT @username So @username goes on @username to promote school meals policy and all they can do is ask about the [[idit]] Livingstone…\n",
            "\n",
            "\n"
          ]
        },
        {
          "output_type": "stream",
          "name": "stderr",
          "text": [
            "[Succeeded / Failed / Skipped / Total] 31 / 18 / 20 / 69:  69%|██████▉   | 69/100 [56:37<25:26, 49.24s/it]"
          ]
        },
        {
          "output_type": "stream",
          "name": "stdout",
          "text": [
            "--------------------------------------------- Result 69 ---------------------------------------------\n",
            "[[1 (81%)]] --> [[0 (55%)]]\n",
            "\n",
            "@[[username]] [[It]] wouldn't [[surprise]] me if the next one is a [[reboot]] or a [[prequel]] [[set]] before [[ME1]] or ME2.\n",
            "\n",
            "@[[usrname]] [[tI]] wouldn't [[sruprise]] me if the next one is a [[erboot]] or a [[prequeV]] [[sEt]] before [[ME]] or ME2.\n",
            "\n",
            "\n"
          ]
        },
        {
          "output_type": "stream",
          "name": "stderr",
          "text": [
            "[Succeeded / Failed / Skipped / Total] 31 / 19 / 20 / 70:  70%|███████   | 70/100 [58:51<25:13, 50.45s/it]"
          ]
        },
        {
          "output_type": "stream",
          "name": "stdout",
          "text": [
            "--------------------------------------------- Result 70 ---------------------------------------------\n",
            "[[0 (95%)]] --> [[[FAILED]]]\n",
            "\n",
            "RT @username my sister is so fucking annoying that bitch act like it wasnt her who took my charger she even paint the charger an…\n",
            "\n",
            "\n"
          ]
        },
        {
          "output_type": "stream",
          "name": "stderr",
          "text": [
            "[Succeeded / Failed / Skipped / Total] 31 / 19 / 21 / 71:  71%|███████   | 71/100 [58:53<24:03, 49.77s/it]"
          ]
        },
        {
          "output_type": "stream",
          "name": "stdout",
          "text": [
            "--------------------------------------------- Result 71 ---------------------------------------------\n",
            "[[2 (99%)]] --> [[[SKIPPED]]]\n",
            "\n",
            "@username @username Those kids are lucky, lucky, lucky! I'm seeing it myself in a few weeks :) - W\n",
            "\n",
            "\n"
          ]
        },
        {
          "output_type": "stream",
          "name": "stderr",
          "text": [
            "[Succeeded / Failed / Skipped / Total] 31 / 19 / 22 / 72:  72%|███████▏  | 72/100 [58:55<22:54, 49.10s/it]"
          ]
        },
        {
          "output_type": "stream",
          "name": "stdout",
          "text": [
            "--------------------------------------------- Result 72 ---------------------------------------------\n",
            "[[0 (62%)]] --> [[[SKIPPED]]]\n",
            "\n",
            "I guess in times like these, the burden falls to @username  #SyriaStrikes #Trump\n",
            "\n",
            "\n"
          ]
        },
        {
          "output_type": "stream",
          "name": "stderr",
          "text": [
            "[Succeeded / Failed / Skipped / Total] 32 / 19 / 22 / 73:  73%|███████▎  | 73/100 [59:19<21:56, 48.76s/it]"
          ]
        },
        {
          "output_type": "stream",
          "name": "stdout",
          "text": [
            "--------------------------------------------- Result 73 ---------------------------------------------\n",
            "[[0 (60%)]] --> [[1 (46%)]]\n",
            "\n",
            "@username @username The TrapHall EP6 Is So [[Fucking]] Insane \n",
            "\n",
            "@username @username The TrapHall EP6 Is So [[Fucing]] Insane \n",
            "\n",
            "\n"
          ]
        },
        {
          "output_type": "stream",
          "name": "stderr",
          "text": [
            "[Succeeded / Failed / Skipped / Total] 33 / 19 / 22 / 74:  74%|███████▍  | 74/100 [59:39<20:57, 48.38s/it]"
          ]
        },
        {
          "output_type": "stream",
          "name": "stdout",
          "text": [
            "--------------------------------------------- Result 74 ---------------------------------------------\n",
            "[[0 (53%)]] --> [[1 (83%)]]\n",
            "\n",
            "RT @username @username ohh look, an [[idiot]]\n",
            "\n",
            "RT @username @username ohh look, an [[idito]]\n",
            "\n",
            "\n"
          ]
        },
        {
          "output_type": "stream",
          "name": "stderr",
          "text": [
            "[Succeeded / Failed / Skipped / Total] 33 / 19 / 23 / 75:  75%|███████▌  | 75/100 [59:41<19:53, 47.76s/it]"
          ]
        },
        {
          "output_type": "stream",
          "name": "stdout",
          "text": [
            "--------------------------------------------- Result 75 ---------------------------------------------\n",
            "[[2 (59%)]] --> [[[SKIPPED]]]\n",
            "\n",
            "@username + kindness, a gentle smile on her face as she followed him to sit by the statue of her grandmother. \"Well. . . I have a number+\n",
            "\n",
            "\n"
          ]
        },
        {
          "output_type": "stream",
          "name": "stderr",
          "text": [
            "[Succeeded / Failed / Skipped / Total] 33 / 20 / 23 / 76:  76%|███████▌  | 76/100 [1:01:31<19:25, 48.57s/it]"
          ]
        },
        {
          "output_type": "stream",
          "name": "stdout",
          "text": [
            "--------------------------------------------- Result 76 ---------------------------------------------\n",
            "[[0 (93%)]] --> [[[FAILED]]]\n",
            "\n",
            "RT @username if u quote tweets with \"can't relate\" i already know ur an annoying ass bitch\n",
            "\n",
            "\n"
          ]
        },
        {
          "output_type": "stream",
          "name": "stderr",
          "text": [
            "[Succeeded / Failed / Skipped / Total] 33 / 21 / 23 / 77:  77%|███████▋  | 77/100 [1:03:40<19:01, 49.62s/it]"
          ]
        },
        {
          "output_type": "stream",
          "name": "stdout",
          "text": [
            "--------------------------------------------- Result 77 ---------------------------------------------\n",
            "[[1 (82%)]] --> [[[FAILED]]]\n",
            "\n",
            "@username yep, looks like they're basically the same but balance: we're already on dropbox vs file checkout/in anyway… \n",
            "\n",
            "\n"
          ]
        },
        {
          "output_type": "stream",
          "name": "stderr",
          "text": [
            "[Succeeded / Failed / Skipped / Total] 33 / 22 / 23 / 78:  78%|███████▊  | 78/100 [1:05:22<18:26, 50.28s/it]"
          ]
        },
        {
          "output_type": "stream",
          "name": "stdout",
          "text": [
            "--------------------------------------------- Result 78 ---------------------------------------------\n",
            "[[0 (91%)]] --> [[[FAILED]]]\n",
            "\n",
            "@username @username @username Girl shut up. you're an idiot you have no clue what you're talking about keep it moving ‍\n",
            "\n",
            "\n"
          ]
        },
        {
          "output_type": "stream",
          "name": "stderr",
          "text": [
            "[Succeeded / Failed / Skipped / Total] 33 / 22 / 24 / 79:  79%|███████▉  | 79/100 [1:05:24<17:23, 49.67s/it]"
          ]
        },
        {
          "output_type": "stream",
          "name": "stdout",
          "text": [
            "--------------------------------------------- Result 79 ---------------------------------------------\n",
            "[[2 (88%)]] --> [[[SKIPPED]]]\n",
            "\n",
            "@username As long as you try is all that matters my friend. Sometimes it will fail but failure is a great lear… \n",
            "\n",
            "\n"
          ]
        },
        {
          "output_type": "stream",
          "name": "stderr",
          "text": [
            "[Succeeded / Failed / Skipped / Total] 34 / 22 / 24 / 80:  80%|████████  | 80/100 [1:07:10<16:47, 50.38s/it]"
          ]
        },
        {
          "output_type": "stream",
          "name": "stdout",
          "text": [
            "--------------------------------------------- Result 80 ---------------------------------------------\n",
            "[[1 (94%)]] --> [[0 (66%)]]\n",
            "\n",
            "@[[username]] @username Depends on the [[area]] ur [[area]]... [[If]] u are [[around]] [[Ziks]] [[avenue]], Ogui, [[independence]] or [[new]] he… \n",
            "\n",
            "@[[usernaIme]] @username Depends on the [[apea]] ur [[arKea]]... [[Df]] u are [[aound]] [[iZks]] [[avense]], Ogui, [[indepedence]] or [[ew]] he… \n",
            "\n",
            "\n"
          ]
        },
        {
          "output_type": "stream",
          "name": "stderr",
          "text": [
            "[Succeeded / Failed / Skipped / Total] 35 / 22 / 24 / 81:  81%|████████  | 81/100 [1:07:55<15:56, 50.32s/it]"
          ]
        },
        {
          "output_type": "stream",
          "name": "stdout",
          "text": [
            "--------------------------------------------- Result 81 ---------------------------------------------\n",
            "[[1 (65%)]] --> [[0 (72%)]]\n",
            "\n",
            "@username we always had this and absolutely no one got bullied/took issues with it. it's a way of making [[sure]] the… \n",
            "\n",
            "@username we always had this and absolutely no one got bullied/took issues with it. it's a way of making [[usre]] the… \n",
            "\n",
            "\n"
          ]
        },
        {
          "output_type": "stream",
          "name": "stderr",
          "text": [
            "[Succeeded / Failed / Skipped / Total] 35 / 22 / 25 / 82:  82%|████████▏ | 82/100 [1:07:57<14:55, 49.73s/it]"
          ]
        },
        {
          "output_type": "stream",
          "name": "stdout",
          "text": [
            "--------------------------------------------- Result 82 ---------------------------------------------\n",
            "[[0 (61%)]] --> [[[SKIPPED]]]\n",
            "\n",
            "@username @username ....and how's this to help the folks and children there? Best to work w/@realDonaldTrump-… \n",
            "\n",
            "\n"
          ]
        },
        {
          "output_type": "stream",
          "name": "stderr",
          "text": [
            "[Succeeded / Failed / Skipped / Total] 35 / 22 / 26 / 83:  83%|████████▎ | 83/100 [1:07:59<13:55, 49.15s/it]"
          ]
        },
        {
          "output_type": "stream",
          "name": "stdout",
          "text": [
            "--------------------------------------------- Result 83 ---------------------------------------------\n",
            "[[0 (90%)]] --> [[[SKIPPED]]]\n",
            "\n",
            "@username @username He saw vid of babies dying, as skin melted and lungs quit working. Are you really shaming him… \n",
            "\n",
            "\n"
          ]
        },
        {
          "output_type": "stream",
          "name": "stderr",
          "text": [
            "[Succeeded / Failed / Skipped / Total] 35 / 22 / 27 / 84:  84%|████████▍ | 84/100 [1:08:01<12:57, 48.59s/it]"
          ]
        },
        {
          "output_type": "stream",
          "name": "stdout",
          "text": [
            "--------------------------------------------- Result 84 ---------------------------------------------\n",
            "[[2 (84%)]] --> [[[SKIPPED]]]\n",
            "\n",
            "Here are 4 (of many) useful plugins for vim: - vim-sensible - vim-surround - vim-repeat - vim-unimpaired See  @username\n",
            "\n",
            "\n"
          ]
        },
        {
          "output_type": "stream",
          "name": "stderr",
          "text": [
            "[Succeeded / Failed / Skipped / Total] 36 / 22 / 27 / 85:  85%|████████▌ | 85/100 [1:08:47<12:08, 48.56s/it]"
          ]
        },
        {
          "output_type": "stream",
          "name": "stdout",
          "text": [
            "--------------------------------------------- Result 85 ---------------------------------------------\n",
            "[[1 (47%)]] --> [[2 (45%)]]\n",
            "\n",
            "@username Patience lol trust me [[Jariel]] drives me crazy but I tell him k siga [[jodiendo]] he's still going \n",
            "\n",
            "@username Patience lol trust me [[aJriel]] drives me crazy but I tell him k siga [[jodiendy]] he's still going \n",
            "\n",
            "\n"
          ]
        },
        {
          "output_type": "stream",
          "name": "stderr",
          "text": [
            "[Succeeded / Failed / Skipped / Total] 37 / 22 / 27 / 86:  86%|████████▌ | 86/100 [1:09:32<11:19, 48.52s/it]"
          ]
        },
        {
          "output_type": "stream",
          "name": "stdout",
          "text": [
            "--------------------------------------------- Result 86 ---------------------------------------------\n",
            "[[0 (93%)]] --> [[1 (45%)]]\n",
            "\n",
            "RT @username I bet Bear Grylls' barbecues are [[awful]]. Everyone expecting burgers and sausages, whilst he roasts dog shits and boils pin…\n",
            "\n",
            "RT @username I bet Bear Grylls' barbecues are [[awufl]]. Everyone expecting burgers and sausages, whilst he roasts dog shits and boils pin…\n",
            "\n",
            "\n"
          ]
        },
        {
          "output_type": "stream",
          "name": "stderr",
          "text": [
            "[Succeeded / Failed / Skipped / Total] 38 / 22 / 27 / 87:  87%|████████▋ | 87/100 [1:10:04<10:28, 48.33s/it]"
          ]
        },
        {
          "output_type": "stream",
          "name": "stdout",
          "text": [
            "--------------------------------------------- Result 87 ---------------------------------------------\n",
            "[[1 (52%)]] --> [[0 (50%)]]\n",
            "\n",
            "@username @username @username @username @username @username y'all better [[see]] this or hands will be thrown\n",
            "\n",
            "@username @username @username @username @username @username y'all better [[sepe]] this or hands will be thrown\n",
            "\n",
            "\n"
          ]
        },
        {
          "output_type": "stream",
          "name": "stderr",
          "text": [
            "[Succeeded / Failed / Skipped / Total] 39 / 22 / 27 / 88:  88%|████████▊ | 88/100 [1:10:44<09:38, 48.23s/it]"
          ]
        },
        {
          "output_type": "stream",
          "name": "stdout",
          "text": [
            "--------------------------------------------- Result 88 ---------------------------------------------\n",
            "[[1 (69%)]] --> [[0 (59%)]]\n",
            "\n",
            "@username Wasn't [[empty]]. Helps ensure this doesn't happen again. It also sends a message to Iran and North Korea… \n",
            "\n",
            "@username Wasn't [[emptt]]. Helps ensure this doesn't happen again. It also sends a message to Iran and North Korea… \n",
            "\n",
            "\n"
          ]
        },
        {
          "output_type": "stream",
          "name": "stderr",
          "text": [
            "[Succeeded / Failed / Skipped / Total] 39 / 23 / 27 / 89:  89%|████████▉ | 89/100 [1:11:27<08:49, 48.18s/it]"
          ]
        },
        {
          "output_type": "stream",
          "name": "stdout",
          "text": [
            "--------------------------------------------- Result 89 ---------------------------------------------\n",
            "[[0 (86%)]] --> [[[FAILED]]]\n",
            "\n",
            "RT @username i cannot fucking breathe \n",
            "\n",
            "\n"
          ]
        },
        {
          "output_type": "stream",
          "name": "stderr",
          "text": [
            "[Succeeded / Failed / Skipped / Total] 40 / 23 / 27 / 90:  90%|█████████ | 90/100 [1:13:07<08:07, 48.75s/it]"
          ]
        },
        {
          "output_type": "stream",
          "name": "stdout",
          "text": [
            "--------------------------------------------- Result 90 ---------------------------------------------\n",
            "[[1 (77%)]] --> [[0 (50%)]]\n",
            "\n",
            "@[[username]] @username @[[username]] @[[username]] @[[username]] @[[username]] Take your [[pick]]. Any [[one]] that has [[overruled]]\n",
            "\n",
            "@[[usernme]] @username @[[usrename]] @[[usernaCme]] @[[usrename]] @[[usernape]] Take your [[piyck]]. Any [[oMne]] that has [[overrulde]]\n",
            "\n",
            "\n"
          ]
        },
        {
          "output_type": "stream",
          "name": "stderr",
          "text": [
            "[Succeeded / Failed / Skipped / Total] 40 / 23 / 28 / 91:  91%|█████████ | 91/100 [1:13:08<07:14, 48.23s/it]"
          ]
        },
        {
          "output_type": "stream",
          "name": "stdout",
          "text": [
            "--------------------------------------------- Result 91 ---------------------------------------------\n",
            "[[2 (66%)]] --> [[[SKIPPED]]]\n",
            "\n",
            "@username @username @username HELL FUCKING YEAH\n",
            "\n",
            "\n"
          ]
        },
        {
          "output_type": "stream",
          "name": "stderr",
          "text": [
            "[Succeeded / Failed / Skipped / Total] 41 / 23 / 28 / 92:  92%|█████████▏| 92/100 [1:14:25<06:28, 48.54s/it]"
          ]
        },
        {
          "output_type": "stream",
          "name": "stdout",
          "text": [
            "--------------------------------------------- Result 92 ---------------------------------------------\n",
            "[[0 (88%)]] --> [[1 (44%)]]\n",
            "\n",
            "RT @username . @username RETURN TO ME MY EGG [[FORME]] [[OR]] I WILL [[FUCKING]] OBLITERATE YOU WITH A KATANA I AM [[NOT]] [[PLAYING]]\n",
            "\n",
            "RT @username . @username RETURN TO ME MY EGG [[FORE]] [[O]] I WILL [[FUKCING]] OBLITERATE YOU WITH A KATANA I AM [[vOT]] [[PLAYIkG]]\n",
            "\n",
            "\n"
          ]
        },
        {
          "output_type": "stream",
          "name": "stderr",
          "text": [
            "[Succeeded / Failed / Skipped / Total] 42 / 23 / 28 / 93:  93%|█████████▎| 93/100 [1:14:57<05:38, 48.36s/it]"
          ]
        },
        {
          "output_type": "stream",
          "name": "stdout",
          "text": [
            "--------------------------------------------- Result 93 ---------------------------------------------\n",
            "[[1 (61%)]] --> [[0 (64%)]]\n",
            "\n",
            "Susan Rice And [[Why]] Cernovich Media Is Being Plagiarized! Mike Cernovich ...  via @username\n",
            "\n",
            "Susan Rice And [[Wgy]] Cernovich Media Is Being Plagiarized! Mike Cernovich ...  via @username\n",
            "\n",
            "\n"
          ]
        },
        {
          "output_type": "stream",
          "name": "stderr",
          "text": [
            "[Succeeded / Failed / Skipped / Total] 42 / 23 / 29 / 94:  94%|█████████▍| 94/100 [1:14:59<04:47, 47.86s/it]"
          ]
        },
        {
          "output_type": "stream",
          "name": "stdout",
          "text": [
            "--------------------------------------------- Result 94 ---------------------------------------------\n",
            "[[2 (97%)]] --> [[[SKIPPED]]]\n",
            "\n",
            "WOW @username I know we put lots of points on a few teams especially Leeds, But that was our best performance by far in 2017\n",
            "\n",
            "\n"
          ]
        },
        {
          "output_type": "stream",
          "name": "stderr",
          "text": [
            "[Succeeded / Failed / Skipped / Total] 43 / 23 / 29 / 95:  95%|█████████▌| 95/100 [1:16:07<04:00, 48.08s/it]"
          ]
        },
        {
          "output_type": "stream",
          "name": "stdout",
          "text": [
            "--------------------------------------------- Result 95 ---------------------------------------------\n",
            "[[1 (61%)]] --> [[0 (50%)]]\n",
            "\n",
            "@[[username]] @username I've never seen either in full. I only ever [[saw]] the [[Britney]] episode of [[Will]] and [[Grace]].\n",
            "\n",
            "@[[uesrname]] @username I've never seen either in full. I only ever [[saL]] the [[Brtney]] episode of [[iWll]] and [[GracHe]].\n",
            "\n",
            "\n"
          ]
        },
        {
          "output_type": "stream",
          "name": "stderr",
          "text": [
            "[Succeeded / Failed / Skipped / Total] 43 / 23 / 30 / 96:  96%|█████████▌| 96/100 [1:16:09<03:10, 47.60s/it]"
          ]
        },
        {
          "output_type": "stream",
          "name": "stdout",
          "text": [
            "--------------------------------------------- Result 96 ---------------------------------------------\n",
            "[[2 (77%)]] --> [[[SKIPPED]]]\n",
            "\n",
            "@username sure! if u dont find any near u i dont mind since its so cheap if i see them again the next time i go to daiso i will\n",
            "\n",
            "\n"
          ]
        },
        {
          "output_type": "stream",
          "name": "stderr",
          "text": [
            "[Succeeded / Failed / Skipped / Total] 44 / 23 / 30 / 97:  97%|█████████▋| 97/100 [1:17:22<02:23, 47.87s/it]"
          ]
        },
        {
          "output_type": "stream",
          "name": "stdout",
          "text": [
            "--------------------------------------------- Result 97 ---------------------------------------------\n",
            "[[1 (66%)]] --> [[2 (51%)]]\n",
            "\n",
            "@[[username]] @[[username]] [[ooc]] it makes sense to me; it [[means]] you have the full [[140]] [[characters]] to reply now.\n",
            "\n",
            "@[[usernnme]] @[[usernme]] [[oo]] it makes sense to me; it [[meanx]] you have the full [[p40]] [[charactesr]] to reply now.\n",
            "\n",
            "\n"
          ]
        },
        {
          "output_type": "stream",
          "name": "stderr",
          "text": [
            "[Succeeded / Failed / Skipped / Total] 44 / 24 / 30 / 98:  98%|█████████▊| 98/100 [1:19:14<01:37, 48.51s/it]"
          ]
        },
        {
          "output_type": "stream",
          "name": "stdout",
          "text": [
            "--------------------------------------------- Result 98 ---------------------------------------------\n",
            "[[1 (95%)]] --> [[[FAILED]]]\n",
            "\n",
            "LPW \"Mayhem\" on Saturday April 22 @username Elks Hall (128 School St) Clinton Ma  \n",
            "\n",
            "\n"
          ]
        },
        {
          "output_type": "stream",
          "name": "stderr",
          "text": [
            "[Succeeded / Failed / Skipped / Total] 44 / 25 / 30 / 99:  99%|█████████▉| 99/100 [1:21:42<00:49, 49.52s/it]"
          ]
        },
        {
          "output_type": "stream",
          "name": "stdout",
          "text": [
            "--------------------------------------------- Result 99 ---------------------------------------------\n",
            "[[0 (94%)]] --> [[[FAILED]]]\n",
            "\n",
            "RT @username If you're miserable don't come on my page. You are not wanted in my comment section. Don't bring your funky ass attitude arou…\n",
            "\n",
            "\n"
          ]
        },
        {
          "output_type": "stream",
          "name": "stderr",
          "text": [
            "[Succeeded / Failed / Skipped / Total] 44 / 25 / 31 / 100: 100%|██████████| 100/100 [1:21:44<00:00, 49.04s/it]"
          ]
        },
        {
          "output_type": "stream",
          "name": "stdout",
          "text": [
            "--------------------------------------------- Result 100 ---------------------------------------------\n",
            "[[0 (70%)]] --> [[[SKIPPED]]]\n",
            "\n",
            "@username So how you argue in favo of Outing being fit to have nuclear codes while supporting chemical murderer… \n",
            "\n",
            "\n",
            "\n",
            "+-------------------------------+--------+\n",
            "| Attack Results                |        |\n",
            "+-------------------------------+--------+\n",
            "| Number of successful attacks: | 44     |\n",
            "| Number of failed attacks:     | 25     |\n",
            "| Number of skipped attacks:    | 31     |\n",
            "| Original accuracy:            | 69.0%  |\n",
            "| Accuracy under attack:        | 25.0%  |\n",
            "| Attack success rate:          | 63.77% |\n",
            "| Average perturbed word %:     | 22.18% |\n",
            "| Average num. words per input: | 16.54  |\n",
            "| Avg num queries:              | 41.46  |\n",
            "+-------------------------------+--------+\n"
          ]
        },
        {
          "output_type": "stream",
          "name": "stderr",
          "text": [
            "\n"
          ]
        }
      ]
    },
    {
      "cell_type": "code",
      "source": [
        "a_dwb_res__list = [(res.original_text(), res.perturbed_text(), parse_label(res.goal_function_result_str())) for res in attack_results]\n",
        "with open('a_deepwordbug.pkl', 'wb') as f:\n",
        "    pickle.dump(a_dwb_res__list, f)"
      ],
      "metadata": {
        "id": "B8MxiXwh9aMi",
        "colab": {
          "base_uri": "https://localhost:8080/",
          "height": 218
        },
        "outputId": "fd67152e-4ebf-47f2-aa65-261379aeaabe"
      },
      "execution_count": null,
      "outputs": [
        {
          "output_type": "error",
          "ename": "NameError",
          "evalue": "ignored",
          "traceback": [
            "\u001b[0;31m---------------------------------------------------------------------------\u001b[0m",
            "\u001b[0;31mNameError\u001b[0m                                 Traceback (most recent call last)",
            "\u001b[0;32m<ipython-input-17-2ec540b31901>\u001b[0m in \u001b[0;36m<module>\u001b[0;34m()\u001b[0m\n\u001b[0;32m----> 1\u001b[0;31m \u001b[0ma_dwb_res__list\u001b[0m \u001b[0;34m=\u001b[0m \u001b[0;34m[\u001b[0m\u001b[0;34m(\u001b[0m\u001b[0mres\u001b[0m\u001b[0;34m.\u001b[0m\u001b[0moriginal_text\u001b[0m\u001b[0;34m(\u001b[0m\u001b[0;34m)\u001b[0m\u001b[0;34m,\u001b[0m \u001b[0mres\u001b[0m\u001b[0;34m.\u001b[0m\u001b[0mperturbed_text\u001b[0m\u001b[0;34m(\u001b[0m\u001b[0;34m)\u001b[0m\u001b[0;34m,\u001b[0m \u001b[0mparse_label\u001b[0m\u001b[0;34m(\u001b[0m\u001b[0mres\u001b[0m\u001b[0;34m.\u001b[0m\u001b[0mgoal_function_result_str\u001b[0m\u001b[0;34m(\u001b[0m\u001b[0;34m)\u001b[0m\u001b[0;34m)\u001b[0m\u001b[0;34m)\u001b[0m \u001b[0;32mfor\u001b[0m \u001b[0mres\u001b[0m \u001b[0;32min\u001b[0m \u001b[0mattack_results\u001b[0m\u001b[0;34m]\u001b[0m\u001b[0;34m\u001b[0m\u001b[0;34m\u001b[0m\u001b[0m\n\u001b[0m\u001b[1;32m      2\u001b[0m \u001b[0;32mwith\u001b[0m \u001b[0mopen\u001b[0m\u001b[0;34m(\u001b[0m\u001b[0;34m'a_deepwordbug.pkl'\u001b[0m\u001b[0;34m,\u001b[0m \u001b[0;34m'wb'\u001b[0m\u001b[0;34m)\u001b[0m \u001b[0;32mas\u001b[0m \u001b[0mf\u001b[0m\u001b[0;34m:\u001b[0m\u001b[0;34m\u001b[0m\u001b[0;34m\u001b[0m\u001b[0m\n\u001b[1;32m      3\u001b[0m     \u001b[0mpickle\u001b[0m\u001b[0;34m.\u001b[0m\u001b[0mdump\u001b[0m\u001b[0;34m(\u001b[0m\u001b[0ma_dwb_res__list\u001b[0m\u001b[0;34m,\u001b[0m \u001b[0mf\u001b[0m\u001b[0;34m)\u001b[0m\u001b[0;34m\u001b[0m\u001b[0;34m\u001b[0m\u001b[0m\n",
            "\u001b[0;31mNameError\u001b[0m: name 'attack_results' is not defined"
          ]
        }
      ]
    },
    {
      "cell_type": "code",
      "source": [
        "ta_model_wrapper = HuggingFaceModelWrapper(test_model,test_tokenizer)\n",
        "attack_ba = textattack.attack_recipes.bert_attack_li_2020.BERTAttackLi2020.build(ta_model_wrapper)\n",
        "attacker_ba = Attacker(attack_ba, textattack.datasets.Dataset(tuplify_dataset(neutralized_dataset[:100])))\n",
        "attacker_ba.attack_args.num_examples = -1\n",
        "attack_results_ba = attacker_ba.attack_dataset()\n",
        "\n",
        "a_ba_res__list = [(res.original_text(), res.perturbed_text(), parse_label(res.goal_function_result_str())) for res in attack_results_ba]\n",
        "with open('a_bertattack.pkl', 'wb') as f:\n",
        "    pickle.dump(a_ba_res__list, f)"
      ],
      "metadata": {
        "colab": {
          "base_uri": "https://localhost:8080/",
          "height": 1000,
          "referenced_widgets": [
            "9d43de28a6524377ab3a5c3e9b8e54ca",
            "174c9101aec7401994d9748cb4da461e",
            "40b494feccdf4b9a8c1e005792166847",
            "8ec6affc246940199afb234c5aec5fba",
            "7864e9fc6fa0479e91c48267fa1d2ad2",
            "af4fb918d9e7484b8ba3ae4badf3fa4d",
            "c9543b9d71b240ad8df13023b17ebb57",
            "d8e39ede42a1469e9659e7e8d91af110",
            "1a8cb15cc889416ca348d7a8382d8961",
            "40efb864aa39434cb8ddec1db636c24b",
            "7d05fd553e5e4efb92db15a64533a085",
            "bc8c585acf0a4907818f073e3f8c7464",
            "5b94d5a409d544b38d7fcb4c9888a561",
            "087589c5886e441d995dfd389865f07a",
            "c25c686f6ebf46ff8259a780a59b0f61",
            "380aa8e7c69b44d5983f8238740e7fc7",
            "7c590a27e3cf4691ad71ad46a0cad036",
            "c2632982eee748b8860caa1148d47ccb",
            "1cbb42bdc26e488d833f0c3bf3967909",
            "9eb9a54a0d4e4a31a52acf5f5258246c",
            "c7b9417b4a164a70b2b8bcf69a97ef6a",
            "d85f52bff73143f1ae6204935533cccf",
            "b879547b2fe84c8790f71e05290150f6",
            "00d35f0b42794febafff927246bba8e5",
            "125001b48ee04c59901578a224e1e35c",
            "8a08fe36992142a99dcbdf50e4438962",
            "8ed20e1ce1814a80b9b51e391e9839b1",
            "2419d1bcecfb483aba6cc8a983692b71",
            "8c1254cf4fbf40638edb596a889380dc",
            "5200f7ef191c4ea2ba28de4f82983419",
            "203e2883755a4f4890c067216edc1329",
            "a9cffe4bc5f6426f952a3433f892e231",
            "d09b5461414549328b5ad499ef38f119",
            "daf157bf44fd48aeaf332f9f7aacb738",
            "ca01e45985f54b3780840951bd282d15",
            "9929ea09b3b64e30b4a6621c6269a585",
            "e80d958369c642fb80f90e2680566b98",
            "72180d44cf094c63bdab6a359fc4bda4",
            "de2862a1301645b89cf40b3417f5fda0",
            "56b93e69de374ad2be1f415214e0be21"
          ]
        },
        "id": "TI644R-m_1JA",
        "outputId": "0e201734-f144-448c-fc11-d7a04bad50a6"
      },
      "execution_count": null,
      "outputs": [
        {
          "data": {
            "application/vnd.jupyter.widget-view+json": {
              "model_id": "9d43de28a6524377ab3a5c3e9b8e54ca",
              "version_major": 2,
              "version_minor": 0
            },
            "text/plain": [
              "HBox(children=(FloatProgress(value=0.0, description='Downloading', max=570.0, style=ProgressStyle(description_…"
            ]
          },
          "metadata": {},
          "output_type": "display_data"
        },
        {
          "metadata": {
            "tags": null
          },
          "name": "stdout",
          "output_type": "stream",
          "text": [
            "\n"
          ]
        },
        {
          "data": {
            "application/vnd.jupyter.widget-view+json": {
              "model_id": "1a8cb15cc889416ca348d7a8382d8961",
              "version_major": 2,
              "version_minor": 0
            },
            "text/plain": [
              "HBox(children=(FloatProgress(value=0.0, description='Downloading', max=440473133.0, style=ProgressStyle(descri…"
            ]
          },
          "metadata": {},
          "output_type": "display_data"
        },
        {
          "metadata": {
            "tags": null
          },
          "name": "stdout",
          "output_type": "stream",
          "text": [
            "\n"
          ]
        },
        {
          "metadata": {
            "tags": null
          },
          "name": "stderr",
          "output_type": "stream",
          "text": [
            "Some weights of the model checkpoint at bert-base-uncased were not used when initializing BertForMaskedLM: ['cls.seq_relationship.weight', 'cls.seq_relationship.bias']\n",
            "- This IS expected if you are initializing BertForMaskedLM from the checkpoint of a model trained on another task or with another architecture (e.g. initializing a BertForSequenceClassification model from a BertForPreTraining model).\n",
            "- This IS NOT expected if you are initializing BertForMaskedLM from the checkpoint of a model that you expect to be exactly identical (initializing a BertForSequenceClassification model from a BertForSequenceClassification model).\n"
          ]
        },
        {
          "data": {
            "application/vnd.jupyter.widget-view+json": {
              "model_id": "7c590a27e3cf4691ad71ad46a0cad036",
              "version_major": 2,
              "version_minor": 0
            },
            "text/plain": [
              "HBox(children=(FloatProgress(value=0.0, description='Downloading', max=28.0, style=ProgressStyle(description_w…"
            ]
          },
          "metadata": {},
          "output_type": "display_data"
        },
        {
          "metadata": {
            "tags": null
          },
          "name": "stdout",
          "output_type": "stream",
          "text": [
            "\n"
          ]
        },
        {
          "data": {
            "application/vnd.jupyter.widget-view+json": {
              "model_id": "125001b48ee04c59901578a224e1e35c",
              "version_major": 2,
              "version_minor": 0
            },
            "text/plain": [
              "HBox(children=(FloatProgress(value=0.0, description='Downloading', max=231508.0, style=ProgressStyle(descripti…"
            ]
          },
          "metadata": {},
          "output_type": "display_data"
        },
        {
          "metadata": {
            "tags": null
          },
          "name": "stdout",
          "output_type": "stream",
          "text": [
            "\n"
          ]
        },
        {
          "data": {
            "application/vnd.jupyter.widget-view+json": {
              "model_id": "d09b5461414549328b5ad499ef38f119",
              "version_major": 2,
              "version_minor": 0
            },
            "text/plain": [
              "HBox(children=(FloatProgress(value=0.0, description='Downloading', max=466062.0, style=ProgressStyle(descripti…"
            ]
          },
          "metadata": {},
          "output_type": "display_data"
        },
        {
          "metadata": {
            "tags": null
          },
          "name": "stdout",
          "output_type": "stream",
          "text": [
            "\n"
          ]
        },
        {
          "metadata": {
            "tags": null
          },
          "name": "stderr",
          "output_type": "stream",
          "text": [
            "textattack: Unknown if model of class <class 'transformers.models.roberta.modeling_roberta.RobertaForSequenceClassification'> compatible with goal function <class 'textattack.goal_functions.classification.untargeted_classification.UntargetedClassification'>.\n",
            "  0%|          | 0/100 [00:00<?, ?it/s]"
          ]
        },
        {
          "metadata": {
            "tags": null
          },
          "name": "stdout",
          "output_type": "stream",
          "text": [
            "Attack(\n",
            "  (search_method): GreedyWordSwapWIR(\n",
            "    (wir_method):  unk\n",
            "  )\n",
            "  (goal_function):  UntargetedClassification\n",
            "  (transformation):  WordSwapMaskedLM(\n",
            "    (method):  bert-attack\n",
            "    (masked_lm_name):  BertForMaskedLM\n",
            "    (max_length):  512\n",
            "    (max_candidates):  48\n",
            "    (min_confidence):  0.0005\n",
            "  )\n",
            "  (constraints): \n",
            "    (0): MaxWordsPerturbed(\n",
            "        (max_percent):  0.4\n",
            "        (compare_against_original):  True\n",
            "      )\n",
            "    (1): UniversalSentenceEncoder(\n",
            "        (metric):  cosine\n",
            "        (threshold):  0.2\n",
            "        (window_size):  inf\n",
            "        (skip_text_shorter_than_window):  False\n",
            "        (compare_against_original):  True\n",
            "      )\n",
            "    (2): RepeatModification\n",
            "    (3): StopwordModification\n",
            "  (is_black_box):  True\n",
            ") \n",
            "\n"
          ]
        },
        {
          "metadata": {
            "tags": null
          },
          "name": "stderr",
          "output_type": "stream",
          "text": [
            "[Succeeded / Failed / Skipped / Total] 1 / 0 / 0 / 1:   1%|          | 1/100 [08:03<13:18:08, 483.73s/it]"
          ]
        },
        {
          "metadata": {
            "tags": null
          },
          "name": "stdout",
          "output_type": "stream",
          "text": [
            "--------------------------------------------- Result 1 ---------------------------------------------\n",
            "[[1 (91%)]] --> [[2 (71%)]]\n",
            "\n",
            "#[[NowPlaying]] on Activ Radio 90 FM : [[Kaleo]] - [[Way]] down we go (TOP24H #charts : 4th) @username @username #[[Music]]… \n",
            "\n",
            "#[[nowplayy]] on Activ Radio 90 FM : [[kaleah]] - [[hands]] down we go (TOP24H #charts : 4th) @username @username #[[best]]… \n",
            "\n",
            "\n"
          ]
        },
        {
          "metadata": {
            "tags": null
          },
          "name": "stderr",
          "output_type": "stream",
          "text": [
            "[Succeeded / Failed / Skipped / Total] 2 / 0 / 0 / 2:   2%|▏         | 2/100 [11:10<9:07:58, 335.49s/it]"
          ]
        },
        {
          "metadata": {
            "tags": null
          },
          "name": "stdout",
          "output_type": "stream",
          "text": [
            "--------------------------------------------- Result 2 ---------------------------------------------\n",
            "[[0 (87%)]] --> [[1 (51%)]]\n",
            "\n",
            "RT @username That dude done [[fucked]] up by saying \"everything you want\" does he not realize just 1 [[liquid]] lipstick is gonna run hi…\n",
            "\n",
            "RT @username That dude done [[turned]] up by saying \"everything you want\" does he not realize just 1 [[full]] lipstick is gonna run hi…\n",
            "\n",
            "\n"
          ]
        },
        {
          "metadata": {
            "tags": null
          },
          "name": "stderr",
          "output_type": "stream",
          "text": [
            "[Succeeded / Failed / Skipped / Total] 3 / 0 / 0 / 3:   3%|▎         | 3/100 [12:55<6:58:04, 258.60s/it]"
          ]
        },
        {
          "metadata": {
            "tags": null
          },
          "name": "stdout",
          "output_type": "stream",
          "text": [
            "--------------------------------------------- Result 3 ---------------------------------------------\n",
            "[[0 (92%)]] --> [[2 (39%)]]\n",
            "\n",
            "RT @username I was so into you but you [[fucked]] that up\n",
            "\n",
            "RT @username I was so into you but you [[did]] that up\n",
            "\n",
            "\n"
          ]
        },
        {
          "metadata": {
            "tags": null
          },
          "name": "stderr",
          "output_type": "stream",
          "text": [
            "[Succeeded / Failed / Skipped / Total] 4 / 0 / 0 / 4:   4%|▍         | 4/100 [16:04<6:25:51, 241.16s/it]"
          ]
        },
        {
          "metadata": {
            "tags": null
          },
          "name": "stdout",
          "output_type": "stream",
          "text": [
            "--------------------------------------------- Result 4 ---------------------------------------------\n",
            "[[0 (93%)]] --> [[2 (36%)]]\n",
            "\n",
            "RT @username this just emphasizes how [[fucked]] up this society is people bashing a protective boyfriend [[instead]] of saying smth about disre…\n",
            "\n",
            "RT @username this just emphasizes how [[good]] up this society is people bashing a protective boyfriend [[out]] of saying smth about disre…\n",
            "\n",
            "\n"
          ]
        },
        {
          "metadata": {
            "tags": null
          },
          "name": "stderr",
          "output_type": "stream",
          "text": [
            "[Succeeded / Failed / Skipped / Total] 4 / 0 / 1 / 5:   5%|▌         | 5/100 [16:06<5:06:06, 193.33s/it]"
          ]
        },
        {
          "metadata": {
            "tags": null
          },
          "name": "stdout",
          "output_type": "stream",
          "text": [
            "--------------------------------------------- Result 5 ---------------------------------------------\n",
            "[[2 (96%)]] --> [[[SKIPPED]]]\n",
            "\n",
            "@username Good morning Maddie xx @username @username @username @username @username @username @username\n",
            "\n",
            "\n"
          ]
        },
        {
          "metadata": {
            "tags": null
          },
          "name": "stderr",
          "output_type": "stream",
          "text": [
            "[Succeeded / Failed / Skipped / Total] 5 / 0 / 1 / 6:   6%|▌         | 6/100 [17:20<4:31:39, 173.40s/it]"
          ]
        },
        {
          "metadata": {
            "tags": null
          },
          "name": "stdout",
          "output_type": "stream",
          "text": [
            "--------------------------------------------- Result 6 ---------------------------------------------\n",
            "[[0 (50%)]] --> [[1 (55%)]]\n",
            "\n",
            "RT @username [[Fucking]] mood \n",
            "\n",
            "RT @username [[damn]] mood \n",
            "\n",
            "\n"
          ]
        },
        {
          "metadata": {
            "tags": null
          },
          "name": "stderr",
          "output_type": "stream",
          "text": [
            "[Succeeded / Failed / Skipped / Total] 5 / 0 / 2 / 7:   7%|▋         | 7/100 [17:22<3:50:49, 148.92s/it]"
          ]
        },
        {
          "metadata": {
            "tags": null
          },
          "name": "stdout",
          "output_type": "stream",
          "text": [
            "--------------------------------------------- Result 7 ---------------------------------------------\n",
            "[[2 (99%)]] --> [[[SKIPPED]]]\n",
            "\n",
            "@username You are one of my faves and getting followed by you would make me the happiest person alive. Have a good day/night! \n",
            "\n",
            "\n"
          ]
        },
        {
          "metadata": {
            "tags": null
          },
          "name": "stderr",
          "output_type": "stream",
          "text": [
            "[Succeeded / Failed / Skipped / Total] 5 / 0 / 3 / 8:   8%|▊         | 8/100 [17:24<3:20:10, 130.55s/it]"
          ]
        },
        {
          "metadata": {
            "tags": null
          },
          "name": "stdout",
          "output_type": "stream",
          "text": [
            "--------------------------------------------- Result 8 ---------------------------------------------\n",
            "[[2 (99%)]] --> [[[SKIPPED]]]\n",
            "\n",
            "@username @username Thank you for follow! Glad to see you!  \n",
            "\n",
            "\n"
          ]
        },
        {
          "metadata": {
            "tags": null
          },
          "name": "stderr",
          "output_type": "stream",
          "text": [
            "[Succeeded / Failed / Skipped / Total] 6 / 0 / 3 / 9:   9%|▉         | 9/100 [18:51<3:10:42, 125.74s/it]"
          ]
        },
        {
          "metadata": {
            "tags": null
          },
          "name": "stdout",
          "output_type": "stream",
          "text": [
            "--------------------------------------------- Result 9 ---------------------------------------------\n",
            "[[0 (76%)]] --> [[1 (47%)]]\n",
            "\n",
            "RT @username It's about [[time]] I stopped fucking up\n",
            "\n",
            "RT @username It's about [[way]] I stopped fucking up\n",
            "\n",
            "\n"
          ]
        },
        {
          "metadata": {
            "tags": null
          },
          "name": "stderr",
          "output_type": "stream",
          "text": [
            "[Succeeded / Failed / Skipped / Total] 7 / 0 / 3 / 10:  10%|█         | 10/100 [20:27<3:04:04, 122.72s/it]"
          ]
        },
        {
          "metadata": {
            "tags": null
          },
          "name": "stdout",
          "output_type": "stream",
          "text": [
            "--------------------------------------------- Result 10 ---------------------------------------------\n",
            "[[0 (71%)]] --> [[1 (51%)]]\n",
            "\n",
            "RT @[[username]] Bad bitches don't take days off \n",
            "\n",
            "RT @[[userpage]] Bad bitches don't take days off \n",
            "\n",
            "\n"
          ]
        },
        {
          "metadata": {
            "tags": null
          },
          "name": "stderr",
          "output_type": "stream",
          "text": [
            "[Succeeded / Failed / Skipped / Total] 8 / 0 / 3 / 11:  11%|█         | 11/100 [22:23<3:01:07, 122.11s/it]"
          ]
        },
        {
          "metadata": {
            "tags": null
          },
          "name": "stdout",
          "output_type": "stream",
          "text": [
            "--------------------------------------------- Result 11 ---------------------------------------------\n",
            "[[0 (91%)]] --> [[2 (79%)]]\n",
            "\n",
            "RT @username Man everything is so fucking [[expensive]] now. $60 games. $15 skins. $3.75 gas/gallon Thank god you can save 10% off lootcr…\n",
            "\n",
            "RT @username Man everything is so fucking [[cheaper]] now. $60 games. $15 skins. $3.75 gas/gallon Thank god you can save 10% off lootcr…\n",
            "\n",
            "\n"
          ]
        },
        {
          "metadata": {
            "tags": null
          },
          "name": "stderr",
          "output_type": "stream",
          "text": [
            "[Succeeded / Failed / Skipped / Total] 9 / 0 / 3 / 12:  12%|█▏        | 12/100 [24:07<2:56:53, 120.61s/it]"
          ]
        },
        {
          "metadata": {
            "tags": null
          },
          "name": "stdout",
          "output_type": "stream",
          "text": [
            "--------------------------------------------- Result 12 ---------------------------------------------\n",
            "[[0 (89%)]] --> [[1 (52%)]]\n",
            "\n",
            "RT @username As soon as u brag about a niggah they start [[fucking]] up ️\n",
            "\n",
            "RT @username As soon as u brag about a niggah they start [[so]] up ️\n",
            "\n",
            "\n"
          ]
        },
        {
          "metadata": {
            "tags": null
          },
          "name": "stderr",
          "output_type": "stream",
          "text": [
            "[Succeeded / Failed / Skipped / Total] 9 / 0 / 4 / 13:  13%|█▎        | 13/100 [24:09<2:41:39, 111.49s/it]"
          ]
        },
        {
          "metadata": {
            "tags": null
          },
          "name": "stdout",
          "output_type": "stream",
          "text": [
            "--------------------------------------------- Result 13 ---------------------------------------------\n",
            "[[2 (59%)]] --> [[[SKIPPED]]]\n",
            "\n",
            "@username This is mine and my older sisters song. We always do the scene from Bridesmaids, we are gonna do it at her wedding nxt yr \n",
            "\n",
            "\n"
          ]
        },
        {
          "metadata": {
            "tags": null
          },
          "name": "stderr",
          "output_type": "stream",
          "text": [
            "[Succeeded / Failed / Skipped / Total] 10 / 0 / 4 / 14:  14%|█▍        | 14/100 [30:58<3:10:14, 132.73s/it]"
          ]
        },
        {
          "metadata": {
            "tags": null
          },
          "name": "stdout",
          "output_type": "stream",
          "text": [
            "--------------------------------------------- Result 14 ---------------------------------------------\n",
            "[[1 (92%)]] --> [[0 (54%)]]\n",
            "\n",
            "The Outwaste : Se 1 Ep 169 '[[Deacon's]] Donut Dilemma' ([[Let's]] [[Survive]] Fallo...  [[via]] @username\n",
            "\n",
            "The Outwaste : Se 1 Ep 169 '[[deacon']]) Donut Dilemma' ([[let]].( [[stop]] Fallo...  [[re]] @username\n",
            "\n",
            "\n"
          ]
        },
        {
          "metadata": {
            "tags": null
          },
          "name": "stderr",
          "output_type": "stream",
          "text": [
            "[Succeeded / Failed / Skipped / Total] 10 / 0 / 5 / 15:  15%|█▌        | 15/100 [31:00<2:55:40, 124.01s/it]"
          ]
        },
        {
          "metadata": {
            "tags": null
          },
          "name": "stdout",
          "output_type": "stream",
          "text": [
            "--------------------------------------------- Result 15 ---------------------------------------------\n",
            "[[2 (53%)]] --> [[[SKIPPED]]]\n",
            "\n",
            "@username The U.S. luxury electric car maker, jumped 69 percent from a year ago to a quarterly record of 25,000… \n",
            "\n",
            "\n"
          ]
        },
        {
          "metadata": {
            "tags": null
          },
          "name": "stderr",
          "output_type": "stream",
          "text": [
            "[Succeeded / Failed / Skipped / Total] 11 / 0 / 5 / 16:  16%|█▌        | 16/100 [33:45<2:57:15, 126.62s/it]"
          ]
        },
        {
          "metadata": {
            "tags": null
          },
          "name": "stdout",
          "output_type": "stream",
          "text": [
            "--------------------------------------------- Result 16 ---------------------------------------------\n",
            "[[0 (93%)]] --> [[1 (64%)]]\n",
            "\n",
            "RT @username We're living in the [[dumbest]] [[fucking]] mobster movie imaginable. \n",
            "\n",
            "RT @username We're living in the [[dumbleast]] [[du]] mobster movie imaginable. \n",
            "\n",
            "\n"
          ]
        },
        {
          "metadata": {
            "tags": null
          },
          "name": "stderr",
          "output_type": "stream",
          "text": [
            "[Succeeded / Failed / Skipped / Total] 12 / 0 / 5 / 17:  17%|█▋        | 17/100 [36:39<2:59:01, 129.41s/it]"
          ]
        },
        {
          "metadata": {
            "tags": null
          },
          "name": "stdout",
          "output_type": "stream",
          "text": [
            "--------------------------------------------- Result 17 ---------------------------------------------\n",
            "[[0 (79%)]] --> [[1 (55%)]]\n",
            "\n",
            "RT @username [[bitches]] be boosie bad ass until it time to fight. then they a no [[show]]\n",
            "\n",
            "RT @username [[bitchi]] be boosie bad ass until it time to fight. then they a no [[shows]]\n",
            "\n",
            "\n"
          ]
        },
        {
          "metadata": {
            "tags": null
          },
          "name": "stderr",
          "output_type": "stream",
          "text": [
            "[Succeeded / Failed / Skipped / Total] 13 / 0 / 5 / 18:  18%|█▊        | 18/100 [38:23<2:54:51, 127.94s/it]"
          ]
        },
        {
          "metadata": {
            "tags": null
          },
          "name": "stdout",
          "output_type": "stream",
          "text": [
            "--------------------------------------------- Result 18 ---------------------------------------------\n",
            "[[0 (74%)]] --> [[1 (53%)]]\n",
            "\n",
            "RT @username i need to find someone who can handle my [[fucked]] up mind.\n",
            "\n",
            "RT @username i need to find someone who can handle my [[wrecked]] up mind.\n",
            "\n",
            "\n"
          ]
        },
        {
          "metadata": {
            "tags": null
          },
          "name": "stderr",
          "output_type": "stream",
          "text": [
            "[Succeeded / Failed / Skipped / Total] 14 / 0 / 5 / 19:  19%|█▉        | 19/100 [40:00<2:50:32, 126.33s/it]"
          ]
        },
        {
          "metadata": {
            "tags": null
          },
          "name": "stdout",
          "output_type": "stream",
          "text": [
            "--------------------------------------------- Result 19 ---------------------------------------------\n",
            "[[0 (71%)]] --> [[1 (51%)]]\n",
            "\n",
            "RT @[[username]] Bad bitches don't take days off \n",
            "\n",
            "RT @[[userpage]] Bad bitches don't take days off \n",
            "\n",
            "\n"
          ]
        },
        {
          "metadata": {
            "tags": null
          },
          "name": "stderr",
          "output_type": "stream",
          "text": [
            "[Succeeded / Failed / Skipped / Total] 15 / 0 / 5 / 20:  20%|██        | 20/100 [41:27<2:45:51, 124.39s/it]"
          ]
        },
        {
          "metadata": {
            "tags": null
          },
          "name": "stdout",
          "output_type": "stream",
          "text": [
            "--------------------------------------------- Result 20 ---------------------------------------------\n",
            "[[0 (93%)]] --> [[1 (50%)]]\n",
            "\n",
            "RT @username can u maybe [[fucking]] not do that or something\n",
            "\n",
            "RT @username can u maybe [[or]] not do that or something\n",
            "\n",
            "\n"
          ]
        },
        {
          "metadata": {
            "tags": null
          },
          "name": "stderr",
          "output_type": "stream",
          "text": [
            "[Succeeded / Failed / Skipped / Total] 16 / 0 / 5 / 21:  21%|██        | 21/100 [43:15<2:42:45, 123.61s/it]"
          ]
        },
        {
          "metadata": {
            "tags": null
          },
          "name": "stdout",
          "output_type": "stream",
          "text": [
            "--------------------------------------------- Result 21 ---------------------------------------------\n",
            "[[1 (67%)]] --> [[2 (57%)]]\n",
            "\n",
            "@username @username @username I would probably purchased that game [[first]] for the Wii-U Then later for Nin Switch \n",
            "\n",
            "@username @username @username I would probably purchased that game [[again]] for the Wii-U Then later for Nin Switch \n",
            "\n",
            "\n"
          ]
        },
        {
          "metadata": {
            "tags": null
          },
          "name": "stderr",
          "output_type": "stream",
          "text": [
            "[Succeeded / Failed / Skipped / Total] 17 / 0 / 5 / 22:  22%|██▏       | 22/100 [47:52<2:49:45, 130.58s/it]"
          ]
        },
        {
          "metadata": {
            "tags": null
          },
          "name": "stdout",
          "output_type": "stream",
          "text": [
            "--------------------------------------------- Result 22 ---------------------------------------------\n",
            "[[1 (92%)]] --> [[2 (55%)]]\n",
            "\n",
            "Rabah Al-Hussaini set to debut for @username vs Star [[tonight]]. He already [[practiced]] 3x w/ d team since [[traded]] by @username @username\n",
            "\n",
            "Rabah Al-Hussaini set to debut for @username vs Star [[project]]. He already [[qualified]] 3x w/ d team since [[discovered]] by @username @username\n",
            "\n",
            "\n"
          ]
        },
        {
          "metadata": {
            "tags": null
          },
          "name": "stderr",
          "output_type": "stream",
          "text": [
            "[Succeeded / Failed / Skipped / Total] 18 / 0 / 5 / 23:  23%|██▎       | 23/100 [53:05<2:57:44, 138.50s/it]"
          ]
        },
        {
          "metadata": {
            "tags": null
          },
          "name": "stdout",
          "output_type": "stream",
          "text": [
            "--------------------------------------------- Result 23 ---------------------------------------------\n",
            "[[0 (88%)]] --> [[1 (63%)]]\n",
            "\n",
            "RT @username [[Idiot]] shoots idiot at [[idiot]] [[headquarters]]. @[[username]] \n",
            "\n",
            "RT @username [[foolish]] shoots idiot at [[fool]] [[deployment]]. @[[user]]) \n",
            "\n",
            "\n"
          ]
        },
        {
          "metadata": {
            "tags": null
          },
          "name": "stderr",
          "output_type": "stream",
          "text": [
            "[Succeeded / Failed / Skipped / Total] 18 / 0 / 6 / 24:  24%|██▍       | 24/100 [53:07<2:48:14, 132.83s/it]"
          ]
        },
        {
          "metadata": {
            "tags": null
          },
          "name": "stdout",
          "output_type": "stream",
          "text": [
            "--------------------------------------------- Result 24 ---------------------------------------------\n",
            "[[2 (79%)]] --> [[[SKIPPED]]]\n",
            "\n",
            "\"Baser Amer is a big reason why Meralco is 4-0.\" @username talks about @username solid start in the PBA Commis… \n",
            "\n",
            "\n"
          ]
        },
        {
          "metadata": {
            "tags": null
          },
          "name": "stderr",
          "output_type": "stream",
          "text": [
            "[Succeeded / Failed / Skipped / Total] 19 / 0 / 6 / 25:  25%|██▌       | 25/100 [1:01:01<3:03:04, 146.46s/it]"
          ]
        },
        {
          "metadata": {
            "tags": null
          },
          "name": "stdout",
          "output_type": "stream",
          "text": [
            "--------------------------------------------- Result 25 ---------------------------------------------\n",
            "[[1 (95%)]] --> [[2 (68%)]]\n",
            "\n",
            "#NowOn BADAMALA on @[[username]] by Brothers Videos [[Official]] -  Tuesday, April 4th, [[2017]] - 08:[[39]]:[[20]] [[PM]]\n",
            "\n",
            "#NowOn BADAMALA on @[[youtubealso]] by Brothers Videos [[best]] -  Tuesday, April 4th, [[all]] - 08:[[11]]:[[5]] [[is]]\n",
            "\n",
            "\n"
          ]
        },
        {
          "metadata": {
            "tags": null
          },
          "name": "stderr",
          "output_type": "stream",
          "text": [
            "[Succeeded / Failed / Skipped / Total] 19 / 0 / 7 / 26:  26%|██▌       | 26/100 [1:01:03<2:53:48, 140.92s/it]"
          ]
        },
        {
          "metadata": {
            "tags": null
          },
          "name": "stdout",
          "output_type": "stream",
          "text": [
            "--------------------------------------------- Result 26 ---------------------------------------------\n",
            "[[0 (89%)]] --> [[[SKIPPED]]]\n",
            "\n",
            "@username @username @username Leaky isn’t an archaeologist. your level of knowledge is woeful\n",
            "\n",
            "\n"
          ]
        },
        {
          "metadata": {
            "tags": null
          },
          "name": "stderr",
          "output_type": "stream",
          "text": [
            "[Succeeded / Failed / Skipped / Total] 20 / 0 / 7 / 27:  27%|██▋       | 27/100 [1:02:52<2:49:59, 139.72s/it]"
          ]
        },
        {
          "metadata": {
            "tags": null
          },
          "name": "stdout",
          "output_type": "stream",
          "text": [
            "--------------------------------------------- Result 27 ---------------------------------------------\n",
            "[[0 (71%)]] --> [[1 (50%)]]\n",
            "\n",
            "Islamic State says U.S. 'being run by an [[idiot']]  by #elcitizen via @username \n",
            "\n",
            "Islamic State says U.S. 'being run by an [[idiota]]  by #elcitizen via @username \n",
            "\n",
            "\n"
          ]
        },
        {
          "metadata": {
            "tags": null
          },
          "name": "stderr",
          "output_type": "stream",
          "text": [
            "[Succeeded / Failed / Skipped / Total] 20 / 0 / 8 / 28:  28%|██▊       | 28/100 [1:02:54<2:41:46, 134.81s/it]"
          ]
        },
        {
          "metadata": {
            "tags": null
          },
          "name": "stdout",
          "output_type": "stream",
          "text": [
            "--------------------------------------------- Result 28 ---------------------------------------------\n",
            "[[0 (54%)]] --> [[[SKIPPED]]]\n",
            "\n",
            "@username Bannon would be forced to stay cause he knows too much and would flip. #Blackmail #Russiagate\n",
            "\n",
            "\n"
          ]
        },
        {
          "metadata": {
            "tags": null
          },
          "name": "stderr",
          "output_type": "stream",
          "text": [
            "[Succeeded / Failed / Skipped / Total] 20 / 0 / 9 / 29:  29%|██▉       | 29/100 [1:02:56<2:34:06, 130.24s/it]"
          ]
        },
        {
          "metadata": {
            "tags": null
          },
          "name": "stdout",
          "output_type": "stream",
          "text": [
            "--------------------------------------------- Result 29 ---------------------------------------------\n",
            "[[1 (52%)]] --> [[[SKIPPED]]]\n",
            "\n",
            "RT @username When you fucking her like a pornstar and she start shaking having convulsions like she's possessed \n",
            "\n",
            "\n"
          ]
        },
        {
          "metadata": {
            "tags": null
          },
          "name": "stderr",
          "output_type": "stream",
          "text": [
            "[Succeeded / Failed / Skipped / Total] 21 / 0 / 9 / 30:  30%|███       | 30/100 [1:04:28<2:30:25, 128.93s/it]"
          ]
        },
        {
          "metadata": {
            "tags": null
          },
          "name": "stdout",
          "output_type": "stream",
          "text": [
            "--------------------------------------------- Result 30 ---------------------------------------------\n",
            "[[0 (89%)]] --> [[2 (90%)]]\n",
            "\n",
            "RT @username i've been so [[fucking]] sleepy all day man\n",
            "\n",
            "RT @username i've been so [[great]] sleepy all day man\n",
            "\n",
            "\n"
          ]
        },
        {
          "metadata": {
            "tags": null
          },
          "name": "stderr",
          "output_type": "stream",
          "text": [
            "[Succeeded / Failed / Skipped / Total] 21 / 0 / 10 / 31:  31%|███       | 31/100 [1:04:30<2:23:34, 124.85s/it]"
          ]
        },
        {
          "metadata": {
            "tags": null
          },
          "name": "stdout",
          "output_type": "stream",
          "text": [
            "--------------------------------------------- Result 31 ---------------------------------------------\n",
            "[[1 (64%)]] --> [[[SKIPPED]]]\n",
            "\n",
            "Drew Buckz X @username X @username - Fucking That Work Up Out Now !!!!!!   \n",
            "\n",
            "\n"
          ]
        },
        {
          "metadata": {
            "tags": null
          },
          "name": "stderr",
          "output_type": "stream",
          "text": [
            "[Succeeded / Failed / Skipped / Total] 22 / 0 / 10 / 32:  32%|███▏      | 32/100 [1:06:07<2:20:31, 123.99s/it]"
          ]
        },
        {
          "metadata": {
            "tags": null
          },
          "name": "stdout",
          "output_type": "stream",
          "text": [
            "--------------------------------------------- Result 32 ---------------------------------------------\n",
            "[[0 (92%)]] --> [[1 (56%)]]\n",
            "\n",
            "CSUS the immigrant rapist scrub saga... [[FUCKING]] SCRUB! CA GOV Jamie Barnes TLC - No Scrubs  via @username\n",
            "\n",
            "CSUS the immigrant rapist scrub saga... [[with]] SCRUB! CA GOV Jamie Barnes TLC - No Scrubs  via @username\n",
            "\n",
            "\n"
          ]
        },
        {
          "metadata": {
            "tags": null
          },
          "name": "stderr",
          "output_type": "stream",
          "text": [
            "[Succeeded / Failed / Skipped / Total] 23 / 0 / 10 / 33:  33%|███▎      | 33/100 [1:07:32<2:17:08, 122.81s/it]"
          ]
        },
        {
          "metadata": {
            "tags": null
          },
          "name": "stdout",
          "output_type": "stream",
          "text": [
            "--------------------------------------------- Result 33 ---------------------------------------------\n",
            "[[0 (94%)]] --> [[2 (39%)]]\n",
            "\n",
            "@username That shit looks so [[weak]]!!!!! Just throw on a Miles Davis record\n",
            "\n",
            "@username That shit looks so [[weakness]]!!!!! Just throw on a Miles Davis record\n",
            "\n",
            "\n"
          ]
        },
        {
          "output_type": "stream",
          "name": "stderr",
          "text": [
            "[Succeeded / Failed / Skipped / Total] 24 / 0 / 10 / 34:  34%|███▍      | 34/100 [1:12:54<2:21:31, 128.66s/it]"
          ]
        },
        {
          "output_type": "stream",
          "name": "stdout",
          "text": [
            "--------------------------------------------- Result 34 ---------------------------------------------\n",
            "[[1 (89%)]] --> [[2 (51%)]]\n",
            "\n",
            "This week on the podcast @[[username]] [[joins]] us to discuss [[student]] [[loans]] and financial aid. Subscribe here!… \n",
            "\n",
            "This week on the podcast @[[user]]! [[introduced]] us to discuss [[opportunity]] [[grants]] and financial aid. Subscribe here!… \n",
            "\n",
            "\n"
          ]
        },
        {
          "output_type": "stream",
          "name": "stderr",
          "text": [
            "[Succeeded / Failed / Skipped / Total] 24 / 0 / 11 / 35:  35%|███▌      | 35/100 [1:12:56<2:15:28, 125.05s/it]"
          ]
        },
        {
          "output_type": "stream",
          "name": "stdout",
          "text": [
            "--------------------------------------------- Result 35 ---------------------------------------------\n",
            "[[2 (97%)]] --> [[[SKIPPED]]]\n",
            "\n",
            "@username Just woke up and gonna curl up on the sofa and watch Moana again  hope you guys had a good night! \n",
            "\n",
            "\n"
          ]
        },
        {
          "output_type": "stream",
          "name": "stderr",
          "text": [
            "[Succeeded / Failed / Skipped / Total] 24 / 0 / 12 / 36:  36%|███▌      | 36/100 [1:12:59<2:09:45, 121.65s/it]"
          ]
        },
        {
          "output_type": "stream",
          "name": "stdout",
          "text": [
            "--------------------------------------------- Result 36 ---------------------------------------------\n",
            "[[2 (80%)]] --> [[[SKIPPED]]]\n",
            "\n",
            "@username @username @username @username @username You're welcome Annie and Nessa. (Goes to her fa… \n",
            "\n",
            "\n"
          ]
        },
        {
          "output_type": "stream",
          "name": "stderr",
          "text": [
            "[Succeeded / Failed / Skipped / Total] 25 / 0 / 12 / 37:  37%|███▋      | 37/100 [1:14:41<2:07:11, 121.13s/it]"
          ]
        },
        {
          "output_type": "stream",
          "name": "stdout",
          "text": [
            "--------------------------------------------- Result 37 ---------------------------------------------\n",
            "[[0 (45%)]] --> [[2 (38%)]]\n",
            "\n",
            "@username I love you immensely but D A M N you need to give a girl a warning. I damn near had a heart [[attack]] \n",
            "\n",
            "@username I love you immensely but D A M N you need to give a girl a warning. I damn near had a heart [[down]] \n",
            "\n",
            "\n"
          ]
        },
        {
          "output_type": "stream",
          "name": "stderr",
          "text": [
            "[Succeeded / Failed / Skipped / Total] 26 / 0 / 12 / 38:  38%|███▊      | 38/100 [1:16:15<2:04:25, 120.41s/it]"
          ]
        },
        {
          "output_type": "stream",
          "name": "stdout",
          "text": [
            "--------------------------------------------- Result 38 ---------------------------------------------\n",
            "[[1 (53%)]] --> [[2 (56%)]]\n",
            "\n",
            "regrann from @username - Confident at very competitive ang ating mga [[celebrity]] guests na… \n",
            "\n",
            "regrann from @username - Confident at very competitive ang ating mga [[famous]] guests na… \n",
            "\n",
            "\n"
          ]
        },
        {
          "output_type": "stream",
          "name": "stderr",
          "text": [
            "[Succeeded / Failed / Skipped / Total] 27 / 0 / 12 / 39:  39%|███▉      | 39/100 [1:22:17<2:08:42, 126.60s/it]"
          ]
        },
        {
          "output_type": "stream",
          "name": "stdout",
          "text": [
            "--------------------------------------------- Result 39 ---------------------------------------------\n",
            "[[0 (86%)]] --> [[1 (50%)]]\n",
            "\n",
            "[[RT]] @[[username]] [[You]] can't make me look stupid cause I'm already [[retarded]]\n",
            "\n",
            "[[tr]] @[[userinterface]] [[me]] can't make me look stupid cause I'm already [[retaract]]\n",
            "\n",
            "\n"
          ]
        },
        {
          "output_type": "stream",
          "name": "stderr",
          "text": [
            "[Succeeded / Failed / Skipped / Total] 27 / 0 / 13 / 40:  40%|████      | 40/100 [1:22:19<2:03:29, 123.49s/it]"
          ]
        },
        {
          "output_type": "stream",
          "name": "stdout",
          "text": [
            "--------------------------------------------- Result 40 ---------------------------------------------\n",
            "[[0 (77%)]] --> [[[SKIPPED]]]\n",
            "\n",
            "@username Mr farooq Abdullah when you r in power you said on record if we have no space in jails do encounter of kashmires SHAME ON YOU\n",
            "\n",
            "\n"
          ]
        },
        {
          "output_type": "stream",
          "name": "stderr",
          "text": [
            "[Succeeded / Failed / Skipped / Total] 27 / 0 / 14 / 41:  41%|████      | 41/100 [1:22:21<1:58:31, 120.53s/it]"
          ]
        },
        {
          "output_type": "stream",
          "name": "stdout",
          "text": [
            "--------------------------------------------- Result 41 ---------------------------------------------\n",
            "[[2 (92%)]] --> [[[SKIPPED]]]\n",
            "\n",
            "RT @username he is so fucking hot/cute \n",
            "\n",
            "\n"
          ]
        },
        {
          "output_type": "stream",
          "name": "stderr",
          "text": [
            "[Succeeded / Failed / Skipped / Total] 27 / 0 / 15 / 42:  42%|████▏     | 42/100 [1:22:24<1:53:47, 117.72s/it]"
          ]
        },
        {
          "output_type": "stream",
          "name": "stdout",
          "text": [
            "--------------------------------------------- Result 42 ---------------------------------------------\n",
            "[[0 (85%)]] --> [[[SKIPPED]]]\n",
            "\n",
            "@username Oomf darkened his nonexistent 'facial hair' just to make it look that he got a beard. Sad!\n",
            "\n",
            "\n"
          ]
        },
        {
          "output_type": "stream",
          "name": "stderr",
          "text": [
            "[Succeeded / Failed / Skipped / Total] 28 / 0 / 15 / 43:  43%|████▎     | 43/100 [1:23:31<1:50:43, 116.56s/it]"
          ]
        },
        {
          "output_type": "stream",
          "name": "stdout",
          "text": [
            "--------------------------------------------- Result 43 ---------------------------------------------\n",
            "[[0 (50%)]] --> [[1 (69%)]]\n",
            "\n",
            "RT @username  [[Brutally]] punch fisting Annas prolapsing ass till she squirts! #fisting #anal #prolapse…\n",
            "\n",
            "RT @username  [[a]] punch fisting Annas prolapsing ass till she squirts! #fisting #anal #prolapse…\n",
            "\n",
            "\n"
          ]
        },
        {
          "output_type": "stream",
          "name": "stderr",
          "text": [
            "[Succeeded / Failed / Skipped / Total] 29 / 0 / 15 / 44:  44%|████▍     | 44/100 [1:25:05<1:48:17, 116.03s/it]"
          ]
        },
        {
          "output_type": "stream",
          "name": "stdout",
          "text": [
            "--------------------------------------------- Result 44 ---------------------------------------------\n",
            "[[0 (91%)]] --> [[1 (51%)]]\n",
            "\n",
            "RT @username waiting for this school year to be [[fucking]] over.\n",
            "\n",
            "RT @username waiting for this school year to be [[all]] over.\n",
            "\n",
            "\n"
          ]
        },
        {
          "output_type": "stream",
          "name": "stderr",
          "text": [
            "[Succeeded / Failed / Skipped / Total] 29 / 0 / 16 / 45:  45%|████▌     | 45/100 [1:25:07<1:44:02, 113.50s/it]"
          ]
        },
        {
          "output_type": "stream",
          "name": "stdout",
          "text": [
            "--------------------------------------------- Result 45 ---------------------------------------------\n",
            "[[0 (78%)]] --> [[[SKIPPED]]]\n",
            "\n",
            "@username It is like a corpse dumped in a forest that becomes an incubator for so much new life, mostly maggots\n",
            "\n",
            "\n"
          ]
        },
        {
          "output_type": "stream",
          "name": "stderr",
          "text": [
            "[Succeeded / Failed / Skipped / Total] 30 / 0 / 16 / 46:  46%|████▌     | 46/100 [1:27:55<1:43:13, 114.69s/it]"
          ]
        },
        {
          "output_type": "stream",
          "name": "stdout",
          "text": [
            "--------------------------------------------- Result 46 ---------------------------------------------\n",
            "[[0 (65%)]] --> [[1 (51%)]]\n",
            "\n",
            "@username Nigerians just [[can't]] pull off something without any form of partiality or foul play...BBNAIJA we dey watch una\n",
            "\n",
            "@username Nigerians just [[can]].. pull off something without any form of partiality or foul play...BBNAIJA we dey watch una\n",
            "\n",
            "\n"
          ]
        },
        {
          "output_type": "stream",
          "name": "stderr",
          "text": [
            "[Succeeded / Failed / Skipped / Total] 31 / 0 / 16 / 47:  47%|████▋     | 47/100 [1:30:40<1:42:14, 115.75s/it]"
          ]
        },
        {
          "output_type": "stream",
          "name": "stdout",
          "text": [
            "--------------------------------------------- Result 47 ---------------------------------------------\n",
            "[[0 (92%)]] --> [[2 (75%)]]\n",
            "\n",
            "@username @username like, [[screw]] world design, how about some [[fucking]] UI design\n",
            "\n",
            "@username @username like, [[a]] world design, how about some [[great]] UI design\n",
            "\n",
            "\n"
          ]
        },
        {
          "output_type": "stream",
          "name": "stderr",
          "text": [
            "[Succeeded / Failed / Skipped / Total] 32 / 0 / 16 / 48:  48%|████▊     | 48/100 [1:32:25<1:40:07, 115.53s/it]"
          ]
        },
        {
          "output_type": "stream",
          "name": "stdout",
          "text": [
            "--------------------------------------------- Result 48 ---------------------------------------------\n",
            "[[0 (75%)]] --> [[2 (59%)]]\n",
            "\n",
            "RT @username superlove was definitely a [[fucking]] bop, tinashe did not play and y'all let it flop \n",
            "\n",
            "RT @username superlove was definitely a [[great]] bop, tinashe did not play and y'all let it flop \n",
            "\n",
            "\n"
          ]
        },
        {
          "output_type": "stream",
          "name": "stderr",
          "text": [
            "[Succeeded / Failed / Skipped / Total] 32 / 0 / 17 / 49:  49%|████▉     | 49/100 [1:32:27<1:36:14, 113.22s/it]"
          ]
        },
        {
          "output_type": "stream",
          "name": "stdout",
          "text": [
            "--------------------------------------------- Result 49 ---------------------------------------------\n",
            "[[2 (60%)]] --> [[[SKIPPED]]]\n",
            "\n",
            "@username @username WE GOTTA VOTE FASTER TO WIN CMON #OneDirection #YouKnowYouLoveThem #SteveAoki… \n",
            "\n",
            "\n"
          ]
        },
        {
          "output_type": "stream",
          "name": "stderr",
          "text": [
            "[Succeeded / Failed / Skipped / Total] 33 / 0 / 17 / 50:  50%|█████     | 50/100 [1:34:48<1:34:48, 113.76s/it]"
          ]
        },
        {
          "output_type": "stream",
          "name": "stdout",
          "text": [
            "--------------------------------------------- Result 50 ---------------------------------------------\n",
            "[[0 (94%)]] --> [[1 (81%)]]\n",
            "\n",
            "RT @username Look at this [[fucking]] [[asshole]]:  \n",
            "\n",
            "RT @username Look at this [[to]] [[ass]]:  \n",
            "\n",
            "\n"
          ]
        },
        {
          "output_type": "stream",
          "name": "stderr",
          "text": [
            "[Succeeded / Failed / Skipped / Total] 34 / 0 / 17 / 51:  51%|█████     | 51/100 [1:42:30<1:38:29, 120.59s/it]"
          ]
        },
        {
          "output_type": "stream",
          "name": "stdout",
          "text": [
            "--------------------------------------------- Result 51 ---------------------------------------------\n",
            "[[0 (95%)]] --> [[1 (44%)]]\n",
            "\n",
            "@username [[UR]] FAKE!! I DONT [[APPROVE]] OF [[THIS]] [[I]] AM [[SUING]] YOU SEE [[YOU]] IN COURT BITCH\n",
            "\n",
            "@username [[not]] FAKE!! I DONT [[be]] OF [[nothing]] [[i]] AM [[suithe]] YOU SEE [[taken]] IN COURT BITCH\n",
            "\n",
            "\n"
          ]
        },
        {
          "output_type": "stream",
          "name": "stderr",
          "text": [
            "[Succeeded / Failed / Skipped / Total] 35 / 0 / 17 / 52:  52%|█████▏    | 52/100 [1:44:07<1:36:06, 120.14s/it]"
          ]
        },
        {
          "output_type": "stream",
          "name": "stdout",
          "text": [
            "--------------------------------------------- Result 52 ---------------------------------------------\n",
            "[[0 (86%)]] --> [[2 (73%)]]\n",
            "\n",
            "RT @username Im a [[nasty]] ass freak when I like you..\n",
            "\n",
            "RT @username Im a [[pretty]] ass freak when I like you..\n",
            "\n",
            "\n"
          ]
        },
        {
          "output_type": "stream",
          "name": "stderr",
          "text": [
            "[Succeeded / Failed / Skipped / Total] 35 / 0 / 18 / 53:  53%|█████▎    | 53/100 [1:44:09<1:32:21, 117.91s/it]"
          ]
        },
        {
          "output_type": "stream",
          "name": "stdout",
          "text": [
            "--------------------------------------------- Result 53 ---------------------------------------------\n",
            "[[2 (88%)]] --> [[[SKIPPED]]]\n",
            "\n",
            "@username first quarter is over and i know the second one is ours already! keeping that passion burning shishi\n",
            "\n",
            "\n"
          ]
        },
        {
          "output_type": "stream",
          "name": "stderr",
          "text": [
            "[Succeeded / Failed / Skipped / Total] 36 / 0 / 18 / 54:  54%|█████▍    | 54/100 [1:46:57<1:31:06, 118.85s/it]"
          ]
        },
        {
          "output_type": "stream",
          "name": "stdout",
          "text": [
            "--------------------------------------------- Result 54 ---------------------------------------------\n",
            "[[0 (90%)]] --> [[2 (74%)]]\n",
            "\n",
            "@username [[Bloody]] hell [[stan]], I'd erased that from you memory.\n",
            "\n",
            "@username [[great]] hell [[thanks]], I'd erased that from you memory.\n",
            "\n",
            "\n"
          ]
        },
        {
          "output_type": "stream",
          "name": "stderr",
          "text": [
            "[Succeeded / Failed / Skipped / Total] 37 / 0 / 18 / 55:  55%|█████▌    | 55/100 [1:53:27<1:32:49, 123.77s/it]"
          ]
        },
        {
          "output_type": "stream",
          "name": "stdout",
          "text": [
            "--------------------------------------------- Result 55 ---------------------------------------------\n",
            "[[1 (88%)]] --> [[2 (57%)]]\n",
            "\n",
            "Driving to Rio de Janeiro, sharing real-time road [[info]] with wazers in my area. ETA [[11]]:[[20]] AM using @[[username]] - Drive [[Social]].\n",
            "\n",
            "Driving to Rio de Janeiro, sharing real-time road [[knowledge]] with wazers in my area. ETA [[a]]:[[30]] AM using @[[user]]! - Drive [[community]].\n",
            "\n",
            "\n"
          ]
        },
        {
          "output_type": "stream",
          "name": "stderr",
          "text": [
            "[Succeeded / Failed / Skipped / Total] 38 / 0 / 18 / 56:  56%|█████▌    | 56/100 [1:58:11<1:32:52, 126.64s/it]"
          ]
        },
        {
          "output_type": "stream",
          "name": "stdout",
          "text": [
            "--------------------------------------------- Result 56 ---------------------------------------------\n",
            "[[0 (89%)]] --> [[1 (53%)]]\n",
            "\n",
            "RT @[[username]] dave cullen: eric harris was a [[psychopath]] eric: “I wish I was a [[fucking]] sociopath so I didn’t have any remorse, bu…\n",
            "\n",
            "RT @[[userwas]] dave cullen: eric harris was a [[psychopathy]] eric: “I wish I was a [[creative]] sociopath so I didn’t have any remorse, bu…\n",
            "\n",
            "\n"
          ]
        },
        {
          "output_type": "stream",
          "name": "stderr",
          "text": [
            "[Succeeded / Failed / Skipped / Total] 38 / 0 / 19 / 57:  57%|█████▋    | 57/100 [1:58:14<1:29:11, 124.46s/it]"
          ]
        },
        {
          "output_type": "stream",
          "name": "stdout",
          "text": [
            "--------------------------------------------- Result 57 ---------------------------------------------\n",
            "[[0 (82%)]] --> [[[SKIPPED]]]\n",
            "\n",
            "@username wait til after playoffs when u find out everyone was playing injured and is now #broken\n",
            "\n",
            "\n"
          ]
        },
        {
          "output_type": "stream",
          "name": "stderr",
          "text": [
            "[Succeeded / Failed / Skipped / Total] 39 / 0 / 19 / 58:  58%|█████▊    | 58/100 [2:00:43<1:27:25, 124.89s/it]"
          ]
        },
        {
          "output_type": "stream",
          "name": "stdout",
          "text": [
            "--------------------------------------------- Result 58 ---------------------------------------------\n",
            "[[1 (88%)]] --> [[2 (53%)]]\n",
            "\n",
            "@username \"Sharper Than [[Ya]] Average\" [[Ft]]. @username and @username »  … » \n",
            "\n",
            "@username \"Sharper Than [[dat]] Average\" [[site]]. @username and @username »  … » \n",
            "\n",
            "\n"
          ]
        },
        {
          "output_type": "stream",
          "name": "stderr",
          "text": [
            "[Succeeded / Failed / Skipped / Total] 40 / 0 / 19 / 59:  59%|█████▉    | 59/100 [2:06:25<1:27:51, 128.57s/it]"
          ]
        },
        {
          "output_type": "stream",
          "name": "stdout",
          "text": [
            "--------------------------------------------- Result 59 ---------------------------------------------\n",
            "[[0 (85%)]] --> [[1 (71%)]]\n",
            "\n",
            "RT @[[username]] i fucked that nigga [[bitch]] so he a [[madder]] [[guy]]\n",
            "\n",
            "RT @[[userpage]] i fucked that nigga [[she]] so he a [[maddy]] [[says]]\n",
            "\n",
            "\n"
          ]
        },
        {
          "output_type": "stream",
          "name": "stderr",
          "text": [
            "[Succeeded / Failed / Skipped / Total] 41 / 0 / 19 / 60:  60%|██████    | 60/100 [2:08:14<1:25:29, 128.24s/it]"
          ]
        },
        {
          "output_type": "stream",
          "name": "stdout",
          "text": [
            "--------------------------------------------- Result 60 ---------------------------------------------\n",
            "[[1 (51%)]] --> [[2 (69%)]]\n",
            "\n",
            "@username Have you enjoyed concerts in Poland? What do you [[think]] of Polish Tinistas? KOCHAMY CIĘ \n",
            "\n",
            "@username Have you enjoyed concerts in Poland? What do you [[like]] of Polish Tinistas? KOCHAMY CIĘ \n",
            "\n",
            "\n"
          ]
        },
        {
          "output_type": "stream",
          "name": "stderr",
          "text": [
            "[Succeeded / Failed / Skipped / Total] 42 / 0 / 19 / 61:  61%|██████    | 61/100 [2:18:30<1:28:33, 136.24s/it]"
          ]
        },
        {
          "output_type": "stream",
          "name": "stdout",
          "text": [
            "--------------------------------------------- Result 61 ---------------------------------------------\n",
            "[[0 (95%)]] --> [[2 (43%)]]\n",
            "\n",
            "[[RT]] @username KIM, SWEETIE. [[IM]] SO SORRY. [[IM]] [[SO]] SORRY THAT AN UGLY [[ASS]] [[BITCH]] LIKE THIS WOULD [[EVEN]] [[SAY]] THAT, OH MY GOD \n",
            "\n",
            "[[by]] @username KIM, SWEETIE. [[being]] SO SORRY. [[being]] [[enough]] SORRY THAT AN UGLY [[pants]] [[mercy]] LIKE THIS WOULD [[all]] [[explain]] THAT, OH MY GOD \n",
            "\n",
            "\n"
          ]
        },
        {
          "output_type": "stream",
          "name": "stderr",
          "text": [
            "[Succeeded / Failed / Skipped / Total] 43 / 0 / 19 / 62:  62%|██████▏   | 62/100 [2:21:58<1:27:00, 137.39s/it]"
          ]
        },
        {
          "output_type": "stream",
          "name": "stdout",
          "text": [
            "--------------------------------------------- Result 62 ---------------------------------------------\n",
            "[[1 (82%)]] --> [[0 (52%)]]\n",
            "\n",
            "@username This may sound dtrange but I [[think]] insane you tweet a while ago about a site that references for you. [[What]] was it? I'm\n",
            "\n",
            "@username This may sound dtrange but I [[mean]] insane you tweet a while ago about a site that references for you. [[why]] was it? I'm\n",
            "\n",
            "\n"
          ]
        },
        {
          "output_type": "stream",
          "name": "stderr",
          "text": [
            "[Succeeded / Failed / Skipped / Total] 43 / 0 / 20 / 63:  63%|██████▎   | 63/100 [2:22:00<1:23:23, 135.24s/it]"
          ]
        },
        {
          "output_type": "stream",
          "name": "stdout",
          "text": [
            "--------------------------------------------- Result 63 ---------------------------------------------\n",
            "[[2 (84%)]] --> [[[SKIPPED]]]\n",
            "\n",
            "@username Thx for enrolling in #AmexGift offer. Spend w/connected Card and receive credit. Terms: \n",
            "\n",
            "\n"
          ]
        },
        {
          "output_type": "stream",
          "name": "stderr",
          "text": [
            "[Succeeded / Failed / Skipped / Total] 44 / 0 / 20 / 64:  64%|██████▍   | 64/100 [2:23:59<1:20:59, 134.99s/it]"
          ]
        },
        {
          "output_type": "stream",
          "name": "stdout",
          "text": [
            "--------------------------------------------- Result 64 ---------------------------------------------\n",
            "[[0 (80%)]] --> [[1 (45%)]]\n",
            "\n",
            "RT @username If you scream \"oh god!\" while Richard Dawkins is [[fucking]] you, he immediately pulls out and lectures you for 3hrs\n",
            "\n",
            "RT @username If you scream \"oh god!\" while Richard Dawkins is [[in]] you, he immediately pulls out and lectures you for 3hrs\n",
            "\n",
            "\n"
          ]
        },
        {
          "output_type": "stream",
          "name": "stderr",
          "text": [
            "[Succeeded / Failed / Skipped / Total] 45 / 0 / 20 / 65:  65%|██████▌   | 65/100 [2:29:18<1:20:24, 137.83s/it]"
          ]
        },
        {
          "output_type": "stream",
          "name": "stdout",
          "text": [
            "--------------------------------------------- Result 65 ---------------------------------------------\n",
            "[[0 (78%)]] --> [[1 (46%)]]\n",
            "\n",
            "RT @username #IfMyLifeWasLikeProWrestling [[I'd]] hit every [[idiot]] who [[annoys]] me with a steel chair.\n",
            "\n",
            "RT @username #IfMyLifeWasLikeProWrestling [[i'could]] hit every [[ignorant]] who [[annami]] me with a steel chair.\n",
            "\n",
            "\n"
          ]
        },
        {
          "output_type": "stream",
          "name": "stderr",
          "text": [
            "[Succeeded / Failed / Skipped / Total] 46 / 0 / 20 / 66:  66%|██████▌   | 66/100 [2:30:50<1:17:42, 137.13s/it]"
          ]
        },
        {
          "output_type": "stream",
          "name": "stdout",
          "text": [
            "--------------------------------------------- Result 66 ---------------------------------------------\n",
            "[[0 (78%)]] --> [[1 (57%)]]\n",
            "\n",
            "RT @username Getting my PAWG ass [[fucked]] on  \n",
            "\n",
            "RT @username Getting my PAWG ass [[down]] on  \n",
            "\n",
            "\n"
          ]
        },
        {
          "output_type": "stream",
          "name": "stderr",
          "text": [
            "[Succeeded / Failed / Skipped / Total] 47 / 0 / 20 / 67:  67%|██████▋   | 67/100 [2:32:41<1:15:12, 136.74s/it]"
          ]
        },
        {
          "output_type": "stream",
          "name": "stdout",
          "text": [
            "--------------------------------------------- Result 67 ---------------------------------------------\n",
            "[[1 (86%)]] --> [[0 (52%)]]\n",
            "\n",
            "@username Can I email you? The \"Contact Us\" pg isn't available yet on the newspaper's website. [[Thanks]].\n",
            "\n",
            "@username Can I email you? The \"Contact Us\" pg isn't available yet on the newspaper's website. [[my]].\n",
            "\n",
            "\n"
          ]
        },
        {
          "output_type": "stream",
          "name": "stderr",
          "text": [
            "[Succeeded / Failed / Skipped / Total] 48 / 0 / 20 / 68:  68%|██████▊   | 68/100 [2:34:41<1:12:47, 136.50s/it]"
          ]
        },
        {
          "output_type": "stream",
          "name": "stdout",
          "text": [
            "--------------------------------------------- Result 68 ---------------------------------------------\n",
            "[[0 (82%)]] --> [[1 (71%)]]\n",
            "\n",
            "RT @username So @username goes on @username to promote school meals policy and all they can do is ask about the [[idiot]] Livingstone…\n",
            "\n",
            "RT @username So @username goes on @username to promote school meals policy and all they can do is ask about the [[guy]] Livingstone…\n",
            "\n",
            "\n"
          ]
        },
        {
          "output_type": "stream",
          "name": "stderr",
          "text": [
            "[Succeeded / Failed / Skipped / Total] 49 / 0 / 20 / 69:  69%|██████▉   | 69/100 [2:36:43<1:10:24, 136.28s/it]"
          ]
        },
        {
          "output_type": "stream",
          "name": "stdout",
          "text": [
            "--------------------------------------------- Result 69 ---------------------------------------------\n",
            "[[1 (81%)]] --> [[0 (55%)]]\n",
            "\n",
            "@username It wouldn't [[surprise]] me if the next one is a reboot or a prequel set before ME1 or ME2.\n",
            "\n",
            "@username It wouldn't [[please]] me if the next one is a reboot or a prequel set before ME1 or ME2.\n",
            "\n",
            "\n"
          ]
        },
        {
          "output_type": "stream",
          "name": "stderr",
          "text": [
            "[Succeeded / Failed / Skipped / Total] 50 / 0 / 20 / 70:  70%|███████   | 70/100 [2:41:16<1:09:07, 138.24s/it]"
          ]
        },
        {
          "output_type": "stream",
          "name": "stdout",
          "text": [
            "--------------------------------------------- Result 70 ---------------------------------------------\n",
            "[[0 (95%)]] --> [[1 (47%)]]\n",
            "\n",
            "RT @username my sister is so [[fucking]] annoying that [[bitch]] act like it wasnt her who took my charger she even [[paint]] the charger an…\n",
            "\n",
            "RT @username my sister is so [[not]] annoying that [[sob]] act like it wasnt her who took my charger she even [[like]] the charger an…\n",
            "\n",
            "\n"
          ]
        },
        {
          "output_type": "stream",
          "name": "stderr",
          "text": [
            "[Succeeded / Failed / Skipped / Total] 50 / 0 / 21 / 71:  71%|███████   | 71/100 [2:41:19<1:05:53, 136.33s/it]"
          ]
        },
        {
          "output_type": "stream",
          "name": "stdout",
          "text": [
            "--------------------------------------------- Result 71 ---------------------------------------------\n",
            "[[2 (99%)]] --> [[[SKIPPED]]]\n",
            "\n",
            "@username @username Those kids are lucky, lucky, lucky! I'm seeing it myself in a few weeks :) - W\n",
            "\n",
            "\n"
          ]
        },
        {
          "output_type": "stream",
          "name": "stderr",
          "text": [
            "[Succeeded / Failed / Skipped / Total] 50 / 0 / 22 / 72:  72%|███████▏  | 72/100 [2:41:21<1:02:45, 134.47s/it]"
          ]
        },
        {
          "output_type": "stream",
          "name": "stdout",
          "text": [
            "--------------------------------------------- Result 72 ---------------------------------------------\n",
            "[[0 (62%)]] --> [[[SKIPPED]]]\n",
            "\n",
            "I guess in times like these, the burden falls to @username  #SyriaStrikes #Trump\n",
            "\n",
            "\n"
          ]
        },
        {
          "output_type": "stream",
          "name": "stderr",
          "text": [
            "[Succeeded / Failed / Skipped / Total] 51 / 0 / 22 / 73:  73%|███████▎  | 73/100 [2:42:46<1:00:12, 133.78s/it]"
          ]
        },
        {
          "output_type": "stream",
          "name": "stdout",
          "text": [
            "--------------------------------------------- Result 73 ---------------------------------------------\n",
            "[[0 (60%)]] --> [[1 (49%)]]\n",
            "\n",
            "@username @username The TrapHall EP6 Is So [[Fucking]] Insane \n",
            "\n",
            "@username @username The TrapHall EP6 Is So [[out]] Insane \n",
            "\n",
            "\n"
          ]
        },
        {
          "output_type": "stream",
          "name": "stderr",
          "text": [
            "[Succeeded / Failed / Skipped / Total] 52 / 0 / 22 / 74:  74%|███████▍  | 74/100 [2:43:41<57:30, 132.73s/it]"
          ]
        },
        {
          "output_type": "stream",
          "name": "stdout",
          "text": [
            "--------------------------------------------- Result 74 ---------------------------------------------\n",
            "[[0 (53%)]] --> [[1 (55%)]]\n",
            "\n",
            "RT @username @username ohh look, an [[idiot]]\n",
            "\n",
            "RT @username @username ohh look, an [[stupid]]\n",
            "\n",
            "\n"
          ]
        },
        {
          "output_type": "stream",
          "name": "stderr",
          "text": [
            "[Succeeded / Failed / Skipped / Total] 52 / 0 / 23 / 75:  75%|███████▌  | 75/100 [2:43:43<54:34, 130.99s/it]"
          ]
        },
        {
          "output_type": "stream",
          "name": "stdout",
          "text": [
            "--------------------------------------------- Result 75 ---------------------------------------------\n",
            "[[2 (59%)]] --> [[[SKIPPED]]]\n",
            "\n",
            "@username + kindness, a gentle smile on her face as she followed him to sit by the statue of her grandmother. \"Well. . . I have a number+\n",
            "\n",
            "\n"
          ]
        },
        {
          "output_type": "stream",
          "name": "stderr",
          "text": [
            "[Succeeded / Failed / Skipped / Total] 53 / 0 / 23 / 76:  76%|███████▌  | 76/100 [2:46:18<52:31, 131.30s/it]"
          ]
        },
        {
          "output_type": "stream",
          "name": "stdout",
          "text": [
            "--------------------------------------------- Result 76 ---------------------------------------------\n",
            "[[0 (93%)]] --> [[1 (52%)]]\n",
            "\n",
            "RT @username if u quote tweets with \"can't relate\" i already know ur an [[annoying]] ass [[bitch]]\n",
            "\n",
            "RT @username if u quote tweets with \"can't relate\" i already know ur an [[interesting]] ass [[ft]]\n",
            "\n",
            "\n"
          ]
        },
        {
          "output_type": "stream",
          "name": "stderr",
          "text": [
            "[Succeeded / Failed / Skipped / Total] 54 / 0 / 23 / 77:  77%|███████▋  | 77/100 [2:48:06<50:12, 130.99s/it]"
          ]
        },
        {
          "output_type": "stream",
          "name": "stdout",
          "text": [
            "--------------------------------------------- Result 77 ---------------------------------------------\n",
            "[[1 (82%)]] --> [[2 (65%)]]\n",
            "\n",
            "@username yep, looks [[like]] they're basically the same but balance: we're already on dropbox vs file checkout/in anyway… \n",
            "\n",
            "@username yep, looks [[ok]] they're basically the same but balance: we're already on dropbox vs file checkout/in anyway… \n",
            "\n",
            "\n"
          ]
        },
        {
          "output_type": "stream",
          "name": "stderr",
          "text": [
            "[Succeeded / Failed / Skipped / Total] 55 / 0 / 23 / 78:  78%|███████▊  | 78/100 [2:51:26<48:21, 131.88s/it]"
          ]
        },
        {
          "output_type": "stream",
          "name": "stdout",
          "text": [
            "--------------------------------------------- Result 78 ---------------------------------------------\n",
            "[[0 (91%)]] --> [[2 (48%)]]\n",
            "\n",
            "@username @username @username Girl shut up. you're an [[idiot]] you have no clue what you're talking about [[keep]] it moving ‍\n",
            "\n",
            "@username @username @username Girl shut up. you're an [[gentleman]] you have no clue what you're talking about [[love]] it moving ‍\n",
            "\n",
            "\n"
          ]
        },
        {
          "output_type": "stream",
          "name": "stderr",
          "text": [
            "[Succeeded / Failed / Skipped / Total] 55 / 0 / 24 / 79:  79%|███████▉  | 79/100 [2:51:28<45:35, 130.24s/it]"
          ]
        },
        {
          "output_type": "stream",
          "name": "stdout",
          "text": [
            "--------------------------------------------- Result 79 ---------------------------------------------\n",
            "[[2 (88%)]] --> [[[SKIPPED]]]\n",
            "\n",
            "@username As long as you try is all that matters my friend. Sometimes it will fail but failure is a great lear… \n",
            "\n",
            "\n"
          ]
        },
        {
          "output_type": "stream",
          "name": "stderr",
          "text": [
            "[Succeeded / Failed / Skipped / Total] 55 / 1 / 24 / 80:  80%|████████  | 80/100 [3:03:11<45:47, 137.39s/it]"
          ]
        },
        {
          "output_type": "stream",
          "name": "stdout",
          "text": [
            "--------------------------------------------- Result 80 ---------------------------------------------\n",
            "[[1 (94%)]] --> [[[FAILED]]]\n",
            "\n",
            "@username @username Depends on the area ur area... If u are around Ziks avenue, Ogui, independence or new he… \n",
            "\n",
            "\n"
          ]
        },
        {
          "output_type": "stream",
          "name": "stderr",
          "text": [
            "[Succeeded / Failed / Skipped / Total] 56 / 1 / 24 / 81:  81%|████████  | 81/100 [3:05:14<43:27, 137.21s/it]"
          ]
        },
        {
          "output_type": "stream",
          "name": "stdout",
          "text": [
            "--------------------------------------------- Result 81 ---------------------------------------------\n",
            "[[1 (65%)]] --> [[0 (48%)]]\n",
            "\n",
            "@username we always had this and absolutely no one got bullied/took issues with it. it's a way of making [[sure]] the… \n",
            "\n",
            "@username we always had this and absolutely no one got bullied/took issues with it. it's a way of making [[certain]] the… \n",
            "\n",
            "\n"
          ]
        },
        {
          "output_type": "stream",
          "name": "stderr",
          "text": [
            "[Succeeded / Failed / Skipped / Total] 56 / 1 / 25 / 82:  82%|████████▏ | 82/100 [3:05:16<40:40, 135.57s/it]"
          ]
        },
        {
          "output_type": "stream",
          "name": "stdout",
          "text": [
            "--------------------------------------------- Result 82 ---------------------------------------------\n",
            "[[0 (61%)]] --> [[[SKIPPED]]]\n",
            "\n",
            "@username @username ....and how's this to help the folks and children there? Best to work w/@realDonaldTrump-… \n",
            "\n",
            "\n"
          ]
        },
        {
          "output_type": "stream",
          "name": "stderr",
          "text": [
            "[Succeeded / Failed / Skipped / Total] 56 / 1 / 26 / 83:  83%|████████▎ | 83/100 [3:05:19<37:57, 133.96s/it]"
          ]
        },
        {
          "output_type": "stream",
          "name": "stdout",
          "text": [
            "--------------------------------------------- Result 83 ---------------------------------------------\n",
            "[[0 (90%)]] --> [[[SKIPPED]]]\n",
            "\n",
            "@username @username He saw vid of babies dying, as skin melted and lungs quit working. Are you really shaming him… \n",
            "\n",
            "\n"
          ]
        },
        {
          "output_type": "stream",
          "name": "stderr",
          "text": [
            "[Succeeded / Failed / Skipped / Total] 56 / 1 / 27 / 84:  84%|████████▍ | 84/100 [3:05:21<35:18, 132.40s/it]"
          ]
        },
        {
          "output_type": "stream",
          "name": "stdout",
          "text": [
            "--------------------------------------------- Result 84 ---------------------------------------------\n",
            "[[2 (84%)]] --> [[[SKIPPED]]]\n",
            "\n",
            "Here are 4 (of many) useful plugins for vim: - vim-sensible - vim-surround - vim-repeat - vim-unimpaired See  @username\n",
            "\n",
            "\n"
          ]
        },
        {
          "output_type": "stream",
          "name": "stderr",
          "text": [
            "[Succeeded / Failed / Skipped / Total] 57 / 1 / 27 / 85:  85%|████████▌ | 85/100 [3:07:20<33:03, 132.24s/it]"
          ]
        },
        {
          "output_type": "stream",
          "name": "stdout",
          "text": [
            "--------------------------------------------- Result 85 ---------------------------------------------\n",
            "[[1 (47%)]] --> [[2 (45%)]]\n",
            "\n",
            "@username Patience lol trust me [[Jariel]] drives me crazy but I tell him k siga jodiendo he's still going \n",
            "\n",
            "@username Patience lol trust me [[jarcarlos]] drives me crazy but I tell him k siga jodiendo he's still going \n",
            "\n",
            "\n"
          ]
        },
        {
          "output_type": "stream",
          "name": "stderr",
          "text": [
            "[Succeeded / Failed / Skipped / Total] 58 / 1 / 27 / 86:  86%|████████▌ | 86/100 [3:09:17<30:48, 132.07s/it]"
          ]
        },
        {
          "output_type": "stream",
          "name": "stdout",
          "text": [
            "--------------------------------------------- Result 86 ---------------------------------------------\n",
            "[[0 (93%)]] --> [[1 (58%)]]\n",
            "\n",
            "RT @username I bet Bear Grylls' barbecues are [[awful]]. Everyone expecting burgers and sausages, whilst he roasts dog shits and boils pin…\n",
            "\n",
            "RT @username I bet Bear Grylls' barbecues are [[very]]. Everyone expecting burgers and sausages, whilst he roasts dog shits and boils pin…\n",
            "\n",
            "\n"
          ]
        },
        {
          "output_type": "stream",
          "name": "stderr",
          "text": [
            "[Succeeded / Failed / Skipped / Total] 59 / 1 / 27 / 87:  87%|████████▋ | 87/100 [3:11:06<28:33, 131.80s/it]"
          ]
        },
        {
          "output_type": "stream",
          "name": "stdout",
          "text": [
            "--------------------------------------------- Result 87 ---------------------------------------------\n",
            "[[1 (52%)]] --> [[0 (58%)]]\n",
            "\n",
            "@username @username @username @username @username @username y'all better [[see]] this or hands will be thrown\n",
            "\n",
            "@username @username @username @username @username @username y'all better [[like]] this or hands will be thrown\n",
            "\n",
            "\n"
          ]
        },
        {
          "output_type": "stream",
          "name": "stderr",
          "text": [
            "[Succeeded / Failed / Skipped / Total] 60 / 1 / 27 / 88:  88%|████████▊ | 88/100 [3:12:50<26:17, 131.49s/it]"
          ]
        },
        {
          "output_type": "stream",
          "name": "stdout",
          "text": [
            "--------------------------------------------- Result 88 ---------------------------------------------\n",
            "[[1 (69%)]] --> [[0 (57%)]]\n",
            "\n",
            "@username Wasn't [[empty]]. Helps ensure this doesn't happen again. It also sends a message to Iran and North Korea… \n",
            "\n",
            "@username Wasn't [[emptied]]. Helps ensure this doesn't happen again. It also sends a message to Iran and North Korea… \n",
            "\n",
            "\n"
          ]
        },
        {
          "output_type": "stream",
          "name": "stderr",
          "text": [
            "[Succeeded / Failed / Skipped / Total] 61 / 1 / 27 / 89:  89%|████████▉ | 89/100 [3:14:21<24:01, 131.03s/it]"
          ]
        },
        {
          "output_type": "stream",
          "name": "stdout",
          "text": [
            "--------------------------------------------- Result 89 ---------------------------------------------\n",
            "[[0 (86%)]] --> [[1 (58%)]]\n",
            "\n",
            "RT @username i [[cannot]] fucking breathe \n",
            "\n",
            "RT @username i [[still]] fucking breathe \n",
            "\n",
            "\n"
          ]
        },
        {
          "output_type": "stream",
          "name": "stderr",
          "text": [
            "[Succeeded / Failed / Skipped / Total] 62 / 1 / 27 / 90:  90%|█████████ | 90/100 [3:17:17<21:55, 131.53s/it]"
          ]
        },
        {
          "output_type": "stream",
          "name": "stdout",
          "text": [
            "--------------------------------------------- Result 90 ---------------------------------------------\n",
            "[[1 (77%)]] --> [[2 (51%)]]\n",
            "\n",
            "@username @username @username @username @username @username Take your pick. [[Any]] [[one]] that has overruled\n",
            "\n",
            "@username @username @username @username @username @username Take your pick. [[best]] [[system]] that has overruled\n",
            "\n",
            "\n"
          ]
        },
        {
          "output_type": "stream",
          "name": "stderr",
          "text": [
            "[Succeeded / Failed / Skipped / Total] 62 / 1 / 28 / 91:  91%|█████████ | 91/100 [3:17:19<19:30, 130.11s/it]"
          ]
        },
        {
          "output_type": "stream",
          "name": "stdout",
          "text": [
            "--------------------------------------------- Result 91 ---------------------------------------------\n",
            "[[2 (66%)]] --> [[[SKIPPED]]]\n",
            "\n",
            "@username @username @username HELL FUCKING YEAH\n",
            "\n",
            "\n"
          ]
        },
        {
          "output_type": "stream",
          "name": "stderr",
          "text": [
            "[Succeeded / Failed / Skipped / Total] 63 / 1 / 28 / 92:  92%|█████████▏| 92/100 [3:20:18<17:25, 130.64s/it]"
          ]
        },
        {
          "output_type": "stream",
          "name": "stdout",
          "text": [
            "--------------------------------------------- Result 92 ---------------------------------------------\n",
            "[[0 (88%)]] --> [[1 (50%)]]\n",
            "\n",
            "RT @username . @username RETURN TO ME MY EGG FORME OR I WILL [[FUCKING]] OBLITERATE YOU WITH A KATANA I AM NOT [[PLAYING]]\n",
            "\n",
            "RT @username . @username RETURN TO ME MY EGG FORME OR I WILL [[bu]] OBLITERATE YOU WITH A KATANA I AM NOT [[played]]\n",
            "\n",
            "\n"
          ]
        },
        {
          "output_type": "stream",
          "name": "stderr",
          "text": [
            "[Succeeded / Failed / Skipped / Total] 64 / 1 / 28 / 93:  93%|█████████▎| 93/100 [3:21:55<15:11, 130.27s/it]"
          ]
        },
        {
          "output_type": "stream",
          "name": "stdout",
          "text": [
            "--------------------------------------------- Result 93 ---------------------------------------------\n",
            "[[1 (61%)]] --> [[0 (55%)]]\n",
            "\n",
            "Susan Rice And [[Why]] Cernovich Media Is Being Plagiarized! Mike Cernovich ...  via @username\n",
            "\n",
            "Susan Rice And [[that]] Cernovich Media Is Being Plagiarized! Mike Cernovich ...  via @username\n",
            "\n",
            "\n"
          ]
        },
        {
          "output_type": "stream",
          "name": "stderr",
          "text": [
            "[Succeeded / Failed / Skipped / Total] 64 / 1 / 29 / 94:  94%|█████████▍| 94/100 [3:21:57<12:53, 128.91s/it]"
          ]
        },
        {
          "output_type": "stream",
          "name": "stdout",
          "text": [
            "--------------------------------------------- Result 94 ---------------------------------------------\n",
            "[[2 (97%)]] --> [[[SKIPPED]]]\n",
            "\n",
            "WOW @username I know we put lots of points on a few teams especially Leeds, But that was our best performance by far in 2017\n",
            "\n",
            "\n"
          ]
        },
        {
          "output_type": "stream",
          "name": "stderr",
          "text": [
            "[Succeeded / Failed / Skipped / Total] 65 / 1 / 29 / 95:  95%|█████████▌| 95/100 [3:23:44<10:43, 128.68s/it]"
          ]
        },
        {
          "output_type": "stream",
          "name": "stdout",
          "text": [
            "--------------------------------------------- Result 95 ---------------------------------------------\n",
            "[[1 (61%)]] --> [[0 (50%)]]\n",
            "\n",
            "@username @username I've never seen either in full. I only ever saw the [[Britney]] episode of Will and Grace.\n",
            "\n",
            "@username @username I've never seen either in full. I only ever saw the [[notorious]] episode of Will and Grace.\n",
            "\n",
            "\n"
          ]
        },
        {
          "output_type": "stream",
          "name": "stderr",
          "text": [
            "[Succeeded / Failed / Skipped / Total] 65 / 1 / 30 / 96:  96%|█████████▌| 96/100 [3:23:46<08:29, 127.36s/it]"
          ]
        },
        {
          "output_type": "stream",
          "name": "stdout",
          "text": [
            "--------------------------------------------- Result 96 ---------------------------------------------\n",
            "[[2 (77%)]] --> [[[SKIPPED]]]\n",
            "\n",
            "@username sure! if u dont find any near u i dont mind since its so cheap if i see them again the next time i go to daiso i will\n",
            "\n",
            "\n"
          ]
        },
        {
          "output_type": "stream",
          "name": "stderr",
          "text": [
            "[Succeeded / Failed / Skipped / Total] 66 / 1 / 30 / 97:  97%|█████████▋| 97/100 [3:27:04<06:24, 128.09s/it]"
          ]
        },
        {
          "output_type": "stream",
          "name": "stdout",
          "text": [
            "--------------------------------------------- Result 97 ---------------------------------------------\n",
            "[[1 (66%)]] --> [[2 (50%)]]\n",
            "\n",
            "@username @username [[ooc]] it makes sense to me; it means you have the full [[140]] characters to reply now.\n",
            "\n",
            "@username @username [[o]]! it makes sense to me; it means you have the full [[142]] characters to reply now.\n",
            "\n",
            "\n"
          ]
        },
        {
          "output_type": "stream",
          "name": "stderr",
          "text": [
            "[Succeeded / Failed / Skipped / Total] 67 / 1 / 30 / 98:  98%|█████████▊| 98/100 [3:32:39<04:20, 130.20s/it]"
          ]
        },
        {
          "output_type": "stream",
          "name": "stdout",
          "text": [
            "--------------------------------------------- Result 98 ---------------------------------------------\n",
            "[[1 (95%)]] --> [[2 (51%)]]\n",
            "\n",
            "LPW \"Mayhem\" on [[Saturday]] April 22 @username [[Elks]] Hall (128 School St) [[Clinton]] [[Ma]]  \n",
            "\n",
            "LPW \"Mayhem\" on [[fun]] April 22 @username [[elks]] Hall (128 School St) [[green]] [[mass]]  \n",
            "\n",
            "\n"
          ]
        },
        {
          "output_type": "stream",
          "name": "stderr",
          "text": [
            "[Succeeded / Failed / Skipped / Total] 68 / 1 / 30 / 99:  99%|█████████▉| 99/100 [3:37:02<02:11, 131.55s/it]"
          ]
        },
        {
          "output_type": "stream",
          "name": "stdout",
          "text": [
            "--------------------------------------------- Result 99 ---------------------------------------------\n",
            "[[0 (94%)]] --> [[1 (54%)]]\n",
            "\n",
            "RT @username If you're [[miserable]] don't come on my page. You are not [[wanted]] in my comment section. Don't bring your funky [[ass]] attitude arou…\n",
            "\n",
            "RT @username If you're [[happy]] don't come on my page. You are not [[unwanted]] in my comment section. Don't bring your funky [[for]] attitude arou…\n",
            "\n",
            "\n"
          ]
        },
        {
          "output_type": "stream",
          "name": "stderr",
          "text": [
            "[Succeeded / Failed / Skipped / Total] 68 / 1 / 31 / 100: 100%|██████████| 100/100 [3:37:05<00:00, 130.25s/it]"
          ]
        },
        {
          "output_type": "stream",
          "name": "stdout",
          "text": [
            "--------------------------------------------- Result 100 ---------------------------------------------\n",
            "[[0 (70%)]] --> [[[SKIPPED]]]\n",
            "\n",
            "@username So how you argue in favo of Outing being fit to have nuclear codes while supporting chemical murderer… \n",
            "\n",
            "\n",
            "\n",
            "+-------------------------------+--------+\n",
            "| Attack Results                |        |\n",
            "+-------------------------------+--------+\n",
            "| Number of successful attacks: | 68     |\n",
            "| Number of failed attacks:     | 1      |\n",
            "| Number of skipped attacks:    | 31     |\n",
            "| Original accuracy:            | 69.0%  |\n",
            "| Accuracy under attack:        | 1.0%   |\n",
            "| Attack success rate:          | 98.55% |\n",
            "| Average perturbed word %:     | 13.53% |\n",
            "| Average num. words per input: | 16.54  |\n",
            "| Avg num queries:              | 103.77 |\n",
            "+-------------------------------+--------+\n"
          ]
        },
        {
          "output_type": "stream",
          "name": "stderr",
          "text": [
            "\n"
          ]
        }
      ]
    },
    {
      "cell_type": "code",
      "source": [
        "attacker_tf.attack_args.num_examples = -1"
      ],
      "metadata": {
        "id": "dPaoEW3-CdLk"
      },
      "execution_count": null,
      "outputs": []
    },
    {
      "cell_type": "code",
      "source": [
        "attacker_tf.attack_args.num_examples"
      ],
      "metadata": {
        "colab": {
          "base_uri": "https://localhost:8080/"
        },
        "id": "Tr9mH3D0EE8V",
        "outputId": "deea6c4b-e011-4d9f-addb-dbadc314b0a8"
      },
      "execution_count": null,
      "outputs": [
        {
          "output_type": "execute_result",
          "data": {
            "text/plain": [
              "100"
            ]
          },
          "metadata": {},
          "execution_count": 61
        }
      ]
    },
    {
      "cell_type": "code",
      "source": [
        ""
      ],
      "metadata": {
        "id": "r8fSJmUJEhdu"
      },
      "execution_count": null,
      "outputs": []
    }
  ]
}